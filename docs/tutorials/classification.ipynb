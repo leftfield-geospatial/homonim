{
 "cells": [
  {
   "cell_type": "markdown",
   "metadata": {},
   "source": [
    "# Classification\n",
    "\n",
    "This notebook demonstrates how `homonim` can help improve classifier accuracy.  It works with images and ground truth taken from a [vegetation mapping study](https://doi.org/10.1117/1.jrs.12.046022) that sought to identify Spekboom in the Little Karoo, South Africa.  Aerial imagery with 50 cm spatial resolution and 4 spectral bands (red, green, blue and near-infrared) was obtained from the  [NGI](https://ngi.dalrrd.gov.za/index.php/what-we-do/aerial-photography-and-imagery).  Ground truth data consists of ± 160 polygons with labels for 3 classes: \n",
    "\n",
    "- Spekboom: a species of succulent shrub.\n",
    "- Tree: any other tree. \n",
    "- Background: other vegetation, bare ground etc.\n",
    "\n",
    "## Setup\n",
    "\n",
    "### Install dependencies\n",
    "\n",
    "`geedim`, `geopandas`, `gdal`, `matplotlib` and `sklearn` are required to run the notebook.  You can uncomment the cell below to install them, if they aren't installed already."
   ]
  },
  {
   "cell_type": "code",
   "execution_count": null,
   "metadata": {},
   "outputs": [],
   "source": [
    "# import sys\n",
    "# if 'conda' in sys.prefix:\n",
    "#     # install into the conda environment the notebook is being run from\n",
    "#     !conda install --yes --prefix {sys.prefix} -c conda-forge geedim geopandas gdal matplotlib sklearn\n",
    "# else:\n",
    "#     # install into the python environment the notebook is being run from\n",
    "#     !{sys.executable} -m pip install geedim geopandas gdal matplotlib sklearn"
   ]
  },
  {
   "cell_type": "code",
   "execution_count": 1,
   "metadata": {},
   "outputs": [],
   "source": [
    "# imports used by more than one cell\n",
    "import logging\n",
    "import warnings\n",
    "from pathlib import Path\n",
    "from matplotlib import pyplot\n",
    "import numpy as np\n",
    "import rasterio as rio\n",
    "import pandas as pd\n",
    "from tqdm.auto import tqdm\n",
    "\n",
    "import geedim as gd\n",
    "\n",
    "logging.basicConfig(level=logging.ERROR)"
   ]
  },
  {
   "cell_type": "code",
   "execution_count": 2,
   "metadata": {},
   "outputs": [],
   "source": [
    "# initialise source and reference paths\n",
    "from glob import glob\n",
    "src_root = Path(\n",
    "    'V:/Data/HomonimEgs/NGI_3321BD-3322AC_2010_LittleKaroo/Source/'\n",
    "    'GroundTruthSubset'\n",
    ")\n",
    "src_mosaic_path = src_root.joinpath(\n",
    "    'NGI_3321BD-3322AC_2010_LittleKaroo_GroundTruthSubset_Source.vrt'\n",
    ")\n",
    "src_paths = [\n",
    "    Path(src_path) \n",
    "    for src_path in glob(str(src_root.joinpath('*_RGBN_CMP.tif')))\n",
    "]\n",
    "\n",
    "ref_root = Path(\n",
    "    'V:/Data/HomonimEgs/NGI_3321BD-3322AC_2010_LittleKaroo/Reference/'\n",
    "    'GroundTruthSubset'\n",
    ")\n",
    "l7_ref_path = ref_root.joinpath('l7_comp_ref.tif')\n",
    "modis_ref_path = ref_root.joinpath('modis_nbar_ref.tif')\n",
    "\n",
    "# create a search region that covers the source image mosaic\n",
    "region = gd.utils.get_bounds(src_mosaic_path)"
   ]
  },
  {
   "cell_type": "markdown",
   "metadata": {},
   "source": [
    "## Search and download reference images\n",
    "\n",
    "Use [`geedim`](https://github.com/dugalh/geedim) to search for and download Landsat-7 and MODIS NBAR reference images."
   ]
  },
  {
   "cell_type": "code",
   "execution_count": 3,
   "metadata": {},
   "outputs": [
    {
     "name": "stdout",
     "output_type": "stream",
     "text": [
      "Image property descriptions:\n",
      "\n",
      "ABBREV     NAME                  DESCRIPTION\n",
      "---------  --------------------  ---------------------------------------\n",
      "ID         system:id             Earth Engine image id\n",
      "DATE       system:time_start     Image capture date/time (UTC)\n",
      "FILL       FILL_PORTION          Portion of valid pixels (%)\n",
      "CLOUDLESS  CLOUDLESS_PORTION     Portion of cloud/shadow free pixels (%)\n",
      "GRMSE      GEOMETRIC_RMSE_MODEL  Orthorectification RMSE (m)\n",
      "SAA        SUN_AZIMUTH           Solar azimuth angle (deg)\n",
      "SEA        SUN_ELEVATION         Solar elevation angle (deg)\n",
      "\n",
      "Search Results:\n",
      "\n",
      "ID                                          DATE              FILL CLOUDLESS GRMSE   SAA   SEA\n",
      "------------------------------------------- ---------------- ----- --------- ----- ----- -----\n",
      "LANDSAT/LE07/C02/T1_L2/LE07_173083_20100203 2010-02-03 08:14 92.12     92.10  4.74 73.32 52.10\n",
      "LANDSAT/LE07/C02/T1_L2/LE07_173083_20100219 2010-02-19 08:14 92.01     92.01  4.58 66.61 49.04\n"
     ]
    }
   ],
   "source": [
    "# Note: soure images captured from 2010-01-22 - 2010-02-01\n",
    "gd.Initialize()\n",
    "\n",
    "# create and search the Landsat-7 collection\n",
    "l7_coll = gd.MaskedCollection.from_name('LANDSAT/LE07/C02/T1_L2')\n",
    "l7_coll = l7_coll.search(\n",
    "    '2010-01-01', '2010-02-28', region, cloudless_portion=50\n",
    ")\n",
    "print('Image property descriptions:\\n\\n' + l7_coll.schema_table)\n",
    "print('\\nSearch Results:\\n\\n' + l7_coll.properties_table)\n",
    "\n",
    "# equivalent geedim command line:\n",
    "# !geedim search -c l7-c2-l2 -s 2010-01-01 -e 2010-02-28 -cp 50  -r {src_mosaic_path}"
   ]
  },
  {
   "cell_type": "code",
   "execution_count": 5,
   "metadata": {},
   "outputs": [
    {
     "data": {
      "application/vnd.jupyter.widget-view+json": {
       "model_id": "415a19717f8d4b55b269b5686e26505f",
       "version_major": 2,
       "version_minor": 0
      },
      "text/plain": [
       "l7_comp_ref.tif: |                                            | 0.00/91.8M (raw) [  0.0%] in 00:00 (eta:     ?…"
      ]
     },
     "metadata": {},
     "output_type": "display_data"
    }
   ],
   "source": [
    "# create a composite of L7 search results to fill in SLE gaps\n",
    "l7_comp_im = l7_coll.composite(\n",
    "    gd.CompositeMethod.q_mosaic, date='2010-01-27', \n",
    "    resampling=gd.ResamplingMethod.bilinear,\n",
    ")\n",
    "\n",
    "# get source mosaic CRS for download parameter\n",
    "with rio.open(src_mosaic_path, 'r') as ds:\n",
    "    src_crs = ds.crs.to_wkt()\n",
    "\n",
    "# download\n",
    "l7_comp_im.download(\n",
    "    l7_ref_path, crs=src_crs, scale=30, region=region, dtype='uint16', \n",
    "    overwrite=True\n",
    ")\n",
    "\n",
    "# equivalent geedim command line:\n",
    "# !geedim composite  -cm q_mosaic --date 2010-01-27 -i LANDSAT/LE07/C02/T1_L2/LE07_173083_20100203 -i LANDSAT/LE07/C02/T1_L2/LE07_173083_20100219 download --crs {src_crs}  --scale 30 -r {src_mosaic_path}"
   ]
  },
  {
   "cell_type": "code",
   "execution_count": 8,
   "metadata": {},
   "outputs": [
    {
     "name": "stdout",
     "output_type": "stream",
     "text": [
      "Image property descriptions:\n",
      "\n",
      "ABBREV  NAME               DESCRIPTION\n",
      "------  -----------------  -----------------------------\n",
      "ID      system:id          Earth Engine image id\n",
      "DATE    system:time_start  Image capture date/time (UTC)\n",
      "FILL    FILL_PORTION       Portion of valid pixels (%)\n",
      "\n",
      "Search Results:\n",
      "\n",
      "ID                           DATE             FILL\n",
      "---------------------------- ---------------- ----\n",
      "MODIS/006/MCD43A4/2022_01_27 2022-01-27 00:00  100\n"
     ]
    },
    {
     "data": {
      "application/vnd.jupyter.widget-view+json": {
       "model_id": "69bba390f2c949e1be526c74692d6180",
       "version_major": 2,
       "version_minor": 0
      },
      "text/plain": [
       "modis_nbar_ref.tif: |                                          | 0.00/278k (raw) [  0.0%] in 00:00 (eta:     ?…"
      ]
     },
     "metadata": {},
     "output_type": "display_data"
    }
   ],
   "source": [
    "# search the MODIS NBAR collection\n",
    "modis_coll = gd.MaskedCollection.from_name('MODIS/006/MCD43A4')\n",
    "modis_coll = modis_coll.search(\n",
    "    '2022-01-27', '2022-01-28', region, \n",
    ")\n",
    "print('Image property descriptions:\\n\\n' + modis_coll.schema_table)\n",
    "print('\\nSearch Results:\\n\\n' + modis_coll.properties_table)\n",
    "\n",
    "# download\n",
    "modis_image = gd.MaskedImage.from_id(\n",
    "    'MODIS/006/MCD43A4/2010_01_27', mask=True\n",
    ")\n",
    "modis_image.download(\n",
    "    modis_ref_path, region=region, dtype='uint16', overwrite=True\n",
    ")\n",
    "\n",
    "# equivalent geedim command line:\n",
    "# !geedim search -c modis-nbar -s 2010-01-27 -e 2010-01-28 -r {src_mosaic_path} download -o"
   ]
  },
  {
   "cell_type": "markdown",
   "metadata": {},
   "source": [
    "# Correction\n",
    "\n",
    "Setup correction parameters and paths."
   ]
  },
  {
   "cell_type": "code",
   "execution_count": 33,
   "metadata": {},
   "outputs": [],
   "source": [
    "from homonim import Model, ProcCrs, utils\n",
    "if False:\n",
    "    # fuse with Landsat-7 and compare with MODIS NBAR\n",
    "    ref_bands = [3, 2, 1, 4]\n",
    "    cmp_ref_bands = [1, 4, 3, 2]\n",
    "    ref_path = l7_ref_path\n",
    "    cmp_ref_path = modis_ref_path\n",
    "    model = Model.gain_blk_offset\n",
    "    kernel_shape = (5, 5)\n",
    "    corr_root = Path(\n",
    "        'V:/Data/HomonimEgs/NGI_3321BD-3322AC_2010_LittleKaroo/Corrected/'\n",
    "        'GroundTruthSubset/L7/'\n",
    "    )\n",
    "    ref_sc_off = [12e3, .5]\n",
    "else:\n",
    "    # fuse with MODIS NBAR and compare with Landsat-7\n",
    "    ref_bands = [1, 4, 3, 2]\n",
    "    cmp_ref_bands = [3, 2, 1, 4]\n",
    "    ref_path = modis_ref_path\n",
    "    cmp_ref_path = l7_ref_path\n",
    "    model = Model.gain\n",
    "    kernel_shape = (1, 1)\n",
    "    corr_root = Path(\n",
    "        'V:/Data/HomonimEgs/NGI_3321BD-3322AC_2010_LittleKaroo/Corrected/'\n",
    "        'GroundTruthSubset/Modis/'\n",
    "    )\n",
    "    ref_sc_off = [1.7e3, .1]\n",
    "\n",
    "post_fix = utils.create_out_postfix(\n",
    "    ProcCrs.ref, model=model, kernel_shape=kernel_shape, driver='GTiff'\n",
    ")\n",
    "corr_paths = [\n",
    "    corr_root.joinpath(src_path.stem + post_fix)\n",
    "    for src_path in src_paths\n",
    "]"
   ]
  },
  {
   "cell_type": "markdown",
   "metadata": {},
   "source": [
    "Fuse aerial images with reference."
   ]
  },
  {
   "cell_type": "code",
   "execution_count": 34,
   "metadata": {},
   "outputs": [
    {
     "name": "stdout",
     "output_type": "stream",
     "text": [
      "3321b_3172_12_0415_rgbn_CMP_FUSE_cREF_mGAIN_k1_1.tif:\n"
     ]
    },
    {
     "data": {
      "application/vnd.jupyter.widget-view+json": {
       "model_id": "ea6c949de8d14ffcbefdd0da84607554",
       "version_major": 2,
       "version_minor": 0
      },
      "text/plain": [
       "  0%|                                                                                             |0/4 blocks …"
      ]
     },
     "metadata": {},
     "output_type": "display_data"
    },
    {
     "name": "stdout",
     "output_type": "stream",
     "text": [
      "3321b_3172_12_0419_rgbn_CMP_FUSE_cREF_mGAIN_k1_1.tif:\n"
     ]
    },
    {
     "data": {
      "application/vnd.jupyter.widget-view+json": {
       "model_id": "21ec4a2bfb7d4414beeb9a376e491d62",
       "version_major": 2,
       "version_minor": 0
      },
      "text/plain": [
       "  0%|                                                                                             |0/4 blocks …"
      ]
     },
     "metadata": {},
     "output_type": "display_data"
    },
    {
     "name": "stdout",
     "output_type": "stream",
     "text": [
      "3321D_319_04_0121_RGBN_CMP_FUSE_cREF_mGAIN_k1_1.tif:\n"
     ]
    },
    {
     "data": {
      "application/vnd.jupyter.widget-view+json": {
       "model_id": "46d4ba20308c40c6a33e6ec7b3e38efb",
       "version_major": 2,
       "version_minor": 0
      },
      "text/plain": [
       "  0%|                                                                                             |0/8 blocks …"
      ]
     },
     "metadata": {},
     "output_type": "display_data"
    },
    {
     "name": "stdout",
     "output_type": "stream",
     "text": [
      "3322c_322_02_0056_rgbn_CMP_FUSE_cREF_mGAIN_k1_1.tif:\n"
     ]
    },
    {
     "data": {
      "application/vnd.jupyter.widget-view+json": {
       "model_id": "89ebf8ac7d714956bb8def4496f7c4aa",
       "version_major": 2,
       "version_minor": 0
      },
      "text/plain": [
       "  0%|                                                                                             |0/8 blocks …"
      ]
     },
     "metadata": {},
     "output_type": "display_data"
    }
   ],
   "source": [
    "from homonim import RasterFuse\n",
    "\n",
    "for src_path, corr_path in zip(src_paths, corr_paths):\n",
    "    with RasterFuse(src_path, ref_path, ref_bands=ref_bands) as raster_fuse:\n",
    "        print(f'{corr_path.name}:')\n",
    "        raster_fuse.process(\n",
    "            corr_path, model, kernel_shape, \n",
    "            block_config=dict(threads=2, max_block_mem=512), \n",
    "            out_profile=dict(dtype='uint16', nodata=0), \n",
    "            model_config=dict(mask_partial=False), \n",
    "            overwrite=True\n",
    "        )        "
   ]
  },
  {
   "cell_type": "code",
   "execution_count": 20,
   "metadata": {},
   "outputs": [],
   "source": [
    "Create a VRT mosaic of the corrected images to use in the visualisation and evaluation steps."
   ]
  },
  {
   "cell_type": "code",
   "execution_count": 35,
   "metadata": {},
   "outputs": [],
   "source": [
    "from osgeo import gdal\n",
    "\n",
    "# strictly, one should avoid using GDAL and rasterio together, but it doesn't\n",
    "# create conflicts here\n",
    "corr_mosaic_path = corr_root.joinpath(\n",
    "    f'NGI_3321BD-3322AC_2010_LittleKaroo_GroundTruthSubset{post_fix[:-4]}.vrt'\n",
    ")\n",
    "ds = gdal.BuildVRT(\n",
    "    str(corr_mosaic_path.absolute()), [str(cp) for cp in corr_paths]\n",
    ")\n",
    "ds.FlushCache()"
   ]
  },
  {
   "cell_type": "markdown",
   "metadata": {},
   "source": [
    "## Visualise\n",
    "\n",
    "Display matching extents of the source, reference and corrected images, in the reference CRS."
   ]
  },
  {
   "cell_type": "code",
   "execution_count": 36,
   "metadata": {},
   "outputs": [
    {
     "data": {
      "image/png": "[encoded data removed]",
      "text/plain": [
       "<Figure size 1000x1500 with 3 Axes>"
      ]
     },
     "metadata": {
      "needs_background": "light"
     },
     "output_type": "display_data"
    }
   ],
   "source": [
    "from rasterio.vrt import WarpedVRT\n",
    "from rasterio.enums import Resampling\n",
    "from rasterio.plot import show\n",
    "\n",
    "# get source crs\n",
    "with rio.open(src_mosaic_path, 'r') as ds:\n",
    "    src_crs = ds.crs\n",
    "\n",
    "fig, axes = pyplot.subplots(\n",
    "    3, 1, sharex=True, sharey=True, tight_layout=True, figsize=(10, 15), \n",
    "    dpi=100\n",
    ")\n",
    "\n",
    "# loop over src, ref and corrected images and corrsonding parameters\n",
    "for im_file, ds_fact, indexes, sc_off, ax, label in zip(\n",
    "    [src_mosaic_path, ref_path, corr_mosaic_path],\n",
    "    [16, 1, 16],                           # downsample factor\n",
    "    [None, ref_bands, None],               # band indices\n",
    "    [None, ref_sc_off, ref_sc_off],        # colour scale & offset\n",
    "    axes,\n",
    "    ['Source', 'Reference', 'Corrected'], \n",
    "):\n",
    "    # read image\n",
    "    with (rio.open(im_file, 'r')) as ds:\n",
    "        if ds.crs != src_crs:\n",
    "            # re-project to source CRS\n",
    "            ds = WarpedVRT(ds, crs=src_crs, resampling=Resampling.bilinear)\n",
    "        with ds:\n",
    "            # read and downsample image\n",
    "            ds_shape = tuple(np.round(np.array(ds.shape) / ds_fact).astype('int'))\n",
    "            transform = ds.transform * rio.Affine.scale(ds_fact)\n",
    "\n",
    "            array = ds.read(indexes=indexes, out_dtype='float32', out_shape=ds_shape)\n",
    "\n",
    "    # change nodata value to nan\n",
    "    mask = np.any((array == ds.nodata) | np.isnan(array), axis=(0))\n",
    "    array[:, mask] = np.nan\n",
    "\n",
    "    # contrast stretching for display\n",
    "    if sc_off is not None:\n",
    "        # scale and offset pixel values\n",
    "        array = np.clip((array / sc_off[0]) - sc_off[1], 0, 1)\n",
    "    else:\n",
    "        # 'normalise' image 2%-98% -> 0-1\n",
    "        for bi in range(array.shape[0]):\n",
    "            array[bi] -= np.nanpercentile(array[bi], 1)\n",
    "            array[bi] /= np.nanpercentile(array[bi], 99)\n",
    "            array[bi] = np.clip(array[bi], 0, 1)\n",
    "\n",
    "    # display\n",
    "    ax = show(array[0:3], transform=transform, interpolation='nearest', ax=ax)\n",
    "    ax.set_title(label, fontweight='bold')\n",
    "    ax.axis('off')"
   ]
  },
  {
   "cell_type": "markdown",
   "metadata": {},
   "source": [
    "## Comparison\n",
    "\n",
    "Compare corrected images with a second surface reflectance reference."
   ]
  },
  {
   "cell_type": "code",
   "execution_count": 26,
   "metadata": {},
   "outputs": [
    {
     "name": "stdout",
     "output_type": "stream",
     "text": [
      "ABBREV DESCRIPTION\n",
      "------ -----------------------------------------\n",
      "r²     Pearson's correlation coefficient squared\n",
      "RMSE   Root Mean Square Error\n",
      "rRMSE  Relative RMSE (RMSE/mean(ref))\n",
      "N      Number of pixels\n",
      "Source:\n"
     ]
    },
    {
     "data": {
      "application/vnd.jupyter.widget-view+json": {
       "model_id": "4915704bb2a84a5d93a76afb205c63a6",
       "version_major": 2,
       "version_minor": 0
      },
      "text/plain": [
       "  0%|                                                                                   |0/256 blocks [00:00<?…"
      ]
     },
     "metadata": {},
     "output_type": "display_data"
    },
    {
     "name": "stdout",
     "output_type": "stream",
     "text": [
      "Source comparison:\n",
      "\n",
      " Band    r²      RMSE rRMSE      N\n",
      "----- ----- --------- ----- ------\n",
      "SR_B3 0.557 10688.895 0.969 113164\n",
      "SR_B2 0.444  9567.628 0.938 113164\n",
      "SR_B1 0.292  8617.956 0.929 113164\n",
      "SR_B4 0.387 13315.718 0.942 113164\n",
      " Mean 0.420 10547.549 0.944 113164\n",
      "Corrected:\n"
     ]
    },
    {
     "data": {
      "application/vnd.jupyter.widget-view+json": {
       "model_id": "b5c373da95ee43919be3dec35a55d029",
       "version_major": 2,
       "version_minor": 0
      },
      "text/plain": [
       "  0%|                                                                                   |0/256 blocks [00:00<?…"
      ]
     },
     "metadata": {},
     "output_type": "display_data"
    },
    {
     "name": "stdout",
     "output_type": "stream",
     "text": [
      "Corrected comparison:\n",
      "\n",
      " Band    r²      RMSE rRMSE      N\n",
      "----- ----- --------- ----- ------\n",
      "SR_B3 0.861  9831.449 0.891 113164\n",
      "SR_B2 0.821  9241.138 0.906 113164\n",
      "SR_B1 0.813  8702.048 0.938 113164\n",
      "SR_B4 0.818 11896.574 0.841 113164\n",
      " Mean 0.828  9917.802 0.894 113164\n"
     ]
    }
   ],
   "source": [
    "from homonim import RasterCompare\n",
    "\n",
    "print(RasterCompare.schema_table())\n",
    "\n",
    "# loop over the source and corrected image files\n",
    "for im_path, im_label in zip(\n",
    "    [src_mosaic_path, corr_mosaic_path],\n",
    "    ['Source', 'Corrected'],\n",
    "):\n",
    "    with RasterCompare(\n",
    "        im_path, cmp_ref_path, ref_bands=cmp_ref_bands,\n",
    "    ) as compare:\n",
    "        # print a table of comparison statistics (the typical way of using \n",
    "        # RasterCompare)\n",
    "        print(f'{im_label}:')\n",
    "        stats_dict = compare.process()\n",
    "        print(f'{im_label} comparison:\\n\\n' + compare.stats_table(stats_dict))\n",
    "\n",
    "    # equivalent homonim command line:\n",
    "    # !homonim compare {im_path} {cmp_ref_path}"
   ]
  },
  {
   "cell_type": "markdown",
   "metadata": {},
   "source": [
    "## Classification\n",
    "\n",
    "Compare classification performance before and after correction with `homonim`.  \n",
    "\n",
    "### Feature extraction\n",
    "\n",
    "Start by reading ground truth."
   ]
  },
  {
   "cell_type": "code",
   "execution_count": 37,
   "metadata": {},
   "outputs": [],
   "source": [
    "import geopandas as gpd\n",
    "\n",
    "groundtruth_path = ref_root.joinpath('LittleKaroo3ClassGroundTruth.gpkg')\n",
    "class_label_gdf = gpd.GeoDataFrame.from_file(groundtruth_path)"
   ]
  },
  {
   "cell_type": "markdown",
   "metadata": {},
   "source": [
    "Then extract band pixel values (features) for ground truth polygons"
   ]
  },
  {
   "cell_type": "code",
   "execution_count": 38,
   "metadata": {},
   "outputs": [
    {
     "data": {
      "application/vnd.jupyter.widget-view+json": {
       "model_id": "e17b52dc8aeb44fc868ebd39492ba17f",
       "version_major": 2,
       "version_minor": 0
      },
      "text/plain": [
       "NGI_3321BD-3322AC_2010_LittleKaroo_GroundTruthSubset_Source.vrt:   0%|                         | 0/161 [00:00<…"
      ]
     },
     "metadata": {},
     "output_type": "display_data"
    },
    {
     "data": {
      "application/vnd.jupyter.widget-view+json": {
       "model_id": "c45a540ca4544fcb8f1db859ba4024b6",
       "version_major": 2,
       "version_minor": 0
      },
      "text/plain": [
       "NGI_3321BD-3322AC_2010_LittleKaroo_GroundTruthSubset_FUSE_cREF_mGAIN_k1_1.vrt:   0%|           | 0/161 [00:00<…"
      ]
     },
     "metadata": {},
     "output_type": "display_data"
    }
   ],
   "source": [
    "from rasterio import features\n",
    "from rasterio import windows\n",
    "\n",
    "def extract_feats(\n",
    "    ds: rio.DatasetReader, labelled_plot_gdf: gpd.GeoDataFrame\n",
    ") -> pd.DataFrame:\n",
    "    \"\"\" Extract pixel features from image for given plots. \"\"\"\n",
    "    px_feats_dict = dict(plot_id=[], label=[])\n",
    "\n",
    "    # loop over ground truth plots\n",
    "    for plot_id, plot in tqdm(\n",
    "        labelled_plot_gdf.to_crs(ds.crs).iterrows(), \n",
    "        total=labelled_plot_gdf.shape[0], desc=im_path.name, \n",
    "        dynamic_ncols=True,\n",
    "    ):\n",
    "        if plot.Class is None:\n",
    "            continue\n",
    "\n",
    "        # find a rasterio window that contains the plot polygon\n",
    "        bounds = features.bounds(plot.geometry)\n",
    "        win = windows.from_bounds(*bounds, transform=ds.transform)\n",
    "        win = utils.expand_window_to_grid(win)\n",
    "\n",
    "        # read the image array corresponding to the plot window\n",
    "        array = ds.read(out_dtype='float64', window=win)\n",
    "\n",
    "        # find a mask for pixels contained inside the plot polygon\n",
    "        win_transform = ds.window_transform(win)\n",
    "        with warnings.catch_warnings():\n",
    "            warnings.simplefilter('ignore')     # ignore shapely deprecation warning            \n",
    "            mask = ~features.geometry_mask(\n",
    "                plot.geometry, (win.height, win.width), transform=win_transform\n",
    "            )\n",
    "\n",
    "        def app_listval(d: dict, k: str, val: list):\n",
    "            \"\"\" Append a list to a dictionary value. \"\"\"\n",
    "            if k in d:\n",
    "                d[k] += val\n",
    "            else:\n",
    "                d[k] = val\n",
    "            return d\n",
    "\n",
    "        # extract band values for pixels inside polygon\n",
    "        for bi, fname in zip([0, 1, 2, 3], ['R', 'G', 'B', 'NIR']):\n",
    "            feat = array[bi]\n",
    "            featv = list(feat[mask])\n",
    "            px_feats_dict = app_listval(px_feats_dict, fname, featv)\n",
    "\n",
    "        # copy plot id and class label for these pixels\n",
    "        px_feats_dict['plot_id'] += [plot_id] * len(featv)\n",
    "        px_feats_dict['label'] += [plot.Class] * len(featv)\n",
    "        \n",
    "    return pd.DataFrame(px_feats_dict)\n",
    "\n",
    "# extract features from source and corrected image mosaics\n",
    "feats = []\n",
    "for im_path in [src_mosaic_path, corr_mosaic_path]:    \n",
    "    with rio.open(im_path, 'r') as ds:\n",
    "        feats_gdf = extract_feats(ds, class_label_gdf)\n",
    "    feats_gdf['label_i'] = pd.Categorical(feats_gdf['label']).codes\n",
    "    feats.append(feats_gdf)\n",
    "feats_dict = dict(zip(['Source', 'Corrected'], feats))"
   ]
  },
  {
   "cell_type": "markdown",
   "metadata": {},
   "source": [
    "### Feature visualisation\n",
    "\n",
    "Visualise scatter of source and corrected features."
   ]
  },
  {
   "cell_type": "code",
   "execution_count": 39,
   "metadata": {},
   "outputs": [
    {
     "data": {
      "image/png": "[encoded data removed]",
      "text/plain": [
       "<Figure size 1200x500 with 2 Axes>"
      ]
     },
     "metadata": {
      "needs_background": "light"
     },
     "output_type": "display_data"
    }
   ],
   "source": [
    "# TODO: KDE class plot\n",
    "def class_scatter(\n",
    "    df: pd.DataFrame, x=None, y=None, label_col='label', ax=None\n",
    "):\n",
    "    \"\"\" Feature scatter plot, with class colour coding. \"\"\"\n",
    "    colours = dict(zip(\n",
    "        pd.Categorical(feats_gdf[label_col]).categories, \n",
    "        ['r', 'g', 'b', 'c', 'm', 'y', 'k', 'o']\n",
    "    ))\n",
    "    for label, group in df.groupby(label_col):\n",
    "        ax = group.plot.scatter(\n",
    "            x, y, s=1, label=label, ax=ax, c=colours[label], alpha=0.1,\n",
    "        )\n",
    "    ax.legend()\n",
    "    for lh in ax.legend().legendHandles: \n",
    "        lh.set_alpha(1)\n",
    "\n",
    "fig, axes = pyplot.subplots(\n",
    "    1, 2, tight_layout=True, figsize=(12, 5), dpi=100\n",
    ")\n",
    "\n",
    "for feats_df, ax, label in zip(\n",
    "    feats_dict.values(), axes, feats_dict.keys(),\n",
    "):\n",
    "    class_scatter(feats_df.iloc[::10], 'NIR', 'R', ax=ax)\n",
    "    ax.set_title(label)"
   ]
  },
  {
   "cell_type": "markdown",
   "metadata": {},
   "source": [
    "### Classification accuracy\n",
    "\n",
    "Evaluate the accuracy of a naive Bayes classifier on the source and corrected features."
   ]
  },
  {
   "cell_type": "code",
   "execution_count": 40,
   "metadata": {},
   "outputs": [
    {
     "data": {
      "application/vnd.jupyter.widget-view+json": {
       "model_id": "967b442ba5b5490f866d9fd41f440ba6",
       "version_major": 2,
       "version_minor": 0
      },
      "text/plain": [
       "  0%|                                                                                           | 0/10 [00:00<…"
      ]
     },
     "metadata": {},
     "output_type": "display_data"
    },
    {
     "name": "stdout",
     "output_type": "stream",
     "text": [
      "Source:\n",
      "              precision    recall  f1-score   support\n",
      "\n",
      "  Background       0.95      0.43      0.59    212465\n",
      "    Spekboom       0.46      0.62      0.53     43187\n",
      "        Tree       0.06      0.70      0.12     10007\n",
      "\n",
      "    accuracy                           0.47    265659\n",
      "   macro avg       0.49      0.58      0.41    265659\n",
      "weighted avg       0.84      0.47      0.57    265659\n",
      "\n",
      "Confusion matrix:\n",
      "             Background  Spekboom   Tree\n",
      "Background       91848     28567  92050\n",
      "Spekboom          3934     26769  12484\n",
      "Tree               670      2330   7007\n",
      "Norm confusion matrix:\n",
      "             Background  Spekboom      Tree\n",
      "Background    0.432297  0.661472  9.198561\n",
      "Spekboom      0.018516  0.619839  1.247527\n",
      "Tree          0.003153  0.053951  0.700210\n",
      "Accuracy: 47.29\n",
      "Norm accuracy: 58.41\n"
     ]
    },
    {
     "data": {
      "application/vnd.jupyter.widget-view+json": {
       "model_id": "f87db6e3611743bd9f011b57d4e8a848",
       "version_major": 2,
       "version_minor": 0
      },
      "text/plain": [
       "  0%|                                                                                           | 0/10 [00:00<…"
      ]
     },
     "metadata": {},
     "output_type": "display_data"
    },
    {
     "name": "stdout",
     "output_type": "stream",
     "text": [
      "Corrected:\n",
      "              precision    recall  f1-score   support\n",
      "\n",
      "  Background       0.97      0.56      0.71    212465\n",
      "    Spekboom       0.46      0.72      0.56     43187\n",
      "        Tree       0.10      0.74      0.17     10007\n",
      "\n",
      "    accuracy                           0.59    265659\n",
      "   macro avg       0.51      0.67      0.48    265659\n",
      "weighted avg       0.86      0.59      0.66    265659\n",
      "\n",
      "Confusion matrix:\n",
      "             Background  Spekboom   Tree\n",
      "Background      118607     35112  58746\n",
      "Spekboom          2973     31256   8958\n",
      "Tree               429      2151   7427\n",
      "Norm confusion matrix:\n",
      "             Background  Spekboom      Tree\n",
      "Background    0.558243  0.813022  5.870491\n",
      "Spekboom      0.013993  0.723736  0.895173\n",
      "Tree          0.002019  0.049807  0.742180\n",
      "Accuracy: 59.21\n",
      "Norm accuracy: 67.47\n"
     ]
    }
   ],
   "source": [
    "from sklearn.naive_bayes import GaussianNB\n",
    "from sklearn.model_selection import StratifiedKFold, StratifiedGroupKFold\n",
    "from sklearn.metrics import confusion_matrix, classification_report\n",
    "from sklearn.tree import DecisionTreeClassifier\n",
    "\n",
    "def train_test(\n",
    "    X: np.ndarray, y: np.ndarray, groups: np.ndarray = None, n_splits=10,\n",
    "    clf = GaussianNB()\n",
    ") -> np.ndarray:\n",
    "    \"\"\" \n",
    "    Train and test a classifier on the given features and labels using \n",
    "    cross-validation. \n",
    "    \"\"\"\n",
    "    if groups is not None:\n",
    "        tr_ts_indices = StratifiedGroupKFold(n_splits=n_splits).split(\n",
    "            X, y, groups\n",
    "        )\n",
    "    else:\n",
    "        tr_ts_indices = StratifiedKFold(n_splits=n_splits).split(X, y)\n",
    "    \n",
    "    ypred = np.zeros_like(y)\n",
    "    for train, test in tqdm(\n",
    "        tr_ts_indices, dynamic_ncols=True, total=n_splits\n",
    "    ):\n",
    "        Xtr = X[train, :]\n",
    "        ytr = y[train]\n",
    "        Xts = X[test, :]\n",
    "        yts = y[test]\n",
    "        # clf = DecisionTreeClassifier(class_weight='balanced')\n",
    "        clf.fit(Xtr, ytr)\n",
    "        ypred[test] = clf.predict(Xts)\n",
    "    return ypred\n",
    "\n",
    "label_col = 'label'\n",
    "for df_label, df in feats_dict.items():\n",
    "    \n",
    "    # raw spectral band feature matrix\n",
    "    X = df[['R', 'G', 'B', 'NIR']].to_numpy()\n",
    "    # convert string class labels to int codes\n",
    "    y = pd.Categorical(df[label_col]).codes  \n",
    "    \n",
    "    class_labels = pd.Categorical(df[label_col]).categories\n",
    "    \n",
    "    priors = np.ones(len(class_labels))/len(class_labels)\n",
    "    clf = GaussianNB(priors=priors)\n",
    "    ypred = train_test(\n",
    "        X, y, groups=df.plot_id.to_numpy(), clf=clf, n_splits=10\n",
    "    )\n",
    "    cm = confusion_matrix(y, ypred)\n",
    "    cm_norm = cm / cm.sum(axis=1)\n",
    "    cm_df = pd.DataFrame(data=cm, columns=class_labels, index=class_labels)\n",
    "    cm_norm_df = pd.DataFrame(\n",
    "        data=cm_norm, columns=class_labels, index=class_labels\n",
    "    )\n",
    "\n",
    "    print(f'{df_label}:')\n",
    "    print(classification_report(y, ypred, target_names=class_labels))\n",
    "    print(f'Confusion matrix:\\n {cm_df}')\n",
    "    print(f'Norm confusion matrix:\\n {cm_norm_df}')\n",
    "    print(f'Accuracy: {100*np.sum(np.diag(cm))/np.sum(cm[:]):.2f}')\n",
    "    print(f'Norm accuracy: {100*np.mean(np.diag(cm_norm)):.2f}')\n",
    "    "
   ]
  },
  {
   "cell_type": "code",
   "execution_count": null,
   "metadata": {},
   "outputs": [],
   "source": []
  }
 ],
 "metadata": {
  "kernelspec": {
   "display_name": "Python 3 (ipykernel)",
   "language": "python",
   "name": "python3"
  },
  "language_info": {
   "codemirror_mode": {
    "name": "ipython",
    "version": 3
   },
   "file_extension": ".py",
   "mimetype": "text/x-python",
   "name": "python",
   "nbconvert_exporter": "python",
   "pygments_lexer": "ipython3",
   "version": "3.9.13"
  },
  "vscode": {
   "interpreter": {
    "hash": "a5cb0e16c618ce62d5962a2f34302e2d299d083ff8e8afee2c1c64a34662e4b4"
   }
  },
  "widgets": {
   "application/vnd.jupyter.widget-state+json": {
    "state": {
     "019b8f068e3945e1ab678320efefd893": {
      "model_module": "@jupyter-widgets/base",
      "model_module_version": "1.2.0",
      "model_name": "LayoutModel",
      "state": {}
     },
     "02d21657cde3404e8e48e3b255129531": {
      "model_module": "@jupyter-widgets/base",
      "model_module_version": "1.2.0",
      "model_name": "LayoutModel",
      "state": {}
     },
     "03def0e03fb340b0907c71c039b1c388": {
      "model_module": "@jupyter-widgets/base",
      "model_module_version": "1.2.0",
      "model_name": "LayoutModel",
      "state": {
       "display": "inline-flex",
       "flex_flow": "row wrap",
       "width": "100%"
      }
     },
     "0427008abeb94aff9829561fc1572b40": {
      "model_module": "@jupyter-widgets/controls",
      "model_module_version": "1.5.0",
      "model_name": "HTMLModel",
      "state": {
       "layout": "IPY_MODEL_6eb2df5dfe6141cf9c3bf3c69712944a",
       "style": "IPY_MODEL_e74789eb1ec14d5497c988d23ae1f47d",
       "value": "100%"
      }
     },
     "04f89eb6a34b4e119cada36f0bd90893": {
      "model_module": "@jupyter-widgets/base",
      "model_module_version": "1.2.0",
      "model_name": "LayoutModel",
      "state": {}
     },
     "05e8a80712904234be134fe53d5c7a44": {
      "model_module": "@jupyter-widgets/controls",
      "model_module_version": "1.5.0",
      "model_name": "FloatProgressModel",
      "state": {
       "bar_style": "success",
       "layout": "IPY_MODEL_a53eb31904cb45869f80ffc68f37f54d",
       "max": 161,
       "style": "IPY_MODEL_3cc5a230b30946b1ab1f078dc5db90dc",
       "value": 161
      }
     },
     "063b8a7e474a4a7481dbe43893c0124f": {
      "model_module": "@jupyter-widgets/controls",
      "model_module_version": "1.5.0",
      "model_name": "HBoxModel",
      "state": {
       "children": [
        "IPY_MODEL_b9ceffe11afd43e48cd19c39b127536e",
        "IPY_MODEL_0985fdc7967649ce8cdbc8c32fa3ec7b",
        "IPY_MODEL_99e93d0222864de0907ce3bd41d8aa5d"
       ],
       "layout": "IPY_MODEL_9aac11e8eda741f7998e89b3a0ed5a0a"
      }
     },
     "06fda7f225884a37a1790d75d5ad159f": {
      "model_module": "@jupyter-widgets/controls",
      "model_module_version": "1.5.0",
      "model_name": "FloatProgressModel",
      "state": {
       "bar_style": "success",
       "layout": "IPY_MODEL_c53a73cf2e024fed8c36fd64683ab23c",
       "max": 10,
       "style": "IPY_MODEL_dec8e0e4df1b41b7a864124bb309618f",
       "value": 10
      }
     },
     "07af9d15eb514a5f9432b7e22172ed71": {
      "model_module": "@jupyter-widgets/base",
      "model_module_version": "1.2.0",
      "model_name": "LayoutModel",
      "state": {
       "flex": "2"
      }
     },
     "0885af9782614370b9477dd8490c1bdb": {
      "model_module": "@jupyter-widgets/controls",
      "model_module_version": "1.5.0",
      "model_name": "HTMLModel",
      "state": {
       "layout": "IPY_MODEL_019b8f068e3945e1ab678320efefd893",
       "style": "IPY_MODEL_80d9f7b02dbd49de9e60dc5512d39ca0",
       "value": "8/8 blocks [01:15&lt;00:00]"
      }
     },
     "09417fa8db2040d696a2950d9827dd64": {
      "model_module": "@jupyter-widgets/controls",
      "model_module_version": "1.5.0",
      "model_name": "DescriptionStyleModel",
      "state": {
       "description_width": ""
      }
     },
     "0985fdc7967649ce8cdbc8c32fa3ec7b": {
      "model_module": "@jupyter-widgets/controls",
      "model_module_version": "1.5.0",
      "model_name": "FloatProgressModel",
      "state": {
       "bar_style": "success",
       "layout": "IPY_MODEL_63f629b1b9434cda9ace26ab873f164b",
       "max": 10,
       "style": "IPY_MODEL_49a0a27fccb948a19864cfc948766110",
       "value": 10
      }
     },
     "0a83f966bd1643809961ab76309f4dc9": {
      "model_module": "@jupyter-widgets/controls",
      "model_module_version": "1.5.0",
      "model_name": "ProgressStyleModel",
      "state": {
       "description_width": ""
      }
     },
     "0bb555dd513d4dad92aa52b534bc2b8b": {
      "model_module": "@jupyter-widgets/base",
      "model_module_version": "1.2.0",
      "model_name": "LayoutModel",
      "state": {}
     },
     "0ccdbf5ad30b444cb6aad87121908306": {
      "model_module": "@jupyter-widgets/base",
      "model_module_version": "1.2.0",
      "model_name": "LayoutModel",
      "state": {
       "display": "inline-flex",
       "flex_flow": "row wrap",
       "width": "100%"
      }
     },
     "0cf1e7f8bf334f8db2a024b64e4461cb": {
      "model_module": "@jupyter-widgets/controls",
      "model_module_version": "1.5.0",
      "model_name": "HBoxModel",
      "state": {
       "children": [
        "IPY_MODEL_e679b6f5b5e3473e851c5d4ac5c6ef09",
        "IPY_MODEL_c207a9e1e40f48ff9dad5ad4e4098ae8",
        "IPY_MODEL_28cf3e725c004ffaa840af897f6ca920"
       ],
       "layout": "IPY_MODEL_39dd4215a2884b339c3dc594aae028fe"
      }
     },
     "0ef44bd203c0491b92e9e9397b772023": {
      "model_module": "@jupyter-widgets/base",
      "model_module_version": "1.2.0",
      "model_name": "LayoutModel",
      "state": {
       "display": "inline-flex",
       "flex_flow": "row wrap",
       "width": "100%"
      }
     },
     "0f7be79c34c046d58329919636f35fbe": {
      "model_module": "@jupyter-widgets/base",
      "model_module_version": "1.2.0",
      "model_name": "LayoutModel",
      "state": {
       "flex": "2"
      }
     },
     "1099077d19ed4136a55ba5d3b48a11d4": {
      "model_module": "@jupyter-widgets/controls",
      "model_module_version": "1.5.0",
      "model_name": "DescriptionStyleModel",
      "state": {
       "description_width": ""
      }
     },
     "11238d05636249078bdc6a3636664ad9": {
      "model_module": "@jupyter-widgets/controls",
      "model_module_version": "1.5.0",
      "model_name": "ProgressStyleModel",
      "state": {
       "description_width": ""
      }
     },
     "116d6607685448d482cc4e71d1215f53": {
      "model_module": "@jupyter-widgets/base",
      "model_module_version": "1.2.0",
      "model_name": "LayoutModel",
      "state": {
       "display": "inline-flex",
       "flex_flow": "row wrap",
       "width": "100%"
      }
     },
     "11ebdffc7db84bb883c368d5ec8e12b7": {
      "model_module": "@jupyter-widgets/controls",
      "model_module_version": "1.5.0",
      "model_name": "HTMLModel",
      "state": {
       "layout": "IPY_MODEL_1df1816f05c348358b2b74209c796f76",
       "style": "IPY_MODEL_f15cc6ef380649b0b3af26af9e4936c7",
       "value": " 10/10 [00:01&lt;00:00,  9.12it/s]"
      }
     },
     "12fb7629e08946a2b9fc1ef3a7e811ac": {
      "model_module": "@jupyter-widgets/base",
      "model_module_version": "1.2.0",
      "model_name": "LayoutModel",
      "state": {}
     },
     "131d5fb3271c4eb29129f8cb9dcb29b3": {
      "model_module": "@jupyter-widgets/controls",
      "model_module_version": "1.5.0",
      "model_name": "HTMLModel",
      "state": {
       "layout": "IPY_MODEL_5e12cce21b254ea3b748ea41850f0475",
       "style": "IPY_MODEL_28fa4e2262894897907b6b3e3f630f1c",
       "value": "100%"
      }
     },
     "1749737fed694c4ca472d2ea4e807aad": {
      "model_module": "@jupyter-widgets/controls",
      "model_module_version": "1.5.0",
      "model_name": "DescriptionStyleModel",
      "state": {
       "description_width": ""
      }
     },
     "1796a35951f94ed0841ba2eefd6dcdc8": {
      "model_module": "@jupyter-widgets/controls",
      "model_module_version": "1.5.0",
      "model_name": "DescriptionStyleModel",
      "state": {
       "description_width": ""
      }
     },
     "1857f300b41f417480ba638df0338e2f": {
      "model_module": "@jupyter-widgets/controls",
      "model_module_version": "1.5.0",
      "model_name": "ProgressStyleModel",
      "state": {
       "description_width": ""
      }
     },
     "18c467bdfc9a48d59b8c74e4e775c50b": {
      "model_module": "@jupyter-widgets/controls",
      "model_module_version": "1.5.0",
      "model_name": "HTMLModel",
      "state": {
       "layout": "IPY_MODEL_f2e487269cda4b8694d635d6bfc159c4",
       "style": "IPY_MODEL_1ff1c678885740ee9785002040c52714",
       "value": " 10/10 [00:01&lt;00:00,  9.27it/s]"
      }
     },
     "1b319d600ee6474797242a08d5791c87": {
      "model_module": "@jupyter-widgets/controls",
      "model_module_version": "1.5.0",
      "model_name": "ProgressStyleModel",
      "state": {
       "description_width": ""
      }
     },
     "1df1816f05c348358b2b74209c796f76": {
      "model_module": "@jupyter-widgets/base",
      "model_module_version": "1.2.0",
      "model_name": "LayoutModel",
      "state": {}
     },
     "1e2924652b1946408cc5e6947a260649": {
      "model_module": "@jupyter-widgets/controls",
      "model_module_version": "1.5.0",
      "model_name": "DescriptionStyleModel",
      "state": {
       "description_width": ""
      }
     },
     "1f64264c7e4242a1b6edae0ef7cb691f": {
      "model_module": "@jupyter-widgets/controls",
      "model_module_version": "1.5.0",
      "model_name": "FloatProgressModel",
      "state": {
       "bar_style": "success",
       "layout": "IPY_MODEL_0f7be79c34c046d58329919636f35fbe",
       "max": 10,
       "style": "IPY_MODEL_0a83f966bd1643809961ab76309f4dc9",
       "value": 10
      }
     },
     "1ff1c678885740ee9785002040c52714": {
      "model_module": "@jupyter-widgets/controls",
      "model_module_version": "1.5.0",
      "model_name": "DescriptionStyleModel",
      "state": {
       "description_width": ""
      }
     },
     "2067103a10034ea3a43983df71555df6": {
      "model_module": "@jupyter-widgets/controls",
      "model_module_version": "1.5.0",
      "model_name": "DescriptionStyleModel",
      "state": {
       "description_width": ""
      }
     },
     "207b742aa15c469f9bb4f701e9b04e03": {
      "model_module": "@jupyter-widgets/controls",
      "model_module_version": "1.5.0",
      "model_name": "DescriptionStyleModel",
      "state": {
       "description_width": ""
      }
     },
     "21dc7780e8f04fe796436694dd622e7e": {
      "model_module": "@jupyter-widgets/base",
      "model_module_version": "1.2.0",
      "model_name": "LayoutModel",
      "state": {
       "display": "inline-flex",
       "flex_flow": "row wrap",
       "width": "100%"
      }
     },
     "21e47c04a225463d9ea236ead69a14a6": {
      "model_module": "@jupyter-widgets/controls",
      "model_module_version": "1.5.0",
      "model_name": "HTMLModel",
      "state": {
       "layout": "IPY_MODEL_6245642f6fd8457f98e21fed29cb1f3c",
       "style": "IPY_MODEL_8d308a633b57403db782d321d7422ca9",
       "value": "100%"
      }
     },
     "21ec4a2bfb7d4414beeb9a376e491d62": {
      "model_module": "@jupyter-widgets/controls",
      "model_module_version": "1.5.0",
      "model_name": "HBoxModel",
      "state": {
       "children": [
        "IPY_MODEL_d383ff40c66c4264b2cd11db86acb8f2",
        "IPY_MODEL_a36bcb2756434ae6b2524172f1ed7b8d",
        "IPY_MODEL_9ace64e8e4414601bbfbfe103671c0b6"
       ],
       "layout": "IPY_MODEL_fb6cb2af721b4945b6ff822ee17a163f"
      }
     },
     "230a593940ab4b6c98eef6c25a50c974": {
      "model_module": "@jupyter-widgets/base",
      "model_module_version": "1.2.0",
      "model_name": "LayoutModel",
      "state": {}
     },
     "23ffd327ae624aacb9eda9b1d3008c96": {
      "model_module": "@jupyter-widgets/base",
      "model_module_version": "1.2.0",
      "model_name": "LayoutModel",
      "state": {}
     },
     "240ec69e4c99440e9cd5d181ca5c893d": {
      "model_module": "@jupyter-widgets/controls",
      "model_module_version": "1.5.0",
      "model_name": "DescriptionStyleModel",
      "state": {
       "description_width": ""
      }
     },
     "2538791e0267419c9abc139bc10d0999": {
      "model_module": "@jupyter-widgets/base",
      "model_module_version": "1.2.0",
      "model_name": "LayoutModel",
      "state": {
       "display": "inline-flex",
       "flex_flow": "row wrap",
       "width": "100%"
      }
     },
     "256f4c3041f843ff8bf07329182fe6d6": {
      "model_module": "@jupyter-widgets/base",
      "model_module_version": "1.2.0",
      "model_name": "LayoutModel",
      "state": {}
     },
     "26f916a9244e4c03b7d495969b81b7eb": {
      "model_module": "@jupyter-widgets/controls",
      "model_module_version": "1.5.0",
      "model_name": "ProgressStyleModel",
      "state": {
       "description_width": ""
      }
     },
     "26fa6253924f4bfbb7dab0ccb9c2465b": {
      "model_module": "@jupyter-widgets/base",
      "model_module_version": "1.2.0",
      "model_name": "LayoutModel",
      "state": {}
     },
     "2756db29d512463cbf972cd2b9dc9366": {
      "model_module": "@jupyter-widgets/base",
      "model_module_version": "1.2.0",
      "model_name": "LayoutModel",
      "state": {
       "flex": "2"
      }
     },
     "27b1f5beeb474072be0dc8fe1eb79170": {
      "model_module": "@jupyter-widgets/controls",
      "model_module_version": "1.5.0",
      "model_name": "DescriptionStyleModel",
      "state": {
       "description_width": ""
      }
     },
     "28cf3e725c004ffaa840af897f6ca920": {
      "model_module": "@jupyter-widgets/controls",
      "model_module_version": "1.5.0",
      "model_name": "HTMLModel",
      "state": {
       "layout": "IPY_MODEL_4c9a6baa869942f5b09677b206b7cec6",
       "style": "IPY_MODEL_4563c3ebe71b4156a24657d31f47cc03",
       "value": " 10/10 [00:01&lt;00:00,  8.74it/s]"
      }
     },
     "28fa4e2262894897907b6b3e3f630f1c": {
      "model_module": "@jupyter-widgets/controls",
      "model_module_version": "1.5.0",
      "model_name": "DescriptionStyleModel",
      "state": {
       "description_width": ""
      }
     },
     "29c2640a32e84cd38301079c45dcf66c": {
      "model_module": "@jupyter-widgets/controls",
      "model_module_version": "1.5.0",
      "model_name": "FloatProgressModel",
      "state": {
       "bar_style": "success",
       "layout": "IPY_MODEL_3ab35fd8d7bc4864a290d232dfa465d7",
       "max": 10,
       "style": "IPY_MODEL_ffe17174ea2c4729b3f1716bb044699f",
       "value": 10
      }
     },
     "29f4b294ed184ed09ec94e5b66f5d068": {
      "model_module": "@jupyter-widgets/controls",
      "model_module_version": "1.5.0",
      "model_name": "HBoxModel",
      "state": {
       "children": [
        "IPY_MODEL_a1b7b49b7c854b0895811fe7d8e0cf51",
        "IPY_MODEL_d52406f3fba84a3699618ae69aea50ff",
        "IPY_MODEL_cc2512ad62724955baf1f39104e3de44"
       ],
       "layout": "IPY_MODEL_3d081587668d4b20a5d2d58565f9dbaa"
      }
     },
     "2a8bf605453b418d8a4b3b6d1743f5f3": {
      "model_module": "@jupyter-widgets/controls",
      "model_module_version": "1.5.0",
      "model_name": "HBoxModel",
      "state": {
       "children": [
        "IPY_MODEL_303f13efb4ea4a6abd2ded1c2a531645",
        "IPY_MODEL_29c2640a32e84cd38301079c45dcf66c",
        "IPY_MODEL_d86287158b9749d1bfc8dec792334ab1"
       ],
       "layout": "IPY_MODEL_0ef44bd203c0491b92e9e9397b772023"
      }
     },
     "2b0323509dac4e7c93bc41ee5e70c302": {
      "model_module": "@jupyter-widgets/base",
      "model_module_version": "1.2.0",
      "model_name": "LayoutModel",
      "state": {}
     },
     "2d0f39d6f35741c69b77da53aac6b7c6": {
      "model_module": "@jupyter-widgets/controls",
      "model_module_version": "1.5.0",
      "model_name": "HBoxModel",
      "state": {
       "children": [
        "IPY_MODEL_f4c1c12975e34602a125c1824697548f",
        "IPY_MODEL_2fba7c2499a244daaddeb9d0ab53d3fb",
        "IPY_MODEL_ebcaba274fc94c79ad2d81120a34bbdd"
       ],
       "layout": "IPY_MODEL_6bea79112b57410a868d36b3e5b3db07"
      }
     },
     "2d6435a4aa4f43769d4e7429013e5a02": {
      "model_module": "@jupyter-widgets/base",
      "model_module_version": "1.2.0",
      "model_name": "LayoutModel",
      "state": {}
     },
     "2e2d21f127324dddb6df5f1be24daca4": {
      "model_module": "@jupyter-widgets/base",
      "model_module_version": "1.2.0",
      "model_name": "LayoutModel",
      "state": {}
     },
     "2e7dc13ab1a346a69a1252d64ba3c462": {
      "model_module": "@jupyter-widgets/base",
      "model_module_version": "1.2.0",
      "model_name": "LayoutModel",
      "state": {}
     },
     "2e8bf1daa2da47028c6dbafa655e3ba4": {
      "model_module": "@jupyter-widgets/controls",
      "model_module_version": "1.5.0",
      "model_name": "HTMLModel",
      "state": {
       "layout": "IPY_MODEL_54ede050e02a469094a992fbdc9cb85f",
       "style": "IPY_MODEL_d3dbb510139f48e2a2bfa33d3467dfb0",
       "value": " 10/10 [00:08&lt;00:00,  1.24it/s]"
      }
     },
     "2f8868d9dd2f45eb83f1b080826c98ce": {
      "model_module": "@jupyter-widgets/base",
      "model_module_version": "1.2.0",
      "model_name": "LayoutModel",
      "state": {}
     },
     "2fba7c2499a244daaddeb9d0ab53d3fb": {
      "model_module": "@jupyter-widgets/controls",
      "model_module_version": "1.5.0",
      "model_name": "FloatProgressModel",
      "state": {
       "bar_style": "success",
       "layout": "IPY_MODEL_2756db29d512463cbf972cd2b9dc9366",
       "max": 10,
       "style": "IPY_MODEL_f44e8f0aa5814016bf9c9cd8465dfc67",
       "value": 10
      }
     },
     "30349252546d44f4b94e6d198e34c943": {
      "model_module": "@jupyter-widgets/controls",
      "model_module_version": "1.5.0",
      "model_name": "HBoxModel",
      "state": {
       "children": [
        "IPY_MODEL_3b45da981bae453b884a9b37caeb0dd9",
        "IPY_MODEL_d65d509363f34784bd0722962348d4f8",
        "IPY_MODEL_eea47af756564625b0b7531948bc60de"
       ],
       "layout": "IPY_MODEL_f202e6ecfa43442598c0f4316a817cb0"
      }
     },
     "303f13efb4ea4a6abd2ded1c2a531645": {
      "model_module": "@jupyter-widgets/controls",
      "model_module_version": "1.5.0",
      "model_name": "HTMLModel",
      "state": {
       "layout": "IPY_MODEL_cbf219ee22d644808a687c48d06ad044",
       "style": "IPY_MODEL_b3e4d86bce14420dac1fd66d5265f29c",
       "value": "100%"
      }
     },
     "3060f9c74d9b49e3bace9b4297715af4": {
      "model_module": "@jupyter-widgets/base",
      "model_module_version": "1.2.0",
      "model_name": "LayoutModel",
      "state": {}
     },
     "30973523ac1b4447a49ac2523c6338fb": {
      "model_module": "@jupyter-widgets/controls",
      "model_module_version": "1.5.0",
      "model_name": "DescriptionStyleModel",
      "state": {
       "description_width": ""
      }
     },
     "30b5a83de19a4b52878036a0dfae2a11": {
      "model_module": "@jupyter-widgets/base",
      "model_module_version": "1.2.0",
      "model_name": "LayoutModel",
      "state": {
       "display": "inline-flex",
       "flex_flow": "row wrap",
       "width": "100%"
      }
     },
     "318e15675a654381917be755aeec0d2a": {
      "model_module": "@jupyter-widgets/controls",
      "model_module_version": "1.5.0",
      "model_name": "FloatProgressModel",
      "state": {
       "bar_style": "success",
       "layout": "IPY_MODEL_a56e1a61684b4381a90f65d91f722d46",
       "max": 10,
       "style": "IPY_MODEL_dd09a4af4b1045d586857376c2c8610d",
       "value": 10
      }
     },
     "34d69c6ec05b40749b05ad569bf9f4d0": {
      "model_module": "@jupyter-widgets/base",
      "model_module_version": "1.2.0",
      "model_name": "LayoutModel",
      "state": {}
     },
     "39dd4215a2884b339c3dc594aae028fe": {
      "model_module": "@jupyter-widgets/base",
      "model_module_version": "1.2.0",
      "model_name": "LayoutModel",
      "state": {
       "display": "inline-flex",
       "flex_flow": "row wrap",
       "width": "100%"
      }
     },
     "3ab35fd8d7bc4864a290d232dfa465d7": {
      "model_module": "@jupyter-widgets/base",
      "model_module_version": "1.2.0",
      "model_name": "LayoutModel",
      "state": {
       "flex": "2"
      }
     },
     "3b45da981bae453b884a9b37caeb0dd9": {
      "model_module": "@jupyter-widgets/controls",
      "model_module_version": "1.5.0",
      "model_name": "HTMLModel",
      "state": {
       "layout": "IPY_MODEL_edf5d4e978e94fb392b058c4669e473e",
       "style": "IPY_MODEL_b8a11c1034564d74badcd481cb215bb2",
       "value": "100%"
      }
     },
     "3befb0a8b5374172910c2e82641e0737": {
      "model_module": "@jupyter-widgets/controls",
      "model_module_version": "1.5.0",
      "model_name": "ProgressStyleModel",
      "state": {
       "description_width": ""
      }
     },
     "3cc5a230b30946b1ab1f078dc5db90dc": {
      "model_module": "@jupyter-widgets/controls",
      "model_module_version": "1.5.0",
      "model_name": "ProgressStyleModel",
      "state": {
       "description_width": ""
      }
     },
     "3d081587668d4b20a5d2d58565f9dbaa": {
      "model_module": "@jupyter-widgets/base",
      "model_module_version": "1.2.0",
      "model_name": "LayoutModel",
      "state": {
       "display": "inline-flex",
       "flex_flow": "row wrap",
       "width": "100%"
      }
     },
     "3d676e135b2449a5859471cbed90b353": {
      "model_module": "@jupyter-widgets/controls",
      "model_module_version": "1.5.0",
      "model_name": "HTMLModel",
      "state": {
       "layout": "IPY_MODEL_e4a4349136ea4a748361922f7818dd13",
       "style": "IPY_MODEL_83c8e8b17ee64441ae626a96eab68ea8",
       "value": " 161/161 [00:02&lt;00:00, 94.61it/s]"
      }
     },
     "3d9e3800ff514aca841ed2e17ec8f679": {
      "model_module": "@jupyter-widgets/controls",
      "model_module_version": "1.5.0",
      "model_name": "HTMLModel",
      "state": {
       "layout": "IPY_MODEL_2f8868d9dd2f45eb83f1b080826c98ce",
       "style": "IPY_MODEL_1749737fed694c4ca472d2ea4e807aad",
       "value": " 10/10 [00:08&lt;00:00,  1.25it/s]"
      }
     },
     "3dd912e6ecef49b7b1adc987f1c802d0": {
      "model_module": "@jupyter-widgets/controls",
      "model_module_version": "1.5.0",
      "model_name": "ProgressStyleModel",
      "state": {
       "description_width": ""
      }
     },
     "3eec3dbfec1f47c1bc1be3b8e2b9c4d4": {
      "model_module": "@jupyter-widgets/base",
      "model_module_version": "1.2.0",
      "model_name": "LayoutModel",
      "state": {
       "display": "inline-flex",
       "flex_flow": "row wrap",
       "width": "100%"
      }
     },
     "406e9e44062441e59c8072f449bd6db6": {
      "model_module": "@jupyter-widgets/controls",
      "model_module_version": "1.5.0",
      "model_name": "HBoxModel",
      "state": {
       "children": [
        "IPY_MODEL_a466d4b98963412aa41ac6e371af26cc",
        "IPY_MODEL_ef8357101d804f7e9a72de427039737f",
        "IPY_MODEL_da31ab68da194924acab13881b66b6bf"
       ],
       "layout": "IPY_MODEL_78bdc93a221849f7911ca456fc5bfe1b"
      }
     },
     "408fc367820c409bab7e020ec402208b": {
      "model_module": "@jupyter-widgets/base",
      "model_module_version": "1.2.0",
      "model_name": "LayoutModel",
      "state": {}
     },
     "4153766ed4c34b6c981e4a4b5c78258a": {
      "model_module": "@jupyter-widgets/base",
      "model_module_version": "1.2.0",
      "model_name": "LayoutModel",
      "state": {
       "display": "inline-flex",
       "flex_flow": "row wrap",
       "width": "100%"
      }
     },
     "41bf939a42264aa6b281308dbf16b986": {
      "model_module": "@jupyter-widgets/controls",
      "model_module_version": "1.5.0",
      "model_name": "HTMLModel",
      "state": {
       "layout": "IPY_MODEL_ff976f68de854243b8eac09cde6e9e14",
       "style": "IPY_MODEL_c132da9f6ccc4329a9c0c0f56f4d12d1",
       "value": "100%"
      }
     },
     "41eae06b84ad45039651a8b2a49c8d98": {
      "model_module": "@jupyter-widgets/controls",
      "model_module_version": "1.5.0",
      "model_name": "HBoxModel",
      "state": {
       "children": [
        "IPY_MODEL_87cac0fc981b4f859cfb4b80216540e0",
        "IPY_MODEL_b619c8fee38a44128fea536d7ed89d79",
        "IPY_MODEL_b9454a6019d54b91a067a8605adf7cf7"
       ],
       "layout": "IPY_MODEL_2538791e0267419c9abc139bc10d0999"
      }
     },
     "4242ed63e1b44930ad4479c17a9b8ace": {
      "model_module": "@jupyter-widgets/controls",
      "model_module_version": "1.5.0",
      "model_name": "HTMLModel",
      "state": {
       "layout": "IPY_MODEL_b6dc596d54e3452f953c02dcc3524fa4",
       "style": "IPY_MODEL_207b742aa15c469f9bb4f701e9b04e03",
       "value": "8/8 blocks [01:23&lt;00:00]"
      }
     },
     "4245989a8d40445bada58add14ab4ce5": {
      "model_module": "@jupyter-widgets/controls",
      "model_module_version": "1.5.0",
      "model_name": "DescriptionStyleModel",
      "state": {
       "description_width": ""
      }
     },
     "4250806de6c54c54bacc684969163db1": {
      "model_module": "@jupyter-widgets/controls",
      "model_module_version": "1.5.0",
      "model_name": "HTMLModel",
      "state": {
       "layout": "IPY_MODEL_12fb7629e08946a2b9fc1ef3a7e811ac",
       "style": "IPY_MODEL_bf87186dba934abdba185ccd95c62e1b",
       "value": "100%"
      }
     },
     "4563c3ebe71b4156a24657d31f47cc03": {
      "model_module": "@jupyter-widgets/controls",
      "model_module_version": "1.5.0",
      "model_name": "DescriptionStyleModel",
      "state": {
       "description_width": ""
      }
     },
     "4639e36638f143f5a2afd746956d7f7a": {
      "model_module": "@jupyter-widgets/controls",
      "model_module_version": "1.5.0",
      "model_name": "DescriptionStyleModel",
      "state": {
       "description_width": ""
      }
     },
     "4655ed97e4bd4cf79ee9457bac9b80ab": {
      "model_module": "@jupyter-widgets/controls",
      "model_module_version": "1.5.0",
      "model_name": "FloatProgressModel",
      "state": {
       "bar_style": "success",
       "layout": "IPY_MODEL_96e2970ce479416da7a4dbcc8ed69931",
       "max": 10,
       "style": "IPY_MODEL_5f17c5787f4b4681927750138aef229f",
       "value": 10
      }
     },
     "466c534134a248ee8dbeef25c23209b1": {
      "model_module": "@jupyter-widgets/controls",
      "model_module_version": "1.5.0",
      "model_name": "DescriptionStyleModel",
      "state": {
       "description_width": ""
      }
     },
     "46bf35ec05f04161a46a277243a1e0b4": {
      "model_module": "@jupyter-widgets/controls",
      "model_module_version": "1.5.0",
      "model_name": "HTMLModel",
      "state": {
       "layout": "IPY_MODEL_3060f9c74d9b49e3bace9b4297715af4",
       "style": "IPY_MODEL_8f71eaba550944d6bb4d9f2608cbe456",
       "value": " 161/161 [00:01&lt;00:00, 83.93it/s]"
      }
     },
     "46d4ba20308c40c6a33e6ec7b3e38efb": {
      "model_module": "@jupyter-widgets/controls",
      "model_module_version": "1.5.0",
      "model_name": "HBoxModel",
      "state": {
       "children": [
        "IPY_MODEL_821fc437ee5f45d79e9aa717bc6b6cd3",
        "IPY_MODEL_c8739b3936d94372b9489eed262728dc",
        "IPY_MODEL_4242ed63e1b44930ad4479c17a9b8ace"
       ],
       "layout": "IPY_MODEL_03def0e03fb340b0907c71c039b1c388"
      }
     },
     "47cc7ede2a604499919826a5db842ab6": {
      "model_module": "@jupyter-widgets/controls",
      "model_module_version": "1.5.0",
      "model_name": "FloatProgressModel",
      "state": {
       "bar_style": "success",
       "layout": "IPY_MODEL_f7a748427b4347f286c6a4400be374cd",
       "max": 10,
       "style": "IPY_MODEL_fc1fa0b5047f40cf98335c8fb38d12aa",
       "value": 10
      }
     },
     "49a0a27fccb948a19864cfc948766110": {
      "model_module": "@jupyter-widgets/controls",
      "model_module_version": "1.5.0",
      "model_name": "ProgressStyleModel",
      "state": {
       "description_width": ""
      }
     },
     "4a0cedf63d5549aeb98aae3773bd48fd": {
      "model_module": "@jupyter-widgets/base",
      "model_module_version": "1.2.0",
      "model_name": "LayoutModel",
      "state": {
       "flex": "2"
      }
     },
     "4aa506650a5a4432827787a07144a88f": {
      "model_module": "@jupyter-widgets/base",
      "model_module_version": "1.2.0",
      "model_name": "LayoutModel",
      "state": {}
     },
     "4c5b5cf88ab14b3e94255bae3bb97c28": {
      "model_module": "@jupyter-widgets/controls",
      "model_module_version": "1.5.0",
      "model_name": "DescriptionStyleModel",
      "state": {
       "description_width": ""
      }
     },
     "4c9a6baa869942f5b09677b206b7cec6": {
      "model_module": "@jupyter-widgets/base",
      "model_module_version": "1.2.0",
      "model_name": "LayoutModel",
      "state": {}
     },
     "4dcc3f0079ae482eabd2b40d846e1cde": {
      "model_module": "@jupyter-widgets/base",
      "model_module_version": "1.2.0",
      "model_name": "LayoutModel",
      "state": {
       "display": "inline-flex",
       "flex_flow": "row wrap",
       "width": "100%"
      }
     },
     "4e1fa95d3f8347beb6c2ba1deda51f51": {
      "model_module": "@jupyter-widgets/base",
      "model_module_version": "1.2.0",
      "model_name": "LayoutModel",
      "state": {}
     },
     "4fb529006c894e3794f8f7d855983773": {
      "model_module": "@jupyter-widgets/controls",
      "model_module_version": "1.5.0",
      "model_name": "HTMLModel",
      "state": {
       "layout": "IPY_MODEL_7b5ee8cc2769482490ad3157d2ff203f",
       "style": "IPY_MODEL_ded106893cb748a9aeb3a611319f96e1",
       "value": "100%"
      }
     },
     "4fd13b7ac24b418cae7aa4e91361a6b8": {
      "model_module": "@jupyter-widgets/controls",
      "model_module_version": "1.5.0",
      "model_name": "DescriptionStyleModel",
      "state": {
       "description_width": ""
      }
     },
     "50092de3c713483192edf2393e195014": {
      "model_module": "@jupyter-widgets/controls",
      "model_module_version": "1.5.0",
      "model_name": "HBoxModel",
      "state": {
       "children": [
        "IPY_MODEL_715ca05d9084417a8a1418d07f9091b3",
        "IPY_MODEL_919c24250bc547368011be14f4e039a6",
        "IPY_MODEL_2e8bf1daa2da47028c6dbafa655e3ba4"
       ],
       "layout": "IPY_MODEL_ddccb855d3884b30a12f77e760f0e71f"
      }
     },
     "50262e9ef8a14168aa613d005425c871": {
      "model_module": "@jupyter-widgets/base",
      "model_module_version": "1.2.0",
      "model_name": "LayoutModel",
      "state": {}
     },
     "503af0c760da46f691adccd7aab9bd2d": {
      "model_module": "@jupyter-widgets/controls",
      "model_module_version": "1.5.0",
      "model_name": "HTMLModel",
      "state": {
       "layout": "IPY_MODEL_a96643c56c984f158444981e04587990",
       "style": "IPY_MODEL_60e8576807aa440284a1d2f2b970f8ab",
       "value": "NGI_3321BD-3322AC_2010_LittleKaroo_GroundTruthSubset_FUSE_cREF_mGAIN_k3_3.vrt: 100%"
      }
     },
     "50ca7636e2894527af991f12333a854c": {
      "model_module": "@jupyter-widgets/controls",
      "model_module_version": "1.5.0",
      "model_name": "HBoxModel",
      "state": {
       "children": [
        "IPY_MODEL_a1965e5105f14db6a161652533d6aa8c",
        "IPY_MODEL_318e15675a654381917be755aeec0d2a",
        "IPY_MODEL_8993e7797419483ca89e851a7d925f33"
       ],
       "layout": "IPY_MODEL_3eec3dbfec1f47c1bc1be3b8e2b9c4d4"
      }
     },
     "51c7ed84c2d54383908466ff4dfc6ba7": {
      "model_module": "@jupyter-widgets/controls",
      "model_module_version": "1.5.0",
      "model_name": "HTMLModel",
      "state": {
       "layout": "IPY_MODEL_408fc367820c409bab7e020ec402208b",
       "style": "IPY_MODEL_a84914addfc248398f09ddf2c7b93fa8",
       "value": "100%"
      }
     },
     "54ede050e02a469094a992fbdc9cb85f": {
      "model_module": "@jupyter-widgets/base",
      "model_module_version": "1.2.0",
      "model_name": "LayoutModel",
      "state": {}
     },
     "55c011cd6741469fa4d2061a2213b6a1": {
      "model_module": "@jupyter-widgets/controls",
      "model_module_version": "1.5.0",
      "model_name": "DescriptionStyleModel",
      "state": {
       "description_width": ""
      }
     },
     "56b8b8ee92a346ee99bbd9d0a4f5df72": {
      "model_module": "@jupyter-widgets/base",
      "model_module_version": "1.2.0",
      "model_name": "LayoutModel",
      "state": {}
     },
     "56e47dfa8bd04718b17380b926608e0b": {
      "model_module": "@jupyter-widgets/controls",
      "model_module_version": "1.5.0",
      "model_name": "HBoxModel",
      "state": {
       "children": [
        "IPY_MODEL_0427008abeb94aff9829561fc1572b40",
        "IPY_MODEL_a4fa0c7a2cd943288c6ed4c8b0486c48",
        "IPY_MODEL_18c467bdfc9a48d59b8c74e4e775c50b"
       ],
       "layout": "IPY_MODEL_7219ccd03a824d60a757ed05036d3fc2"
      }
     },
     "5a294b84389248b0ba24343f07fa971d": {
      "model_module": "@jupyter-widgets/controls",
      "model_module_version": "1.5.0",
      "model_name": "HBoxModel",
      "state": {
       "children": [
        "IPY_MODEL_995ef0c56c1f4a02bd8de0c1e72b627c",
        "IPY_MODEL_47cc7ede2a604499919826a5db842ab6",
        "IPY_MODEL_3d9e3800ff514aca841ed2e17ec8f679"
       ],
       "layout": "IPY_MODEL_5df3b61cd1674093b9d1ba4aac54564e"
      }
     },
     "5a369ffe7f714b51a18bed58e38bfbc1": {
      "model_module": "@jupyter-widgets/controls",
      "model_module_version": "1.5.0",
      "model_name": "HBoxModel",
      "state": {
       "children": [
        "IPY_MODEL_503af0c760da46f691adccd7aab9bd2d",
        "IPY_MODEL_8aea0368e282461d9c49d14b91d6330d",
        "IPY_MODEL_dd05610067c34ad8ab781a6d19218227"
       ],
       "layout": "IPY_MODEL_fdb8e837f1464b958609abe94712e4cc"
      }
     },
     "5a4954740f5f467dada5f78c819803e4": {
      "model_module": "@jupyter-widgets/base",
      "model_module_version": "1.2.0",
      "model_name": "LayoutModel",
      "state": {}
     },
     "5afd5951bfc84daaacccc42bc166ddd7": {
      "model_module": "@jupyter-widgets/base",
      "model_module_version": "1.2.0",
      "model_name": "LayoutModel",
      "state": {}
     },
     "5bb7d2f22191471492d83edf4b8f0cf2": {
      "model_module": "@jupyter-widgets/controls",
      "model_module_version": "1.5.0",
      "model_name": "ProgressStyleModel",
      "state": {
       "description_width": ""
      }
     },
     "5df3b61cd1674093b9d1ba4aac54564e": {
      "model_module": "@jupyter-widgets/base",
      "model_module_version": "1.2.0",
      "model_name": "LayoutModel",
      "state": {
       "display": "inline-flex",
       "flex_flow": "row wrap",
       "width": "100%"
      }
     },
     "5e12cce21b254ea3b748ea41850f0475": {
      "model_module": "@jupyter-widgets/base",
      "model_module_version": "1.2.0",
      "model_name": "LayoutModel",
      "state": {}
     },
     "5e53cc743493484e8cd769f05ab1b73b": {
      "model_module": "@jupyter-widgets/controls",
      "model_module_version": "1.5.0",
      "model_name": "FloatProgressModel",
      "state": {
       "bar_style": "success",
       "layout": "IPY_MODEL_69cb5b9411a14e4e8ca60cdc785fa7e4",
       "max": 10,
       "style": "IPY_MODEL_c7a4c463774f40ee86a65ebc662f738c",
       "value": 10
      }
     },
     "5e8f47d025d44122984a788b3b8c573f": {
      "model_module": "@jupyter-widgets/base",
      "model_module_version": "1.2.0",
      "model_name": "LayoutModel",
      "state": {}
     },
     "5f17c5787f4b4681927750138aef229f": {
      "model_module": "@jupyter-widgets/controls",
      "model_module_version": "1.5.0",
      "model_name": "ProgressStyleModel",
      "state": {
       "description_width": ""
      }
     },
     "60115c4a9b2843f48c67537baae8e07c": {
      "model_module": "@jupyter-widgets/controls",
      "model_module_version": "1.5.0",
      "model_name": "FloatProgressModel",
      "state": {
       "bar_style": "success",
       "layout": "IPY_MODEL_d0630ed008234ae9a60afb22840f5d30",
       "max": 8,
       "style": "IPY_MODEL_1b319d600ee6474797242a08d5791c87",
       "value": 8
      }
     },
     "6050c9e939cd41a7af57084080532bba": {
      "model_module": "@jupyter-widgets/base",
      "model_module_version": "1.2.0",
      "model_name": "LayoutModel",
      "state": {
       "flex": "2"
      }
     },
     "60e8576807aa440284a1d2f2b970f8ab": {
      "model_module": "@jupyter-widgets/controls",
      "model_module_version": "1.5.0",
      "model_name": "DescriptionStyleModel",
      "state": {
       "description_width": ""
      }
     },
     "6245642f6fd8457f98e21fed29cb1f3c": {
      "model_module": "@jupyter-widgets/base",
      "model_module_version": "1.2.0",
      "model_name": "LayoutModel",
      "state": {}
     },
     "62a430ab043f4fdc9f5f161552db6816": {
      "model_module": "@jupyter-widgets/base",
      "model_module_version": "1.2.0",
      "model_name": "LayoutModel",
      "state": {
       "flex": "2"
      }
     },
     "63acf116d7704b0fa7607efb6a088390": {
      "model_module": "@jupyter-widgets/controls",
      "model_module_version": "1.5.0",
      "model_name": "HBoxModel",
      "state": {
       "children": [
        "IPY_MODEL_9e964e3f44824e0cadb787cc49290c2f",
        "IPY_MODEL_82daf3f801a7461cab732a97f50f5a38",
        "IPY_MODEL_858909709a2143d68c40315701b6a689"
       ],
       "layout": "IPY_MODEL_940a7c770e0245709b7418a6600e54e5"
      }
     },
     "63f629b1b9434cda9ace26ab873f164b": {
      "model_module": "@jupyter-widgets/base",
      "model_module_version": "1.2.0",
      "model_name": "LayoutModel",
      "state": {
       "flex": "2"
      }
     },
     "6483cbfe35594cc3a7a859557a96bbf7": {
      "model_module": "@jupyter-widgets/controls",
      "model_module_version": "1.5.0",
      "model_name": "HTMLModel",
      "state": {
       "layout": "IPY_MODEL_d23fcbf7420b41d0a19fe835378f4a96",
       "style": "IPY_MODEL_240ec69e4c99440e9cd5d181ca5c893d",
       "value": " 161/161 [00:01&lt;00:00, 112.40it/s]"
      }
     },
     "64e328c95be740809fa30b118908bbd1": {
      "model_module": "@jupyter-widgets/controls",
      "model_module_version": "1.5.0",
      "model_name": "HBoxModel",
      "state": {
       "children": [
        "IPY_MODEL_41bf939a42264aa6b281308dbf16b986",
        "IPY_MODEL_4655ed97e4bd4cf79ee9457bac9b80ab",
        "IPY_MODEL_82a4f346e5e840e6ba952f0ed156e2d6"
       ],
       "layout": "IPY_MODEL_d53e10e296354adab77af1bc89226bc5"
      }
     },
     "69cb5b9411a14e4e8ca60cdc785fa7e4": {
      "model_module": "@jupyter-widgets/base",
      "model_module_version": "1.2.0",
      "model_name": "LayoutModel",
      "state": {
       "flex": "2"
      }
     },
     "6b927c06e4584b189703cd7d3946b66b": {
      "model_module": "@jupyter-widgets/controls",
      "model_module_version": "1.5.0",
      "model_name": "HTMLModel",
      "state": {
       "layout": "IPY_MODEL_c25d846b005a4db4ab2a25a334bfa810",
       "style": "IPY_MODEL_30973523ac1b4447a49ac2523c6338fb",
       "value": "100%"
      }
     },
     "6bea79112b57410a868d36b3e5b3db07": {
      "model_module": "@jupyter-widgets/base",
      "model_module_version": "1.2.0",
      "model_name": "LayoutModel",
      "state": {
       "display": "inline-flex",
       "flex_flow": "row wrap",
       "width": "100%"
      }
     },
     "6bfc9332de164cffba592d621ae2f168": {
      "model_module": "@jupyter-widgets/controls",
      "model_module_version": "1.5.0",
      "model_name": "HTMLModel",
      "state": {
       "layout": "IPY_MODEL_943d60b670a545e9974de28f67f6cbda",
       "style": "IPY_MODEL_ffcd93f14c7e44358572e462300ddc64",
       "value": " 10/10 [00:08&lt;00:00,  1.25it/s]"
      }
     },
     "6c31836e280c4e6fb552c60b56e49440": {
      "model_module": "@jupyter-widgets/controls",
      "model_module_version": "1.5.0",
      "model_name": "HTMLModel",
      "state": {
       "layout": "IPY_MODEL_7702f66cf6df4a949f1772c27d0edfcb",
       "style": "IPY_MODEL_8dd9dd81412c47b7ab96ac0c9f1f7fc1",
       "value": "4/4 blocks [01:00&lt;00:00]"
      }
     },
     "6ced7f780a054973968c50d46f9fdbc8": {
      "model_module": "@jupyter-widgets/controls",
      "model_module_version": "1.5.0",
      "model_name": "HTMLModel",
      "state": {
       "layout": "IPY_MODEL_8895a357ed01439ea2219609914b346c",
       "style": "IPY_MODEL_4245989a8d40445bada58add14ab4ce5",
       "value": " 10/10 [00:01&lt;00:00,  9.23it/s]"
      }
     },
     "6eb2df5dfe6141cf9c3bf3c69712944a": {
      "model_module": "@jupyter-widgets/base",
      "model_module_version": "1.2.0",
      "model_name": "LayoutModel",
      "state": {}
     },
     "6fb32959c67a403b905b6f1bf9eabdaf": {
      "model_module": "@jupyter-widgets/base",
      "model_module_version": "1.2.0",
      "model_name": "LayoutModel",
      "state": {}
     },
     "715ca05d9084417a8a1418d07f9091b3": {
      "model_module": "@jupyter-widgets/controls",
      "model_module_version": "1.5.0",
      "model_name": "HTMLModel",
      "state": {
       "layout": "IPY_MODEL_2b0323509dac4e7c93bc41ee5e70c302",
       "style": "IPY_MODEL_9ea05592256e4166bdf5021c02ae628b",
       "value": "100%"
      }
     },
     "7219ccd03a824d60a757ed05036d3fc2": {
      "model_module": "@jupyter-widgets/base",
      "model_module_version": "1.2.0",
      "model_name": "LayoutModel",
      "state": {
       "display": "inline-flex",
       "flex_flow": "row wrap",
       "width": "100%"
      }
     },
     "7381081e1b6d42a19e61a24e1bada80a": {
      "model_module": "@jupyter-widgets/controls",
      "model_module_version": "1.5.0",
      "model_name": "ProgressStyleModel",
      "state": {
       "description_width": ""
      }
     },
     "74ee38cc271e4822918347845118e965": {
      "model_module": "@jupyter-widgets/controls",
      "model_module_version": "1.5.0",
      "model_name": "DescriptionStyleModel",
      "state": {
       "description_width": ""
      }
     },
     "7702f66cf6df4a949f1772c27d0edfcb": {
      "model_module": "@jupyter-widgets/base",
      "model_module_version": "1.2.0",
      "model_name": "LayoutModel",
      "state": {}
     },
     "7833c9f3e8d54beeb1eea563f6480d3f": {
      "model_module": "@jupyter-widgets/base",
      "model_module_version": "1.2.0",
      "model_name": "LayoutModel",
      "state": {
       "flex": "2"
      }
     },
     "78bdc93a221849f7911ca456fc5bfe1b": {
      "model_module": "@jupyter-widgets/base",
      "model_module_version": "1.2.0",
      "model_name": "LayoutModel",
      "state": {
       "display": "inline-flex",
       "flex_flow": "row wrap",
       "width": "100%"
      }
     },
     "798ddc3277964b8689dad9ab639015c5": {
      "model_module": "@jupyter-widgets/base",
      "model_module_version": "1.2.0",
      "model_name": "LayoutModel",
      "state": {}
     },
     "7a5c3b9cb29b4ac5b34096986210cb04": {
      "model_module": "@jupyter-widgets/controls",
      "model_module_version": "1.5.0",
      "model_name": "DescriptionStyleModel",
      "state": {
       "description_width": ""
      }
     },
     "7b5ee8cc2769482490ad3157d2ff203f": {
      "model_module": "@jupyter-widgets/base",
      "model_module_version": "1.2.0",
      "model_name": "LayoutModel",
      "state": {}
     },
     "80d9f7b02dbd49de9e60dc5512d39ca0": {
      "model_module": "@jupyter-widgets/controls",
      "model_module_version": "1.5.0",
      "model_name": "DescriptionStyleModel",
      "state": {
       "description_width": ""
      }
     },
     "821fc437ee5f45d79e9aa717bc6b6cd3": {
      "model_module": "@jupyter-widgets/controls",
      "model_module_version": "1.5.0",
      "model_name": "HTMLModel",
      "state": {
       "layout": "IPY_MODEL_0bb555dd513d4dad92aa52b534bc2b8b",
       "style": "IPY_MODEL_4639e36638f143f5a2afd746956d7f7a",
       "value": "100%"
      }
     },
     "82989785220943068635bdf103dcf32a": {
      "model_module": "@jupyter-widgets/controls",
      "model_module_version": "1.5.0",
      "model_name": "DescriptionStyleModel",
      "state": {
       "description_width": ""
      }
     },
     "82a4f346e5e840e6ba952f0ed156e2d6": {
      "model_module": "@jupyter-widgets/controls",
      "model_module_version": "1.5.0",
      "model_name": "HTMLModel",
      "state": {
       "layout": "IPY_MODEL_6fb32959c67a403b905b6f1bf9eabdaf",
       "style": "IPY_MODEL_8e001aeb08f041bf99cadbc57849496a",
       "value": " 10/10 [00:01&lt;00:00,  9.23it/s]"
      }
     },
     "82daf3f801a7461cab732a97f50f5a38": {
      "model_module": "@jupyter-widgets/controls",
      "model_module_version": "1.5.0",
      "model_name": "FloatProgressModel",
      "state": {
       "bar_style": "success",
       "layout": "IPY_MODEL_adaabac516f247779245a9999adc28b2",
       "max": 10,
       "style": "IPY_MODEL_5bb7d2f22191471492d83edf4b8f0cf2",
       "value": 10
      }
     },
     "8393fe0c0aea4d2180419efa65a09d9b": {
      "model_module": "@jupyter-widgets/controls",
      "model_module_version": "1.5.0",
      "model_name": "FloatProgressModel",
      "state": {
       "bar_style": "success",
       "layout": "IPY_MODEL_8f8d6e89d8de4ed4abb8be99f5821a3b",
       "max": 161,
       "style": "IPY_MODEL_b2653b89dcad4afd8a700a1e54c87c60",
       "value": 161
      }
     },
     "83c8e8b17ee64441ae626a96eab68ea8": {
      "model_module": "@jupyter-widgets/controls",
      "model_module_version": "1.5.0",
      "model_name": "DescriptionStyleModel",
      "state": {
       "description_width": ""
      }
     },
     "845694d286a646ec8713d13ce1f02e80": {
      "model_module": "@jupyter-widgets/controls",
      "model_module_version": "1.5.0",
      "model_name": "ProgressStyleModel",
      "state": {
       "description_width": ""
      }
     },
     "855d1de3d07a44acaea6a92c1ea34fc4": {
      "model_module": "@jupyter-widgets/controls",
      "model_module_version": "1.5.0",
      "model_name": "HTMLModel",
      "state": {
       "layout": "IPY_MODEL_e5bf9c13d2534dda83335b0d2d217c8b",
       "style": "IPY_MODEL_9179ee84aa0047a0b9ef500154ee5820",
       "value": " 10/10 [00:01&lt;00:00,  8.89it/s]"
      }
     },
     "858909709a2143d68c40315701b6a689": {
      "model_module": "@jupyter-widgets/controls",
      "model_module_version": "1.5.0",
      "model_name": "HTMLModel",
      "state": {
       "layout": "IPY_MODEL_02d21657cde3404e8e48e3b255129531",
       "style": "IPY_MODEL_82989785220943068635bdf103dcf32a",
       "value": " 10/10 [00:01&lt;00:00,  9.29it/s]"
      }
     },
     "85d061e629e14fcfa7d56898176200f3": {
      "model_module": "@jupyter-widgets/controls",
      "model_module_version": "1.5.0",
      "model_name": "DescriptionStyleModel",
      "state": {
       "description_width": ""
      }
     },
     "860516f80ff9481882e54b7588a186e8": {
      "model_module": "@jupyter-widgets/controls",
      "model_module_version": "1.5.0",
      "model_name": "DescriptionStyleModel",
      "state": {
       "description_width": ""
      }
     },
     "87a439d9b0234184b3b1ded643af2a73": {
      "model_module": "@jupyter-widgets/controls",
      "model_module_version": "1.5.0",
      "model_name": "ProgressStyleModel",
      "state": {
       "description_width": ""
      }
     },
     "87cac0fc981b4f859cfb4b80216540e0": {
      "model_module": "@jupyter-widgets/controls",
      "model_module_version": "1.5.0",
      "model_name": "HTMLModel",
      "state": {
       "layout": "IPY_MODEL_5e8f47d025d44122984a788b3b8c573f",
       "style": "IPY_MODEL_466c534134a248ee8dbeef25c23209b1",
       "value": "NGI_3321BD-3322AC_2010_LittleKaroo_GroundTruthSubset_Source.vrt: 100%"
      }
     },
     "8854666f07b84005af4b2cf7d838f814": {
      "model_module": "@jupyter-widgets/base",
      "model_module_version": "1.2.0",
      "model_name": "LayoutModel",
      "state": {
       "display": "inline-flex",
       "flex_flow": "row wrap",
       "width": "100%"
      }
     },
     "8895a357ed01439ea2219609914b346c": {
      "model_module": "@jupyter-widgets/base",
      "model_module_version": "1.2.0",
      "model_name": "LayoutModel",
      "state": {}
     },
     "8993e7797419483ca89e851a7d925f33": {
      "model_module": "@jupyter-widgets/controls",
      "model_module_version": "1.5.0",
      "model_name": "HTMLModel",
      "state": {
       "layout": "IPY_MODEL_2e7dc13ab1a346a69a1252d64ba3c462",
       "style": "IPY_MODEL_94716b9413ee456d805a1450191e5f72",
       "value": " 10/10 [00:09&lt;00:00,  1.05it/s]"
      }
     },
     "89ebf8ac7d714956bb8def4496f7c4aa": {
      "model_module": "@jupyter-widgets/controls",
      "model_module_version": "1.5.0",
      "model_name": "HBoxModel",
      "state": {
       "children": [
        "IPY_MODEL_4250806de6c54c54bacc684969163db1",
        "IPY_MODEL_60115c4a9b2843f48c67537baae8e07c",
        "IPY_MODEL_0885af9782614370b9477dd8490c1bdb"
       ],
       "layout": "IPY_MODEL_bde8de782a8448499a0a4dc1aabc2beb"
      }
     },
     "8aea0368e282461d9c49d14b91d6330d": {
      "model_module": "@jupyter-widgets/controls",
      "model_module_version": "1.5.0",
      "model_name": "FloatProgressModel",
      "state": {
       "bar_style": "success",
       "layout": "IPY_MODEL_bc9c694f5e3d4643b653142b5dc38b18",
       "max": 161,
       "style": "IPY_MODEL_edadbe3accf84edf82ec21a4bd14cc20",
       "value": 161
      }
     },
     "8d308a633b57403db782d321d7422ca9": {
      "model_module": "@jupyter-widgets/controls",
      "model_module_version": "1.5.0",
      "model_name": "DescriptionStyleModel",
      "state": {
       "description_width": ""
      }
     },
     "8dba24f80bd840a3af4a22009d19fbb7": {
      "model_module": "@jupyter-widgets/controls",
      "model_module_version": "1.5.0",
      "model_name": "HBoxModel",
      "state": {
       "children": [
        "IPY_MODEL_51c7ed84c2d54383908466ff4dfc6ba7",
        "IPY_MODEL_df848e1b5d8845feb8a3e37915221e1e",
        "IPY_MODEL_11ebdffc7db84bb883c368d5ec8e12b7"
       ],
       "layout": "IPY_MODEL_0ccdbf5ad30b444cb6aad87121908306"
      }
     },
     "8dd9dd81412c47b7ab96ac0c9f1f7fc1": {
      "model_module": "@jupyter-widgets/controls",
      "model_module_version": "1.5.0",
      "model_name": "DescriptionStyleModel",
      "state": {
       "description_width": ""
      }
     },
     "8e001aeb08f041bf99cadbc57849496a": {
      "model_module": "@jupyter-widgets/controls",
      "model_module_version": "1.5.0",
      "model_name": "DescriptionStyleModel",
      "state": {
       "description_width": ""
      }
     },
     "8e9f66ff660046808ae87112e138e2c1": {
      "model_module": "@jupyter-widgets/controls",
      "model_module_version": "1.5.0",
      "model_name": "DescriptionStyleModel",
      "state": {
       "description_width": ""
      }
     },
     "8f42fd7a7af3429a9d028f5de5a29cda": {
      "model_module": "@jupyter-widgets/controls",
      "model_module_version": "1.5.0",
      "model_name": "FloatProgressModel",
      "state": {
       "bar_style": "success",
       "layout": "IPY_MODEL_4a0cedf63d5549aeb98aae3773bd48fd",
       "max": 161,
       "style": "IPY_MODEL_26f916a9244e4c03b7d495969b81b7eb",
       "value": 161
      }
     },
     "8f70bfeb7b084919b282639cc1d4a8cb": {
      "model_module": "@jupyter-widgets/base",
      "model_module_version": "1.2.0",
      "model_name": "LayoutModel",
      "state": {
       "flex": "2"
      }
     },
     "8f71eaba550944d6bb4d9f2608cbe456": {
      "model_module": "@jupyter-widgets/controls",
      "model_module_version": "1.5.0",
      "model_name": "DescriptionStyleModel",
      "state": {
       "description_width": ""
      }
     },
     "8f8d6e89d8de4ed4abb8be99f5821a3b": {
      "model_module": "@jupyter-widgets/base",
      "model_module_version": "1.2.0",
      "model_name": "LayoutModel",
      "state": {
       "flex": "2"
      }
     },
     "9179ee84aa0047a0b9ef500154ee5820": {
      "model_module": "@jupyter-widgets/controls",
      "model_module_version": "1.5.0",
      "model_name": "DescriptionStyleModel",
      "state": {
       "description_width": ""
      }
     },
     "919c24250bc547368011be14f4e039a6": {
      "model_module": "@jupyter-widgets/controls",
      "model_module_version": "1.5.0",
      "model_name": "FloatProgressModel",
      "state": {
       "bar_style": "success",
       "layout": "IPY_MODEL_7833c9f3e8d54beeb1eea563f6480d3f",
       "max": 10,
       "style": "IPY_MODEL_c275b2d877d5493a8be03db5a85c947d",
       "value": 10
      }
     },
     "91f18de7c32a485a969867edce537555": {
      "model_module": "@jupyter-widgets/controls",
      "model_module_version": "1.5.0",
      "model_name": "HTMLModel",
      "state": {
       "layout": "IPY_MODEL_26fa6253924f4bfbb7dab0ccb9c2465b",
       "style": "IPY_MODEL_cd13c8422fea462780c19b8190f73d84",
       "value": "NGI_3321BD-3322AC_2010_LittleKaroo_GroundTruthSubset_Source.vrt: 100%"
      }
     },
     "92d5ae0ca2404eeeac843b82c749aebc": {
      "model_module": "@jupyter-widgets/controls",
      "model_module_version": "1.5.0",
      "model_name": "FloatProgressModel",
      "state": {
       "bar_style": "success",
       "layout": "IPY_MODEL_8f70bfeb7b084919b282639cc1d4a8cb",
       "max": 10,
       "style": "IPY_MODEL_87a439d9b0234184b3b1ded643af2a73",
       "value": 10
      }
     },
     "93e8f7c42fe948a2a1aaba253082ea43": {
      "model_module": "@jupyter-widgets/controls",
      "model_module_version": "1.5.0",
      "model_name": "FloatProgressModel",
      "state": {
       "bar_style": "success",
       "layout": "IPY_MODEL_62a430ab043f4fdc9f5f161552db6816",
       "max": 10,
       "style": "IPY_MODEL_e566281e57b24013b7eef3c00e648e94",
       "value": 10
      }
     },
     "940a7c770e0245709b7418a6600e54e5": {
      "model_module": "@jupyter-widgets/base",
      "model_module_version": "1.2.0",
      "model_name": "LayoutModel",
      "state": {
       "display": "inline-flex",
       "flex_flow": "row wrap",
       "width": "100%"
      }
     },
     "943d60b670a545e9974de28f67f6cbda": {
      "model_module": "@jupyter-widgets/base",
      "model_module_version": "1.2.0",
      "model_name": "LayoutModel",
      "state": {}
     },
     "94716b9413ee456d805a1450191e5f72": {
      "model_module": "@jupyter-widgets/controls",
      "model_module_version": "1.5.0",
      "model_name": "DescriptionStyleModel",
      "state": {
       "description_width": ""
      }
     },
     "967b442ba5b5490f866d9fd41f440ba6": {
      "model_module": "@jupyter-widgets/controls",
      "model_module_version": "1.5.0",
      "model_name": "HBoxModel",
      "state": {
       "children": [
        "IPY_MODEL_4fb529006c894e3794f8f7d855983773",
        "IPY_MODEL_1f64264c7e4242a1b6edae0ef7cb691f",
        "IPY_MODEL_ad013440636a41bd81e823caa4114fe1"
       ],
       "layout": "IPY_MODEL_4dcc3f0079ae482eabd2b40d846e1cde"
      }
     },
     "96e2970ce479416da7a4dbcc8ed69931": {
      "model_module": "@jupyter-widgets/base",
      "model_module_version": "1.2.0",
      "model_name": "LayoutModel",
      "state": {
       "flex": "2"
      }
     },
     "9736e0a9221841809a2a8a67268a58a2": {
      "model_module": "@jupyter-widgets/base",
      "model_module_version": "1.2.0",
      "model_name": "LayoutModel",
      "state": {}
     },
     "97be8624003e426ead80869641a9c5cf": {
      "model_module": "@jupyter-widgets/controls",
      "model_module_version": "1.5.0",
      "model_name": "DescriptionStyleModel",
      "state": {
       "description_width": ""
      }
     },
     "988ee27dc04b48d7a02cf44613edcaf7": {
      "model_module": "@jupyter-widgets/base",
      "model_module_version": "1.2.0",
      "model_name": "LayoutModel",
      "state": {
       "flex": "2"
      }
     },
     "995ef0c56c1f4a02bd8de0c1e72b627c": {
      "model_module": "@jupyter-widgets/controls",
      "model_module_version": "1.5.0",
      "model_name": "HTMLModel",
      "state": {
       "layout": "IPY_MODEL_a9d73b1af16245a1a20eb36b5fc611f3",
       "style": "IPY_MODEL_ad865541f31b4690bdfb34378c0ab0fa",
       "value": "100%"
      }
     },
     "99e93d0222864de0907ce3bd41d8aa5d": {
      "model_module": "@jupyter-widgets/controls",
      "model_module_version": "1.5.0",
      "model_name": "HTMLModel",
      "state": {
       "layout": "IPY_MODEL_9736e0a9221841809a2a8a67268a58a2",
       "style": "IPY_MODEL_bc971c4694f64f4986973298b669b714",
       "value": " 10/10 [00:01&lt;00:00,  9.17it/s]"
      }
     },
     "9aac11e8eda741f7998e89b3a0ed5a0a": {
      "model_module": "@jupyter-widgets/base",
      "model_module_version": "1.2.0",
      "model_name": "LayoutModel",
      "state": {
       "display": "inline-flex",
       "flex_flow": "row wrap",
       "width": "100%"
      }
     },
     "9ace64e8e4414601bbfbfe103671c0b6": {
      "model_module": "@jupyter-widgets/controls",
      "model_module_version": "1.5.0",
      "model_name": "HTMLModel",
      "state": {
       "layout": "IPY_MODEL_50262e9ef8a14168aa613d005425c871",
       "style": "IPY_MODEL_97be8624003e426ead80869641a9c5cf",
       "value": "4/4 blocks [01:05&lt;00:00]"
      }
     },
     "9e964e3f44824e0cadb787cc49290c2f": {
      "model_module": "@jupyter-widgets/controls",
      "model_module_version": "1.5.0",
      "model_name": "HTMLModel",
      "state": {
       "layout": "IPY_MODEL_aff54e69e3d84f1b8c5d7eac45e48bc4",
       "style": "IPY_MODEL_4c5b5cf88ab14b3e94255bae3bb97c28",
       "value": "100%"
      }
     },
     "9ea05592256e4166bdf5021c02ae628b": {
      "model_module": "@jupyter-widgets/controls",
      "model_module_version": "1.5.0",
      "model_name": "DescriptionStyleModel",
      "state": {
       "description_width": ""
      }
     },
     "9f499b06513147018dd3c3d11f619bab": {
      "model_module": "@jupyter-widgets/base",
      "model_module_version": "1.2.0",
      "model_name": "LayoutModel",
      "state": {}
     },
     "a1965e5105f14db6a161652533d6aa8c": {
      "model_module": "@jupyter-widgets/controls",
      "model_module_version": "1.5.0",
      "model_name": "HTMLModel",
      "state": {
       "layout": "IPY_MODEL_ceed6882855e48f88b413a9497e94513",
       "style": "IPY_MODEL_7a5c3b9cb29b4ac5b34096986210cb04",
       "value": "100%"
      }
     },
     "a1b7b49b7c854b0895811fe7d8e0cf51": {
      "model_module": "@jupyter-widgets/controls",
      "model_module_version": "1.5.0",
      "model_name": "HTMLModel",
      "state": {
       "layout": "IPY_MODEL_4aa506650a5a4432827787a07144a88f",
       "style": "IPY_MODEL_1099077d19ed4136a55ba5d3b48a11d4",
       "value": "NGI_3321BD-3322AC_2010_LittleKaroo_GroundTruthSubset_FUSE_cREF_mGAIN_k5_5.vrt: 100%"
      }
     },
     "a218ab5f85f84e4db9450bd5251d36a9": {
      "model_module": "@jupyter-widgets/base",
      "model_module_version": "1.2.0",
      "model_name": "LayoutModel",
      "state": {
       "flex": "2"
      }
     },
     "a36bcb2756434ae6b2524172f1ed7b8d": {
      "model_module": "@jupyter-widgets/controls",
      "model_module_version": "1.5.0",
      "model_name": "FloatProgressModel",
      "state": {
       "bar_style": "success",
       "layout": "IPY_MODEL_ec898130032c4925add1e99b2e195cc7",
       "max": 4,
       "style": "IPY_MODEL_11238d05636249078bdc6a3636664ad9",
       "value": 4
      }
     },
     "a451eed9919d4e4b93472b716f7d1da3": {
      "model_module": "@jupyter-widgets/controls",
      "model_module_version": "1.5.0",
      "model_name": "HTMLModel",
      "state": {
       "layout": "IPY_MODEL_2d6435a4aa4f43769d4e7429013e5a02",
       "style": "IPY_MODEL_c552eaafa0274c0bb3a062d3394b4de8",
       "value": "100%"
      }
     },
     "a466d4b98963412aa41ac6e371af26cc": {
      "model_module": "@jupyter-widgets/controls",
      "model_module_version": "1.5.0",
      "model_name": "HTMLModel",
      "state": {
       "layout": "IPY_MODEL_9f499b06513147018dd3c3d11f619bab",
       "style": "IPY_MODEL_1e2924652b1946408cc5e6947a260649",
       "value": "100%"
      }
     },
     "a4d69964a1d144e7853afd6df563fe9d": {
      "model_module": "@jupyter-widgets/base",
      "model_module_version": "1.2.0",
      "model_name": "LayoutModel",
      "state": {
       "flex": "2"
      }
     },
     "a4fa0c7a2cd943288c6ed4c8b0486c48": {
      "model_module": "@jupyter-widgets/controls",
      "model_module_version": "1.5.0",
      "model_name": "FloatProgressModel",
      "state": {
       "bar_style": "success",
       "layout": "IPY_MODEL_6050c9e939cd41a7af57084080532bba",
       "max": 10,
       "style": "IPY_MODEL_1857f300b41f417480ba638df0338e2f",
       "value": 10
      }
     },
     "a53eb31904cb45869f80ffc68f37f54d": {
      "model_module": "@jupyter-widgets/base",
      "model_module_version": "1.2.0",
      "model_name": "LayoutModel",
      "state": {
       "flex": "2"
      }
     },
     "a56e1a61684b4381a90f65d91f722d46": {
      "model_module": "@jupyter-widgets/base",
      "model_module_version": "1.2.0",
      "model_name": "LayoutModel",
      "state": {
       "flex": "2"
      }
     },
     "a846bfa4b0344fd789f9db45cf15b60b": {
      "model_module": "@jupyter-widgets/controls",
      "model_module_version": "1.5.0",
      "model_name": "ProgressStyleModel",
      "state": {
       "description_width": ""
      }
     },
     "a84914addfc248398f09ddf2c7b93fa8": {
      "model_module": "@jupyter-widgets/controls",
      "model_module_version": "1.5.0",
      "model_name": "DescriptionStyleModel",
      "state": {
       "description_width": ""
      }
     },
     "a85fc524ee7f49b18b50cf3d6013a27e": {
      "model_module": "@jupyter-widgets/controls",
      "model_module_version": "1.5.0",
      "model_name": "HBoxModel",
      "state": {
       "children": [
        "IPY_MODEL_91f18de7c32a485a969867edce537555",
        "IPY_MODEL_05e8a80712904234be134fe53d5c7a44",
        "IPY_MODEL_46bf35ec05f04161a46a277243a1e0b4"
       ],
       "layout": "IPY_MODEL_fcd085774901473c86115ce3055b45ae"
      }
     },
     "a96643c56c984f158444981e04587990": {
      "model_module": "@jupyter-widgets/base",
      "model_module_version": "1.2.0",
      "model_name": "LayoutModel",
      "state": {}
     },
     "a9d73b1af16245a1a20eb36b5fc611f3": {
      "model_module": "@jupyter-widgets/base",
      "model_module_version": "1.2.0",
      "model_name": "LayoutModel",
      "state": {}
     },
     "aad00caa02ac485d944a9b4f949e1835": {
      "model_module": "@jupyter-widgets/base",
      "model_module_version": "1.2.0",
      "model_name": "LayoutModel",
      "state": {
       "display": "inline-flex",
       "flex_flow": "row wrap",
       "width": "100%"
      }
     },
     "ab8031423a98481a8e3fe064d91a4711": {
      "model_module": "@jupyter-widgets/controls",
      "model_module_version": "1.5.0",
      "model_name": "HTMLModel",
      "state": {
       "layout": "IPY_MODEL_04f89eb6a34b4e119cada36f0bd90893",
       "style": "IPY_MODEL_4fd13b7ac24b418cae7aa4e91361a6b8",
       "value": "NGI_3321BD-3322AC_2010_LittleKaroo_GroundTruthSubset_FUSE_cREF_mGAIN_k1_1.vrt: 100%"
      }
     },
     "ad013440636a41bd81e823caa4114fe1": {
      "model_module": "@jupyter-widgets/controls",
      "model_module_version": "1.5.0",
      "model_name": "HTMLModel",
      "state": {
       "layout": "IPY_MODEL_d587552c6a5b4de2a72ea3b67d16b8e3",
       "style": "IPY_MODEL_c0affd957e0f4a3a8291e1ee227d8ae0",
       "value": " 10/10 [00:01&lt;00:00,  9.03it/s]"
      }
     },
     "ad865541f31b4690bdfb34378c0ab0fa": {
      "model_module": "@jupyter-widgets/controls",
      "model_module_version": "1.5.0",
      "model_name": "DescriptionStyleModel",
      "state": {
       "description_width": ""
      }
     },
     "adaabac516f247779245a9999adc28b2": {
      "model_module": "@jupyter-widgets/base",
      "model_module_version": "1.2.0",
      "model_name": "LayoutModel",
      "state": {
       "flex": "2"
      }
     },
     "aff54e69e3d84f1b8c5d7eac45e48bc4": {
      "model_module": "@jupyter-widgets/base",
      "model_module_version": "1.2.0",
      "model_name": "LayoutModel",
      "state": {}
     },
     "b0d7d127ceb64a9fb07a34eb336432d3": {
      "model_module": "@jupyter-widgets/base",
      "model_module_version": "1.2.0",
      "model_name": "LayoutModel",
      "state": {
       "flex": "2"
      }
     },
     "b1d62d33d1d74ce2941210f28d114a22": {
      "model_module": "@jupyter-widgets/base",
      "model_module_version": "1.2.0",
      "model_name": "LayoutModel",
      "state": {}
     },
     "b2653b89dcad4afd8a700a1e54c87c60": {
      "model_module": "@jupyter-widgets/controls",
      "model_module_version": "1.5.0",
      "model_name": "ProgressStyleModel",
      "state": {
       "description_width": ""
      }
     },
     "b2e8ab15f4314a26a7f2125d5c4304ea": {
      "model_module": "@jupyter-widgets/controls",
      "model_module_version": "1.5.0",
      "model_name": "HTMLModel",
      "state": {
       "layout": "IPY_MODEL_2e2d21f127324dddb6df5f1be24daca4",
       "style": "IPY_MODEL_85d061e629e14fcfa7d56898176200f3",
       "value": "NGI_3321BD-3322AC_2010_LittleKaroo_GroundTruthSubset_Source.vrt: 100%"
      }
     },
     "b32307791816471f9c6cb043521dbc6d": {
      "model_module": "@jupyter-widgets/base",
      "model_module_version": "1.2.0",
      "model_name": "LayoutModel",
      "state": {
       "display": "inline-flex",
       "flex_flow": "row wrap",
       "width": "100%"
      }
     },
     "b3e4d86bce14420dac1fd66d5265f29c": {
      "model_module": "@jupyter-widgets/controls",
      "model_module_version": "1.5.0",
      "model_name": "DescriptionStyleModel",
      "state": {
       "description_width": ""
      }
     },
     "b4954be0610b4f469e4d6755e6bfb16e": {
      "model_module": "@jupyter-widgets/base",
      "model_module_version": "1.2.0",
      "model_name": "LayoutModel",
      "state": {
       "display": "inline-flex",
       "flex_flow": "row wrap",
       "width": "100%"
      }
     },
     "b619c8fee38a44128fea536d7ed89d79": {
      "model_module": "@jupyter-widgets/controls",
      "model_module_version": "1.5.0",
      "model_name": "FloatProgressModel",
      "state": {
       "bar_style": "success",
       "layout": "IPY_MODEL_d4a7cb073302442bb5f501e63375f855",
       "max": 161,
       "style": "IPY_MODEL_845694d286a646ec8713d13ce1f02e80",
       "value": 161
      }
     },
     "b6dc596d54e3452f953c02dcc3524fa4": {
      "model_module": "@jupyter-widgets/base",
      "model_module_version": "1.2.0",
      "model_name": "LayoutModel",
      "state": {}
     },
     "b87097e4bb7f4cb988bad8318783218a": {
      "model_module": "@jupyter-widgets/base",
      "model_module_version": "1.2.0",
      "model_name": "LayoutModel",
      "state": {}
     },
     "b8a11c1034564d74badcd481cb215bb2": {
      "model_module": "@jupyter-widgets/controls",
      "model_module_version": "1.5.0",
      "model_name": "DescriptionStyleModel",
      "state": {
       "description_width": ""
      }
     },
     "b9454a6019d54b91a067a8605adf7cf7": {
      "model_module": "@jupyter-widgets/controls",
      "model_module_version": "1.5.0",
      "model_name": "HTMLModel",
      "state": {
       "layout": "IPY_MODEL_5afd5951bfc84daaacccc42bc166ddd7",
       "style": "IPY_MODEL_74ee38cc271e4822918347845118e965",
       "value": " 161/161 [00:01&lt;00:00, 140.87it/s]"
      }
     },
     "b9ceffe11afd43e48cd19c39b127536e": {
      "model_module": "@jupyter-widgets/controls",
      "model_module_version": "1.5.0",
      "model_name": "HTMLModel",
      "state": {
       "layout": "IPY_MODEL_56b8b8ee92a346ee99bbd9d0a4f5df72",
       "style": "IPY_MODEL_09417fa8db2040d696a2950d9827dd64",
       "value": "100%"
      }
     },
     "bc971c4694f64f4986973298b669b714": {
      "model_module": "@jupyter-widgets/controls",
      "model_module_version": "1.5.0",
      "model_name": "DescriptionStyleModel",
      "state": {
       "description_width": ""
      }
     },
     "bc9c694f5e3d4643b653142b5dc38b18": {
      "model_module": "@jupyter-widgets/base",
      "model_module_version": "1.2.0",
      "model_name": "LayoutModel",
      "state": {
       "flex": "2"
      }
     },
     "bddca8b8083c4822ac8e77abdd7e9bd3": {
      "model_module": "@jupyter-widgets/base",
      "model_module_version": "1.2.0",
      "model_name": "LayoutModel",
      "state": {
       "flex": "2"
      }
     },
     "bde8de782a8448499a0a4dc1aabc2beb": {
      "model_module": "@jupyter-widgets/base",
      "model_module_version": "1.2.0",
      "model_name": "LayoutModel",
      "state": {
       "display": "inline-flex",
       "flex_flow": "row wrap",
       "width": "100%"
      }
     },
     "bdf4cf06bd4c448f9d16a3f0e9dd5347": {
      "model_module": "@jupyter-widgets/controls",
      "model_module_version": "1.5.0",
      "model_name": "HBoxModel",
      "state": {
       "children": [
        "IPY_MODEL_a451eed9919d4e4b93472b716f7d1da3",
        "IPY_MODEL_93e8f7c42fe948a2a1aaba253082ea43",
        "IPY_MODEL_855d1de3d07a44acaea6a92c1ea34fc4"
       ],
       "layout": "IPY_MODEL_aad00caa02ac485d944a9b4f949e1835"
      }
     },
     "bf87186dba934abdba185ccd95c62e1b": {
      "model_module": "@jupyter-widgets/controls",
      "model_module_version": "1.5.0",
      "model_name": "DescriptionStyleModel",
      "state": {
       "description_width": ""
      }
     },
     "c0affd957e0f4a3a8291e1ee227d8ae0": {
      "model_module": "@jupyter-widgets/controls",
      "model_module_version": "1.5.0",
      "model_name": "DescriptionStyleModel",
      "state": {
       "description_width": ""
      }
     },
     "c132da9f6ccc4329a9c0c0f56f4d12d1": {
      "model_module": "@jupyter-widgets/controls",
      "model_module_version": "1.5.0",
      "model_name": "DescriptionStyleModel",
      "state": {
       "description_width": ""
      }
     },
     "c207a9e1e40f48ff9dad5ad4e4098ae8": {
      "model_module": "@jupyter-widgets/controls",
      "model_module_version": "1.5.0",
      "model_name": "FloatProgressModel",
      "state": {
       "bar_style": "success",
       "layout": "IPY_MODEL_a218ab5f85f84e4db9450bd5251d36a9",
       "max": 10,
       "style": "IPY_MODEL_f4c819d58dcb4320b05974e2204ee871",
       "value": 10
      }
     },
     "c25d846b005a4db4ab2a25a334bfa810": {
      "model_module": "@jupyter-widgets/base",
      "model_module_version": "1.2.0",
      "model_name": "LayoutModel",
      "state": {}
     },
     "c275b2d877d5493a8be03db5a85c947d": {
      "model_module": "@jupyter-widgets/controls",
      "model_module_version": "1.5.0",
      "model_name": "ProgressStyleModel",
      "state": {
       "description_width": ""
      }
     },
     "c45a540ca4544fcb8f1db859ba4024b6": {
      "model_module": "@jupyter-widgets/controls",
      "model_module_version": "1.5.0",
      "model_name": "HBoxModel",
      "state": {
       "children": [
        "IPY_MODEL_ab8031423a98481a8e3fe064d91a4711",
        "IPY_MODEL_8393fe0c0aea4d2180419efa65a09d9b",
        "IPY_MODEL_3d676e135b2449a5859471cbed90b353"
       ],
       "layout": "IPY_MODEL_b4954be0610b4f469e4d6755e6bfb16e"
      }
     },
     "c53a73cf2e024fed8c36fd64683ab23c": {
      "model_module": "@jupyter-widgets/base",
      "model_module_version": "1.2.0",
      "model_name": "LayoutModel",
      "state": {
       "flex": "2"
      }
     },
     "c552eaafa0274c0bb3a062d3394b4de8": {
      "model_module": "@jupyter-widgets/controls",
      "model_module_version": "1.5.0",
      "model_name": "DescriptionStyleModel",
      "state": {
       "description_width": ""
      }
     },
     "c5b90c3d203a454ca406bc46e9f70fd2": {
      "model_module": "@jupyter-widgets/base",
      "model_module_version": "1.2.0",
      "model_name": "LayoutModel",
      "state": {
       "flex": "2"
      }
     },
     "c7a4c463774f40ee86a65ebc662f738c": {
      "model_module": "@jupyter-widgets/controls",
      "model_module_version": "1.5.0",
      "model_name": "ProgressStyleModel",
      "state": {
       "description_width": ""
      }
     },
     "c8739b3936d94372b9489eed262728dc": {
      "model_module": "@jupyter-widgets/controls",
      "model_module_version": "1.5.0",
      "model_name": "FloatProgressModel",
      "state": {
       "bar_style": "success",
       "layout": "IPY_MODEL_a4d69964a1d144e7853afd6df563fe9d",
       "max": 8,
       "style": "IPY_MODEL_fa3fe13c8cd747068d737e81bf0b4434",
       "value": 8
      }
     },
     "c910992958f74bc194cf6fb06a012981": {
      "model_module": "@jupyter-widgets/controls",
      "model_module_version": "1.5.0",
      "model_name": "ProgressStyleModel",
      "state": {
       "description_width": ""
      }
     },
     "cbf219ee22d644808a687c48d06ad044": {
      "model_module": "@jupyter-widgets/base",
      "model_module_version": "1.2.0",
      "model_name": "LayoutModel",
      "state": {}
     },
     "cc2512ad62724955baf1f39104e3de44": {
      "model_module": "@jupyter-widgets/controls",
      "model_module_version": "1.5.0",
      "model_name": "HTMLModel",
      "state": {
       "layout": "IPY_MODEL_ee9cce0424604efa999b00c3e13840a9",
       "style": "IPY_MODEL_8e9f66ff660046808ae87112e138e2c1",
       "value": " 161/161 [00:01&lt;00:00, 95.82it/s]"
      }
     },
     "cd13c8422fea462780c19b8190f73d84": {
      "model_module": "@jupyter-widgets/controls",
      "model_module_version": "1.5.0",
      "model_name": "DescriptionStyleModel",
      "state": {
       "description_width": ""
      }
     },
     "ceed6882855e48f88b413a9497e94513": {
      "model_module": "@jupyter-widgets/base",
      "model_module_version": "1.2.0",
      "model_name": "LayoutModel",
      "state": {}
     },
     "d01ced0ffdf84dfda1d34693c7b84269": {
      "model_module": "@jupyter-widgets/base",
      "model_module_version": "1.2.0",
      "model_name": "LayoutModel",
      "state": {}
     },
     "d0630ed008234ae9a60afb22840f5d30": {
      "model_module": "@jupyter-widgets/base",
      "model_module_version": "1.2.0",
      "model_name": "LayoutModel",
      "state": {
       "flex": "2"
      }
     },
     "d23fcbf7420b41d0a19fe835378f4a96": {
      "model_module": "@jupyter-widgets/base",
      "model_module_version": "1.2.0",
      "model_name": "LayoutModel",
      "state": {}
     },
     "d2950cc8817641d9a514beb6efdea642": {
      "model_module": "@jupyter-widgets/base",
      "model_module_version": "1.2.0",
      "model_name": "LayoutModel",
      "state": {}
     },
     "d383ff40c66c4264b2cd11db86acb8f2": {
      "model_module": "@jupyter-widgets/controls",
      "model_module_version": "1.5.0",
      "model_name": "HTMLModel",
      "state": {
       "layout": "IPY_MODEL_256f4c3041f843ff8bf07329182fe6d6",
       "style": "IPY_MODEL_e222904a8f4948709494a32002011f1b",
       "value": "100%"
      }
     },
     "d3dbb510139f48e2a2bfa33d3467dfb0": {
      "model_module": "@jupyter-widgets/controls",
      "model_module_version": "1.5.0",
      "model_name": "DescriptionStyleModel",
      "state": {
       "description_width": ""
      }
     },
     "d4a7cb073302442bb5f501e63375f855": {
      "model_module": "@jupyter-widgets/base",
      "model_module_version": "1.2.0",
      "model_name": "LayoutModel",
      "state": {
       "flex": "2"
      }
     },
     "d52406f3fba84a3699618ae69aea50ff": {
      "model_module": "@jupyter-widgets/controls",
      "model_module_version": "1.5.0",
      "model_name": "FloatProgressModel",
      "state": {
       "bar_style": "success",
       "layout": "IPY_MODEL_988ee27dc04b48d7a02cf44613edcaf7",
       "max": 161,
       "style": "IPY_MODEL_3befb0a8b5374172910c2e82641e0737",
       "value": 161
      }
     },
     "d53e10e296354adab77af1bc89226bc5": {
      "model_module": "@jupyter-widgets/base",
      "model_module_version": "1.2.0",
      "model_name": "LayoutModel",
      "state": {
       "display": "inline-flex",
       "flex_flow": "row wrap",
       "width": "100%"
      }
     },
     "d587552c6a5b4de2a72ea3b67d16b8e3": {
      "model_module": "@jupyter-widgets/base",
      "model_module_version": "1.2.0",
      "model_name": "LayoutModel",
      "state": {}
     },
     "d65d509363f34784bd0722962348d4f8": {
      "model_module": "@jupyter-widgets/controls",
      "model_module_version": "1.5.0",
      "model_name": "FloatProgressModel",
      "state": {
       "bar_style": "success",
       "layout": "IPY_MODEL_07af9d15eb514a5f9432b7e22172ed71",
       "max": 10,
       "style": "IPY_MODEL_3dd912e6ecef49b7b1adc987f1c802d0",
       "value": 10
      }
     },
     "d7a3dfeea55f47c88fdcd5c8394dd6a6": {
      "model_module": "@jupyter-widgets/controls",
      "model_module_version": "1.5.0",
      "model_name": "FloatProgressModel",
      "state": {
       "bar_style": "success",
       "layout": "IPY_MODEL_b0d7d127ceb64a9fb07a34eb336432d3",
       "max": 10,
       "style": "IPY_MODEL_f3911cc9eaca4f0cb5855c18bfb9f332",
       "value": 10
      }
     },
     "d86287158b9749d1bfc8dec792334ab1": {
      "model_module": "@jupyter-widgets/controls",
      "model_module_version": "1.5.0",
      "model_name": "HTMLModel",
      "state": {
       "layout": "IPY_MODEL_b1d62d33d1d74ce2941210f28d114a22",
       "style": "IPY_MODEL_f05e99abad254b98a071675b3a0445b9",
       "value": " 10/10 [00:01&lt;00:00,  9.24it/s]"
      }
     },
     "d950d2e33e404ab287d42241d6ea4f2c": {
      "model_module": "@jupyter-widgets/controls",
      "model_module_version": "1.5.0",
      "model_name": "HBoxModel",
      "state": {
       "children": [
        "IPY_MODEL_131d5fb3271c4eb29129f8cb9dcb29b3",
        "IPY_MODEL_5e53cc743493484e8cd769f05ab1b73b",
        "IPY_MODEL_6ced7f780a054973968c50d46f9fdbc8"
       ],
       "layout": "IPY_MODEL_21dc7780e8f04fe796436694dd622e7e"
      }
     },
     "da31ab68da194924acab13881b66b6bf": {
      "model_module": "@jupyter-widgets/controls",
      "model_module_version": "1.5.0",
      "model_name": "HTMLModel",
      "state": {
       "layout": "IPY_MODEL_d2950cc8817641d9a514beb6efdea642",
       "style": "IPY_MODEL_f6fb36a6dc8b478baff58bac3dd6ac35",
       "value": " 10/10 [00:01&lt;00:00,  9.26it/s]"
      }
     },
     "dd05610067c34ad8ab781a6d19218227": {
      "model_module": "@jupyter-widgets/controls",
      "model_module_version": "1.5.0",
      "model_name": "HTMLModel",
      "state": {
       "layout": "IPY_MODEL_b87097e4bb7f4cb988bad8318783218a",
       "style": "IPY_MODEL_1796a35951f94ed0841ba2eefd6dcdc8",
       "value": " 161/161 [00:05&lt;00:00, 32.29it/s]"
      }
     },
     "dd09a4af4b1045d586857376c2c8610d": {
      "model_module": "@jupyter-widgets/controls",
      "model_module_version": "1.5.0",
      "model_name": "ProgressStyleModel",
      "state": {
       "description_width": ""
      }
     },
     "ddccb855d3884b30a12f77e760f0e71f": {
      "model_module": "@jupyter-widgets/base",
      "model_module_version": "1.2.0",
      "model_name": "LayoutModel",
      "state": {
       "display": "inline-flex",
       "flex_flow": "row wrap",
       "width": "100%"
      }
     },
     "dea6bb560dea41beab9004938cfccfec": {
      "model_module": "@jupyter-widgets/controls",
      "model_module_version": "1.5.0",
      "model_name": "DescriptionStyleModel",
      "state": {
       "description_width": ""
      }
     },
     "dec8e0e4df1b41b7a864124bb309618f": {
      "model_module": "@jupyter-widgets/controls",
      "model_module_version": "1.5.0",
      "model_name": "ProgressStyleModel",
      "state": {
       "description_width": ""
      }
     },
     "ded106893cb748a9aeb3a611319f96e1": {
      "model_module": "@jupyter-widgets/controls",
      "model_module_version": "1.5.0",
      "model_name": "DescriptionStyleModel",
      "state": {
       "description_width": ""
      }
     },
     "dee2688dbfbf45a0a3cb257df8b0bb74": {
      "model_module": "@jupyter-widgets/controls",
      "model_module_version": "1.5.0",
      "model_name": "HTMLModel",
      "state": {
       "layout": "IPY_MODEL_230a593940ab4b6c98eef6c25a50c974",
       "style": "IPY_MODEL_2067103a10034ea3a43983df71555df6",
       "value": "100%"
      }
     },
     "df848e1b5d8845feb8a3e37915221e1e": {
      "model_module": "@jupyter-widgets/controls",
      "model_module_version": "1.5.0",
      "model_name": "FloatProgressModel",
      "state": {
       "bar_style": "success",
       "layout": "IPY_MODEL_f93cd50da6e84b15b08649c8128f3a1d",
       "max": 10,
       "style": "IPY_MODEL_c910992958f74bc194cf6fb06a012981",
       "value": 10
      }
     },
     "df921ffc780843be874987b962607dad": {
      "model_module": "@jupyter-widgets/controls",
      "model_module_version": "1.5.0",
      "model_name": "DescriptionStyleModel",
      "state": {
       "description_width": ""
      }
     },
     "e17b52dc8aeb44fc868ebd39492ba17f": {
      "model_module": "@jupyter-widgets/controls",
      "model_module_version": "1.5.0",
      "model_name": "HBoxModel",
      "state": {
       "children": [
        "IPY_MODEL_b2e8ab15f4314a26a7f2125d5c4304ea",
        "IPY_MODEL_8f42fd7a7af3429a9d028f5de5a29cda",
        "IPY_MODEL_6483cbfe35594cc3a7a859557a96bbf7"
       ],
       "layout": "IPY_MODEL_116d6607685448d482cc4e71d1215f53"
      }
     },
     "e187e8b48bc84adb9031ccc416c28cca": {
      "model_module": "@jupyter-widgets/controls",
      "model_module_version": "1.5.0",
      "model_name": "HTMLModel",
      "state": {
       "layout": "IPY_MODEL_d01ced0ffdf84dfda1d34693c7b84269",
       "style": "IPY_MODEL_df921ffc780843be874987b962607dad",
       "value": " 10/10 [00:01&lt;00:00,  9.22it/s]"
      }
     },
     "e222904a8f4948709494a32002011f1b": {
      "model_module": "@jupyter-widgets/controls",
      "model_module_version": "1.5.0",
      "model_name": "DescriptionStyleModel",
      "state": {
       "description_width": ""
      }
     },
     "e4a4349136ea4a748361922f7818dd13": {
      "model_module": "@jupyter-widgets/base",
      "model_module_version": "1.2.0",
      "model_name": "LayoutModel",
      "state": {}
     },
     "e4dd5e37efae4aee82ed6c99453fef8f": {
      "model_module": "@jupyter-widgets/base",
      "model_module_version": "1.2.0",
      "model_name": "LayoutModel",
      "state": {}
     },
     "e566281e57b24013b7eef3c00e648e94": {
      "model_module": "@jupyter-widgets/controls",
      "model_module_version": "1.5.0",
      "model_name": "ProgressStyleModel",
      "state": {
       "description_width": ""
      }
     },
     "e5bf9c13d2534dda83335b0d2d217c8b": {
      "model_module": "@jupyter-widgets/base",
      "model_module_version": "1.2.0",
      "model_name": "LayoutModel",
      "state": {}
     },
     "e679b6f5b5e3473e851c5d4ac5c6ef09": {
      "model_module": "@jupyter-widgets/controls",
      "model_module_version": "1.5.0",
      "model_name": "HTMLModel",
      "state": {
       "layout": "IPY_MODEL_e4dd5e37efae4aee82ed6c99453fef8f",
       "style": "IPY_MODEL_55c011cd6741469fa4d2061a2213b6a1",
       "value": "100%"
      }
     },
     "e74789eb1ec14d5497c988d23ae1f47d": {
      "model_module": "@jupyter-widgets/controls",
      "model_module_version": "1.5.0",
      "model_name": "DescriptionStyleModel",
      "state": {
       "description_width": ""
      }
     },
     "e90bfe57c76440e599a8cc64f3a42131": {
      "model_module": "@jupyter-widgets/controls",
      "model_module_version": "1.5.0",
      "model_name": "FloatProgressModel",
      "state": {
       "bar_style": "success",
       "layout": "IPY_MODEL_bddca8b8083c4822ac8e77abdd7e9bd3",
       "max": 4,
       "style": "IPY_MODEL_7381081e1b6d42a19e61a24e1bada80a",
       "value": 4
      }
     },
     "ea6c949de8d14ffcbefdd0da84607554": {
      "model_module": "@jupyter-widgets/controls",
      "model_module_version": "1.5.0",
      "model_name": "HBoxModel",
      "state": {
       "children": [
        "IPY_MODEL_21e47c04a225463d9ea236ead69a14a6",
        "IPY_MODEL_e90bfe57c76440e599a8cc64f3a42131",
        "IPY_MODEL_6c31836e280c4e6fb552c60b56e49440"
       ],
       "layout": "IPY_MODEL_30b5a83de19a4b52878036a0dfae2a11"
      }
     },
     "ebcaba274fc94c79ad2d81120a34bbdd": {
      "model_module": "@jupyter-widgets/controls",
      "model_module_version": "1.5.0",
      "model_name": "HTMLModel",
      "state": {
       "layout": "IPY_MODEL_5a4954740f5f467dada5f78c819803e4",
       "style": "IPY_MODEL_f554e7c4cdd24446afc4c2194e8e840c",
       "value": " 10/10 [00:08&lt;00:00,  1.16it/s]"
      }
     },
     "ec898130032c4925add1e99b2e195cc7": {
      "model_module": "@jupyter-widgets/base",
      "model_module_version": "1.2.0",
      "model_name": "LayoutModel",
      "state": {
       "flex": "2"
      }
     },
     "ed07a31c4425411b926bd9f95076c1b7": {
      "model_module": "@jupyter-widgets/controls",
      "model_module_version": "1.5.0",
      "model_name": "DescriptionStyleModel",
      "state": {
       "description_width": ""
      }
     },
     "edadbe3accf84edf82ec21a4bd14cc20": {
      "model_module": "@jupyter-widgets/controls",
      "model_module_version": "1.5.0",
      "model_name": "ProgressStyleModel",
      "state": {
       "description_width": ""
      }
     },
     "edcc5cf46c9e4d199b454617cd016fd4": {
      "model_module": "@jupyter-widgets/controls",
      "model_module_version": "1.5.0",
      "model_name": "HBoxModel",
      "state": {
       "children": [
        "IPY_MODEL_f13a054fc5674b44aecd589aaf6a3fc1",
        "IPY_MODEL_06fda7f225884a37a1790d75d5ad159f",
        "IPY_MODEL_6bfc9332de164cffba592d621ae2f168"
       ],
       "layout": "IPY_MODEL_b32307791816471f9c6cb043521dbc6d"
      }
     },
     "edf5d4e978e94fb392b058c4669e473e": {
      "model_module": "@jupyter-widgets/base",
      "model_module_version": "1.2.0",
      "model_name": "LayoutModel",
      "state": {}
     },
     "ee9cce0424604efa999b00c3e13840a9": {
      "model_module": "@jupyter-widgets/base",
      "model_module_version": "1.2.0",
      "model_name": "LayoutModel",
      "state": {}
     },
     "eea47af756564625b0b7531948bc60de": {
      "model_module": "@jupyter-widgets/controls",
      "model_module_version": "1.5.0",
      "model_name": "HTMLModel",
      "state": {
       "layout": "IPY_MODEL_4e1fa95d3f8347beb6c2ba1deda51f51",
       "style": "IPY_MODEL_27b1f5beeb474072be0dc8fe1eb79170",
       "value": " 10/10 [00:01&lt;00:00,  9.16it/s]"
      }
     },
     "ef8357101d804f7e9a72de427039737f": {
      "model_module": "@jupyter-widgets/controls",
      "model_module_version": "1.5.0",
      "model_name": "FloatProgressModel",
      "state": {
       "bar_style": "success",
       "layout": "IPY_MODEL_c5b90c3d203a454ca406bc46e9f70fd2",
       "max": 10,
       "style": "IPY_MODEL_a846bfa4b0344fd789f9db45cf15b60b",
       "value": 10
      }
     },
     "f05e99abad254b98a071675b3a0445b9": {
      "model_module": "@jupyter-widgets/controls",
      "model_module_version": "1.5.0",
      "model_name": "DescriptionStyleModel",
      "state": {
       "description_width": ""
      }
     },
     "f13a054fc5674b44aecd589aaf6a3fc1": {
      "model_module": "@jupyter-widgets/controls",
      "model_module_version": "1.5.0",
      "model_name": "HTMLModel",
      "state": {
       "layout": "IPY_MODEL_34d69c6ec05b40749b05ad569bf9f4d0",
       "style": "IPY_MODEL_860516f80ff9481882e54b7588a186e8",
       "value": "100%"
      }
     },
     "f15cc6ef380649b0b3af26af9e4936c7": {
      "model_module": "@jupyter-widgets/controls",
      "model_module_version": "1.5.0",
      "model_name": "DescriptionStyleModel",
      "state": {
       "description_width": ""
      }
     },
     "f202e6ecfa43442598c0f4316a817cb0": {
      "model_module": "@jupyter-widgets/base",
      "model_module_version": "1.2.0",
      "model_name": "LayoutModel",
      "state": {
       "display": "inline-flex",
       "flex_flow": "row wrap",
       "width": "100%"
      }
     },
     "f2e487269cda4b8694d635d6bfc159c4": {
      "model_module": "@jupyter-widgets/base",
      "model_module_version": "1.2.0",
      "model_name": "LayoutModel",
      "state": {}
     },
     "f3911cc9eaca4f0cb5855c18bfb9f332": {
      "model_module": "@jupyter-widgets/controls",
      "model_module_version": "1.5.0",
      "model_name": "ProgressStyleModel",
      "state": {
       "description_width": ""
      }
     },
     "f44e8f0aa5814016bf9c9cd8465dfc67": {
      "model_module": "@jupyter-widgets/controls",
      "model_module_version": "1.5.0",
      "model_name": "ProgressStyleModel",
      "state": {
       "description_width": ""
      }
     },
     "f4c1c12975e34602a125c1824697548f": {
      "model_module": "@jupyter-widgets/controls",
      "model_module_version": "1.5.0",
      "model_name": "HTMLModel",
      "state": {
       "layout": "IPY_MODEL_798ddc3277964b8689dad9ab639015c5",
       "style": "IPY_MODEL_ed07a31c4425411b926bd9f95076c1b7",
       "value": "100%"
      }
     },
     "f4c819d58dcb4320b05974e2204ee871": {
      "model_module": "@jupyter-widgets/controls",
      "model_module_version": "1.5.0",
      "model_name": "ProgressStyleModel",
      "state": {
       "description_width": ""
      }
     },
     "f554e7c4cdd24446afc4c2194e8e840c": {
      "model_module": "@jupyter-widgets/controls",
      "model_module_version": "1.5.0",
      "model_name": "DescriptionStyleModel",
      "state": {
       "description_width": ""
      }
     },
     "f595c89d672b4fb3aae0fea0d95d2a37": {
      "model_module": "@jupyter-widgets/controls",
      "model_module_version": "1.5.0",
      "model_name": "HBoxModel",
      "state": {
       "children": [
        "IPY_MODEL_6b927c06e4584b189703cd7d3946b66b",
        "IPY_MODEL_92d5ae0ca2404eeeac843b82c749aebc",
        "IPY_MODEL_e187e8b48bc84adb9031ccc416c28cca"
       ],
       "layout": "IPY_MODEL_4153766ed4c34b6c981e4a4b5c78258a"
      }
     },
     "f6fb36a6dc8b478baff58bac3dd6ac35": {
      "model_module": "@jupyter-widgets/controls",
      "model_module_version": "1.5.0",
      "model_name": "DescriptionStyleModel",
      "state": {
       "description_width": ""
      }
     },
     "f74671db7d774d4d8b3df148bb02a463": {
      "model_module": "@jupyter-widgets/controls",
      "model_module_version": "1.5.0",
      "model_name": "HTMLModel",
      "state": {
       "layout": "IPY_MODEL_23ffd327ae624aacb9eda9b1d3008c96",
       "style": "IPY_MODEL_dea6bb560dea41beab9004938cfccfec",
       "value": " 10/10 [00:01&lt;00:00,  8.66it/s]"
      }
     },
     "f7a748427b4347f286c6a4400be374cd": {
      "model_module": "@jupyter-widgets/base",
      "model_module_version": "1.2.0",
      "model_name": "LayoutModel",
      "state": {
       "flex": "2"
      }
     },
     "f87db6e3611743bd9f011b57d4e8a848": {
      "model_module": "@jupyter-widgets/controls",
      "model_module_version": "1.5.0",
      "model_name": "HBoxModel",
      "state": {
       "children": [
        "IPY_MODEL_dee2688dbfbf45a0a3cb257df8b0bb74",
        "IPY_MODEL_d7a3dfeea55f47c88fdcd5c8394dd6a6",
        "IPY_MODEL_f74671db7d774d4d8b3df148bb02a463"
       ],
       "layout": "IPY_MODEL_8854666f07b84005af4b2cf7d838f814"
      }
     },
     "f93cd50da6e84b15b08649c8128f3a1d": {
      "model_module": "@jupyter-widgets/base",
      "model_module_version": "1.2.0",
      "model_name": "LayoutModel",
      "state": {
       "flex": "2"
      }
     },
     "fa3fe13c8cd747068d737e81bf0b4434": {
      "model_module": "@jupyter-widgets/controls",
      "model_module_version": "1.5.0",
      "model_name": "ProgressStyleModel",
      "state": {
       "description_width": ""
      }
     },
     "fb6cb2af721b4945b6ff822ee17a163f": {
      "model_module": "@jupyter-widgets/base",
      "model_module_version": "1.2.0",
      "model_name": "LayoutModel",
      "state": {
       "display": "inline-flex",
       "flex_flow": "row wrap",
       "width": "100%"
      }
     },
     "fc1fa0b5047f40cf98335c8fb38d12aa": {
      "model_module": "@jupyter-widgets/controls",
      "model_module_version": "1.5.0",
      "model_name": "ProgressStyleModel",
      "state": {
       "description_width": ""
      }
     },
     "fcd085774901473c86115ce3055b45ae": {
      "model_module": "@jupyter-widgets/base",
      "model_module_version": "1.2.0",
      "model_name": "LayoutModel",
      "state": {
       "display": "inline-flex",
       "flex_flow": "row wrap",
       "width": "100%"
      }
     },
     "fdb8e837f1464b958609abe94712e4cc": {
      "model_module": "@jupyter-widgets/base",
      "model_module_version": "1.2.0",
      "model_name": "LayoutModel",
      "state": {
       "display": "inline-flex",
       "flex_flow": "row wrap",
       "width": "100%"
      }
     },
     "ff976f68de854243b8eac09cde6e9e14": {
      "model_module": "@jupyter-widgets/base",
      "model_module_version": "1.2.0",
      "model_name": "LayoutModel",
      "state": {}
     },
     "ffcd93f14c7e44358572e462300ddc64": {
      "model_module": "@jupyter-widgets/controls",
      "model_module_version": "1.5.0",
      "model_name": "DescriptionStyleModel",
      "state": {
       "description_width": ""
      }
     },
     "ffe17174ea2c4729b3f1716bb044699f": {
      "model_module": "@jupyter-widgets/controls",
      "model_module_version": "1.5.0",
      "model_name": "ProgressStyleModel",
      "state": {
       "description_width": ""
      }
     }
    },
    "version_major": 2,
    "version_minor": 0
   }
  }
 },
 "nbformat": 4,
 "nbformat_minor": 4
}
