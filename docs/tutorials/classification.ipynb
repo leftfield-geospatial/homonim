{
 "cells": [
  {
   "cell_type": "markdown",
   "metadata": {},
   "source": [
    "# Classification\n",
    "\n",
    "This notebook demonstrates how `homonim` can help improve classifier accuracy.  It works with images and ground truth taken from a [vegetation mapping study](https://doi.org/10.1117/1.jrs.12.046022) that sought to identify Spekboom in the Little Karoo, South Africa.  Aerial imagery with 50 cm spatial resolution and 4 spectral bands (red, green, blue and near-infrared) was obtained from the  [NGI](https://ngi.dalrrd.gov.za/index.php/what-we-do/aerial-photography-and-imagery).  Ground truth data consists of ± 160 polygons with labels for 3 classes: \n",
    "\n",
    "- Spekboom: a species of succulent shrub.\n",
    "- Tree: any other tree. \n",
    "- Background: other vegetation, bare ground etc.\n",
    "\n",
    "## Setup\n",
    "\n",
    "### Install dependencies\n",
    "\n",
    "`geedim`, `geopandas`, `gdal`, `matplotlib`, `sklearn` and `scipy` are required to run the notebook.  You can uncomment the cell below to install them, if they aren't installed already."
   ]
  },
  {
   "cell_type": "code",
   "execution_count": null,
   "metadata": {},
   "outputs": [],
   "source": [
    "# import sys\n",
    "# if 'conda' in sys.prefix:\n",
    "#     # install into the conda environment the notebook is being run from\n",
    "#     !conda install --yes --prefix {sys.prefix} -c conda-forge geedim geopandas gdal matplotlib sklearn scipy\n",
    "# else:\n",
    "#     # install into the python environment the notebook is being run from\n",
    "#     !{sys.executable} -m pip install geedim geopandas gdal matplotlib sklearn scipy"
   ]
  },
  {
   "cell_type": "code",
   "execution_count": 1,
   "metadata": {},
   "outputs": [],
   "source": [
    "# imports used by more than one cell\n",
    "%matplotlib qt\n",
    "import logging\n",
    "import warnings\n",
    "from pathlib import Path\n",
    "from matplotlib import pyplot\n",
    "import numpy as np\n",
    "import rasterio as rio\n",
    "import pandas as pd\n",
    "from tqdm.auto import tqdm\n",
    "\n",
    "import geedim as gd\n",
    "\n",
    "logging.basicConfig(level=logging.ERROR)"
   ]
  },
  {
   "cell_type": "code",
   "execution_count": 2,
   "metadata": {},
   "outputs": [],
   "source": [
    "# initialise source and reference paths\n",
    "from glob import glob\n",
    "src_root = Path(\n",
    "    'V:/Data/HomonimEgs/NGI_3321BD-3322AC_2010_LittleKaroo/Source/'\n",
    "    'GroundTruthSubset'\n",
    ")\n",
    "src_mosaic_path = src_root.joinpath(\n",
    "    'NGI_3321BD-3322AC_2010_LittleKaroo_GroundTruthSubset_Source.vrt'\n",
    ")\n",
    "src_paths = [\n",
    "    Path(src_path) \n",
    "    for src_path in glob(str(src_root.joinpath('*_RGBN_CMP.tif')))\n",
    "]\n",
    "\n",
    "ref_root = Path(\n",
    "    'V:/Data/HomonimEgs/NGI_3321BD-3322AC_2010_LittleKaroo/Reference/'\n",
    "    'GroundTruthSubset'\n",
    ")\n",
    "l7_ref_path = ref_root.joinpath('l7_comp_ref.tif')\n",
    "modis_ref_path = ref_root.joinpath('modis_nbar_ref.tif')\n",
    "\n",
    "# create a search region that covers the source image mosaic\n",
    "region = gd.utils.get_bounds(src_mosaic_path)"
   ]
  },
  {
   "cell_type": "markdown",
   "metadata": {},
   "source": [
    "## Search and download reference images\n",
    "\n",
    "Use [`geedim`](https://github.com/dugalh/geedim) to search for and download Landsat-7 and MODIS NBAR reference images."
   ]
  },
  {
   "cell_type": "code",
   "execution_count": 4,
   "metadata": {},
   "outputs": [
    {
     "name": "stdout",
     "output_type": "stream",
     "text": [
      "Image property descriptions:\n",
      "\n",
      "ABBREV     NAME                  DESCRIPTION\n",
      "---------  --------------------  ---------------------------------------\n",
      "ID         system:id             Earth Engine image id\n",
      "DATE       system:time_start     Image capture date/time (UTC)\n",
      "FILL       FILL_PORTION          Portion of valid pixels (%)\n",
      "CLOUDLESS  CLOUDLESS_PORTION     Portion of cloud/shadow free pixels (%)\n",
      "GRMSE      GEOMETRIC_RMSE_MODEL  Orthorectification RMSE (m)\n",
      "SAA        SUN_AZIMUTH           Solar azimuth angle (deg)\n",
      "SEA        SUN_ELEVATION         Solar elevation angle (deg)\n",
      "\n",
      "Search Results:\n",
      "\n",
      "ID                                          DATE              FILL CLOUDLESS GRMSE   SAA   SEA\n",
      "------------------------------------------- ---------------- ----- --------- ----- ----- -----\n",
      "LANDSAT/LE07/C02/T1_L2/LE07_173083_20100203 2010-02-03 08:14 92.12     92.10  4.74 73.32 52.10\n",
      "LANDSAT/LE07/C02/T1_L2/LE07_173083_20100219 2010-02-19 08:14 92.01     92.01  4.58 66.61 49.04\n"
     ]
    }
   ],
   "source": [
    "# Note: soure images captured from 2010-01-22 - 2010-02-01\n",
    "gd.Initialize()\n",
    "\n",
    "# create and search the Landsat-7 collection\n",
    "l7_coll = gd.MaskedCollection.from_name('LANDSAT/LE07/C02/T1_L2')\n",
    "l7_coll = l7_coll.search(\n",
    "    '2010-01-01', '2010-02-28', region, cloudless_portion=50\n",
    ")\n",
    "print('Image property descriptions:\\n\\n' + l7_coll.schema_table)\n",
    "print('\\nSearch Results:\\n\\n' + l7_coll.properties_table)\n",
    "\n",
    "# equivalent geedim command line:\n",
    "# !geedim search -c l7-c2-l2 -s 2010-01-01 -e 2010-02-28 -cp 50  -r {src_mosaic_path}"
   ]
  },
  {
   "cell_type": "code",
   "execution_count": 6,
   "metadata": {},
   "outputs": [
    {
     "data": {
      "application/vnd.jupyter.widget-view+json": {
       "model_id": "1b46c72e2cd44218a2c1f1c37b2294fa",
       "version_major": 2,
       "version_minor": 0
      },
      "text/plain": [
       "l7_comp_ref.tif: |                                                     | 0.00/367M (raw) [  0.0%] in 00:00 (et…"
      ]
     },
     "metadata": {},
     "output_type": "display_data"
    }
   ],
   "source": [
    "# create a composite of L7 search results to fill in SLE gaps\n",
    "l7_comp_im = l7_coll.composite(\n",
    "    gd.CompositeMethod.q_mosaic, date='2010-01-27', \n",
    "    resampling=gd.ResamplingMethod.bilinear,\n",
    ")\n",
    "\n",
    "# get source mosaic CRS for download parameter\n",
    "with rio.open(src_mosaic_path, 'r') as ds:\n",
    "    src_crs = ds.crs.to_wkt()\n",
    "\n",
    "# download\n",
    "l7_comp_im.download(\n",
    "    l7_ref_path, crs=src_crs, scale=30, region=region, \n",
    "    scale_offset=True, overwrite=True\n",
    ")\n",
    "\n",
    "# equivalent geedim command line:\n",
    "# !geedim composite  -cm q_mosaic --date 2010-01-27 -i LANDSAT/LE07/C02/T1_L2/LE07_173083_20100203 -i LANDSAT/LE07/C02/T1_L2/LE07_173083_20100219 download --crs {src_crs}  --scale 30 -r {src_mosaic_path}"
   ]
  },
  {
   "cell_type": "code",
   "execution_count": 8,
   "metadata": {},
   "outputs": [
    {
     "name": "stdout",
     "output_type": "stream",
     "text": [
      "Image property descriptions:\n",
      "\n",
      "ABBREV  NAME               DESCRIPTION\n",
      "------  -----------------  -----------------------------\n",
      "ID      system:id          Earth Engine image id\n",
      "DATE    system:time_start  Image capture date/time (UTC)\n",
      "FILL    FILL_PORTION       Portion of valid pixels (%)\n",
      "\n",
      "Search Results:\n",
      "\n",
      "ID                           DATE             FILL\n",
      "---------------------------- ---------------- ----\n",
      "MODIS/006/MCD43A4/2022_01_27 2022-01-27 00:00  100\n"
     ]
    },
    {
     "data": {
      "application/vnd.jupyter.widget-view+json": {
       "model_id": "69bba390f2c949e1be526c74692d6180",
       "version_major": 2,
       "version_minor": 0
      },
      "text/plain": [
       "modis_nbar_ref.tif: |                                          | 0.00/278k (raw) [  0.0%] in 00:00 (eta:     ?…"
      ]
     },
     "metadata": {},
     "output_type": "display_data"
    }
   ],
   "source": [
    "# search the MODIS NBAR collection\n",
    "modis_coll = gd.MaskedCollection.from_name('MODIS/006/MCD43A4')\n",
    "modis_coll = modis_coll.search(\n",
    "    '2022-01-27', '2022-01-28', region, \n",
    ")\n",
    "print('Image property descriptions:\\n\\n' + modis_coll.schema_table)\n",
    "print('\\nSearch Results:\\n\\n' + modis_coll.properties_table)\n",
    "\n",
    "# download\n",
    "modis_image = gd.MaskedImage.from_id(\n",
    "    'MODIS/006/MCD43A4/2010_01_27', mask=True\n",
    ")\n",
    "modis_image.download(\n",
    "    modis_ref_path, region=region, dtype='uint16', overwrite=True\n",
    ")\n",
    "\n",
    "# equivalent geedim command line:\n",
    "# !geedim search -c modis-nbar -s 2010-01-27 -e 2010-01-28 -r {src_mosaic_path} download -o"
   ]
  },
  {
   "cell_type": "markdown",
   "metadata": {},
   "source": [
    "# Correction\n",
    "\n",
    "Setup correction parameters and paths."
   ]
  },
  {
   "cell_type": "code",
   "execution_count": 3,
   "metadata": {},
   "outputs": [],
   "source": [
    "from homonim import Model, ProcCrs, utils\n",
    "if False:\n",
    "    # fuse with Landsat-7 and compare with MODIS NBAR\n",
    "    ref_bands = [3, 2, 1, 4]\n",
    "    cmp_ref_bands = [1, 4, 3, 2]\n",
    "    ref_path = l7_ref_path\n",
    "    cmp_ref_path = modis_ref_path\n",
    "    model = Model.gain\n",
    "    kernel_shape = (5, 5)\n",
    "    corr_root = Path(\n",
    "        'V:/Data/HomonimEgs/NGI_3321BD-3322AC_2010_LittleKaroo/Corrected/'\n",
    "        'GroundTruthSubset/L7/'\n",
    "    )\n",
    "    ref_sc_off = [.2, 0]\n",
    "    out_profile = None\n",
    "else:\n",
    "    # fuse with MODIS NBAR and compare with Landsat-7\n",
    "    ref_bands = [1, 4, 3, 2]\n",
    "    cmp_ref_bands = [3, 2, 1, 4]\n",
    "    ref_path = modis_ref_path\n",
    "    cmp_ref_path = l7_ref_path\n",
    "    model = Model.gain\n",
    "    kernel_shape = (1, 1)\n",
    "    corr_root = Path(\n",
    "        'V:/Data/HomonimEgs/NGI_3321BD-3322AC_2010_LittleKaroo/Corrected/'\n",
    "        'GroundTruthSubset/Modis/'\n",
    "    )\n",
    "    ref_sc_off = [1.7e3, .1]\n",
    "    out_profile = dict(dtype='uint16', nodata=0) \n",
    "\n",
    "post_fix = utils.create_out_postfix(\n",
    "    ProcCrs.ref, model=model, kernel_shape=kernel_shape, driver='GTiff'\n",
    ")\n",
    "corr_paths = [\n",
    "    corr_root.joinpath(src_path.stem + post_fix)\n",
    "    for src_path in src_paths\n",
    "]"
   ]
  },
  {
   "cell_type": "markdown",
   "metadata": {},
   "source": [
    "Fuse aerial images with reference."
   ]
  },
  {
   "cell_type": "code",
   "execution_count": 8,
   "metadata": {},
   "outputs": [
    {
     "name": "stdout",
     "output_type": "stream",
     "text": [
      "3321b_3172_12_0415_rgbn_CMP_FUSE_cREF_mGAIN_k5_5.tif:\n"
     ]
    },
    {
     "data": {
      "application/vnd.jupyter.widget-view+json": {
       "model_id": "5100ef6fd0d24d0ca3817198bd6afdb5",
       "version_major": 2,
       "version_minor": 0
      },
      "text/plain": [
       "  0%|                                                                                             |0/4 blocks …"
      ]
     },
     "metadata": {},
     "output_type": "display_data"
    },
    {
     "name": "stdout",
     "output_type": "stream",
     "text": [
      "3321b_3172_12_0419_rgbn_CMP_FUSE_cREF_mGAIN_k5_5.tif:\n"
     ]
    },
    {
     "data": {
      "application/vnd.jupyter.widget-view+json": {
       "model_id": "17227e2810104cc9a44bdb6371f7c618",
       "version_major": 2,
       "version_minor": 0
      },
      "text/plain": [
       "  0%|                                                                                             |0/4 blocks …"
      ]
     },
     "metadata": {},
     "output_type": "display_data"
    },
    {
     "name": "stdout",
     "output_type": "stream",
     "text": [
      "3321D_319_04_0121_RGBN_CMP_FUSE_cREF_mGAIN_k5_5.tif:\n"
     ]
    },
    {
     "data": {
      "application/vnd.jupyter.widget-view+json": {
       "model_id": "fca86ea7784e47d2809ea608b3f4ac85",
       "version_major": 2,
       "version_minor": 0
      },
      "text/plain": [
       "  0%|                                                                                             |0/4 blocks …"
      ]
     },
     "metadata": {},
     "output_type": "display_data"
    },
    {
     "name": "stdout",
     "output_type": "stream",
     "text": [
      "3322c_322_02_0056_rgbn_CMP_FUSE_cREF_mGAIN_k5_5.tif:\n"
     ]
    },
    {
     "data": {
      "application/vnd.jupyter.widget-view+json": {
       "model_id": "6d7d393bf8774f37a50ff2630fdecd64",
       "version_major": 2,
       "version_minor": 0
      },
      "text/plain": [
       "  0%|                                                                                             |0/4 blocks …"
      ]
     },
     "metadata": {},
     "output_type": "display_data"
    }
   ],
   "source": [
    "from homonim import RasterFuse\n",
    "\n",
    "for src_path, corr_path in zip(src_paths, corr_paths):\n",
    "    with RasterFuse(src_path, ref_path, ref_bands=ref_bands) as raster_fuse:\n",
    "        print(f'{corr_path.name}:')\n",
    "        raster_fuse.process(\n",
    "            corr_path, model, kernel_shape, \n",
    "            block_config=dict(threads=4, max_block_mem=512), \n",
    "            out_profile=out_profile, \n",
    "            model_config=dict(mask_partial=False), \n",
    "            overwrite=True\n",
    "        )"
   ]
  },
  {
   "cell_type": "code",
   "execution_count": 20,
   "metadata": {},
   "outputs": [],
   "source": [
    "Create a VRT mosaic of the corrected images to use in the visualisation and evaluation steps."
   ]
  },
  {
   "cell_type": "code",
   "execution_count": 4,
   "metadata": {},
   "outputs": [],
   "source": [
    "from osgeo import gdal\n",
    "\n",
    "# strictly, one should avoid using GDAL and rasterio together, but it doesn't\n",
    "# create conflicts here\n",
    "corr_mosaic_path = corr_root.joinpath(\n",
    "    f'NGI_3321BD-3322AC_2010_LittleKaroo_GroundTruthSubset{post_fix[:-4]}.vrt'\n",
    ")\n",
    "ds = gdal.BuildVRT(\n",
    "    str(corr_mosaic_path.absolute()), [str(cp) for cp in corr_paths]\n",
    ")\n",
    "ds.FlushCache()"
   ]
  },
  {
   "cell_type": "markdown",
   "metadata": {},
   "source": [
    "## Visualise\n",
    "\n",
    "Display matching extents of the source, reference and corrected images, in the reference CRS."
   ]
  },
  {
   "cell_type": "code",
   "execution_count": 5,
   "metadata": {},
   "outputs": [],
   "source": [
    "from rasterio.vrt import WarpedVRT\n",
    "from rasterio.enums import Resampling\n",
    "from rasterio.plot import show\n",
    "\n",
    "# get source crs\n",
    "with rio.open(src_mosaic_path, 'r') as ds:\n",
    "    src_crs = ds.crs\n",
    "\n",
    "fig, axes = pyplot.subplots(\n",
    "    3, 1, sharex=True, sharey=True, tight_layout=True, figsize=(10, 15), \n",
    "    dpi=100\n",
    ")\n",
    "\n",
    "# loop over src, ref and corrected images and corrsonding parameters\n",
    "for im_file, ds_fact, indexes, sc_off, ax, label in zip(\n",
    "    [src_mosaic_path, ref_path, corr_mosaic_path],\n",
    "    [16, 1, 16],                           # downsample factor\n",
    "    [None, ref_bands, None],               # band indices\n",
    "    [None, ref_sc_off, ref_sc_off],        # colour scale & offset\n",
    "    axes,\n",
    "    ['Source', 'Reference', 'Corrected'], \n",
    "):\n",
    "    # read image\n",
    "    with (rio.open(im_file, 'r')) as ds:\n",
    "        if ds.crs != src_crs:\n",
    "            # re-project to source CRS\n",
    "            ds = WarpedVRT(ds, crs=src_crs, resampling=Resampling.bilinear)\n",
    "        with ds:\n",
    "            # read and downsample image\n",
    "            ds_shape = tuple(np.round(np.array(ds.shape) / ds_fact).astype('int'))\n",
    "            transform = ds.transform * rio.Affine.scale(ds_fact)\n",
    "\n",
    "            array = ds.read(indexes=indexes, out_dtype='float32', out_shape=ds_shape)\n",
    "\n",
    "    # change nodata value to nan\n",
    "    mask = np.any((array == ds.nodata) | np.isnan(array), axis=(0))\n",
    "    array[:, mask] = np.nan\n",
    "\n",
    "    # contrast stretching for display\n",
    "    if sc_off is not None:\n",
    "        # scale and offset pixel values\n",
    "        array = np.clip((array / sc_off[0]) - sc_off[1], 0, 1)\n",
    "    else:\n",
    "        # 'normalise' image 2%-98% -> 0-1\n",
    "        for bi in range(array.shape[0]):\n",
    "            array[bi] -= np.nanpercentile(array[bi], 1)\n",
    "            array[bi] /= np.nanpercentile(array[bi], 99)\n",
    "            array[bi] = np.clip(array[bi], 0, 1)\n",
    "\n",
    "    # display\n",
    "    ax = show(array[0:3], transform=transform, interpolation='nearest', ax=ax)\n",
    "    ax.set_title(label, fontweight='bold')\n",
    "    ax.axis('off')"
   ]
  },
  {
   "cell_type": "markdown",
   "metadata": {},
   "source": [
    "## Comparison\n",
    "\n",
    "Compare corrected images with a second surface reflectance reference."
   ]
  },
  {
   "cell_type": "code",
   "execution_count": 15,
   "metadata": {},
   "outputs": [
    {
     "name": "stdout",
     "output_type": "stream",
     "text": [
      "ABBREV DESCRIPTION\n",
      "------ -----------------------------------------\n",
      "r²     Pearson's correlation coefficient squared\n",
      "RMSE   Root Mean Square Error\n",
      "rRMSE  Relative RMSE (RMSE/mean(ref))\n",
      "N      Number of pixels\n",
      "Source:\n"
     ]
    },
    {
     "data": {
      "application/vnd.jupyter.widget-view+json": {
       "model_id": "73b2b6e32c70435885a9cdb54618c6e9",
       "version_major": 2,
       "version_minor": 0
      },
      "text/plain": [
       "  0%|                                                                                           |0/240 blocks …"
      ]
     },
     "metadata": {},
     "output_type": "display_data"
    },
    {
     "name": "stdout",
     "output_type": "stream",
     "text": [
      "Source comparison:\n",
      "\n",
      "                   Band    r²     RMSE rRMSE   N\n",
      "----------------------- ----- -------- ----- ---\n",
      "Nadir_Reflectance_Band1 0.319  869.645 0.695 513\n",
      "Nadir_Reflectance_Band4 0.209  355.283 0.362 513\n",
      "Nadir_Reflectance_Band3 0.044  154.774 0.264 513\n",
      "Nadir_Reflectance_Band2 0.206 1436.639 0.620 513\n",
      "                   Mean 0.195  704.085 0.485 513\n",
      "Corrected:\n"
     ]
    },
    {
     "data": {
      "application/vnd.jupyter.widget-view+json": {
       "model_id": "9dc81ee8b22e4626bf5ebb3d8b2ca9f2",
       "version_major": 2,
       "version_minor": 0
      },
      "text/plain": [
       "  0%|                                                                                           |0/240 blocks …"
      ]
     },
     "metadata": {},
     "output_type": "display_data"
    },
    {
     "name": "stdout",
     "output_type": "stream",
     "text": [
      "Corrected comparison:\n",
      "\n",
      "                   Band    r²     RMSE rRMSE   N\n",
      "----------------------- ----- -------- ----- ---\n",
      "Nadir_Reflectance_Band1 0.839 1277.775 1.021 513\n",
      "Nadir_Reflectance_Band4 0.801  991.788 1.011 513\n",
      "Nadir_Reflectance_Band3 0.753  594.447 1.012 513\n",
      "Nadir_Reflectance_Band2 0.857 2353.980 1.015 513\n",
      "                   Mean 0.813 1304.498 1.015 513\n"
     ]
    }
   ],
   "source": [
    "from homonim import RasterCompare\n",
    "\n",
    "print(RasterCompare.schema_table())\n",
    "\n",
    "# loop over the source and corrected image files\n",
    "for im_path, im_label in zip(\n",
    "    [src_mosaic_path, corr_mosaic_path],\n",
    "    ['Source', 'Corrected'],\n",
    "):\n",
    "    with RasterCompare(\n",
    "        im_path, cmp_ref_path, ref_bands=cmp_ref_bands,\n",
    "    ) as compare:\n",
    "        # print a table of comparison statistics (the typical way of using \n",
    "        # RasterCompare)\n",
    "        print(f'{im_label}:')\n",
    "        stats_dict = compare.process()\n",
    "        print(f'{im_label} comparison:\\n\\n' + compare.stats_table(stats_dict))\n",
    "\n",
    "    # equivalent homonim command line:\n",
    "    # !homonim compare {im_path} {cmp_ref_path}"
   ]
  },
  {
   "cell_type": "markdown",
   "metadata": {},
   "source": [
    "## Classification\n",
    "\n",
    "Compare classification performance before and after correction with `homonim`.  \n",
    "\n",
    "### Feature extraction\n",
    "\n",
    "Start by reading ground truth."
   ]
  },
  {
   "cell_type": "code",
   "execution_count": 6,
   "metadata": {},
   "outputs": [],
   "source": [
    "import geopandas as gpd\n",
    "\n",
    "groundtruth_path = ref_root.joinpath('LittleKaroo3ClassGroundTruth.gpkg')\n",
    "class_label_gdf = gpd.GeoDataFrame.from_file(groundtruth_path)"
   ]
  },
  {
   "cell_type": "markdown",
   "metadata": {},
   "source": [
    "Then extract band pixel values (features) for ground truth polygons"
   ]
  },
  {
   "cell_type": "code",
   "execution_count": 32,
   "metadata": {},
   "outputs": [
    {
     "data": {
      "application/vnd.jupyter.widget-view+json": {
       "model_id": "13c05b3a9b7a4d4896e68e2f700bbd9f",
       "version_major": 2,
       "version_minor": 0
      },
      "text/plain": [
       "NGI_3321BD-3322AC_2010_LittleKaroo_GroundTruthSubset_Source.vrt:   0%|                         | 0/161 [00:00<…"
      ]
     },
     "metadata": {},
     "output_type": "display_data"
    },
    {
     "data": {
      "application/vnd.jupyter.widget-view+json": {
       "model_id": "fc3f34cff31f4daca34a9583cc03472e",
       "version_major": 2,
       "version_minor": 0
      },
      "text/plain": [
       "NGI_3321BD-3322AC_2010_LittleKaroo_GroundTruthSubset_FUSE_cREF_mGAIN_k1_1.vrt:   0%|           | 0/161 [00:00<…"
      ]
     },
     "metadata": {},
     "output_type": "display_data"
    }
   ],
   "source": [
    "from rasterio import features\n",
    "from rasterio import windows\n",
    "from sklearn.decomposition import PCA\n",
    "\n",
    "def extract_feats(\n",
    "    ds: rio.DatasetReader, labelled_plot_gdf: gpd.GeoDataFrame\n",
    ") -> pd.DataFrame:\n",
    "    \"\"\" Extract pixel features from image for given plots. \"\"\"\n",
    "    px_feats_dict = dict(plot_id=[], label=[])\n",
    "\n",
    "    # loop over ground truth plots\n",
    "    for plot_id, plot in tqdm(\n",
    "        labelled_plot_gdf.to_crs(ds.crs).iterrows(), \n",
    "        total=labelled_plot_gdf.shape[0], desc=im_path.name, \n",
    "        dynamic_ncols=True,\n",
    "    ):\n",
    "        if plot.Class is None:\n",
    "            continue\n",
    "\n",
    "        # find a rasterio window that contains the plot polygon\n",
    "        bounds = features.bounds(plot.geometry)\n",
    "        win = windows.from_bounds(*bounds, transform=ds.transform)\n",
    "        win = utils.expand_window_to_grid(win)\n",
    "\n",
    "        # read the image array corresponding to the plot window\n",
    "        array = ds.read(out_dtype='float64', window=win)\n",
    "\n",
    "        # find a mask for pixels contained inside the plot polygon\n",
    "        win_transform = ds.window_transform(win)\n",
    "        with warnings.catch_warnings():\n",
    "            warnings.simplefilter('ignore')     # ignore shapely deprecation warning            \n",
    "            mask = ~features.geometry_mask(\n",
    "                plot.geometry, (win.height, win.width), transform=win_transform\n",
    "            )\n",
    "\n",
    "        def app_listval(d: dict, k: str, val: list):\n",
    "            \"\"\" Append a list to a dictionary value. \"\"\"\n",
    "            if k in d:\n",
    "                d[k] += val\n",
    "            else:\n",
    "                d[k] = val\n",
    "            return d\n",
    "\n",
    "        # extract band values for pixels inside polygon\n",
    "        for bi, fname in zip([0, 1, 2, 3], ['R', 'G', 'B', 'NIR']):\n",
    "            feat = array[bi]\n",
    "            featv = list(feat[mask])\n",
    "            px_feats_dict = app_listval(px_feats_dict, fname, featv)\n",
    "\n",
    "        # copy plot id and class label for these pixels\n",
    "        px_feats_dict['plot_id'] += [plot_id] * len(featv)\n",
    "        px_feats_dict['label'] += [plot.Class] * len(featv)\n",
    "    \n",
    "    df = pd.DataFrame(px_feats_dict)\n",
    "    # pca = PCA(n_components=2)\n",
    "    # pca.fit(df[['R', 'G', 'B', 'NIR']])\n",
    "    # pc = pca.transform(df[['R', 'G', 'B', 'NIR']])\n",
    "    # df['pc1'] = pc[:, 0]\n",
    "    # df['pc2'] = pc[:, 1]\n",
    "    return df\n",
    "\n",
    "# extract features from source and corrected image mosaics\n",
    "feats = []\n",
    "for im_path in [src_mosaic_path, corr_mosaic_path]:    \n",
    "    with rio.open(im_path, 'r') as ds:\n",
    "        feats_gdf = extract_feats(ds, class_label_gdf)\n",
    "    feats_gdf['label_i'] = pd.Categorical(feats_gdf['label']).codes\n",
    "    feats.append(feats_gdf)\n",
    "feats_dict = dict(zip(['Source', 'Corrected'], feats))"
   ]
  },
  {
   "cell_type": "markdown",
   "metadata": {},
   "source": [
    "### Feature visualisation\n",
    "\n",
    "Visualise scatter of source and corrected features."
   ]
  },
  {
   "cell_type": "code",
   "execution_count": 33,
   "metadata": {},
   "outputs": [],
   "source": [
    "# TODO: KDE class plot\n",
    "from mpl_toolkits.mplot3d import Axes3D\n",
    "def class_scatter(\n",
    "    df: pd.DataFrame, x=None, y=None, z=None, label_col='label', ax=None\n",
    "):\n",
    "    \"\"\" Feature scatter plot, with class colour coding. \"\"\"\n",
    "    colours = dict(zip(\n",
    "        pd.Categorical(feats_gdf[label_col]).categories, \n",
    "        ['r', 'g', 'b', 'c', 'm', 'y', 'k', 'o']\n",
    "    ))\n",
    "    for label, group in df.groupby(label_col):\n",
    "        if z is None:\n",
    "            ax = group.plot.scatter(\n",
    "                x, y, s=1, label=label, ax=ax, c=colours[label], alpha=0.1,\n",
    "            )\n",
    "        else:\n",
    "            ax.scatter(\n",
    "                group[x], group[y], group[z], s=1, label=label, \n",
    "                c=colours[label], alpha=0.1, \n",
    "            )            \n",
    "    ax.legend()\n",
    "    for lh in ax.legend().legendHandles: \n",
    "        lh.set_alpha(1)\n",
    "\n",
    "fig, axes = pyplot.subplots(\n",
    "    1, 2, tight_layout=True, figsize=(12, 5), dpi=100, #subplot_kw=dict(projection='3d')\n",
    ")\n",
    "\n",
    "for feats_df, ax, label in zip(\n",
    "    feats_dict.values(), axes, feats_dict.keys(),\n",
    "):\n",
    "    class_scatter(feats_df.iloc[::10], 'NIR', 'B', ax=ax)\n",
    "    ax.set_title(label)"
   ]
  },
  {
   "cell_type": "code",
   "execution_count": null,
   "metadata": {},
   "outputs": [],
   "source": [
    "from scipy import stats\n",
    "from matplotlib import cm\n",
    "\n",
    "def class_kde(\n",
    "    df: pd.DataFrame, x=None, y=None, label_col='label', ax=None\n",
    "):\n",
    "    \"\"\" Feature scatter plot, with class colour coding. \"\"\"\n",
    "    colours = dict(zip(\n",
    "        pd.Categorical(feats_gdf[label_col]).categories, \n",
    "        ['r', 'g', 'b', 'c', 'm', 'y', 'k', 'o']\n",
    "    ))\n",
    "    cmaps = dict(zip(\n",
    "        pd.Categorical(feats_gdf[label_col]).categories, \n",
    "        [cm.Reds, cm.Greens, cm.Blues]\n",
    "    ))\n",
    "    def get_ptile_range(v, n=100):\n",
    "        return np.linspace(\n",
    "            np.percentile(v, .25), np.percentile(v, 99.75), n\n",
    "        )\n",
    "    xrange = get_ptile_range(df[x])\n",
    "    yrange = get_ptile_range(df[y])\n",
    "    xx, yy = np.meshgrid(xrange, yrange)  \n",
    "    pos = np.vstack([xx.ravel(), yy.ravel()])\n",
    "\n",
    "    for label, group in df.groupby(label_col):\n",
    "        val = np.vstack([group[x], group[y]])\n",
    "        kernel = stats.gaussian_kde(val)\n",
    "        pgroup = np.reshape(kernel(pos).T, xx.shape)\n",
    "        pgroup /= pgroup.max()\n",
    "        cset = ax.contour(\n",
    "            xx, yy, pgroup, colors=colours[label], alpha=0.5, \n",
    "        )\n",
    "        ax.plot(xx[0], yy[0], c=colours[label], alpha=0, label=label)\n",
    "        # ax = group.plot.scatter(\n",
    "        #     x, y, s=1, label=label, ax=ax, c=colours[label], alpha=0.1,\n",
    "        # )\n",
    "    ax.set_xlabel(x)\n",
    "    ax.set_ylabel(y)\n",
    "    ax.legend()\n",
    "    for lh in ax.legend().legendHandles: \n",
    "        lh.set_alpha(1)\n",
    "\n",
    "fig, axes = pyplot.subplots(\n",
    "    1, 2, tight_layout=True, figsize=(12, 5), dpi=100, \n",
    ")\n",
    "\n",
    "for feats_df, ax, label in zip(\n",
    "    feats_dict.values(), axes, feats_dict.keys(),\n",
    "):\n",
    "    class_kde(feats_df.iloc[::10], 'NIR', 'B', ax=ax)\n",
    "    ax.set_title(label)"
   ]
  },
  {
   "cell_type": "markdown",
   "metadata": {},
   "source": [
    "### Classification accuracy\n",
    "\n",
    "Evaluate the accuracy of a naive Bayes classifier on the source and corrected features."
   ]
  },
  {
   "cell_type": "code",
   "execution_count": 38,
   "metadata": {},
   "outputs": [
    {
     "data": {
      "application/vnd.jupyter.widget-view+json": {
       "model_id": "2e6de9021b3b43cc986fe26a656cfde7",
       "version_major": 2,
       "version_minor": 0
      },
      "text/plain": [
       "  0%|                                                                                           | 0/10 [00:00<…"
      ]
     },
     "metadata": {},
     "output_type": "display_data"
    },
    {
     "name": "stdout",
     "output_type": "stream",
     "text": [
      "Source:\n",
      "Confusion matrix:\n",
      "==========  ==========  ========  ========\n",
      "..          Background  Spekboom      Tree\n",
      "==========  ==========  ========  ========\n",
      "Background    77340.00  52457.00  82668.00\n",
      "Spekboom       4420.00  23822.00  14945.00\n",
      "Tree            540.00   2888.00   6579.00\n",
      "==========  ==========  ========  ========\n",
      "\n",
      "Normalised confusion matrix:\n",
      "==========  ==========  ========  ====\n",
      "..          Background  Spekboom  Tree\n",
      "==========  ==========  ========  ====\n",
      "Background        0.36      0.25  0.39\n",
      "Spekboom          0.10      0.55  0.35\n",
      "Tree              0.05      0.29  0.66\n",
      "==========  ==========  ========  ====\n",
      "\n",
      "Accuracy: 40.56\n",
      "Norm accuracy: 52.44\n"
     ]
    },
    {
     "data": {
      "application/vnd.jupyter.widget-view+json": {
       "model_id": "cc81a2ee9dd14ed6941f8cfcd1370e91",
       "version_major": 2,
       "version_minor": 0
      },
      "text/plain": [
       "  0%|                                                                                           | 0/10 [00:00<…"
      ]
     },
     "metadata": {},
     "output_type": "display_data"
    },
    {
     "name": "stdout",
     "output_type": "stream",
     "text": [
      "Corrected:\n",
      "Confusion matrix:\n",
      "==========  ==========  ========  ========\n",
      "..          Background  Spekboom      Tree\n",
      "==========  ==========  ========  ========\n",
      "Background    97636.00  62874.00  51955.00\n",
      "Spekboom       3162.00  29703.00  10322.00\n",
      "Tree            351.00   2459.00   7197.00\n",
      "==========  ==========  ========  ========\n",
      "\n",
      "Normalised confusion matrix:\n",
      "==========  ==========  ========  ====\n",
      "..          Background  Spekboom  Tree\n",
      "==========  ==========  ========  ====\n",
      "Background        0.46      0.30  0.24\n",
      "Spekboom          0.07      0.69  0.24\n",
      "Tree              0.04      0.25  0.72\n",
      "==========  ==========  ========  ====\n",
      "\n",
      "Accuracy: 50.64\n",
      "Norm accuracy: 62.22\n"
     ]
    }
   ],
   "source": [
    "from sklearn.naive_bayes import GaussianNB\n",
    "from sklearn.model_selection import StratifiedKFold, StratifiedGroupKFold\n",
    "from sklearn.metrics import confusion_matrix, classification_report\n",
    "from sklearn.decomposition import PCA\n",
    "from sklearn.pipeline import Pipeline\n",
    "from sklearn.preprocessing import StandardScaler\n",
    "from tabulate import tabulate\n",
    "\n",
    "def train_test(\n",
    "    X: np.ndarray, y: np.ndarray, groups: np.ndarray = None, n_splits=10,\n",
    "    clf = GaussianNB()\n",
    ") -> np.ndarray:\n",
    "    \"\"\" \n",
    "    Train and test a classifier on the given features and labels using \n",
    "    cross-validation. \n",
    "    \"\"\"\n",
    "    if groups is not None:\n",
    "        tr_ts_indices = StratifiedGroupKFold(n_splits=n_splits).split(\n",
    "            X, y, groups\n",
    "        )\n",
    "    else:\n",
    "        tr_ts_indices = StratifiedKFold(n_splits=n_splits).split(X, y)\n",
    "    \n",
    "    ypred = np.zeros_like(y)\n",
    "    for train, test in tqdm(\n",
    "        tr_ts_indices, dynamic_ncols=True, total=n_splits\n",
    "    ):\n",
    "        Xtr = X[train, :]\n",
    "        ytr = y[train]\n",
    "        Xts = X[test, :]\n",
    "        yts = y[test]\n",
    "        # clf = DecisionTreeClassifier(class_weight='balanced')\n",
    "        clf.fit(Xtr, ytr)\n",
    "        ypred[test] = clf.predict(Xts)\n",
    "    return ypred\n",
    "\n",
    "label_col = 'label'\n",
    "for df_label, df in feats_dict.items():\n",
    "    \n",
    "    # raw spectral band feature matrix\n",
    "    X = df[['R', 'G', 'B', 'NIR']].to_numpy()\n",
    "    # X = df[['pc1', 'pc2']].to_numpy()\n",
    "    # convert string class labels to int codes\n",
    "    y = pd.Categorical(df[label_col]).codes  \n",
    "    \n",
    "    class_labels = pd.Categorical(df[label_col]).categories\n",
    "    \n",
    "    priors = np.ones(len(class_labels)) / len(class_labels)\n",
    "    scaler = StandardScaler()\n",
    "    pca = PCA(n_components=1)\n",
    "    clf = GaussianNB(priors=priors)\n",
    "    pipe = Pipeline(steps=[(\"scaler\", scaler), (\"pca\", pca), (\"clf\", clf)])\n",
    "    \n",
    "    ypred = train_test(\n",
    "        X, y, groups=df.plot_id.to_numpy(), clf=pipe, n_splits=10\n",
    "    )\n",
    "    cm = confusion_matrix(y, ypred)\n",
    "    cm_norm = cm / cm.sum(axis=1).reshape(-1, 1)\n",
    "    cm_df = pd.DataFrame(data=cm, columns=class_labels, index=class_labels)\n",
    "    cm_norm_df = pd.DataFrame(\n",
    "        data=cm_norm, columns=class_labels, index=class_labels\n",
    "    )\n",
    "\n",
    "    print(f'{df_label}:')\n",
    "    # print(classification_report(y, ypred, target_names=class_labels))\n",
    "    print(f'Confusion matrix:')\n",
    "    print(tabulate(cm_df, headers=cm_df.columns, tablefmt='rst', floatfmt='.2f'))\n",
    "    print(f'\\nNormalised confusion matrix:')\n",
    "    print(tabulate(cm_norm_df, headers=cm_norm_df.columns, tablefmt='rst', floatfmt='.2f'))\n",
    "    print(f'\\nAccuracy: {100*np.sum(np.diag(cm))/np.sum(cm[:]):.2f}')\n",
    "    print(f'Norm accuracy: {100*np.mean(np.diag(cm_norm)):.2f}')"
   ]
  },
  {
   "cell_type": "code",
   "execution_count": null,
   "metadata": {},
   "outputs": [],
   "source": []
  }
 ],
 "metadata": {
  "kernelspec": {
   "display_name": "Python 3 (ipykernel)",
   "language": "python",
   "name": "python3"
  },
  "language_info": {
   "codemirror_mode": {
    "name": "ipython",
    "version": 3
   },
   "file_extension": ".py",
   "mimetype": "text/x-python",
   "name": "python",
   "nbconvert_exporter": "python",
   "pygments_lexer": "ipython3",
   "version": "3.9.13"
  },
  "vscode": {
   "interpreter": {
    "hash": "a5cb0e16c618ce62d5962a2f34302e2d299d083ff8e8afee2c1c64a34662e4b4"
   }
  },
  "widgets": {
   "application/vnd.jupyter.widget-state+json": {
    "state": {
     "002e9f3d2bef4d5787284a905f9e2ac8": {
      "model_module": "@jupyter-widgets/controls",
      "model_module_version": "1.5.0",
      "model_name": "DescriptionStyleModel",
      "state": {
       "description_width": ""
      }
     },
     "015a5610dbfa472b9bd930d9cb87c921": {
      "model_module": "@jupyter-widgets/controls",
      "model_module_version": "1.5.0",
      "model_name": "HTMLModel",
      "state": {
       "layout": "IPY_MODEL_c9c4185b4e6f456e920d158119e9dec3",
       "style": "IPY_MODEL_b72e55c4821141b69748d794a400e7e7",
       "value": "NGI_3321BD-3322AC_2010_LittleKaroo_GroundTruthSubset_Source.vrt: 100%"
      }
     },
     "0406850a66ed4720b2759fb05bc658ad": {
      "model_module": "@jupyter-widgets/controls",
      "model_module_version": "1.5.0",
      "model_name": "ProgressStyleModel",
      "state": {
       "description_width": ""
      }
     },
     "059b6fa7b246447f8078a97041125f1e": {
      "model_module": "@jupyter-widgets/base",
      "model_module_version": "1.2.0",
      "model_name": "LayoutModel",
      "state": {
       "flex": "2"
      }
     },
     "063a55003a7e462481e92a9722f8db6c": {
      "model_module": "@jupyter-widgets/base",
      "model_module_version": "1.2.0",
      "model_name": "LayoutModel",
      "state": {
       "display": "inline-flex",
       "flex_flow": "row wrap",
       "width": "100%"
      }
     },
     "077465895dcd4c46917f258a1b18a821": {
      "model_module": "@jupyter-widgets/controls",
      "model_module_version": "1.5.0",
      "model_name": "DescriptionStyleModel",
      "state": {
       "description_width": ""
      }
     },
     "079199f4afd34dc7864867122085fb52": {
      "model_module": "@jupyter-widgets/base",
      "model_module_version": "1.2.0",
      "model_name": "LayoutModel",
      "state": {}
     },
     "07d17db8dd374ed4bccc2973d012d26e": {
      "model_module": "@jupyter-widgets/base",
      "model_module_version": "1.2.0",
      "model_name": "LayoutModel",
      "state": {}
     },
     "08aa2ac793924140982e1cb85f4bf536": {
      "model_module": "@jupyter-widgets/controls",
      "model_module_version": "1.5.0",
      "model_name": "ProgressStyleModel",
      "state": {
       "description_width": ""
      }
     },
     "0b549f71558846b083d4d23e834206f3": {
      "model_module": "@jupyter-widgets/base",
      "model_module_version": "1.2.0",
      "model_name": "LayoutModel",
      "state": {
       "display": "inline-flex",
       "flex_flow": "row wrap",
       "width": "100%"
      }
     },
     "0bd8f956a3fd4984a1d43fad59e83c34": {
      "model_module": "@jupyter-widgets/base",
      "model_module_version": "1.2.0",
      "model_name": "LayoutModel",
      "state": {
       "flex": "2"
      }
     },
     "0c3fb2341bf34236b6761e9b30ddf7c8": {
      "model_module": "@jupyter-widgets/base",
      "model_module_version": "1.2.0",
      "model_name": "LayoutModel",
      "state": {}
     },
     "0cd20351dbd746659b46607379d3f435": {
      "model_module": "@jupyter-widgets/base",
      "model_module_version": "1.2.0",
      "model_name": "LayoutModel",
      "state": {}
     },
     "0d5a61845898470aa3382771ae7d4fd9": {
      "model_module": "@jupyter-widgets/controls",
      "model_module_version": "1.5.0",
      "model_name": "HBoxModel",
      "state": {
       "children": [
        "IPY_MODEL_9fbe95a4abfd4fb48484ca08cf66eb60",
        "IPY_MODEL_a14a5e77a38340129b107f3e172cb0b1",
        "IPY_MODEL_3e91827056fa480ebdc8f221d4f908aa"
       ],
       "layout": "IPY_MODEL_e5e9fbb57b7d4267b250655faade57a6"
      }
     },
     "0e32c6c480024bbb8b90724459c77df7": {
      "model_module": "@jupyter-widgets/controls",
      "model_module_version": "1.5.0",
      "model_name": "HTMLModel",
      "state": {
       "layout": "IPY_MODEL_1649b7265488421ebde2e49e1b95b450",
       "style": "IPY_MODEL_93c3ee54bff94c22bd3f94b705273ab8",
       "value": " 161/161 [00:01&lt;00:00, 140.27it/s]"
      }
     },
     "13c05b3a9b7a4d4896e68e2f700bbd9f": {
      "model_module": "@jupyter-widgets/controls",
      "model_module_version": "1.5.0",
      "model_name": "HBoxModel",
      "state": {
       "children": [
        "IPY_MODEL_9014b20bc9ba4a9fb4049fcda7630424",
        "IPY_MODEL_74107ec515474bf8b8c3b50636edfb17",
        "IPY_MODEL_0e32c6c480024bbb8b90724459c77df7"
       ],
       "layout": "IPY_MODEL_d03fe1e84ccf478fa3078eb3becd1380"
      }
     },
     "14cb317e5dcb4ddc93432ab7e55c6c4f": {
      "model_module": "@jupyter-widgets/controls",
      "model_module_version": "1.5.0",
      "model_name": "HTMLModel",
      "state": {
       "layout": "IPY_MODEL_32275fb504384eac8bbece14e6529ece",
       "style": "IPY_MODEL_f3ef9a24c715477880be7fae3e1857a2",
       "value": " 10/10 [00:03&lt;00:00,  2.78it/s]"
      }
     },
     "1649b7265488421ebde2e49e1b95b450": {
      "model_module": "@jupyter-widgets/base",
      "model_module_version": "1.2.0",
      "model_name": "LayoutModel",
      "state": {}
     },
     "1d17d1844b4e4a89b4c3e97b6e4bcfe8": {
      "model_module": "@jupyter-widgets/controls",
      "model_module_version": "1.5.0",
      "model_name": "HTMLModel",
      "state": {
       "layout": "IPY_MODEL_c489cb64c4dc40cd88ad904f912a1e27",
       "style": "IPY_MODEL_f633e14a92ba436ebdef02560d39a277",
       "value": "NGI_3321BD-3322AC_2010_LittleKaroo_GroundTruthSubset_Source.vrt: 100%"
      }
     },
     "1ecb627592d5449d9738e06272a3a37a": {
      "model_module": "@jupyter-widgets/controls",
      "model_module_version": "1.5.0",
      "model_name": "HBoxModel",
      "state": {
       "children": [
        "IPY_MODEL_2c496ea391414a3b94a8f2a4df091fdb",
        "IPY_MODEL_f7eebd948735453e91ca00e4ef6a06b2",
        "IPY_MODEL_e6a4a84e49244149ad2c7000150e1cf6"
       ],
       "layout": "IPY_MODEL_063a55003a7e462481e92a9722f8db6c"
      }
     },
     "2623a31ab87d4500bd847ffce6f5000a": {
      "model_module": "@jupyter-widgets/controls",
      "model_module_version": "1.5.0",
      "model_name": "DescriptionStyleModel",
      "state": {
       "description_width": ""
      }
     },
     "286a743c06884b0bbab26f40932b34cc": {
      "model_module": "@jupyter-widgets/controls",
      "model_module_version": "1.5.0",
      "model_name": "DescriptionStyleModel",
      "state": {
       "description_width": ""
      }
     },
     "28a6d40d2d1a4aefa6e613181270f462": {
      "model_module": "@jupyter-widgets/controls",
      "model_module_version": "1.5.0",
      "model_name": "HTMLModel",
      "state": {
       "layout": "IPY_MODEL_79906b00ad9a4923a0d6013f116431a3",
       "style": "IPY_MODEL_966b6da61e754c719e8f8fba6a9cdc56",
       "value": " 10/10 [00:01&lt;00:00,  9.22it/s]"
      }
     },
     "28bac8c9b85247aaa19e6f1c99ddf610": {
      "model_module": "@jupyter-widgets/controls",
      "model_module_version": "1.5.0",
      "model_name": "DescriptionStyleModel",
      "state": {
       "description_width": ""
      }
     },
     "29055264b67b4574adfec7a4baeabd33": {
      "model_module": "@jupyter-widgets/base",
      "model_module_version": "1.2.0",
      "model_name": "LayoutModel",
      "state": {
       "display": "inline-flex",
       "flex_flow": "row wrap",
       "width": "100%"
      }
     },
     "2b0e85919eb24acdaffca23a0fb415ee": {
      "model_module": "@jupyter-widgets/base",
      "model_module_version": "1.2.0",
      "model_name": "LayoutModel",
      "state": {}
     },
     "2bda438e867e4005831d7608f7cdb345": {
      "model_module": "@jupyter-widgets/controls",
      "model_module_version": "1.5.0",
      "model_name": "FloatProgressModel",
      "state": {
       "bar_style": "success",
       "layout": "IPY_MODEL_840c2baac87147058b687f9c1ff0ab15",
       "max": 161,
       "style": "IPY_MODEL_fb32042cad704960b063d6d29548fa1f",
       "value": 161
      }
     },
     "2c496ea391414a3b94a8f2a4df091fdb": {
      "model_module": "@jupyter-widgets/controls",
      "model_module_version": "1.5.0",
      "model_name": "HTMLModel",
      "state": {
       "layout": "IPY_MODEL_c67347c0e87f4732980a4658b66ceb64",
       "style": "IPY_MODEL_4d4ba3c957d14aa1a512c3f16733fba7",
       "value": "100%"
      }
     },
     "2d811780134e48c3a86c1db21aec221a": {
      "model_module": "@jupyter-widgets/base",
      "model_module_version": "1.2.0",
      "model_name": "LayoutModel",
      "state": {
       "flex": "2"
      }
     },
     "2e6de9021b3b43cc986fe26a656cfde7": {
      "model_module": "@jupyter-widgets/controls",
      "model_module_version": "1.5.0",
      "model_name": "HBoxModel",
      "state": {
       "children": [
        "IPY_MODEL_e011a972af814ac7a6f672c054e836e1",
        "IPY_MODEL_5d68def5365d4278aaca03cd4a2d02cc",
        "IPY_MODEL_79f318064adb43408af28fe1a683d40b"
       ],
       "layout": "IPY_MODEL_b6c51487a96643f19d7553cb679430b2"
      }
     },
     "2edc81e992004308b61dbac8083ebd0e": {
      "model_module": "@jupyter-widgets/base",
      "model_module_version": "1.2.0",
      "model_name": "LayoutModel",
      "state": {}
     },
     "2fb9c92efffc455ca0e81382ec38357e": {
      "model_module": "@jupyter-widgets/base",
      "model_module_version": "1.2.0",
      "model_name": "LayoutModel",
      "state": {}
     },
     "30d46642c4034fddb58931faacf70065": {
      "model_module": "@jupyter-widgets/controls",
      "model_module_version": "1.5.0",
      "model_name": "DescriptionStyleModel",
      "state": {
       "description_width": ""
      }
     },
     "30e672ba02be46ab9decc6b73d9f4bb2": {
      "model_module": "@jupyter-widgets/base",
      "model_module_version": "1.2.0",
      "model_name": "LayoutModel",
      "state": {}
     },
     "32275fb504384eac8bbece14e6529ece": {
      "model_module": "@jupyter-widgets/base",
      "model_module_version": "1.2.0",
      "model_name": "LayoutModel",
      "state": {}
     },
     "32406cf3b694435087b8ea4c9618b275": {
      "model_module": "@jupyter-widgets/base",
      "model_module_version": "1.2.0",
      "model_name": "LayoutModel",
      "state": {}
     },
     "32e1071d29014b60b94230e0b977112e": {
      "model_module": "@jupyter-widgets/base",
      "model_module_version": "1.2.0",
      "model_name": "LayoutModel",
      "state": {}
     },
     "34ccd75f26a840549bba67a6d1575eca": {
      "model_module": "@jupyter-widgets/controls",
      "model_module_version": "1.5.0",
      "model_name": "DescriptionStyleModel",
      "state": {
       "description_width": ""
      }
     },
     "354d946c662b43dca6bea41e6373a52b": {
      "model_module": "@jupyter-widgets/controls",
      "model_module_version": "1.5.0",
      "model_name": "HTMLModel",
      "state": {
       "layout": "IPY_MODEL_9fe327a802a24ea387608989e17e3651",
       "style": "IPY_MODEL_3d24517a6678498c81cf516b02c13dd9",
       "value": " 161/161 [00:01&lt;00:00, 143.23it/s]"
      }
     },
     "35b3d49a48a6439f97938863d074e9f4": {
      "model_module": "@jupyter-widgets/controls",
      "model_module_version": "1.5.0",
      "model_name": "HBoxModel",
      "state": {
       "children": [
        "IPY_MODEL_45438cbf9b1d4e668368e5cc93550b69",
        "IPY_MODEL_55d875cb6fec404cac1fbea02ebc07dc",
        "IPY_MODEL_5f3c9eebda254103aceec32ff4863e54"
       ],
       "layout": "IPY_MODEL_3d338438370d4c7ead4beb20f1e00bbf"
      }
     },
     "376c1bb1ea3a4d8d924dd72e6cf5b639": {
      "model_module": "@jupyter-widgets/controls",
      "model_module_version": "1.5.0",
      "model_name": "FloatProgressModel",
      "state": {
       "bar_style": "success",
       "layout": "IPY_MODEL_83d4e345769948879ab54e5f2698ffc2",
       "max": 161,
       "style": "IPY_MODEL_08aa2ac793924140982e1cb85f4bf536",
       "value": 161
      }
     },
     "37711d3691904149b534fcb23477f6d0": {
      "model_module": "@jupyter-widgets/controls",
      "model_module_version": "1.5.0",
      "model_name": "HTMLModel",
      "state": {
       "layout": "IPY_MODEL_f1ea3476d7d4495ca015954819e6a9c4",
       "style": "IPY_MODEL_8d936daf6cb84e6cb591bfa07492c61d",
       "value": " 161/161 [00:01&lt;00:00, 102.32it/s]"
      }
     },
     "3778bd5d70534fb6a30425fca20a5284": {
      "model_module": "@jupyter-widgets/controls",
      "model_module_version": "1.5.0",
      "model_name": "DescriptionStyleModel",
      "state": {
       "description_width": ""
      }
     },
     "37b5a5a5382e43168e007fab32ab17e3": {
      "model_module": "@jupyter-widgets/controls",
      "model_module_version": "1.5.0",
      "model_name": "HTMLModel",
      "state": {
       "layout": "IPY_MODEL_4c5223796e9047e98982a08facfc6e79",
       "style": "IPY_MODEL_e929a4400a5d44848cc5bf0f6aca5caf",
       "value": " 10/10 [00:03&lt;00:00,  2.59it/s]"
      }
     },
     "3d24517a6678498c81cf516b02c13dd9": {
      "model_module": "@jupyter-widgets/controls",
      "model_module_version": "1.5.0",
      "model_name": "DescriptionStyleModel",
      "state": {
       "description_width": ""
      }
     },
     "3d338438370d4c7ead4beb20f1e00bbf": {
      "model_module": "@jupyter-widgets/base",
      "model_module_version": "1.2.0",
      "model_name": "LayoutModel",
      "state": {
       "display": "inline-flex",
       "flex_flow": "row wrap",
       "width": "100%"
      }
     },
     "3db054d7afb042ceb8daf1cc84b1953d": {
      "model_module": "@jupyter-widgets/base",
      "model_module_version": "1.2.0",
      "model_name": "LayoutModel",
      "state": {
       "display": "inline-flex",
       "flex_flow": "row wrap",
       "width": "100%"
      }
     },
     "3e91827056fa480ebdc8f221d4f908aa": {
      "model_module": "@jupyter-widgets/controls",
      "model_module_version": "1.5.0",
      "model_name": "HTMLModel",
      "state": {
       "layout": "IPY_MODEL_b1ac67aa1a4d4681aa9cc7eaa8fc0d6f",
       "style": "IPY_MODEL_65931ae11e454ff3b48dd1af5e628109",
       "value": " 10/10 [00:01&lt;00:00,  9.64it/s]"
      }
     },
     "42fe71621dfd4cef94762ecc42b0b87c": {
      "model_module": "@jupyter-widgets/base",
      "model_module_version": "1.2.0",
      "model_name": "LayoutModel",
      "state": {}
     },
     "43a4bfcd50114f2cb2c7a5dd7f8bac59": {
      "model_module": "@jupyter-widgets/base",
      "model_module_version": "1.2.0",
      "model_name": "LayoutModel",
      "state": {}
     },
     "446d62becd4a420ca066850ba86f57c5": {
      "model_module": "@jupyter-widgets/base",
      "model_module_version": "1.2.0",
      "model_name": "LayoutModel",
      "state": {
       "display": "inline-flex",
       "flex_flow": "row wrap",
       "width": "100%"
      }
     },
     "44d7e6ec47274119bc1c883554578c99": {
      "model_module": "@jupyter-widgets/controls",
      "model_module_version": "1.5.0",
      "model_name": "HTMLModel",
      "state": {
       "layout": "IPY_MODEL_30e672ba02be46ab9decc6b73d9f4bb2",
       "style": "IPY_MODEL_30d46642c4034fddb58931faacf70065",
       "value": " 161/161 [00:01&lt;00:00, 103.57it/s]"
      }
     },
     "45438cbf9b1d4e668368e5cc93550b69": {
      "model_module": "@jupyter-widgets/controls",
      "model_module_version": "1.5.0",
      "model_name": "HTMLModel",
      "state": {
       "layout": "IPY_MODEL_2fb9c92efffc455ca0e81382ec38357e",
       "style": "IPY_MODEL_4bdaa73a34e04349a1ca7992c40b504c",
       "value": "100%"
      }
     },
     "4744e6013cf04eb1aa1e290d59bf1cfb": {
      "model_module": "@jupyter-widgets/controls",
      "model_module_version": "1.5.0",
      "model_name": "DescriptionStyleModel",
      "state": {
       "description_width": ""
      }
     },
     "4900f133b2074a269d81be0912b5b696": {
      "model_module": "@jupyter-widgets/base",
      "model_module_version": "1.2.0",
      "model_name": "LayoutModel",
      "state": {}
     },
     "4bc901e8b1134343b30b4287c93968bb": {
      "model_module": "@jupyter-widgets/controls",
      "model_module_version": "1.5.0",
      "model_name": "DescriptionStyleModel",
      "state": {
       "description_width": ""
      }
     },
     "4bdaa73a34e04349a1ca7992c40b504c": {
      "model_module": "@jupyter-widgets/controls",
      "model_module_version": "1.5.0",
      "model_name": "DescriptionStyleModel",
      "state": {
       "description_width": ""
      }
     },
     "4c5223796e9047e98982a08facfc6e79": {
      "model_module": "@jupyter-widgets/base",
      "model_module_version": "1.2.0",
      "model_name": "LayoutModel",
      "state": {}
     },
     "4c8f8ce32c174106b3098d987523b949": {
      "model_module": "@jupyter-widgets/controls",
      "model_module_version": "1.5.0",
      "model_name": "HBoxModel",
      "state": {
       "children": [
        "IPY_MODEL_650ac23fd29140f0bb5bee23c8519794",
        "IPY_MODEL_376c1bb1ea3a4d8d924dd72e6cf5b639",
        "IPY_MODEL_37711d3691904149b534fcb23477f6d0"
       ],
       "layout": "IPY_MODEL_0b549f71558846b083d4d23e834206f3"
      }
     },
     "4d4ba3c957d14aa1a512c3f16733fba7": {
      "model_module": "@jupyter-widgets/controls",
      "model_module_version": "1.5.0",
      "model_name": "DescriptionStyleModel",
      "state": {
       "description_width": ""
      }
     },
     "4f7d59f21df04ae3be1fe0e28d210374": {
      "model_module": "@jupyter-widgets/controls",
      "model_module_version": "1.5.0",
      "model_name": "HBoxModel",
      "state": {
       "children": [
        "IPY_MODEL_cd6d619bb13e416e9f017951cfead5ef",
        "IPY_MODEL_f8e859bb91ef45a182c68a97fcb6090d",
        "IPY_MODEL_14cb317e5dcb4ddc93432ab7e55c6c4f"
       ],
       "layout": "IPY_MODEL_446d62becd4a420ca066850ba86f57c5"
      }
     },
     "4fe7d59636484a2aa186662d0814e976": {
      "model_module": "@jupyter-widgets/base",
      "model_module_version": "1.2.0",
      "model_name": "LayoutModel",
      "state": {
       "display": "inline-flex",
       "flex_flow": "row wrap",
       "width": "100%"
      }
     },
     "51e5d0647cf54cd0a62a7053eca86171": {
      "model_module": "@jupyter-widgets/controls",
      "model_module_version": "1.5.0",
      "model_name": "ProgressStyleModel",
      "state": {
       "description_width": ""
      }
     },
     "54e4691715224658852ec21715c08212": {
      "model_module": "@jupyter-widgets/base",
      "model_module_version": "1.2.0",
      "model_name": "LayoutModel",
      "state": {
       "flex": "2"
      }
     },
     "54f57d4fdb5e43a9b292758be5d9a0fa": {
      "model_module": "@jupyter-widgets/base",
      "model_module_version": "1.2.0",
      "model_name": "LayoutModel",
      "state": {}
     },
     "54f62670b4e74e11aaeda63a221aaaff": {
      "model_module": "@jupyter-widgets/controls",
      "model_module_version": "1.5.0",
      "model_name": "DescriptionStyleModel",
      "state": {
       "description_width": ""
      }
     },
     "55923d7f47f041ef92a3db46743f9ac9": {
      "model_module": "@jupyter-widgets/base",
      "model_module_version": "1.2.0",
      "model_name": "LayoutModel",
      "state": {
       "display": "inline-flex",
       "flex_flow": "row wrap",
       "width": "100%"
      }
     },
     "55d875cb6fec404cac1fbea02ebc07dc": {
      "model_module": "@jupyter-widgets/controls",
      "model_module_version": "1.5.0",
      "model_name": "FloatProgressModel",
      "state": {
       "bar_style": "success",
       "layout": "IPY_MODEL_6c8e75e966bc47a7a1b624faeda1b6e0",
       "max": 10,
       "style": "IPY_MODEL_74da63fe5baa479f8cc12b6c1ecfd847",
       "value": 10
      }
     },
     "5623344675064c229199bec507a811b5": {
      "model_module": "@jupyter-widgets/base",
      "model_module_version": "1.2.0",
      "model_name": "LayoutModel",
      "state": {
       "flex": "2"
      }
     },
     "56ab222c184a43298abc9ca3c397efaf": {
      "model_module": "@jupyter-widgets/controls",
      "model_module_version": "1.5.0",
      "model_name": "HTMLModel",
      "state": {
       "layout": "IPY_MODEL_32e1071d29014b60b94230e0b977112e",
       "style": "IPY_MODEL_bae1e9a0f5eb405abe71d7c953d0a0ac",
       "value": " 161/161 [00:01&lt;00:00, 97.19it/s]"
      }
     },
     "56d24a7d0b7448c28793b8fdc4f69f34": {
      "model_module": "@jupyter-widgets/controls",
      "model_module_version": "1.5.0",
      "model_name": "FloatProgressModel",
      "state": {
       "bar_style": "success",
       "layout": "IPY_MODEL_6ffbe8a5863e45509ed7e20ca0c87b29",
       "max": 10,
       "style": "IPY_MODEL_d1aaa5aa2d2c4133a977e692051de5c9",
       "value": 10
      }
     },
     "5bc5c9b66ecc45b083e0efd7fc482210": {
      "model_module": "@jupyter-widgets/controls",
      "model_module_version": "1.5.0",
      "model_name": "HBoxModel",
      "state": {
       "children": [
        "IPY_MODEL_627d827fbc614b22a71ff4843ab98ef8",
        "IPY_MODEL_b86cd8672f504f3281ad71e161cfa22b",
        "IPY_MODEL_44d7e6ec47274119bc1c883554578c99"
       ],
       "layout": "IPY_MODEL_55923d7f47f041ef92a3db46743f9ac9"
      }
     },
     "5d347d61ee334a71a63353140e1a1cb5": {
      "model_module": "@jupyter-widgets/controls",
      "model_module_version": "1.5.0",
      "model_name": "ProgressStyleModel",
      "state": {
       "description_width": ""
      }
     },
     "5d68def5365d4278aaca03cd4a2d02cc": {
      "model_module": "@jupyter-widgets/controls",
      "model_module_version": "1.5.0",
      "model_name": "FloatProgressModel",
      "state": {
       "bar_style": "success",
       "layout": "IPY_MODEL_d2f1e776f7b54cccba2f8d651ab13a62",
       "max": 10,
       "style": "IPY_MODEL_bf61d259644944788391cf905794b49d",
       "value": 10
      }
     },
     "5f3c9eebda254103aceec32ff4863e54": {
      "model_module": "@jupyter-widgets/controls",
      "model_module_version": "1.5.0",
      "model_name": "HTMLModel",
      "state": {
       "layout": "IPY_MODEL_a99f1518e4964917ae9b10583906f5d8",
       "style": "IPY_MODEL_b85c5e3937ad4de1b41224048c3576a8",
       "value": " 10/10 [00:01&lt;00:00,  9.49it/s]"
      }
     },
     "5f8deeeb7e3a4a7c81bfca7039e7475d": {
      "model_module": "@jupyter-widgets/controls",
      "model_module_version": "1.5.0",
      "model_name": "DescriptionStyleModel",
      "state": {
       "description_width": ""
      }
     },
     "5fe881b7a8de4cbcbda3e649a394f2de": {
      "model_module": "@jupyter-widgets/controls",
      "model_module_version": "1.5.0",
      "model_name": "HBoxModel",
      "state": {
       "children": [
        "IPY_MODEL_cf2519904e8c4c7a9cc50a2616b92da4",
        "IPY_MODEL_805005ee57c14612856049ec45b19a2c",
        "IPY_MODEL_37b5a5a5382e43168e007fab32ab17e3"
       ],
       "layout": "IPY_MODEL_3db054d7afb042ceb8daf1cc84b1953d"
      }
     },
     "627d827fbc614b22a71ff4843ab98ef8": {
      "model_module": "@jupyter-widgets/controls",
      "model_module_version": "1.5.0",
      "model_name": "HTMLModel",
      "state": {
       "layout": "IPY_MODEL_2edc81e992004308b61dbac8083ebd0e",
       "style": "IPY_MODEL_d315e83269af420083b121350a3b7f6e",
       "value": "NGI_3321BD-3322AC_2010_LittleKaroo_GroundTruthSubset_FUSE_cREF_mGAIN_k1_1.vrt: 100%"
      }
     },
     "64b3c52aa9a247718ffbef2f99c9740a": {
      "model_module": "@jupyter-widgets/controls",
      "model_module_version": "1.5.0",
      "model_name": "HTMLModel",
      "state": {
       "layout": "IPY_MODEL_fe239b7365f04f4ca2a658ec2372b9eb",
       "style": "IPY_MODEL_8eed6cc967f34c61a3ca1841c8a21f3a",
       "value": "100%"
      }
     },
     "650ac23fd29140f0bb5bee23c8519794": {
      "model_module": "@jupyter-widgets/controls",
      "model_module_version": "1.5.0",
      "model_name": "HTMLModel",
      "state": {
       "layout": "IPY_MODEL_91185db8a62940e186614a4300b9cf07",
       "style": "IPY_MODEL_4bc901e8b1134343b30b4287c93968bb",
       "value": "NGI_3321BD-3322AC_2010_LittleKaroo_GroundTruthSubset_FUSE_cREF_mGAIN_k1_1.vrt: 100%"
      }
     },
     "65931ae11e454ff3b48dd1af5e628109": {
      "model_module": "@jupyter-widgets/controls",
      "model_module_version": "1.5.0",
      "model_name": "DescriptionStyleModel",
      "state": {
       "description_width": ""
      }
     },
     "66ee09ab4b2e4abfbb8a9f29e91611f6": {
      "model_module": "@jupyter-widgets/base",
      "model_module_version": "1.2.0",
      "model_name": "LayoutModel",
      "state": {}
     },
     "691f0fe27bf143b2a430911f3fdc3d5f": {
      "model_module": "@jupyter-widgets/base",
      "model_module_version": "1.2.0",
      "model_name": "LayoutModel",
      "state": {
       "display": "inline-flex",
       "flex_flow": "row wrap",
       "width": "100%"
      }
     },
     "6931e28c498e4e15a038e2dfc92e3391": {
      "model_module": "@jupyter-widgets/controls",
      "model_module_version": "1.5.0",
      "model_name": "DescriptionStyleModel",
      "state": {
       "description_width": ""
      }
     },
     "6a347815cbc643a88b2fe2fd80600143": {
      "model_module": "@jupyter-widgets/controls",
      "model_module_version": "1.5.0",
      "model_name": "HBoxModel",
      "state": {
       "children": [
        "IPY_MODEL_1d17d1844b4e4a89b4c3e97b6e4bcfe8",
        "IPY_MODEL_95c608753ff14da0a4663c8a0730786a",
        "IPY_MODEL_de872b1c309745b1a070e9e56a4172d0"
       ],
       "layout": "IPY_MODEL_994d8d6a4ce04809a4ada0349ab3b73e"
      }
     },
     "6adb95c0fb494dc1a96b5efafb77125e": {
      "model_module": "@jupyter-widgets/base",
      "model_module_version": "1.2.0",
      "model_name": "LayoutModel",
      "state": {}
     },
     "6b71f54e6ee8469d805c2baa9a892ae8": {
      "model_module": "@jupyter-widgets/controls",
      "model_module_version": "1.5.0",
      "model_name": "HTMLModel",
      "state": {
       "layout": "IPY_MODEL_54f57d4fdb5e43a9b292758be5d9a0fa",
       "style": "IPY_MODEL_286a743c06884b0bbab26f40932b34cc",
       "value": " 161/161 [00:01&lt;00:00, 126.70it/s]"
      }
     },
     "6bca87bfc84d4868a2d892cc0baa6a7f": {
      "model_module": "@jupyter-widgets/base",
      "model_module_version": "1.2.0",
      "model_name": "LayoutModel",
      "state": {
       "flex": "2"
      }
     },
     "6c7e258dee2244c3ac60435aef62c955": {
      "model_module": "@jupyter-widgets/controls",
      "model_module_version": "1.5.0",
      "model_name": "FloatProgressModel",
      "state": {
       "bar_style": "success",
       "layout": "IPY_MODEL_aa92853a16f143989ac801d03052d659",
       "max": 10,
       "style": "IPY_MODEL_b484d012a0df4d3bb3d8d1aa9b826cf8",
       "value": 10
      }
     },
     "6c8e75e966bc47a7a1b624faeda1b6e0": {
      "model_module": "@jupyter-widgets/base",
      "model_module_version": "1.2.0",
      "model_name": "LayoutModel",
      "state": {
       "flex": "2"
      }
     },
     "6ca725b4d45343c398bb9fa89f4e2e5a": {
      "model_module": "@jupyter-widgets/controls",
      "model_module_version": "1.5.0",
      "model_name": "FloatProgressModel",
      "state": {
       "bar_style": "success",
       "layout": "IPY_MODEL_78b4fdcec25040b785f262f97e9752e6",
       "max": 10,
       "style": "IPY_MODEL_51e5d0647cf54cd0a62a7053eca86171",
       "value": 10
      }
     },
     "6ffbe8a5863e45509ed7e20ca0c87b29": {
      "model_module": "@jupyter-widgets/base",
      "model_module_version": "1.2.0",
      "model_name": "LayoutModel",
      "state": {
       "flex": "2"
      }
     },
     "72ba0412f17641d48c4c24101be44f09": {
      "model_module": "@jupyter-widgets/controls",
      "model_module_version": "1.5.0",
      "model_name": "FloatProgressModel",
      "state": {
       "bar_style": "success",
       "layout": "IPY_MODEL_984d482efe954df69361433f8dff73af",
       "max": 10,
       "style": "IPY_MODEL_948adcdbfe5d43e983448ab7f72b3117",
       "value": 10
      }
     },
     "74107ec515474bf8b8c3b50636edfb17": {
      "model_module": "@jupyter-widgets/controls",
      "model_module_version": "1.5.0",
      "model_name": "FloatProgressModel",
      "state": {
       "bar_style": "success",
       "layout": "IPY_MODEL_ccd3d25ec7a6419b8c0928260c524fff",
       "max": 161,
       "style": "IPY_MODEL_7953125715cf48619e5236210878fa0b",
       "value": 161
      }
     },
     "74da63fe5baa479f8cc12b6c1ecfd847": {
      "model_module": "@jupyter-widgets/controls",
      "model_module_version": "1.5.0",
      "model_name": "ProgressStyleModel",
      "state": {
       "description_width": ""
      }
     },
     "7617638a9f93424d82df001050da931b": {
      "model_module": "@jupyter-widgets/base",
      "model_module_version": "1.2.0",
      "model_name": "LayoutModel",
      "state": {
       "flex": "2"
      }
     },
     "78b4fdcec25040b785f262f97e9752e6": {
      "model_module": "@jupyter-widgets/base",
      "model_module_version": "1.2.0",
      "model_name": "LayoutModel",
      "state": {
       "flex": "2"
      }
     },
     "7953125715cf48619e5236210878fa0b": {
      "model_module": "@jupyter-widgets/controls",
      "model_module_version": "1.5.0",
      "model_name": "ProgressStyleModel",
      "state": {
       "description_width": ""
      }
     },
     "79906b00ad9a4923a0d6013f116431a3": {
      "model_module": "@jupyter-widgets/base",
      "model_module_version": "1.2.0",
      "model_name": "LayoutModel",
      "state": {}
     },
     "79f318064adb43408af28fe1a683d40b": {
      "model_module": "@jupyter-widgets/controls",
      "model_module_version": "1.5.0",
      "model_name": "HTMLModel",
      "state": {
       "layout": "IPY_MODEL_d722454969f24b538b4c1fe03f3340b7",
       "style": "IPY_MODEL_96062aa7e04e468f81452343e94f89a8",
       "value": " 10/10 [00:03&lt;00:00,  3.38it/s]"
      }
     },
     "7f89f6ae59604826bc6d38a493415b25": {
      "model_module": "@jupyter-widgets/base",
      "model_module_version": "1.2.0",
      "model_name": "LayoutModel",
      "state": {}
     },
     "7fe795938c1b48159f2dd4cdaa52d5fd": {
      "model_module": "@jupyter-widgets/controls",
      "model_module_version": "1.5.0",
      "model_name": "DescriptionStyleModel",
      "state": {
       "description_width": ""
      }
     },
     "805005ee57c14612856049ec45b19a2c": {
      "model_module": "@jupyter-widgets/controls",
      "model_module_version": "1.5.0",
      "model_name": "FloatProgressModel",
      "state": {
       "bar_style": "success",
       "layout": "IPY_MODEL_7617638a9f93424d82df001050da931b",
       "max": 10,
       "style": "IPY_MODEL_c0c0a72a7a85443c9bf8f83109054b3a",
       "value": 10
      }
     },
     "810739b5006d4609af71a7bd2aaa1e58": {
      "model_module": "@jupyter-widgets/controls",
      "model_module_version": "1.5.0",
      "model_name": "HTMLModel",
      "state": {
       "layout": "IPY_MODEL_66ee09ab4b2e4abfbb8a9f29e91611f6",
       "style": "IPY_MODEL_a8a6f8e3917247c99e56e560256258d5",
       "value": "100%"
      }
     },
     "83d4e345769948879ab54e5f2698ffc2": {
      "model_module": "@jupyter-widgets/base",
      "model_module_version": "1.2.0",
      "model_name": "LayoutModel",
      "state": {
       "flex": "2"
      }
     },
     "840c2baac87147058b687f9c1ff0ab15": {
      "model_module": "@jupyter-widgets/base",
      "model_module_version": "1.2.0",
      "model_name": "LayoutModel",
      "state": {
       "flex": "2"
      }
     },
     "85142e2d0541450e992f3923b2b9099e": {
      "model_module": "@jupyter-widgets/controls",
      "model_module_version": "1.5.0",
      "model_name": "HTMLModel",
      "state": {
       "layout": "IPY_MODEL_b57b02ed16d845eba8805b80f082ca44",
       "style": "IPY_MODEL_2623a31ab87d4500bd847ffce6f5000a",
       "value": "100%"
      }
     },
     "86ad5219ef3a4931a49f5d4aaca6cb73": {
      "model_module": "@jupyter-widgets/controls",
      "model_module_version": "1.5.0",
      "model_name": "HTMLModel",
      "state": {
       "layout": "IPY_MODEL_42fe71621dfd4cef94762ecc42b0b87c",
       "style": "IPY_MODEL_28bac8c9b85247aaa19e6f1c99ddf610",
       "value": "100%"
      }
     },
     "8b5be3edba674d3c8e9bf6861af4b96a": {
      "model_module": "@jupyter-widgets/controls",
      "model_module_version": "1.5.0",
      "model_name": "HTMLModel",
      "state": {
       "layout": "IPY_MODEL_0c3fb2341bf34236b6761e9b30ddf7c8",
       "style": "IPY_MODEL_7fe795938c1b48159f2dd4cdaa52d5fd",
       "value": "NGI_3321BD-3322AC_2010_LittleKaroo_GroundTruthSubset_FUSE_cREF_mGAIN_k1_1.vrt: 100%"
      }
     },
     "8d936daf6cb84e6cb591bfa07492c61d": {
      "model_module": "@jupyter-widgets/controls",
      "model_module_version": "1.5.0",
      "model_name": "DescriptionStyleModel",
      "state": {
       "description_width": ""
      }
     },
     "8eed6cc967f34c61a3ca1841c8a21f3a": {
      "model_module": "@jupyter-widgets/controls",
      "model_module_version": "1.5.0",
      "model_name": "DescriptionStyleModel",
      "state": {
       "description_width": ""
      }
     },
     "8fa5820a76ea4c02a902d2d523dd7b4b": {
      "model_module": "@jupyter-widgets/base",
      "model_module_version": "1.2.0",
      "model_name": "LayoutModel",
      "state": {}
     },
     "9014b20bc9ba4a9fb4049fcda7630424": {
      "model_module": "@jupyter-widgets/controls",
      "model_module_version": "1.5.0",
      "model_name": "HTMLModel",
      "state": {
       "layout": "IPY_MODEL_43a4bfcd50114f2cb2c7a5dd7f8bac59",
       "style": "IPY_MODEL_90596ebb867e4b4b83c59d68fe9862d2",
       "value": "NGI_3321BD-3322AC_2010_LittleKaroo_GroundTruthSubset_Source.vrt: 100%"
      }
     },
     "90596ebb867e4b4b83c59d68fe9862d2": {
      "model_module": "@jupyter-widgets/controls",
      "model_module_version": "1.5.0",
      "model_name": "DescriptionStyleModel",
      "state": {
       "description_width": ""
      }
     },
     "90a7922ec833469897fb3d71226349e6": {
      "model_module": "@jupyter-widgets/controls",
      "model_module_version": "1.5.0",
      "model_name": "FloatProgressModel",
      "state": {
       "bar_style": "success",
       "layout": "IPY_MODEL_059b6fa7b246447f8078a97041125f1e",
       "max": 161,
       "style": "IPY_MODEL_fc3c4c2b64f34dfaae39b4fb2d515495",
       "value": 161
      }
     },
     "90b90f5ce3f44548aaf52bd76a7c271f": {
      "model_module": "@jupyter-widgets/base",
      "model_module_version": "1.2.0",
      "model_name": "LayoutModel",
      "state": {}
     },
     "91185db8a62940e186614a4300b9cf07": {
      "model_module": "@jupyter-widgets/base",
      "model_module_version": "1.2.0",
      "model_name": "LayoutModel",
      "state": {}
     },
     "93c3ee54bff94c22bd3f94b705273ab8": {
      "model_module": "@jupyter-widgets/controls",
      "model_module_version": "1.5.0",
      "model_name": "DescriptionStyleModel",
      "state": {
       "description_width": ""
      }
     },
     "93f7732b9f004e3c8169d5660b12f075": {
      "model_module": "@jupyter-widgets/controls",
      "model_module_version": "1.5.0",
      "model_name": "HBoxModel",
      "state": {
       "children": [
        "IPY_MODEL_015a5610dbfa472b9bd930d9cb87c921",
        "IPY_MODEL_90a7922ec833469897fb3d71226349e6",
        "IPY_MODEL_354d946c662b43dca6bea41e6373a52b"
       ],
       "layout": "IPY_MODEL_4fe7d59636484a2aa186662d0814e976"
      }
     },
     "945f6aa85b464fcebfb4c3e0eca5ed54": {
      "model_module": "@jupyter-widgets/controls",
      "model_module_version": "1.5.0",
      "model_name": "DescriptionStyleModel",
      "state": {
       "description_width": ""
      }
     },
     "948adcdbfe5d43e983448ab7f72b3117": {
      "model_module": "@jupyter-widgets/controls",
      "model_module_version": "1.5.0",
      "model_name": "ProgressStyleModel",
      "state": {
       "description_width": ""
      }
     },
     "95c608753ff14da0a4663c8a0730786a": {
      "model_module": "@jupyter-widgets/controls",
      "model_module_version": "1.5.0",
      "model_name": "FloatProgressModel",
      "state": {
       "bar_style": "success",
       "layout": "IPY_MODEL_54e4691715224658852ec21715c08212",
       "max": 161,
       "style": "IPY_MODEL_f69cbf0a28274c679f9d673007ac70b8",
       "value": 161
      }
     },
     "96062aa7e04e468f81452343e94f89a8": {
      "model_module": "@jupyter-widgets/controls",
      "model_module_version": "1.5.0",
      "model_name": "DescriptionStyleModel",
      "state": {
       "description_width": ""
      }
     },
     "966b6da61e754c719e8f8fba6a9cdc56": {
      "model_module": "@jupyter-widgets/controls",
      "model_module_version": "1.5.0",
      "model_name": "DescriptionStyleModel",
      "state": {
       "description_width": ""
      }
     },
     "97d24f93eccb40fcad82f51de3b6d630": {
      "model_module": "@jupyter-widgets/controls",
      "model_module_version": "1.5.0",
      "model_name": "ProgressStyleModel",
      "state": {
       "description_width": ""
      }
     },
     "984d482efe954df69361433f8dff73af": {
      "model_module": "@jupyter-widgets/base",
      "model_module_version": "1.2.0",
      "model_name": "LayoutModel",
      "state": {
       "flex": "2"
      }
     },
     "994d8d6a4ce04809a4ada0349ab3b73e": {
      "model_module": "@jupyter-widgets/base",
      "model_module_version": "1.2.0",
      "model_name": "LayoutModel",
      "state": {
       "display": "inline-flex",
       "flex_flow": "row wrap",
       "width": "100%"
      }
     },
     "9ac5283c29d1444e9ad245a9580ab946": {
      "model_module": "@jupyter-widgets/controls",
      "model_module_version": "1.5.0",
      "model_name": "HTMLModel",
      "state": {
       "layout": "IPY_MODEL_c27982a135d9457690a802332852e752",
       "style": "IPY_MODEL_002e9f3d2bef4d5787284a905f9e2ac8",
       "value": "NGI_3321BD-3322AC_2010_LittleKaroo_GroundTruthSubset_Source.vrt: 100%"
      }
     },
     "9d0f0d3f645048ab9d32b85f6c3342ca": {
      "model_module": "@jupyter-widgets/controls",
      "model_module_version": "1.5.0",
      "model_name": "DescriptionStyleModel",
      "state": {
       "description_width": ""
      }
     },
     "9fbe95a4abfd4fb48484ca08cf66eb60": {
      "model_module": "@jupyter-widgets/controls",
      "model_module_version": "1.5.0",
      "model_name": "HTMLModel",
      "state": {
       "layout": "IPY_MODEL_07d17db8dd374ed4bccc2973d012d26e",
       "style": "IPY_MODEL_eaddef598c5e4797a2accca2d4f8e2da",
       "value": "100%"
      }
     },
     "9fe327a802a24ea387608989e17e3651": {
      "model_module": "@jupyter-widgets/base",
      "model_module_version": "1.2.0",
      "model_name": "LayoutModel",
      "state": {}
     },
     "a14a5e77a38340129b107f3e172cb0b1": {
      "model_module": "@jupyter-widgets/controls",
      "model_module_version": "1.5.0",
      "model_name": "FloatProgressModel",
      "state": {
       "bar_style": "success",
       "layout": "IPY_MODEL_5623344675064c229199bec507a811b5",
       "max": 10,
       "style": "IPY_MODEL_5d347d61ee334a71a63353140e1a1cb5",
       "value": 10
      }
     },
     "a14ebaa59b4c4985a87814fe1c03e2c9": {
      "model_module": "@jupyter-widgets/controls",
      "model_module_version": "1.5.0",
      "model_name": "DescriptionStyleModel",
      "state": {
       "description_width": ""
      }
     },
     "a2d7b32dc87540089e14e561bb32bb66": {
      "model_module": "@jupyter-widgets/base",
      "model_module_version": "1.2.0",
      "model_name": "LayoutModel",
      "state": {
       "display": "inline-flex",
       "flex_flow": "row wrap",
       "width": "100%"
      }
     },
     "a33d5eebb4a1488ab80b60c8f21502f1": {
      "model_module": "@jupyter-widgets/base",
      "model_module_version": "1.2.0",
      "model_name": "LayoutModel",
      "state": {}
     },
     "a53901f2975847b6a3f7af811dd5a403": {
      "model_module": "@jupyter-widgets/base",
      "model_module_version": "1.2.0",
      "model_name": "LayoutModel",
      "state": {
       "display": "inline-flex",
       "flex_flow": "row wrap",
       "width": "100%"
      }
     },
     "a84261090cd147349a69ac4fb66734ca": {
      "model_module": "@jupyter-widgets/base",
      "model_module_version": "1.2.0",
      "model_name": "LayoutModel",
      "state": {
       "display": "inline-flex",
       "flex_flow": "row wrap",
       "width": "100%"
      }
     },
     "a8a6f8e3917247c99e56e560256258d5": {
      "model_module": "@jupyter-widgets/controls",
      "model_module_version": "1.5.0",
      "model_name": "DescriptionStyleModel",
      "state": {
       "description_width": ""
      }
     },
     "a99f1518e4964917ae9b10583906f5d8": {
      "model_module": "@jupyter-widgets/base",
      "model_module_version": "1.2.0",
      "model_name": "LayoutModel",
      "state": {}
     },
     "aa92853a16f143989ac801d03052d659": {
      "model_module": "@jupyter-widgets/base",
      "model_module_version": "1.2.0",
      "model_name": "LayoutModel",
      "state": {
       "flex": "2"
      }
     },
     "ad6d7a9c4df94075b009afd8b14fd744": {
      "model_module": "@jupyter-widgets/controls",
      "model_module_version": "1.5.0",
      "model_name": "ProgressStyleModel",
      "state": {
       "description_width": ""
      }
     },
     "ad99bd623cc6409fa5f85f97d2a15a87": {
      "model_module": "@jupyter-widgets/controls",
      "model_module_version": "1.5.0",
      "model_name": "HTMLModel",
      "state": {
       "layout": "IPY_MODEL_32406cf3b694435087b8ea4c9618b275",
       "style": "IPY_MODEL_54f62670b4e74e11aaeda63a221aaaff",
       "value": " 10/10 [00:03&lt;00:00,  3.09it/s]"
      }
     },
     "af1b2a80db3147e498578ef70003b617": {
      "model_module": "@jupyter-widgets/base",
      "model_module_version": "1.2.0",
      "model_name": "LayoutModel",
      "state": {}
     },
     "b0db3ebb03dc40e6a1c79f3ff7d5c203": {
      "model_module": "@jupyter-widgets/controls",
      "model_module_version": "1.5.0",
      "model_name": "HTMLModel",
      "state": {
       "layout": "IPY_MODEL_6adb95c0fb494dc1a96b5efafb77125e",
       "style": "IPY_MODEL_945f6aa85b464fcebfb4c3e0eca5ed54",
       "value": " 10/10 [00:01&lt;00:00,  9.68it/s]"
      }
     },
     "b1ac67aa1a4d4681aa9cc7eaa8fc0d6f": {
      "model_module": "@jupyter-widgets/base",
      "model_module_version": "1.2.0",
      "model_name": "LayoutModel",
      "state": {}
     },
     "b484d012a0df4d3bb3d8d1aa9b826cf8": {
      "model_module": "@jupyter-widgets/controls",
      "model_module_version": "1.5.0",
      "model_name": "ProgressStyleModel",
      "state": {
       "description_width": ""
      }
     },
     "b57b02ed16d845eba8805b80f082ca44": {
      "model_module": "@jupyter-widgets/base",
      "model_module_version": "1.2.0",
      "model_name": "LayoutModel",
      "state": {}
     },
     "b6c51487a96643f19d7553cb679430b2": {
      "model_module": "@jupyter-widgets/base",
      "model_module_version": "1.2.0",
      "model_name": "LayoutModel",
      "state": {
       "display": "inline-flex",
       "flex_flow": "row wrap",
       "width": "100%"
      }
     },
     "b72e55c4821141b69748d794a400e7e7": {
      "model_module": "@jupyter-widgets/controls",
      "model_module_version": "1.5.0",
      "model_name": "DescriptionStyleModel",
      "state": {
       "description_width": ""
      }
     },
     "b85c5e3937ad4de1b41224048c3576a8": {
      "model_module": "@jupyter-widgets/controls",
      "model_module_version": "1.5.0",
      "model_name": "DescriptionStyleModel",
      "state": {
       "description_width": ""
      }
     },
     "b86cd8672f504f3281ad71e161cfa22b": {
      "model_module": "@jupyter-widgets/controls",
      "model_module_version": "1.5.0",
      "model_name": "FloatProgressModel",
      "state": {
       "bar_style": "success",
       "layout": "IPY_MODEL_6bca87bfc84d4868a2d892cc0baa6a7f",
       "max": 161,
       "style": "IPY_MODEL_c510cb2635b14d10a4a1ad0db8e1db22",
       "value": 161
      }
     },
     "b909f3b92da54e03a49e6fd66dadbecf": {
      "model_module": "@jupyter-widgets/controls",
      "model_module_version": "1.5.0",
      "model_name": "HTMLModel",
      "state": {
       "layout": "IPY_MODEL_af1b2a80db3147e498578ef70003b617",
       "style": "IPY_MODEL_34ccd75f26a840549bba67a6d1575eca",
       "value": "100%"
      }
     },
     "bae1e9a0f5eb405abe71d7c953d0a0ac": {
      "model_module": "@jupyter-widgets/controls",
      "model_module_version": "1.5.0",
      "model_name": "DescriptionStyleModel",
      "state": {
       "description_width": ""
      }
     },
     "baeb089c3b3e4ec0ba58ef13bd02e8a8": {
      "model_module": "@jupyter-widgets/controls",
      "model_module_version": "1.5.0",
      "model_name": "HBoxModel",
      "state": {
       "children": [
        "IPY_MODEL_cafccb96194f4835a5c9f3fe6742819a",
        "IPY_MODEL_6ca725b4d45343c398bb9fa89f4e2e5a",
        "IPY_MODEL_28a6d40d2d1a4aefa6e613181270f462"
       ],
       "layout": "IPY_MODEL_a2d7b32dc87540089e14e561bb32bb66"
      }
     },
     "be2986775270407dab50e1bb7816bbb3": {
      "model_module": "@jupyter-widgets/controls",
      "model_module_version": "1.5.0",
      "model_name": "HBoxModel",
      "state": {
       "children": [
        "IPY_MODEL_86ad5219ef3a4931a49f5d4aaca6cb73",
        "IPY_MODEL_72ba0412f17641d48c4c24101be44f09",
        "IPY_MODEL_e778bc10b5d54dcaab8eb185270ba569"
       ],
       "layout": "IPY_MODEL_d4a5800dc95146fb840d4966d9e3a375"
      }
     },
     "bf61d259644944788391cf905794b49d": {
      "model_module": "@jupyter-widgets/controls",
      "model_module_version": "1.5.0",
      "model_name": "ProgressStyleModel",
      "state": {
       "description_width": ""
      }
     },
     "bfe7ed5a30be4cc2af37371e63da5e5c": {
      "model_module": "@jupyter-widgets/base",
      "model_module_version": "1.2.0",
      "model_name": "LayoutModel",
      "state": {
       "flex": "2"
      }
     },
     "c0c0a72a7a85443c9bf8f83109054b3a": {
      "model_module": "@jupyter-widgets/controls",
      "model_module_version": "1.5.0",
      "model_name": "ProgressStyleModel",
      "state": {
       "description_width": ""
      }
     },
     "c1e47d9c0ff24751bc371e9c27c24f60": {
      "model_module": "@jupyter-widgets/controls",
      "model_module_version": "1.5.0",
      "model_name": "DescriptionStyleModel",
      "state": {
       "description_width": ""
      }
     },
     "c27982a135d9457690a802332852e752": {
      "model_module": "@jupyter-widgets/base",
      "model_module_version": "1.2.0",
      "model_name": "LayoutModel",
      "state": {}
     },
     "c489cb64c4dc40cd88ad904f912a1e27": {
      "model_module": "@jupyter-widgets/base",
      "model_module_version": "1.2.0",
      "model_name": "LayoutModel",
      "state": {}
     },
     "c4c0398974974bfaab7060834fe2abac": {
      "model_module": "@jupyter-widgets/controls",
      "model_module_version": "1.5.0",
      "model_name": "HBoxModel",
      "state": {
       "children": [
        "IPY_MODEL_64b3c52aa9a247718ffbef2f99c9740a",
        "IPY_MODEL_6c7e258dee2244c3ac60435aef62c955",
        "IPY_MODEL_b0db3ebb03dc40e6a1c79f3ff7d5c203"
       ],
       "layout": "IPY_MODEL_691f0fe27bf143b2a430911f3fdc3d5f"
      }
     },
     "c510cb2635b14d10a4a1ad0db8e1db22": {
      "model_module": "@jupyter-widgets/controls",
      "model_module_version": "1.5.0",
      "model_name": "ProgressStyleModel",
      "state": {
       "description_width": ""
      }
     },
     "c61ed8d20ff744709740bab33b6b5ab1": {
      "model_module": "@jupyter-widgets/controls",
      "model_module_version": "1.5.0",
      "model_name": "FloatProgressModel",
      "state": {
       "bar_style": "success",
       "layout": "IPY_MODEL_0bd8f956a3fd4984a1d43fad59e83c34",
       "max": 10,
       "style": "IPY_MODEL_fe3c4c68e6934c40ba41763a3058b97f",
       "value": 10
      }
     },
     "c67347c0e87f4732980a4658b66ceb64": {
      "model_module": "@jupyter-widgets/base",
      "model_module_version": "1.2.0",
      "model_name": "LayoutModel",
      "state": {}
     },
     "c88a76bd7a824b6f805aae1b7cf34529": {
      "model_module": "@jupyter-widgets/controls",
      "model_module_version": "1.5.0",
      "model_name": "FloatProgressModel",
      "state": {
       "bar_style": "success",
       "layout": "IPY_MODEL_bfe7ed5a30be4cc2af37371e63da5e5c",
       "max": 161,
       "style": "IPY_MODEL_df48625a9f0a45fca923ef4a82d8f322",
       "value": 161
      }
     },
     "c9c4185b4e6f456e920d158119e9dec3": {
      "model_module": "@jupyter-widgets/base",
      "model_module_version": "1.2.0",
      "model_name": "LayoutModel",
      "state": {}
     },
     "cafccb96194f4835a5c9f3fe6742819a": {
      "model_module": "@jupyter-widgets/controls",
      "model_module_version": "1.5.0",
      "model_name": "HTMLModel",
      "state": {
       "layout": "IPY_MODEL_90b90f5ce3f44548aaf52bd76a7c271f",
       "style": "IPY_MODEL_5f8deeeb7e3a4a7c81bfca7039e7475d",
       "value": "100%"
      }
     },
     "cc81a2ee9dd14ed6941f8cfcd1370e91": {
      "model_module": "@jupyter-widgets/controls",
      "model_module_version": "1.5.0",
      "model_name": "HBoxModel",
      "state": {
       "children": [
        "IPY_MODEL_b909f3b92da54e03a49e6fd66dadbecf",
        "IPY_MODEL_d4052d05d3404ef29f23d654706637cc",
        "IPY_MODEL_ad99bd623cc6409fa5f85f97d2a15a87"
       ],
       "layout": "IPY_MODEL_fbcffea0892d4ff99367714f245d2bdf"
      }
     },
     "ccd3d25ec7a6419b8c0928260c524fff": {
      "model_module": "@jupyter-widgets/base",
      "model_module_version": "1.2.0",
      "model_name": "LayoutModel",
      "state": {
       "flex": "2"
      }
     },
     "cd6d619bb13e416e9f017951cfead5ef": {
      "model_module": "@jupyter-widgets/controls",
      "model_module_version": "1.5.0",
      "model_name": "HTMLModel",
      "state": {
       "layout": "IPY_MODEL_eb9ddf837c7c4eb3a99d818c8c92599e",
       "style": "IPY_MODEL_d10f34ee28124acf86915c266ec02393",
       "value": "100%"
      }
     },
     "ce6eb07ea174416d909d9eb0c8fc5ef2": {
      "model_module": "@jupyter-widgets/controls",
      "model_module_version": "1.5.0",
      "model_name": "HTMLModel",
      "state": {
       "layout": "IPY_MODEL_079199f4afd34dc7864867122085fb52",
       "style": "IPY_MODEL_a14ebaa59b4c4985a87814fe1c03e2c9",
       "value": " 10/10 [00:01&lt;00:00,  9.42it/s]"
      }
     },
     "cf2519904e8c4c7a9cc50a2616b92da4": {
      "model_module": "@jupyter-widgets/controls",
      "model_module_version": "1.5.0",
      "model_name": "HTMLModel",
      "state": {
       "layout": "IPY_MODEL_7f89f6ae59604826bc6d38a493415b25",
       "style": "IPY_MODEL_4744e6013cf04eb1aa1e290d59bf1cfb",
       "value": "100%"
      }
     },
     "d03fe1e84ccf478fa3078eb3becd1380": {
      "model_module": "@jupyter-widgets/base",
      "model_module_version": "1.2.0",
      "model_name": "LayoutModel",
      "state": {
       "display": "inline-flex",
       "flex_flow": "row wrap",
       "width": "100%"
      }
     },
     "d10f34ee28124acf86915c266ec02393": {
      "model_module": "@jupyter-widgets/controls",
      "model_module_version": "1.5.0",
      "model_name": "DescriptionStyleModel",
      "state": {
       "description_width": ""
      }
     },
     "d1aaa5aa2d2c4133a977e692051de5c9": {
      "model_module": "@jupyter-widgets/controls",
      "model_module_version": "1.5.0",
      "model_name": "ProgressStyleModel",
      "state": {
       "description_width": ""
      }
     },
     "d2f1e776f7b54cccba2f8d651ab13a62": {
      "model_module": "@jupyter-widgets/base",
      "model_module_version": "1.2.0",
      "model_name": "LayoutModel",
      "state": {
       "flex": "2"
      }
     },
     "d315e83269af420083b121350a3b7f6e": {
      "model_module": "@jupyter-widgets/controls",
      "model_module_version": "1.5.0",
      "model_name": "DescriptionStyleModel",
      "state": {
       "description_width": ""
      }
     },
     "d3e0be88b0b14514afeb44216681f07c": {
      "model_module": "@jupyter-widgets/base",
      "model_module_version": "1.2.0",
      "model_name": "LayoutModel",
      "state": {
       "flex": "2"
      }
     },
     "d4052d05d3404ef29f23d654706637cc": {
      "model_module": "@jupyter-widgets/controls",
      "model_module_version": "1.5.0",
      "model_name": "FloatProgressModel",
      "state": {
       "bar_style": "success",
       "layout": "IPY_MODEL_2d811780134e48c3a86c1db21aec221a",
       "max": 10,
       "style": "IPY_MODEL_ad6d7a9c4df94075b009afd8b14fd744",
       "value": 10
      }
     },
     "d4a5800dc95146fb840d4966d9e3a375": {
      "model_module": "@jupyter-widgets/base",
      "model_module_version": "1.2.0",
      "model_name": "LayoutModel",
      "state": {
       "display": "inline-flex",
       "flex_flow": "row wrap",
       "width": "100%"
      }
     },
     "d722454969f24b538b4c1fe03f3340b7": {
      "model_module": "@jupyter-widgets/base",
      "model_module_version": "1.2.0",
      "model_name": "LayoutModel",
      "state": {}
     },
     "de872b1c309745b1a070e9e56a4172d0": {
      "model_module": "@jupyter-widgets/controls",
      "model_module_version": "1.5.0",
      "model_name": "HTMLModel",
      "state": {
       "layout": "IPY_MODEL_0cd20351dbd746659b46607379d3f435",
       "style": "IPY_MODEL_077465895dcd4c46917f258a1b18a821",
       "value": " 161/161 [00:01&lt;00:00, 132.52it/s]"
      }
     },
     "df48625a9f0a45fca923ef4a82d8f322": {
      "model_module": "@jupyter-widgets/controls",
      "model_module_version": "1.5.0",
      "model_name": "ProgressStyleModel",
      "state": {
       "description_width": ""
      }
     },
     "dfbce1ddb5c34a36b23ad1ceb4209b34": {
      "model_module": "@jupyter-widgets/base",
      "model_module_version": "1.2.0",
      "model_name": "LayoutModel",
      "state": {
       "display": "inline-flex",
       "flex_flow": "row wrap",
       "width": "100%"
      }
     },
     "e011a972af814ac7a6f672c054e836e1": {
      "model_module": "@jupyter-widgets/controls",
      "model_module_version": "1.5.0",
      "model_name": "HTMLModel",
      "state": {
       "layout": "IPY_MODEL_a33d5eebb4a1488ab80b60c8f21502f1",
       "style": "IPY_MODEL_6931e28c498e4e15a038e2dfc92e3391",
       "value": "100%"
      }
     },
     "e2e8f308b2c34bcfae3995f8304873e1": {
      "model_module": "@jupyter-widgets/controls",
      "model_module_version": "1.5.0",
      "model_name": "HBoxModel",
      "state": {
       "children": [
        "IPY_MODEL_810739b5006d4609af71a7bd2aaa1e58",
        "IPY_MODEL_c61ed8d20ff744709740bab33b6b5ab1",
        "IPY_MODEL_f0bb9b5ef3e54dd8a3b4c87dc68f59a4"
       ],
       "layout": "IPY_MODEL_a53901f2975847b6a3f7af811dd5a403"
      }
     },
     "e379d053adcd44a786242688923d7170": {
      "model_module": "@jupyter-widgets/controls",
      "model_module_version": "1.5.0",
      "model_name": "HBoxModel",
      "state": {
       "children": [
        "IPY_MODEL_9ac5283c29d1444e9ad245a9580ab946",
        "IPY_MODEL_2bda438e867e4005831d7608f7cdb345",
        "IPY_MODEL_6b71f54e6ee8469d805c2baa9a892ae8"
       ],
       "layout": "IPY_MODEL_a84261090cd147349a69ac4fb66734ca"
      }
     },
     "e5e9fbb57b7d4267b250655faade57a6": {
      "model_module": "@jupyter-widgets/base",
      "model_module_version": "1.2.0",
      "model_name": "LayoutModel",
      "state": {
       "display": "inline-flex",
       "flex_flow": "row wrap",
       "width": "100%"
      }
     },
     "e6a4a84e49244149ad2c7000150e1cf6": {
      "model_module": "@jupyter-widgets/controls",
      "model_module_version": "1.5.0",
      "model_name": "HTMLModel",
      "state": {
       "layout": "IPY_MODEL_4900f133b2074a269d81be0912b5b696",
       "style": "IPY_MODEL_3778bd5d70534fb6a30425fca20a5284",
       "value": " 10/10 [00:03&lt;00:00,  2.89it/s]"
      }
     },
     "e778bc10b5d54dcaab8eb185270ba569": {
      "model_module": "@jupyter-widgets/controls",
      "model_module_version": "1.5.0",
      "model_name": "HTMLModel",
      "state": {
       "layout": "IPY_MODEL_2b0e85919eb24acdaffca23a0fb415ee",
       "style": "IPY_MODEL_9d0f0d3f645048ab9d32b85f6c3342ca",
       "value": " 10/10 [00:01&lt;00:00,  8.69it/s]"
      }
     },
     "e929a4400a5d44848cc5bf0f6aca5caf": {
      "model_module": "@jupyter-widgets/controls",
      "model_module_version": "1.5.0",
      "model_name": "DescriptionStyleModel",
      "state": {
       "description_width": ""
      }
     },
     "eaddef598c5e4797a2accca2d4f8e2da": {
      "model_module": "@jupyter-widgets/controls",
      "model_module_version": "1.5.0",
      "model_name": "DescriptionStyleModel",
      "state": {
       "description_width": ""
      }
     },
     "eb9ddf837c7c4eb3a99d818c8c92599e": {
      "model_module": "@jupyter-widgets/base",
      "model_module_version": "1.2.0",
      "model_name": "LayoutModel",
      "state": {}
     },
     "edc85ffc03f24328a9ea9f28f8c22bba": {
      "model_module": "@jupyter-widgets/base",
      "model_module_version": "1.2.0",
      "model_name": "LayoutModel",
      "state": {
       "flex": "2"
      }
     },
     "f08de13e3ca543fc9274b63985a80d91": {
      "model_module": "@jupyter-widgets/controls",
      "model_module_version": "1.5.0",
      "model_name": "HBoxModel",
      "state": {
       "children": [
        "IPY_MODEL_85142e2d0541450e992f3923b2b9099e",
        "IPY_MODEL_56d24a7d0b7448c28793b8fdc4f69f34",
        "IPY_MODEL_ce6eb07ea174416d909d9eb0c8fc5ef2"
       ],
       "layout": "IPY_MODEL_dfbce1ddb5c34a36b23ad1ceb4209b34"
      }
     },
     "f0bb9b5ef3e54dd8a3b4c87dc68f59a4": {
      "model_module": "@jupyter-widgets/controls",
      "model_module_version": "1.5.0",
      "model_name": "HTMLModel",
      "state": {
       "layout": "IPY_MODEL_8fa5820a76ea4c02a902d2d523dd7b4b",
       "style": "IPY_MODEL_c1e47d9c0ff24751bc371e9c27c24f60",
       "value": " 10/10 [00:03&lt;00:00,  2.94it/s]"
      }
     },
     "f1ea3476d7d4495ca015954819e6a9c4": {
      "model_module": "@jupyter-widgets/base",
      "model_module_version": "1.2.0",
      "model_name": "LayoutModel",
      "state": {}
     },
     "f3ef9a24c715477880be7fae3e1857a2": {
      "model_module": "@jupyter-widgets/controls",
      "model_module_version": "1.5.0",
      "model_name": "DescriptionStyleModel",
      "state": {
       "description_width": ""
      }
     },
     "f633e14a92ba436ebdef02560d39a277": {
      "model_module": "@jupyter-widgets/controls",
      "model_module_version": "1.5.0",
      "model_name": "DescriptionStyleModel",
      "state": {
       "description_width": ""
      }
     },
     "f69cbf0a28274c679f9d673007ac70b8": {
      "model_module": "@jupyter-widgets/controls",
      "model_module_version": "1.5.0",
      "model_name": "ProgressStyleModel",
      "state": {
       "description_width": ""
      }
     },
     "f7eebd948735453e91ca00e4ef6a06b2": {
      "model_module": "@jupyter-widgets/controls",
      "model_module_version": "1.5.0",
      "model_name": "FloatProgressModel",
      "state": {
       "bar_style": "success",
       "layout": "IPY_MODEL_edc85ffc03f24328a9ea9f28f8c22bba",
       "max": 10,
       "style": "IPY_MODEL_0406850a66ed4720b2759fb05bc658ad",
       "value": 10
      }
     },
     "f8e859bb91ef45a182c68a97fcb6090d": {
      "model_module": "@jupyter-widgets/controls",
      "model_module_version": "1.5.0",
      "model_name": "FloatProgressModel",
      "state": {
       "bar_style": "success",
       "layout": "IPY_MODEL_d3e0be88b0b14514afeb44216681f07c",
       "max": 10,
       "style": "IPY_MODEL_97d24f93eccb40fcad82f51de3b6d630",
       "value": 10
      }
     },
     "fb32042cad704960b063d6d29548fa1f": {
      "model_module": "@jupyter-widgets/controls",
      "model_module_version": "1.5.0",
      "model_name": "ProgressStyleModel",
      "state": {
       "description_width": ""
      }
     },
     "fbcffea0892d4ff99367714f245d2bdf": {
      "model_module": "@jupyter-widgets/base",
      "model_module_version": "1.2.0",
      "model_name": "LayoutModel",
      "state": {
       "display": "inline-flex",
       "flex_flow": "row wrap",
       "width": "100%"
      }
     },
     "fc3c4c2b64f34dfaae39b4fb2d515495": {
      "model_module": "@jupyter-widgets/controls",
      "model_module_version": "1.5.0",
      "model_name": "ProgressStyleModel",
      "state": {
       "description_width": ""
      }
     },
     "fc3f34cff31f4daca34a9583cc03472e": {
      "model_module": "@jupyter-widgets/controls",
      "model_module_version": "1.5.0",
      "model_name": "HBoxModel",
      "state": {
       "children": [
        "IPY_MODEL_8b5be3edba674d3c8e9bf6861af4b96a",
        "IPY_MODEL_c88a76bd7a824b6f805aae1b7cf34529",
        "IPY_MODEL_56ab222c184a43298abc9ca3c397efaf"
       ],
       "layout": "IPY_MODEL_29055264b67b4574adfec7a4baeabd33"
      }
     },
     "fe239b7365f04f4ca2a658ec2372b9eb": {
      "model_module": "@jupyter-widgets/base",
      "model_module_version": "1.2.0",
      "model_name": "LayoutModel",
      "state": {}
     },
     "fe3c4c68e6934c40ba41763a3058b97f": {
      "model_module": "@jupyter-widgets/controls",
      "model_module_version": "1.5.0",
      "model_name": "ProgressStyleModel",
      "state": {
       "description_width": ""
      }
     }
    },
    "version_major": 2,
    "version_minor": 0
   }
  }
 },
 "nbformat": 4,
 "nbformat_minor": 4
}
