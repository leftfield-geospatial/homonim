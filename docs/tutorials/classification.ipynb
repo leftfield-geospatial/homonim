{
 "cells": [
  {
   "cell_type": "markdown",
   "metadata": {},
   "source": [
    "# Classification\n",
    "\n",
    "This notebook demonstrates how `homonim` can help improve classifier accuracy.  It works with images and ground truth taken from a [vegetation mapping study](https://doi.org/10.1117/1.jrs.12.046022) that sought to identify Spekboom in the Little Karoo, South Africa.  Aerial imagery with 50 cm spatial resolution and 4 spectral bands (red, green, blue and near-infrared) was obtained from the  [NGI](https://ngi.dalrrd.gov.za/index.php/what-we-do/aerial-photography-and-imagery).  Ground truth data consists of ± 160 polygons with labels for 3 classes: \n",
    "\n",
    "- Spekboom: a species of succulent shrub.\n",
    "- Tree: any other tree. \n",
    "- Background: other vegetation, bare ground etc.\n",
    "\n",
    "## Setup\n",
    "\n",
    "### Install dependencies\n",
    "\n",
    "`geedim`, `geopandas`, `gdal`, `matplotlib` and `sklearn` are required to run the notebook.  You can uncomment the cell below to install them, if they aren't installed already."
   ]
  },
  {
   "cell_type": "code",
   "execution_count": 1,
   "metadata": {},
   "outputs": [],
   "source": [
    "# import sys\n",
    "# if 'conda' in sys.prefix:\n",
    "#     # install into the conda environment the notebook is being run from\n",
    "#     !conda install --yes --prefix {sys.prefix} -c conda-forge geedim geopandas gdal matplotlib sklearn\n",
    "# else:\n",
    "#     # install into the python environment the notebook is being run from\n",
    "#     !{sys.executable} -m pip install geedim geopandas gdal matplotlib sklearn"
   ]
  },
  {
   "cell_type": "code",
   "execution_count": 1,
   "metadata": {},
   "outputs": [],
   "source": [
    "# imports used by more than one cell\n",
    "import logging\n",
    "import warnings\n",
    "from pathlib import Path\n",
    "from matplotlib import pyplot\n",
    "import numpy as np\n",
    "import rasterio as rio\n",
    "import pandas as pd\n",
    "from tqdm.auto import tqdm\n",
    "\n",
    "import geedim as gd\n",
    "\n",
    "logging.basicConfig(level=logging.ERROR)"
   ]
  },
  {
   "cell_type": "code",
   "execution_count": 2,
   "metadata": {},
   "outputs": [],
   "source": [
    "# initialise source and reference paths\n",
    "from glob import glob\n",
    "src_root = Path(\n",
    "    'V:/Data/HomonimEgs/NGI_3321BD-3322AC_2010_LittleKaroo/Source/'\n",
    "    'GroundTruthSubset'\n",
    ")\n",
    "src_mosaic_path = src_root.joinpath(\n",
    "    'NGI_3321BD-3322AC_2010_LittleKaroo_GroundTruthSubset_Source.vrt'\n",
    ")\n",
    "src_paths = [\n",
    "    Path(src_path) \n",
    "    for src_path in glob(str(src_root.joinpath('*_RGBN_CMP.tif')))\n",
    "]\n",
    "\n",
    "ref_root = Path(\n",
    "    'V:/Data/HomonimEgs/NGI_3321BD-3322AC_2010_LittleKaroo/Reference/'\n",
    "    'GroundTruthSubset'\n",
    ")\n",
    "l7_ref_path = ref_root.joinpath('l7_comp_ref.tif')\n",
    "modis_ref_path = ref_root.joinpath('modis_nbar_ref.tif')\n",
    "\n",
    "# create a search region that covers the source image mosaic\n",
    "region = gd.utils.get_bounds(src_mosaic_path)"
   ]
  },
  {
   "cell_type": "markdown",
   "metadata": {},
   "source": [
    "## Search and download reference images\n",
    "\n",
    "Use [`geedim`](https://github.com/dugalh/geedim) to search for and download Landsat-7 and MODIS NBAR reference images."
   ]
  },
  {
   "cell_type": "code",
   "execution_count": 4,
   "metadata": {},
   "outputs": [
    {
     "name": "stdout",
     "output_type": "stream",
     "text": [
      "Image property descriptions:\n",
      "\n",
      "ABBREV     NAME                  DESCRIPTION\n",
      "---------  --------------------  ---------------------------------------\n",
      "ID         system:id             Earth Engine image id\n",
      "DATE       system:time_start     Image capture date/time (UTC)\n",
      "FILL       FILL_PORTION          Portion of valid pixels (%)\n",
      "CLOUDLESS  CLOUDLESS_PORTION     Portion of cloud/shadow free pixels (%)\n",
      "GRMSE      GEOMETRIC_RMSE_MODEL  Orthorectification RMSE (m)\n",
      "SAA        SUN_AZIMUTH           Solar azimuth angle (deg)\n",
      "SEA        SUN_ELEVATION         Solar elevation angle (deg)\n",
      "\n",
      "Search Results:\n",
      "\n",
      "ID                                          DATE              FILL CLOUDLESS GRMSE   SAA   SEA\n",
      "------------------------------------------- ---------------- ----- --------- ----- ----- -----\n",
      "LANDSAT/LE07/C02/T1_L2/LE07_173083_20100203 2010-02-03 08:14 92.12     92.10  4.74 73.32 52.10\n",
      "LANDSAT/LE07/C02/T1_L2/LE07_173083_20100219 2010-02-19 08:14 92.01     92.01  4.58 66.61 49.04\n"
     ]
    }
   ],
   "source": [
    "# Note: soure images captured from 2010-01-22 - 2010-02-01\n",
    "gd.Initialize()\n",
    "\n",
    "# create and search the Landsat-7 collection\n",
    "l7_coll = gd.MaskedCollection.from_name('LANDSAT/LE07/C02/T1_L2')\n",
    "l7_coll = l7_coll.search(\n",
    "    '2010-01-01', '2010-02-28', region, cloudless_portion=50\n",
    ")\n",
    "print('Image property descriptions:\\n\\n' + l7_coll.schema_table)\n",
    "print('\\nSearch Results:\\n\\n' + l7_coll.properties_table)\n",
    "\n",
    "# equivalent geedim command line:\n",
    "# !geedim search -c l7-c2-l2 -s 2010-01-01 -e 2010-02-28 -cp 50  -r {src_mosaic_path}"
   ]
  },
  {
   "cell_type": "code",
   "execution_count": 6,
   "metadata": {},
   "outputs": [
    {
     "data": {
      "application/vnd.jupyter.widget-view+json": {
       "model_id": "1b46c72e2cd44218a2c1f1c37b2294fa",
       "version_major": 2,
       "version_minor": 0
      },
      "text/plain": [
       "l7_comp_ref.tif: |                                                     | 0.00/367M (raw) [  0.0%] in 00:00 (et…"
      ]
     },
     "metadata": {},
     "output_type": "display_data"
    }
   ],
   "source": [
    "# create a composite of L7 search results to fill in SLE gaps\n",
    "l7_comp_im = l7_coll.composite(\n",
    "    gd.CompositeMethod.q_mosaic, date='2010-01-27', \n",
    "    resampling=gd.ResamplingMethod.bilinear,\n",
    ")\n",
    "\n",
    "# get source mosaic CRS for download parameter\n",
    "with rio.open(src_mosaic_path, 'r') as ds:\n",
    "    src_crs = ds.crs.to_wkt()\n",
    "\n",
    "# download\n",
    "l7_comp_im.download(\n",
    "    l7_ref_path, crs=src_crs, scale=30, region=region, \n",
    "    scale_offset=True, overwrite=True\n",
    ")\n",
    "\n",
    "# equivalent geedim command line:\n",
    "# !geedim composite  -cm q_mosaic --date 2010-01-27 -i LANDSAT/LE07/C02/T1_L2/LE07_173083_20100203 -i LANDSAT/LE07/C02/T1_L2/LE07_173083_20100219 download --crs {src_crs}  --scale 30 -r {src_mosaic_path}"
   ]
  },
  {
   "cell_type": "code",
   "execution_count": 8,
   "metadata": {},
   "outputs": [
    {
     "name": "stdout",
     "output_type": "stream",
     "text": [
      "Image property descriptions:\n",
      "\n",
      "ABBREV  NAME               DESCRIPTION\n",
      "------  -----------------  -----------------------------\n",
      "ID      system:id          Earth Engine image id\n",
      "DATE    system:time_start  Image capture date/time (UTC)\n",
      "FILL    FILL_PORTION       Portion of valid pixels (%)\n",
      "\n",
      "Search Results:\n",
      "\n",
      "ID                           DATE             FILL\n",
      "---------------------------- ---------------- ----\n",
      "MODIS/006/MCD43A4/2022_01_27 2022-01-27 00:00  100\n"
     ]
    },
    {
     "data": {
      "application/vnd.jupyter.widget-view+json": {
       "model_id": "69bba390f2c949e1be526c74692d6180",
       "version_major": 2,
       "version_minor": 0
      },
      "text/plain": [
       "modis_nbar_ref.tif: |                                          | 0.00/278k (raw) [  0.0%] in 00:00 (eta:     ?…"
      ]
     },
     "metadata": {},
     "output_type": "display_data"
    }
   ],
   "source": [
    "# search the MODIS NBAR collection\n",
    "modis_coll = gd.MaskedCollection.from_name('MODIS/006/MCD43A4')\n",
    "modis_coll = modis_coll.search(\n",
    "    '2022-01-27', '2022-01-28', region, \n",
    ")\n",
    "print('Image property descriptions:\\n\\n' + modis_coll.schema_table)\n",
    "print('\\nSearch Results:\\n\\n' + modis_coll.properties_table)\n",
    "\n",
    "# download\n",
    "modis_image = gd.MaskedImage.from_id(\n",
    "    'MODIS/006/MCD43A4/2010_01_27', mask=True\n",
    ")\n",
    "modis_image.download(\n",
    "    modis_ref_path, region=region, dtype='uint16', overwrite=True\n",
    ")\n",
    "\n",
    "# equivalent geedim command line:\n",
    "# !geedim search -c modis-nbar -s 2010-01-27 -e 2010-01-28 -r {src_mosaic_path} download -o"
   ]
  },
  {
   "cell_type": "markdown",
   "metadata": {},
   "source": [
    "# Correction\n",
    "\n",
    "Setup correction parameters and paths."
   ]
  },
  {
   "cell_type": "code",
   "execution_count": 21,
   "metadata": {},
   "outputs": [],
   "source": [
    "from homonim import Model, ProcCrs, utils\n",
    "if False:\n",
    "    # fuse with Landsat-7 and compare with MODIS NBAR\n",
    "    ref_bands = [3, 2, 1, 4]\n",
    "    cmp_ref_bands = [1, 4, 3, 2]\n",
    "    ref_path = l7_ref_path\n",
    "    cmp_ref_path = modis_ref_path\n",
    "    model = Model.gain\n",
    "    kernel_shape = (5, 5)\n",
    "    corr_root = Path(\n",
    "        'V:/Data/HomonimEgs/NGI_3321BD-3322AC_2010_LittleKaroo/Corrected/'\n",
    "        'GroundTruthSubset/L7/'\n",
    "    )\n",
    "    ref_sc_off = [.2, 0]\n",
    "    out_profile = None\n",
    "else:\n",
    "    # fuse with MODIS NBAR and compare with Landsat-7\n",
    "    ref_bands = [1, 4, 3, 2]\n",
    "    cmp_ref_bands = [3, 2, 1, 4]\n",
    "    ref_path = modis_ref_path\n",
    "    cmp_ref_path = l7_ref_path\n",
    "    model = Model.gain\n",
    "    kernel_shape = (1, 1)\n",
    "    corr_root = Path(\n",
    "        'V:/Data/HomonimEgs/NGI_3321BD-3322AC_2010_LittleKaroo/Corrected/'\n",
    "        'GroundTruthSubset/Modis/'\n",
    "    )\n",
    "    ref_sc_off = [1.7e3, .1]\n",
    "    out_profile = dict(dtype='uint16', nodata=0) \n",
    "\n",
    "post_fix = utils.create_out_postfix(\n",
    "    ProcCrs.ref, model=model, kernel_shape=kernel_shape, driver='GTiff'\n",
    ")\n",
    "corr_paths = [\n",
    "    corr_root.joinpath(src_path.stem + post_fix)\n",
    "    for src_path in src_paths\n",
    "]"
   ]
  },
  {
   "cell_type": "markdown",
   "metadata": {},
   "source": [
    "Fuse aerial images with reference."
   ]
  },
  {
   "cell_type": "code",
   "execution_count": 8,
   "metadata": {},
   "outputs": [
    {
     "name": "stdout",
     "output_type": "stream",
     "text": [
      "3321b_3172_12_0415_rgbn_CMP_FUSE_cREF_mGAIN_k5_5.tif:\n"
     ]
    },
    {
     "data": {
      "application/vnd.jupyter.widget-view+json": {
       "model_id": "5100ef6fd0d24d0ca3817198bd6afdb5",
       "version_major": 2,
       "version_minor": 0
      },
      "text/plain": [
       "  0%|                                                                                             |0/4 blocks …"
      ]
     },
     "metadata": {},
     "output_type": "display_data"
    },
    {
     "name": "stdout",
     "output_type": "stream",
     "text": [
      "3321b_3172_12_0419_rgbn_CMP_FUSE_cREF_mGAIN_k5_5.tif:\n"
     ]
    },
    {
     "data": {
      "application/vnd.jupyter.widget-view+json": {
       "model_id": "17227e2810104cc9a44bdb6371f7c618",
       "version_major": 2,
       "version_minor": 0
      },
      "text/plain": [
       "  0%|                                                                                             |0/4 blocks …"
      ]
     },
     "metadata": {},
     "output_type": "display_data"
    },
    {
     "name": "stdout",
     "output_type": "stream",
     "text": [
      "3321D_319_04_0121_RGBN_CMP_FUSE_cREF_mGAIN_k5_5.tif:\n"
     ]
    },
    {
     "data": {
      "application/vnd.jupyter.widget-view+json": {
       "model_id": "fca86ea7784e47d2809ea608b3f4ac85",
       "version_major": 2,
       "version_minor": 0
      },
      "text/plain": [
       "  0%|                                                                                             |0/4 blocks …"
      ]
     },
     "metadata": {},
     "output_type": "display_data"
    },
    {
     "name": "stdout",
     "output_type": "stream",
     "text": [
      "3322c_322_02_0056_rgbn_CMP_FUSE_cREF_mGAIN_k5_5.tif:\n"
     ]
    },
    {
     "data": {
      "application/vnd.jupyter.widget-view+json": {
       "model_id": "6d7d393bf8774f37a50ff2630fdecd64",
       "version_major": 2,
       "version_minor": 0
      },
      "text/plain": [
       "  0%|                                                                                             |0/4 blocks …"
      ]
     },
     "metadata": {},
     "output_type": "display_data"
    }
   ],
   "source": [
    "from homonim import RasterFuse\n",
    "\n",
    "for src_path, corr_path in zip(src_paths, corr_paths):\n",
    "    with RasterFuse(src_path, ref_path, ref_bands=ref_bands) as raster_fuse:\n",
    "        print(f'{corr_path.name}:')\n",
    "        raster_fuse.process(\n",
    "            corr_path, model, kernel_shape, \n",
    "            block_config=dict(threads=4, max_block_mem=512), \n",
    "            out_profile=out_profile, \n",
    "            model_config=dict(mask_partial=False), \n",
    "            overwrite=True\n",
    "        )"
   ]
  },
  {
   "cell_type": "code",
   "execution_count": 20,
   "metadata": {},
   "outputs": [],
   "source": [
    "Create a VRT mosaic of the corrected images to use in the visualisation and evaluation steps."
   ]
  },
  {
   "cell_type": "code",
   "execution_count": 22,
   "metadata": {},
   "outputs": [],
   "source": [
    "from osgeo import gdal\n",
    "\n",
    "# strictly, one should avoid using GDAL and rasterio together, but it doesn't\n",
    "# create conflicts here\n",
    "corr_mosaic_path = corr_root.joinpath(\n",
    "    f'NGI_3321BD-3322AC_2010_LittleKaroo_GroundTruthSubset{post_fix[:-4]}.vrt'\n",
    ")\n",
    "ds = gdal.BuildVRT(\n",
    "    str(corr_mosaic_path.absolute()), [str(cp) for cp in corr_paths]\n",
    ")\n",
    "ds.FlushCache()"
   ]
  },
  {
   "cell_type": "markdown",
   "metadata": {},
   "source": [
    "## Visualise\n",
    "\n",
    "Display matching extents of the source, reference and corrected images, in the reference CRS."
   ]
  },
  {
   "cell_type": "code",
   "execution_count": 23,
   "metadata": {},
   "outputs": [
    {
     "data": {
      "image/png": "[encoded data removed]",
      "text/plain": [
       "<Figure size 1000x1500 with 3 Axes>"
      ]
     },
     "metadata": {
      "needs_background": "light"
     },
     "output_type": "display_data"
    }
   ],
   "source": [
    "from rasterio.vrt import WarpedVRT\n",
    "from rasterio.enums import Resampling\n",
    "from rasterio.plot import show\n",
    "\n",
    "# get source crs\n",
    "with rio.open(src_mosaic_path, 'r') as ds:\n",
    "    src_crs = ds.crs\n",
    "\n",
    "fig, axes = pyplot.subplots(\n",
    "    3, 1, sharex=True, sharey=True, tight_layout=True, figsize=(10, 15), \n",
    "    dpi=100\n",
    ")\n",
    "\n",
    "# loop over src, ref and corrected images and corrsonding parameters\n",
    "for im_file, ds_fact, indexes, sc_off, ax, label in zip(\n",
    "    [src_mosaic_path, ref_path, corr_mosaic_path],\n",
    "    [16, 1, 16],                           # downsample factor\n",
    "    [None, ref_bands, None],               # band indices\n",
    "    [None, ref_sc_off, ref_sc_off],        # colour scale & offset\n",
    "    axes,\n",
    "    ['Source', 'Reference', 'Corrected'], \n",
    "):\n",
    "    # read image\n",
    "    with (rio.open(im_file, 'r')) as ds:\n",
    "        if ds.crs != src_crs:\n",
    "            # re-project to source CRS\n",
    "            ds = WarpedVRT(ds, crs=src_crs, resampling=Resampling.bilinear)\n",
    "        with ds:\n",
    "            # read and downsample image\n",
    "            ds_shape = tuple(np.round(np.array(ds.shape) / ds_fact).astype('int'))\n",
    "            transform = ds.transform * rio.Affine.scale(ds_fact)\n",
    "\n",
    "            array = ds.read(indexes=indexes, out_dtype='float32', out_shape=ds_shape)\n",
    "\n",
    "    # change nodata value to nan\n",
    "    mask = np.any((array == ds.nodata) | np.isnan(array), axis=(0))\n",
    "    array[:, mask] = np.nan\n",
    "\n",
    "    # contrast stretching for display\n",
    "    if sc_off is not None:\n",
    "        # scale and offset pixel values\n",
    "        array = np.clip((array / sc_off[0]) - sc_off[1], 0, 1)\n",
    "    else:\n",
    "        # 'normalise' image 2%-98% -> 0-1\n",
    "        for bi in range(array.shape[0]):\n",
    "            array[bi] -= np.nanpercentile(array[bi], 1)\n",
    "            array[bi] /= np.nanpercentile(array[bi], 99)\n",
    "            array[bi] = np.clip(array[bi], 0, 1)\n",
    "\n",
    "    # display\n",
    "    ax = show(array[0:3], transform=transform, interpolation='nearest', ax=ax)\n",
    "    ax.set_title(label, fontweight='bold')\n",
    "    ax.axis('off')"
   ]
  },
  {
   "cell_type": "markdown",
   "metadata": {},
   "source": [
    "## Comparison\n",
    "\n",
    "Compare corrected images with a second surface reflectance reference."
   ]
  },
  {
   "cell_type": "code",
   "execution_count": 15,
   "metadata": {},
   "outputs": [
    {
     "name": "stdout",
     "output_type": "stream",
     "text": [
      "ABBREV DESCRIPTION\n",
      "------ -----------------------------------------\n",
      "r²     Pearson's correlation coefficient squared\n",
      "RMSE   Root Mean Square Error\n",
      "rRMSE  Relative RMSE (RMSE/mean(ref))\n",
      "N      Number of pixels\n",
      "Source:\n"
     ]
    },
    {
     "data": {
      "application/vnd.jupyter.widget-view+json": {
       "model_id": "73b2b6e32c70435885a9cdb54618c6e9",
       "version_major": 2,
       "version_minor": 0
      },
      "text/plain": [
       "  0%|                                                                                           |0/240 blocks …"
      ]
     },
     "metadata": {},
     "output_type": "display_data"
    },
    {
     "name": "stdout",
     "output_type": "stream",
     "text": [
      "Source comparison:\n",
      "\n",
      "                   Band    r²     RMSE rRMSE   N\n",
      "----------------------- ----- -------- ----- ---\n",
      "Nadir_Reflectance_Band1 0.319  869.645 0.695 513\n",
      "Nadir_Reflectance_Band4 0.209  355.283 0.362 513\n",
      "Nadir_Reflectance_Band3 0.044  154.774 0.264 513\n",
      "Nadir_Reflectance_Band2 0.206 1436.639 0.620 513\n",
      "                   Mean 0.195  704.085 0.485 513\n",
      "Corrected:\n"
     ]
    },
    {
     "data": {
      "application/vnd.jupyter.widget-view+json": {
       "model_id": "9dc81ee8b22e4626bf5ebb3d8b2ca9f2",
       "version_major": 2,
       "version_minor": 0
      },
      "text/plain": [
       "  0%|                                                                                           |0/240 blocks …"
      ]
     },
     "metadata": {},
     "output_type": "display_data"
    },
    {
     "name": "stdout",
     "output_type": "stream",
     "text": [
      "Corrected comparison:\n",
      "\n",
      "                   Band    r²     RMSE rRMSE   N\n",
      "----------------------- ----- -------- ----- ---\n",
      "Nadir_Reflectance_Band1 0.839 1277.775 1.021 513\n",
      "Nadir_Reflectance_Band4 0.801  991.788 1.011 513\n",
      "Nadir_Reflectance_Band3 0.753  594.447 1.012 513\n",
      "Nadir_Reflectance_Band2 0.857 2353.980 1.015 513\n",
      "                   Mean 0.813 1304.498 1.015 513\n"
     ]
    }
   ],
   "source": [
    "from homonim import RasterCompare\n",
    "\n",
    "print(RasterCompare.schema_table())\n",
    "\n",
    "# loop over the source and corrected image files\n",
    "for im_path, im_label in zip(\n",
    "    [src_mosaic_path, corr_mosaic_path],\n",
    "    ['Source', 'Corrected'],\n",
    "):\n",
    "    with RasterCompare(\n",
    "        im_path, cmp_ref_path, ref_bands=cmp_ref_bands,\n",
    "    ) as compare:\n",
    "        # print a table of comparison statistics (the typical way of using \n",
    "        # RasterCompare)\n",
    "        print(f'{im_label}:')\n",
    "        stats_dict = compare.process()\n",
    "        print(f'{im_label} comparison:\\n\\n' + compare.stats_table(stats_dict))\n",
    "\n",
    "    # equivalent homonim command line:\n",
    "    # !homonim compare {im_path} {cmp_ref_path}"
   ]
  },
  {
   "cell_type": "markdown",
   "metadata": {},
   "source": [
    "## Classification\n",
    "\n",
    "Compare classification performance before and after correction with `homonim`.  \n",
    "\n",
    "### Feature extraction\n",
    "\n",
    "Start by reading ground truth."
   ]
  },
  {
   "cell_type": "code",
   "execution_count": 24,
   "metadata": {},
   "outputs": [],
   "source": [
    "import geopandas as gpd\n",
    "\n",
    "groundtruth_path = ref_root.joinpath('LittleKaroo3ClassGroundTruth.gpkg')\n",
    "class_label_gdf = gpd.GeoDataFrame.from_file(groundtruth_path)"
   ]
  },
  {
   "cell_type": "markdown",
   "metadata": {},
   "source": [
    "Then extract band pixel values (features) for ground truth polygons"
   ]
  },
  {
   "cell_type": "code",
   "execution_count": 25,
   "metadata": {},
   "outputs": [
    {
     "data": {
      "application/vnd.jupyter.widget-view+json": {
       "model_id": "739d5636bad64e76bea9caf92a8c2778",
       "version_major": 2,
       "version_minor": 0
      },
      "text/plain": [
       "NGI_3321BD-3322AC_2010_LittleKaroo_GroundTruthSubset_Source.vrt:   0%|                         | 0/161 [00:00<…"
      ]
     },
     "metadata": {},
     "output_type": "display_data"
    },
    {
     "data": {
      "application/vnd.jupyter.widget-view+json": {
       "model_id": "cdcf345f5ced4a47b19ee3e0cfa5cb7b",
       "version_major": 2,
       "version_minor": 0
      },
      "text/plain": [
       "NGI_3321BD-3322AC_2010_LittleKaroo_GroundTruthSubset_FUSE_cREF_mGAIN_k1_1.vrt:   0%|           | 0/161 [00:00<…"
      ]
     },
     "metadata": {},
     "output_type": "display_data"
    }
   ],
   "source": [
    "from rasterio import features\n",
    "from rasterio import windows\n",
    "\n",
    "def extract_feats(\n",
    "    ds: rio.DatasetReader, labelled_plot_gdf: gpd.GeoDataFrame\n",
    ") -> pd.DataFrame:\n",
    "    \"\"\" Extract pixel features from image for given plots. \"\"\"\n",
    "    px_feats_dict = dict(plot_id=[], label=[])\n",
    "\n",
    "    # loop over ground truth plots\n",
    "    for plot_id, plot in tqdm(\n",
    "        labelled_plot_gdf.to_crs(ds.crs).iterrows(), \n",
    "        total=labelled_plot_gdf.shape[0], desc=im_path.name, \n",
    "        dynamic_ncols=True,\n",
    "    ):\n",
    "        if plot.Class is None:\n",
    "            continue\n",
    "\n",
    "        # find a rasterio window that contains the plot polygon\n",
    "        bounds = features.bounds(plot.geometry)\n",
    "        win = windows.from_bounds(*bounds, transform=ds.transform)\n",
    "        win = utils.expand_window_to_grid(win)\n",
    "\n",
    "        # read the image array corresponding to the plot window\n",
    "        array = ds.read(out_dtype='float64', window=win)\n",
    "\n",
    "        # find a mask for pixels contained inside the plot polygon\n",
    "        win_transform = ds.window_transform(win)\n",
    "        with warnings.catch_warnings():\n",
    "            warnings.simplefilter('ignore')     # ignore shapely deprecation warning            \n",
    "            mask = ~features.geometry_mask(\n",
    "                plot.geometry, (win.height, win.width), transform=win_transform\n",
    "            )\n",
    "\n",
    "        def app_listval(d: dict, k: str, val: list):\n",
    "            \"\"\" Append a list to a dictionary value. \"\"\"\n",
    "            if k in d:\n",
    "                d[k] += val\n",
    "            else:\n",
    "                d[k] = val\n",
    "            return d\n",
    "\n",
    "        # extract band values for pixels inside polygon\n",
    "        for bi, fname in zip([0, 1, 2, 3], ['R', 'G', 'B', 'NIR']):\n",
    "            feat = array[bi]\n",
    "            featv = list(feat[mask])\n",
    "            px_feats_dict = app_listval(px_feats_dict, fname, featv)\n",
    "\n",
    "        # copy plot id and class label for these pixels\n",
    "        px_feats_dict['plot_id'] += [plot_id] * len(featv)\n",
    "        px_feats_dict['label'] += [plot.Class] * len(featv)\n",
    "        \n",
    "    return pd.DataFrame(px_feats_dict)\n",
    "\n",
    "# extract features from source and corrected image mosaics\n",
    "feats = []\n",
    "for im_path in [src_mosaic_path, corr_mosaic_path]:    \n",
    "    with rio.open(im_path, 'r') as ds:\n",
    "        feats_gdf = extract_feats(ds, class_label_gdf)\n",
    "    feats_gdf['label_i'] = pd.Categorical(feats_gdf['label']).codes\n",
    "    feats.append(feats_gdf)\n",
    "feats_dict = dict(zip(['Source', 'Corrected'], feats))"
   ]
  },
  {
   "cell_type": "markdown",
   "metadata": {},
   "source": [
    "### Feature visualisation\n",
    "\n",
    "Visualise scatter of source and corrected features."
   ]
  },
  {
   "cell_type": "code",
   "execution_count": 28,
   "metadata": {},
   "outputs": [
    {
     "data": {
      "image/png": "[encoded data removed]",
      "text/plain": [
       "<Figure size 1200x500 with 2 Axes>"
      ]
     },
     "metadata": {
      "needs_background": "light"
     },
     "output_type": "display_data"
    }
   ],
   "source": [
    "# TODO: KDE class plot\n",
    "def class_scatter(\n",
    "    df: pd.DataFrame, x=None, y=None, label_col='label', ax=None\n",
    "):\n",
    "    \"\"\" Feature scatter plot, with class colour coding. \"\"\"\n",
    "    colours = dict(zip(\n",
    "        pd.Categorical(feats_gdf[label_col]).categories, \n",
    "        ['r', 'g', 'b', 'c', 'm', 'y', 'k', 'o']\n",
    "    ))\n",
    "    for label, group in df.groupby(label_col):\n",
    "        ax = group.plot.scatter(\n",
    "            x, y, s=1, label=label, ax=ax, c=colours[label], alpha=0.1,\n",
    "        )\n",
    "    ax.legend()\n",
    "    for lh in ax.legend().legendHandles: \n",
    "        lh.set_alpha(1)\n",
    "\n",
    "fig, axes = pyplot.subplots(\n",
    "    1, 2, tight_layout=True, figsize=(12, 5), dpi=100\n",
    ")\n",
    "\n",
    "for feats_df, ax, label in zip(\n",
    "    feats_dict.values(), axes, feats_dict.keys(),\n",
    "):\n",
    "    class_scatter(feats_df.iloc[::10], 'NIR', 'B', ax=ax)\n",
    "    ax.set_title(label)"
   ]
  },
  {
   "cell_type": "markdown",
   "metadata": {},
   "source": [
    "### Classification accuracy\n",
    "\n",
    "Evaluate the accuracy of a naive Bayes classifier on the source and corrected features."
   ]
  },
  {
   "cell_type": "code",
   "execution_count": 41,
   "metadata": {},
   "outputs": [
    {
     "data": {
      "application/vnd.jupyter.widget-view+json": {
       "model_id": "7750ed30726e4b57a5a2578459e9b1fa",
       "version_major": 2,
       "version_minor": 0
      },
      "text/plain": [
       "  0%|                                                                                           | 0/10 [00:00<…"
      ]
     },
     "metadata": {},
     "output_type": "display_data"
    },
    {
     "name": "stdout",
     "output_type": "stream",
     "text": [
      "Source:\n",
      "Confusion matrix:\n",
      "==========  ==========  ========  ========\n",
      "..          Background  Spekboom      Tree\n",
      "==========  ==========  ========  ========\n",
      "Background    91848.00  28567.00  92050.00\n",
      "Spekboom       3934.00  26769.00  12484.00\n",
      "Tree            670.00   2330.00   7007.00\n",
      "==========  ==========  ========  ========\n",
      "\n",
      "Normalised confusion matrix:\n",
      "==========  ==========  ========  ====\n",
      "..          Background  Spekboom  Tree\n",
      "==========  ==========  ========  ====\n",
      "Background        0.43      0.13  0.43\n",
      "Spekboom          0.09      0.62  0.29\n",
      "Tree              0.07      0.23  0.70\n",
      "==========  ==========  ========  ====\n",
      "\n",
      "Accuracy: 47.29\n",
      "Norm accuracy: 58.41\n"
     ]
    },
    {
     "data": {
      "application/vnd.jupyter.widget-view+json": {
       "model_id": "c68502c6d2634e9a9a739b4bbd394e5f",
       "version_major": 2,
       "version_minor": 0
      },
      "text/plain": [
       "  0%|                                                                                           | 0/10 [00:00<…"
      ]
     },
     "metadata": {},
     "output_type": "display_data"
    },
    {
     "name": "stdout",
     "output_type": "stream",
     "text": [
      "Corrected:\n",
      "Confusion matrix:\n",
      "==========  ==========  ========  ========\n",
      "..          Background  Spekboom      Tree\n",
      "==========  ==========  ========  ========\n",
      "Background   118607.00  35112.00  58746.00\n",
      "Spekboom       2973.00  31256.00   8958.00\n",
      "Tree            429.00   2151.00   7427.00\n",
      "==========  ==========  ========  ========\n",
      "\n",
      "Normalised confusion matrix:\n",
      "==========  ==========  ========  ====\n",
      "..          Background  Spekboom  Tree\n",
      "==========  ==========  ========  ====\n",
      "Background        0.56      0.17  0.28\n",
      "Spekboom          0.07      0.72  0.21\n",
      "Tree              0.04      0.21  0.74\n",
      "==========  ==========  ========  ====\n",
      "\n",
      "Accuracy: 59.21\n",
      "Norm accuracy: 67.47\n"
     ]
    }
   ],
   "source": [
    "from sklearn.naive_bayes import GaussianNB\n",
    "from sklearn.model_selection import StratifiedKFold, StratifiedGroupKFold\n",
    "from sklearn.metrics import confusion_matrix, classification_report\n",
    "from tabulate import tabulate\n",
    "\n",
    "def train_test(\n",
    "    X: np.ndarray, y: np.ndarray, groups: np.ndarray = None, n_splits=10,\n",
    "    clf = GaussianNB()\n",
    ") -> np.ndarray:\n",
    "    \"\"\" \n",
    "    Train and test a classifier on the given features and labels using \n",
    "    cross-validation. \n",
    "    \"\"\"\n",
    "    if groups is not None:\n",
    "        tr_ts_indices = StratifiedGroupKFold(n_splits=n_splits).split(\n",
    "            X, y, groups\n",
    "        )\n",
    "    else:\n",
    "        tr_ts_indices = StratifiedKFold(n_splits=n_splits).split(X, y)\n",
    "    \n",
    "    ypred = np.zeros_like(y)\n",
    "    for train, test in tqdm(\n",
    "        tr_ts_indices, dynamic_ncols=True, total=n_splits\n",
    "    ):\n",
    "        Xtr = X[train, :]\n",
    "        ytr = y[train]\n",
    "        Xts = X[test, :]\n",
    "        yts = y[test]\n",
    "        # clf = DecisionTreeClassifier(class_weight='balanced')\n",
    "        clf.fit(Xtr, ytr)\n",
    "        ypred[test] = clf.predict(Xts)\n",
    "    return ypred\n",
    "\n",
    "label_col = 'label'\n",
    "for df_label, df in feats_dict.items():\n",
    "    \n",
    "    # raw spectral band feature matrix\n",
    "    X = df[['R', 'G', 'B', 'NIR']].to_numpy()\n",
    "    # convert string class labels to int codes\n",
    "    y = pd.Categorical(df[label_col]).codes  \n",
    "    \n",
    "    class_labels = pd.Categorical(df[label_col]).categories\n",
    "    \n",
    "    priors = np.ones(len(class_labels))/len(class_labels)\n",
    "    clf = GaussianNB(priors=priors)\n",
    "    ypred = train_test(\n",
    "        X, y, groups=df.plot_id.to_numpy(), clf=clf, n_splits=10\n",
    "    )\n",
    "    cm = confusion_matrix(y, ypred)\n",
    "    cm_norm = cm / cm.sum(axis=1).reshape(-1, 1)\n",
    "    cm_df = pd.DataFrame(data=cm, columns=class_labels, index=class_labels)\n",
    "    cm_norm_df = pd.DataFrame(\n",
    "        data=cm_norm, columns=class_labels, index=class_labels\n",
    "    )\n",
    "\n",
    "    print(f'{df_label}:')\n",
    "    # print(classification_report(y, ypred, target_names=class_labels))\n",
    "    print(f'Confusion matrix:')\n",
    "    print(tabulate(cm_df, headers=cm_df.columns, tablefmt='rst', floatfmt='.2f'))\n",
    "    print(f'\\nNormalised confusion matrix:')\n",
    "    print(tabulate(cm_norm_df, headers=cm_norm_df.columns, tablefmt='rst', floatfmt='.2f'))\n",
    "    print(f'\\nAccuracy: {100*np.sum(np.diag(cm))/np.sum(cm[:]):.2f}')\n",
    "    print(f'Norm accuracy: {100*np.mean(np.diag(cm_norm)):.2f}')\n",
    "    "
   ]
  },
  {
   "cell_type": "code",
   "execution_count": null,
   "metadata": {},
   "outputs": [],
   "source": []
  }
 ],
 "metadata": {
  "kernelspec": {
   "display_name": "Python 3 (ipykernel)",
   "language": "python",
   "name": "python3"
  },
  "language_info": {
   "codemirror_mode": {
    "name": "ipython",
    "version": 3
   },
   "file_extension": ".py",
   "mimetype": "text/x-python",
   "name": "python",
   "nbconvert_exporter": "python",
   "pygments_lexer": "ipython3",
   "version": "3.9.13"
  },
  "vscode": {
   "interpreter": {
    "hash": "a5cb0e16c618ce62d5962a2f34302e2d299d083ff8e8afee2c1c64a34662e4b4"
   }
  },
  "widgets": {
   "application/vnd.jupyter.widget-state+json": {
    "state": {
     "0081487082d0477b93bdef0d045bd2f1": {
      "model_module": "@jupyter-widgets/controls",
      "model_module_version": "1.5.0",
      "model_name": "HTMLModel",
      "state": {
       "layout": "IPY_MODEL_43e4fe8acf6c4730b3d05b17ed648888",
       "style": "IPY_MODEL_10bf1a15e690487f8b9e7664e70fb38e",
       "value": " 10/10 [00:01&lt;00:00,  9.32it/s]"
      }
     },
     "0084651e97ef41c2a173ed6f061730ce": {
      "model_module": "@jupyter-widgets/base",
      "model_module_version": "1.2.0",
      "model_name": "LayoutModel",
      "state": {}
     },
     "0112ed2ca4994c759f4c45cfe7ebf9ba": {
      "model_module": "@jupyter-widgets/base",
      "model_module_version": "1.2.0",
      "model_name": "LayoutModel",
      "state": {
       "flex": "2"
      }
     },
     "021648c494e74f5aa49d3d75783bc882": {
      "model_module": "@jupyter-widgets/base",
      "model_module_version": "1.2.0",
      "model_name": "LayoutModel",
      "state": {}
     },
     "0418d3939ffc46ec94c1800efebc4016": {
      "model_module": "@jupyter-widgets/base",
      "model_module_version": "1.2.0",
      "model_name": "LayoutModel",
      "state": {}
     },
     "0443e11c218a4950b343416b367feb25": {
      "model_module": "@jupyter-widgets/controls",
      "model_module_version": "1.5.0",
      "model_name": "HBoxModel",
      "state": {
       "children": [
        "IPY_MODEL_28a09e924def434281c15be8b3cebf6c",
        "IPY_MODEL_2ca30d66e1604dab8d848486122dde71",
        "IPY_MODEL_7669aebb315e4587bd9b4178b6054a9a"
       ],
       "layout": "IPY_MODEL_fa1375c162f04318bbfa8af99b8c93c4"
      }
     },
     "04c2c557aaf84984aa8582a4eb731c18": {
      "model_module": "@jupyter-widgets/base",
      "model_module_version": "1.2.0",
      "model_name": "LayoutModel",
      "state": {
       "flex": "2"
      }
     },
     "057574f302fe40e7859b8a36ac2b4edd": {
      "model_module": "@jupyter-widgets/base",
      "model_module_version": "1.2.0",
      "model_name": "LayoutModel",
      "state": {}
     },
     "05a14482223d4c57a6798af31d04531d": {
      "model_module": "@jupyter-widgets/controls",
      "model_module_version": "1.5.0",
      "model_name": "HTMLModel",
      "state": {
       "layout": "IPY_MODEL_9db5c5b2d87a4a1abfd1977d94c078b2",
       "style": "IPY_MODEL_15e79f5caef34e7ca20ac01423b87e57",
       "value": " 10/10 [00:01&lt;00:00,  9.26it/s]"
      }
     },
     "06029eceec164ed3b0b2b36480b02c7b": {
      "model_module": "@jupyter-widgets/controls",
      "model_module_version": "1.5.0",
      "model_name": "DescriptionStyleModel",
      "state": {
       "description_width": ""
      }
     },
     "06e1244952ad4cdd9e4de85e51695a28": {
      "model_module": "@jupyter-widgets/controls",
      "model_module_version": "1.5.0",
      "model_name": "ProgressStyleModel",
      "state": {
       "description_width": ""
      }
     },
     "095d08697383499185e3909137951b75": {
      "model_module": "@jupyter-widgets/controls",
      "model_module_version": "1.5.0",
      "model_name": "ProgressStyleModel",
      "state": {
       "description_width": ""
      }
     },
     "0eca6385f52e43828db07c2f34fff9e0": {
      "model_module": "@jupyter-widgets/controls",
      "model_module_version": "1.5.0",
      "model_name": "DescriptionStyleModel",
      "state": {
       "description_width": ""
      }
     },
     "0f28adef2a7a496d84ef1b705a16c9dd": {
      "model_module": "@jupyter-widgets/controls",
      "model_module_version": "1.5.0",
      "model_name": "HTMLModel",
      "state": {
       "layout": "IPY_MODEL_cf36174766b44720aa1331851256a153",
       "style": "IPY_MODEL_99318cb37ce240aaaf31c54ec9835f84",
       "value": "100%"
      }
     },
     "10279fcb7e9847f189f8a5a85d909a49": {
      "model_module": "@jupyter-widgets/controls",
      "model_module_version": "1.5.0",
      "model_name": "FloatProgressModel",
      "state": {
       "bar_style": "success",
       "layout": "IPY_MODEL_610a17a6de5041408bd41904a0da832e",
       "max": 10,
       "style": "IPY_MODEL_37232ff1bc5b44b8aed5fd56a2a118a0",
       "value": 10
      }
     },
     "109a2501f534463694c57def79fd5ae9": {
      "model_module": "@jupyter-widgets/controls",
      "model_module_version": "1.5.0",
      "model_name": "DescriptionStyleModel",
      "state": {
       "description_width": ""
      }
     },
     "10bf1a15e690487f8b9e7664e70fb38e": {
      "model_module": "@jupyter-widgets/controls",
      "model_module_version": "1.5.0",
      "model_name": "DescriptionStyleModel",
      "state": {
       "description_width": ""
      }
     },
     "137eeecf71174d6fa0ed36af0aa8d849": {
      "model_module": "@jupyter-widgets/controls",
      "model_module_version": "1.5.0",
      "model_name": "DescriptionStyleModel",
      "state": {
       "description_width": ""
      }
     },
     "13dc3e43197d4489a82c16846521a4e4": {
      "model_module": "@jupyter-widgets/base",
      "model_module_version": "1.2.0",
      "model_name": "LayoutModel",
      "state": {}
     },
     "15e79f5caef34e7ca20ac01423b87e57": {
      "model_module": "@jupyter-widgets/controls",
      "model_module_version": "1.5.0",
      "model_name": "DescriptionStyleModel",
      "state": {
       "description_width": ""
      }
     },
     "17227e2810104cc9a44bdb6371f7c618": {
      "model_module": "@jupyter-widgets/controls",
      "model_module_version": "1.5.0",
      "model_name": "HBoxModel",
      "state": {
       "children": [
        "IPY_MODEL_23d360542a91442eb00187a2328953f6",
        "IPY_MODEL_9287a7dea18440e8ad4eea8484903ec8",
        "IPY_MODEL_856fc3f3c7f2463e92cd871ccfbad46c"
       ],
       "layout": "IPY_MODEL_5d68c3dd6e9e4c3696bddfe0f05e79a8"
      }
     },
     "17c753462b30416aa58b8772f46beee9": {
      "model_module": "@jupyter-widgets/controls",
      "model_module_version": "1.5.0",
      "model_name": "HTMLModel",
      "state": {
       "layout": "IPY_MODEL_832c9b88318d4808a2911a3f1929382f",
       "style": "IPY_MODEL_aaf87a08fd084bdfbc24b884b3bdccc2",
       "value": "100%"
      }
     },
     "186b8128cfe64b57b159ad0ab9c1888b": {
      "model_module": "@jupyter-widgets/controls",
      "model_module_version": "1.5.0",
      "model_name": "DescriptionStyleModel",
      "state": {
       "description_width": ""
      }
     },
     "18c874bcb24a40e19e0d99f4114a2142": {
      "model_module": "@jupyter-widgets/controls",
      "model_module_version": "1.5.0",
      "model_name": "HTMLModel",
      "state": {
       "layout": "IPY_MODEL_2b1a2e32871740be8cfcbc0973e5ad88",
       "style": "IPY_MODEL_9c9924691cd34204b262ab3fe9163310",
       "value": " 10/10 [00:01&lt;00:00,  9.27it/s]"
      }
     },
     "18f27673b3ee4268aa7b3918936afdf5": {
      "model_module": "@jupyter-widgets/base",
      "model_module_version": "1.2.0",
      "model_name": "LayoutModel",
      "state": {}
     },
     "1948d20aa20c439689e43e0f66041b2f": {
      "model_module": "@jupyter-widgets/controls",
      "model_module_version": "1.5.0",
      "model_name": "FloatProgressModel",
      "state": {
       "bar_style": "success",
       "layout": "IPY_MODEL_215c04bc4cb547b9b199b8504d666803",
       "max": 4,
       "style": "IPY_MODEL_a2471214852a441895ee12520ab05e30",
       "value": 4
      }
     },
     "19bcbf2bb0e243759088739a163e7060": {
      "model_module": "@jupyter-widgets/controls",
      "model_module_version": "1.5.0",
      "model_name": "HBoxModel",
      "state": {
       "children": [
        "IPY_MODEL_e71c7e21ba6a42f9abb1e44c7982ae8f",
        "IPY_MODEL_3ee91f7821d14112a891872ba9e9f6b1",
        "IPY_MODEL_d4cdd6e3274f4184b02d236c8e23aea3"
       ],
       "layout": "IPY_MODEL_275d3e35e48b44a18a7c1d1adcc744c1"
      }
     },
     "1af177b00e974db0afff768e29539974": {
      "model_module": "@jupyter-widgets/controls",
      "model_module_version": "1.5.0",
      "model_name": "DescriptionStyleModel",
      "state": {
       "description_width": ""
      }
     },
     "1b583672aa364bf481af897091c38431": {
      "model_module": "@jupyter-widgets/base",
      "model_module_version": "1.2.0",
      "model_name": "LayoutModel",
      "state": {
       "flex": "2"
      }
     },
     "1eb7e17a9ce3453497afb48cfedae613": {
      "model_module": "@jupyter-widgets/base",
      "model_module_version": "1.2.0",
      "model_name": "LayoutModel",
      "state": {
       "flex": "2"
      }
     },
     "1ff21956c8e14c57a62c21431898d6b1": {
      "model_module": "@jupyter-widgets/base",
      "model_module_version": "1.2.0",
      "model_name": "LayoutModel",
      "state": {
       "flex": "2"
      }
     },
     "1ff22219927541eeb70e39f000389e47": {
      "model_module": "@jupyter-widgets/controls",
      "model_module_version": "1.5.0",
      "model_name": "HTMLModel",
      "state": {
       "layout": "IPY_MODEL_e4cb083f0b224b9681947b048912500e",
       "style": "IPY_MODEL_d6032b14ff964592a35906126439a93e",
       "value": "100%"
      }
     },
     "215c04bc4cb547b9b199b8504d666803": {
      "model_module": "@jupyter-widgets/base",
      "model_module_version": "1.2.0",
      "model_name": "LayoutModel",
      "state": {
       "flex": "2"
      }
     },
     "23304603585d43ecb4caf851f72214fb": {
      "model_module": "@jupyter-widgets/controls",
      "model_module_version": "1.5.0",
      "model_name": "ProgressStyleModel",
      "state": {
       "description_width": ""
      }
     },
     "23d360542a91442eb00187a2328953f6": {
      "model_module": "@jupyter-widgets/controls",
      "model_module_version": "1.5.0",
      "model_name": "HTMLModel",
      "state": {
       "layout": "IPY_MODEL_4c15b2abb5ca4bef9b61327b0c9a6f13",
       "style": "IPY_MODEL_25e4544eed484bb79c19f6934cc9d88f",
       "value": "100%"
      }
     },
     "23e01bef4ff444eeac2c03fc4e0ff344": {
      "model_module": "@jupyter-widgets/base",
      "model_module_version": "1.2.0",
      "model_name": "LayoutModel",
      "state": {
       "flex": "2"
      }
     },
     "254f5b6fe6194af5aa776781708939aa": {
      "model_module": "@jupyter-widgets/controls",
      "model_module_version": "1.5.0",
      "model_name": "HBoxModel",
      "state": {
       "children": [
        "IPY_MODEL_0f28adef2a7a496d84ef1b705a16c9dd",
        "IPY_MODEL_f37b610290614b9fbde0103bb550ac0d",
        "IPY_MODEL_fb7bcee622d54f0eb04ec7b797e19a59"
       ],
       "layout": "IPY_MODEL_dd246c73841b443e932f92e7f923d5c1"
      }
     },
     "25e4544eed484bb79c19f6934cc9d88f": {
      "model_module": "@jupyter-widgets/controls",
      "model_module_version": "1.5.0",
      "model_name": "DescriptionStyleModel",
      "state": {
       "description_width": ""
      }
     },
     "275d3e35e48b44a18a7c1d1adcc744c1": {
      "model_module": "@jupyter-widgets/base",
      "model_module_version": "1.2.0",
      "model_name": "LayoutModel",
      "state": {
       "display": "inline-flex",
       "flex_flow": "row wrap",
       "width": "100%"
      }
     },
     "285e02fa07a5460ca6c1727ca057f11c": {
      "model_module": "@jupyter-widgets/controls",
      "model_module_version": "1.5.0",
      "model_name": "FloatProgressModel",
      "state": {
       "bar_style": "success",
       "layout": "IPY_MODEL_0112ed2ca4994c759f4c45cfe7ebf9ba",
       "max": 161,
       "style": "IPY_MODEL_f4e477f3414f4cfea60bf78fc6765806",
       "value": 161
      }
     },
     "28a09e924def434281c15be8b3cebf6c": {
      "model_module": "@jupyter-widgets/controls",
      "model_module_version": "1.5.0",
      "model_name": "HTMLModel",
      "state": {
       "layout": "IPY_MODEL_fe58053c31684704b75e467bb5ad11c3",
       "style": "IPY_MODEL_aab770f7a339408ab5d4fc17b56fd12b",
       "value": "NGI_3321BD-3322AC_2010_LittleKaroo_GroundTruthSubset_FUSE_cREF_mGAIN_k5_5.vrt: 100%"
      }
     },
     "2a622126e7ef4272a86efbfd8a6e50af": {
      "model_module": "@jupyter-widgets/controls",
      "model_module_version": "1.5.0",
      "model_name": "FloatProgressModel",
      "state": {
       "bar_style": "success",
       "layout": "IPY_MODEL_fd0d96334cad498b8af250dce840f864",
       "max": 240,
       "style": "IPY_MODEL_06e1244952ad4cdd9e4de85e51695a28",
       "value": 240
      }
     },
     "2b1a2e32871740be8cfcbc0973e5ad88": {
      "model_module": "@jupyter-widgets/base",
      "model_module_version": "1.2.0",
      "model_name": "LayoutModel",
      "state": {}
     },
     "2ca30d66e1604dab8d848486122dde71": {
      "model_module": "@jupyter-widgets/controls",
      "model_module_version": "1.5.0",
      "model_name": "FloatProgressModel",
      "state": {
       "bar_style": "success",
       "layout": "IPY_MODEL_e91c667008d44b8a86c42c56c57e4af7",
       "max": 161,
       "style": "IPY_MODEL_f752ffc6a0484871bb127eb7693c2eab",
       "value": 161
      }
     },
     "2fabaeb4a24e4dae9b28d714cd63723f": {
      "model_module": "@jupyter-widgets/controls",
      "model_module_version": "1.5.0",
      "model_name": "DescriptionStyleModel",
      "state": {
       "description_width": ""
      }
     },
     "30e1db325e0541ea8bc96d7855edef59": {
      "model_module": "@jupyter-widgets/base",
      "model_module_version": "1.2.0",
      "model_name": "LayoutModel",
      "state": {}
     },
     "31785eec298f4335bbba22f465861967": {
      "model_module": "@jupyter-widgets/controls",
      "model_module_version": "1.5.0",
      "model_name": "HTMLModel",
      "state": {
       "layout": "IPY_MODEL_0418d3939ffc46ec94c1800efebc4016",
       "style": "IPY_MODEL_06029eceec164ed3b0b2b36480b02c7b",
       "value": "100%"
      }
     },
     "32437192fe684936bc899a615d897d7a": {
      "model_module": "@jupyter-widgets/controls",
      "model_module_version": "1.5.0",
      "model_name": "DescriptionStyleModel",
      "state": {
       "description_width": ""
      }
     },
     "3396a565236d49aeafd9fe74e77c178e": {
      "model_module": "@jupyter-widgets/base",
      "model_module_version": "1.2.0",
      "model_name": "LayoutModel",
      "state": {
       "flex": "2"
      }
     },
     "33bd24a564c0462b90bcab78f39f3dea": {
      "model_module": "@jupyter-widgets/base",
      "model_module_version": "1.2.0",
      "model_name": "LayoutModel",
      "state": {
       "flex": "2"
      }
     },
     "34837afad1d44e85b5c91132f2139f6e": {
      "model_module": "@jupyter-widgets/controls",
      "model_module_version": "1.5.0",
      "model_name": "DescriptionStyleModel",
      "state": {
       "description_width": ""
      }
     },
     "364762d220074f17836de056686f09af": {
      "model_module": "@jupyter-widgets/controls",
      "model_module_version": "1.5.0",
      "model_name": "FloatProgressModel",
      "state": {
       "bar_style": "success",
       "layout": "IPY_MODEL_04c2c557aaf84984aa8582a4eb731c18",
       "max": 10,
       "style": "IPY_MODEL_e1b9aa12374547728eb9034e1a3c1297",
       "value": 10
      }
     },
     "3656d5b95f18410f83bda16fec5d2973": {
      "model_module": "@jupyter-widgets/base",
      "model_module_version": "1.2.0",
      "model_name": "LayoutModel",
      "state": {
       "display": "inline-flex",
       "flex_flow": "row wrap",
       "width": "100%"
      }
     },
     "37232ff1bc5b44b8aed5fd56a2a118a0": {
      "model_module": "@jupyter-widgets/controls",
      "model_module_version": "1.5.0",
      "model_name": "ProgressStyleModel",
      "state": {
       "description_width": ""
      }
     },
     "38081f0e9ddb42c0b82e008d2162a765": {
      "model_module": "@jupyter-widgets/controls",
      "model_module_version": "1.5.0",
      "model_name": "HTMLModel",
      "state": {
       "layout": "IPY_MODEL_5db2875f7ca249aea2dc896e411871b1",
       "style": "IPY_MODEL_dec9eaefc6e24ebfbb1c8156a9cb052f",
       "value": " 10/10 [00:01&lt;00:00,  9.20it/s]"
      }
     },
     "38426da9a56e4d6486281fd37ec58a28": {
      "model_module": "@jupyter-widgets/base",
      "model_module_version": "1.2.0",
      "model_name": "LayoutModel",
      "state": {}
     },
     "38d81a112d0a48d7ae647271392edbc1": {
      "model_module": "@jupyter-widgets/controls",
      "model_module_version": "1.5.0",
      "model_name": "ProgressStyleModel",
      "state": {
       "description_width": ""
      }
     },
     "39214498ff0444f6bef6a2b0d3322ebc": {
      "model_module": "@jupyter-widgets/controls",
      "model_module_version": "1.5.0",
      "model_name": "DescriptionStyleModel",
      "state": {
       "description_width": ""
      }
     },
     "39656b3ee4204e558f0f894570732e2d": {
      "model_module": "@jupyter-widgets/controls",
      "model_module_version": "1.5.0",
      "model_name": "DescriptionStyleModel",
      "state": {
       "description_width": ""
      }
     },
     "3a0bf26ff82047a185563c88267f7960": {
      "model_module": "@jupyter-widgets/controls",
      "model_module_version": "1.5.0",
      "model_name": "FloatProgressModel",
      "state": {
       "bar_style": "success",
       "layout": "IPY_MODEL_ccb98dac62ff45bf88e0b4f5cffee1cb",
       "max": 10,
       "style": "IPY_MODEL_6203d28b16e54f5b966dfe0518dc48b1",
       "value": 10
      }
     },
     "3aa0228ef71941b591b9f77d666d1ba1": {
      "model_module": "@jupyter-widgets/controls",
      "model_module_version": "1.5.0",
      "model_name": "HTMLModel",
      "state": {
       "layout": "IPY_MODEL_3f9ae7a5472f427684059706be93a3e4",
       "style": "IPY_MODEL_7f676634af7d4924b4782ec5c985769c",
       "value": "4/4 blocks [01:24&lt;00:00]"
      }
     },
     "3aed1284471742658d6617a5c3f5919b": {
      "model_module": "@jupyter-widgets/base",
      "model_module_version": "1.2.0",
      "model_name": "LayoutModel",
      "state": {
       "display": "inline-flex",
       "flex_flow": "row wrap",
       "width": "100%"
      }
     },
     "3b84bc96fd2b45baa8c45104f6fd4e22": {
      "model_module": "@jupyter-widgets/base",
      "model_module_version": "1.2.0",
      "model_name": "LayoutModel",
      "state": {
       "display": "inline-flex",
       "flex_flow": "row wrap",
       "width": "100%"
      }
     },
     "3dc9bdb83a124d398f775b7470c2bcf3": {
      "model_module": "@jupyter-widgets/controls",
      "model_module_version": "1.5.0",
      "model_name": "DescriptionStyleModel",
      "state": {
       "description_width": ""
      }
     },
     "3df14402582b407fa599ef54bc2b7a6c": {
      "model_module": "@jupyter-widgets/base",
      "model_module_version": "1.2.0",
      "model_name": "LayoutModel",
      "state": {}
     },
     "3ee91f7821d14112a891872ba9e9f6b1": {
      "model_module": "@jupyter-widgets/controls",
      "model_module_version": "1.5.0",
      "model_name": "FloatProgressModel",
      "state": {
       "bar_style": "success",
       "layout": "IPY_MODEL_3396a565236d49aeafd9fe74e77c178e",
       "max": 10,
       "style": "IPY_MODEL_b261cddbe28c444c927e724bfb52c5c7",
       "value": 10
      }
     },
     "3f3d5575c36e4bc4bffe2b60755267bc": {
      "model_module": "@jupyter-widgets/base",
      "model_module_version": "1.2.0",
      "model_name": "LayoutModel",
      "state": {}
     },
     "3f499ddc21e64c8897d20902acc90e5f": {
      "model_module": "@jupyter-widgets/controls",
      "model_module_version": "1.5.0",
      "model_name": "HBoxModel",
      "state": {
       "children": [
        "IPY_MODEL_eedfb87eb3b544c08feafe39fb759c85",
        "IPY_MODEL_364762d220074f17836de056686f09af",
        "IPY_MODEL_0081487082d0477b93bdef0d045bd2f1"
       ],
       "layout": "IPY_MODEL_efb740c0e71342d5b14ba9750e9c0e54"
      }
     },
     "3f9ae7a5472f427684059706be93a3e4": {
      "model_module": "@jupyter-widgets/base",
      "model_module_version": "1.2.0",
      "model_name": "LayoutModel",
      "state": {}
     },
     "404be2c3bd164157a31ab726e3771b5c": {
      "model_module": "@jupyter-widgets/controls",
      "model_module_version": "1.5.0",
      "model_name": "FloatProgressModel",
      "state": {
       "bar_style": "success",
       "layout": "IPY_MODEL_7f948b00dbf443a18e23e1bc16aeb038",
       "max": 240,
       "style": "IPY_MODEL_68e2da3a3be74d2f8afb3a30ca9d648e",
       "value": 240
      }
     },
     "40acfad0032043f4b44d127eef578983": {
      "model_module": "@jupyter-widgets/controls",
      "model_module_version": "1.5.0",
      "model_name": "FloatProgressModel",
      "state": {
       "bar_style": "success",
       "layout": "IPY_MODEL_23e01bef4ff444eeac2c03fc4e0ff344",
       "max": 10,
       "style": "IPY_MODEL_c9f2932ee2e248199154a8de138cb8ac",
       "value": 10
      }
     },
     "41266c8449394984a8be6c4c1e1b603d": {
      "model_module": "@jupyter-widgets/controls",
      "model_module_version": "1.5.0",
      "model_name": "DescriptionStyleModel",
      "state": {
       "description_width": ""
      }
     },
     "41cb85619f7d42c4a60c6f91818a63d7": {
      "model_module": "@jupyter-widgets/base",
      "model_module_version": "1.2.0",
      "model_name": "LayoutModel",
      "state": {}
     },
     "41f905d754f5475b8f6a98ce33fe8334": {
      "model_module": "@jupyter-widgets/base",
      "model_module_version": "1.2.0",
      "model_name": "LayoutModel",
      "state": {
       "display": "inline-flex",
       "flex_flow": "row wrap",
       "width": "100%"
      }
     },
     "43478b562c6b4dd1b1f97ba3d5cb9bf9": {
      "model_module": "@jupyter-widgets/base",
      "model_module_version": "1.2.0",
      "model_name": "LayoutModel",
      "state": {}
     },
     "43e4fe8acf6c4730b3d05b17ed648888": {
      "model_module": "@jupyter-widgets/base",
      "model_module_version": "1.2.0",
      "model_name": "LayoutModel",
      "state": {}
     },
     "447eddeee7f84fe19d7a3504b61ba405": {
      "model_module": "@jupyter-widgets/controls",
      "model_module_version": "1.5.0",
      "model_name": "DescriptionStyleModel",
      "state": {
       "description_width": ""
      }
     },
     "45c0cd860844469da5f04243083da6ed": {
      "model_module": "@jupyter-widgets/controls",
      "model_module_version": "1.5.0",
      "model_name": "DescriptionStyleModel",
      "state": {
       "description_width": ""
      }
     },
     "48617621ab3646d38022bf3fd33e9f41": {
      "model_module": "@jupyter-widgets/controls",
      "model_module_version": "1.5.0",
      "model_name": "FloatProgressModel",
      "state": {
       "bar_style": "success",
       "layout": "IPY_MODEL_e3f76080a57c44629073e7d91a09181f",
       "max": 10,
       "style": "IPY_MODEL_cc943a2a33c342a3a2199e1b5e68d831",
       "value": 10
      }
     },
     "4870dff09b2644148651bf7d51fd8e5f": {
      "model_module": "@jupyter-widgets/controls",
      "model_module_version": "1.5.0",
      "model_name": "HBoxModel",
      "state": {
       "children": [
        "IPY_MODEL_a9e3b58b57414192a69fe1882d5f1244",
        "IPY_MODEL_3a0bf26ff82047a185563c88267f7960",
        "IPY_MODEL_85568feea39e4341968962872fc5edce"
       ],
       "layout": "IPY_MODEL_920c4879ecbb4bf285364a3d29b6efba"
      }
     },
     "4c15b2abb5ca4bef9b61327b0c9a6f13": {
      "model_module": "@jupyter-widgets/base",
      "model_module_version": "1.2.0",
      "model_name": "LayoutModel",
      "state": {}
     },
     "4e24e38c65dc4806a219d55938b29346": {
      "model_module": "@jupyter-widgets/base",
      "model_module_version": "1.2.0",
      "model_name": "LayoutModel",
      "state": {
       "flex": "2"
      }
     },
     "4f948e63bad54065a0de08fb69d1eacf": {
      "model_module": "@jupyter-widgets/base",
      "model_module_version": "1.2.0",
      "model_name": "LayoutModel",
      "state": {
       "display": "inline-flex",
       "flex_flow": "row wrap",
       "width": "100%"
      }
     },
     "5100ef6fd0d24d0ca3817198bd6afdb5": {
      "model_module": "@jupyter-widgets/controls",
      "model_module_version": "1.5.0",
      "model_name": "HBoxModel",
      "state": {
       "children": [
        "IPY_MODEL_8cf3ce628bb5427e9cb741119a671576",
        "IPY_MODEL_714aac2f3d1e4d549b0e43a8bafcc0c1",
        "IPY_MODEL_d527e7cdfc61421ca2a66e4677049576"
       ],
       "layout": "IPY_MODEL_e9fc403540684d6299cae13877364c62"
      }
     },
     "54c02574039c49b29cf4bcd8b741af60": {
      "model_module": "@jupyter-widgets/base",
      "model_module_version": "1.2.0",
      "model_name": "LayoutModel",
      "state": {
       "display": "inline-flex",
       "flex_flow": "row wrap",
       "width": "100%"
      }
     },
     "55271989b3dc488a9cdd7becadc88ba5": {
      "model_module": "@jupyter-widgets/base",
      "model_module_version": "1.2.0",
      "model_name": "LayoutModel",
      "state": {}
     },
     "564d942c0418444a80618106a85a7e69": {
      "model_module": "@jupyter-widgets/base",
      "model_module_version": "1.2.0",
      "model_name": "LayoutModel",
      "state": {}
     },
     "58cb8954634542b391bb748ad8d804e9": {
      "model_module": "@jupyter-widgets/controls",
      "model_module_version": "1.5.0",
      "model_name": "DescriptionStyleModel",
      "state": {
       "description_width": ""
      }
     },
     "5ae0a9a9ec554aee864e8728448316c8": {
      "model_module": "@jupyter-widgets/base",
      "model_module_version": "1.2.0",
      "model_name": "LayoutModel",
      "state": {
       "display": "inline-flex",
       "flex_flow": "row wrap",
       "width": "100%"
      }
     },
     "5bdf6f9ac9e54eed9c01336695ff9d99": {
      "model_module": "@jupyter-widgets/controls",
      "model_module_version": "1.5.0",
      "model_name": "HTMLModel",
      "state": {
       "layout": "IPY_MODEL_d1d0491c3b3f49eaa61973ee1e694d86",
       "style": "IPY_MODEL_34837afad1d44e85b5c91132f2139f6e",
       "value": "100%"
      }
     },
     "5c85a81492ec42b69dc0622329d356c2": {
      "model_module": "@jupyter-widgets/controls",
      "model_module_version": "1.5.0",
      "model_name": "DescriptionStyleModel",
      "state": {
       "description_width": ""
      }
     },
     "5d68c3dd6e9e4c3696bddfe0f05e79a8": {
      "model_module": "@jupyter-widgets/base",
      "model_module_version": "1.2.0",
      "model_name": "LayoutModel",
      "state": {
       "display": "inline-flex",
       "flex_flow": "row wrap",
       "width": "100%"
      }
     },
     "5db2875f7ca249aea2dc896e411871b1": {
      "model_module": "@jupyter-widgets/base",
      "model_module_version": "1.2.0",
      "model_name": "LayoutModel",
      "state": {}
     },
     "5e82a68d9405457dbc53c9f1dff9b28d": {
      "model_module": "@jupyter-widgets/base",
      "model_module_version": "1.2.0",
      "model_name": "LayoutModel",
      "state": {}
     },
     "5f40cf394fd84e0c9f6e7a03f732a24b": {
      "model_module": "@jupyter-widgets/controls",
      "model_module_version": "1.5.0",
      "model_name": "HTMLModel",
      "state": {
       "layout": "IPY_MODEL_3df14402582b407fa599ef54bc2b7a6c",
       "style": "IPY_MODEL_809e2933040c48969d50575412e35c4f",
       "value": "100%"
      }
     },
     "60b9ff26e9524521a0e97f142a49e5a5": {
      "model_module": "@jupyter-widgets/controls",
      "model_module_version": "1.5.0",
      "model_name": "DescriptionStyleModel",
      "state": {
       "description_width": ""
      }
     },
     "610a17a6de5041408bd41904a0da832e": {
      "model_module": "@jupyter-widgets/base",
      "model_module_version": "1.2.0",
      "model_name": "LayoutModel",
      "state": {
       "flex": "2"
      }
     },
     "6203d28b16e54f5b966dfe0518dc48b1": {
      "model_module": "@jupyter-widgets/controls",
      "model_module_version": "1.5.0",
      "model_name": "ProgressStyleModel",
      "state": {
       "description_width": ""
      }
     },
     "68b1c715f5a143cb976b3695172f7155": {
      "model_module": "@jupyter-widgets/base",
      "model_module_version": "1.2.0",
      "model_name": "LayoutModel",
      "state": {
       "display": "inline-flex",
       "flex_flow": "row wrap",
       "width": "100%"
      }
     },
     "68e2da3a3be74d2f8afb3a30ca9d648e": {
      "model_module": "@jupyter-widgets/controls",
      "model_module_version": "1.5.0",
      "model_name": "ProgressStyleModel",
      "state": {
       "description_width": ""
      }
     },
     "69269ade61f947948f37f13cb99ba283": {
      "model_module": "@jupyter-widgets/controls",
      "model_module_version": "1.5.0",
      "model_name": "ProgressStyleModel",
      "state": {
       "description_width": ""
      }
     },
     "6a371d91079442968060c8584353d1ea": {
      "model_module": "@jupyter-widgets/base",
      "model_module_version": "1.2.0",
      "model_name": "LayoutModel",
      "state": {}
     },
     "6d7d393bf8774f37a50ff2630fdecd64": {
      "model_module": "@jupyter-widgets/controls",
      "model_module_version": "1.5.0",
      "model_name": "HBoxModel",
      "state": {
       "children": [
        "IPY_MODEL_f0d17c1876c14a59ba2468dfbe4f3c9a",
        "IPY_MODEL_7893d59e70c24b6e9f33d94d3449e97a",
        "IPY_MODEL_3aa0228ef71941b591b9f77d666d1ba1"
       ],
       "layout": "IPY_MODEL_68b1c715f5a143cb976b3695172f7155"
      }
     },
     "6e08f97c1a9e4cab913f8da6ad870a93": {
      "model_module": "@jupyter-widgets/controls",
      "model_module_version": "1.5.0",
      "model_name": "HTMLModel",
      "state": {
       "layout": "IPY_MODEL_0084651e97ef41c2a173ed6f061730ce",
       "style": "IPY_MODEL_c7d0486b8130462794b1863b92a63847",
       "value": " 10/10 [00:01&lt;00:00,  9.26it/s]"
      }
     },
     "714aac2f3d1e4d549b0e43a8bafcc0c1": {
      "model_module": "@jupyter-widgets/controls",
      "model_module_version": "1.5.0",
      "model_name": "FloatProgressModel",
      "state": {
       "bar_style": "success",
       "layout": "IPY_MODEL_1b583672aa364bf481af897091c38431",
       "max": 4,
       "style": "IPY_MODEL_095d08697383499185e3909137951b75",
       "value": 4
      }
     },
     "725ca523036f4b508ea1086eaa4a6f4c": {
      "model_module": "@jupyter-widgets/controls",
      "model_module_version": "1.5.0",
      "model_name": "HTMLModel",
      "state": {
       "layout": "IPY_MODEL_43478b562c6b4dd1b1f97ba3d5cb9bf9",
       "style": "IPY_MODEL_affdc26731634cb98c755ceab8475d0d",
       "value": " 10/10 [00:01&lt;00:00,  9.31it/s]"
      }
     },
     "739d5636bad64e76bea9caf92a8c2778": {
      "model_module": "@jupyter-widgets/controls",
      "model_module_version": "1.5.0",
      "model_name": "HBoxModel",
      "state": {
       "children": [
        "IPY_MODEL_df1922ff30094af7acd36c28a669241a",
        "IPY_MODEL_9317366d4b3241ccbb79821f6e39d2f9",
        "IPY_MODEL_d7e770b9214e4175a2d63641014e6894"
       ],
       "layout": "IPY_MODEL_e51e9dd9f9bc41db882eb3177d03e066"
      }
     },
     "73b2b6e32c70435885a9cdb54618c6e9": {
      "model_module": "@jupyter-widgets/controls",
      "model_module_version": "1.5.0",
      "model_name": "HBoxModel",
      "state": {
       "children": [
        "IPY_MODEL_5bdf6f9ac9e54eed9c01336695ff9d99",
        "IPY_MODEL_2a622126e7ef4272a86efbfd8a6e50af",
        "IPY_MODEL_fd042253f0974ce69d9d88d9a82180cd"
       ],
       "layout": "IPY_MODEL_d32a3feca0c2445d90276a40fb5fdb2d"
      }
     },
     "742deed8d3294dc687bf57556c271c51": {
      "model_module": "@jupyter-widgets/controls",
      "model_module_version": "1.5.0",
      "model_name": "HTMLModel",
      "state": {
       "layout": "IPY_MODEL_41cb85619f7d42c4a60c6f91818a63d7",
       "style": "IPY_MODEL_0eca6385f52e43828db07c2f34fff9e0",
       "value": "100%"
      }
     },
     "74d94040c5c0479f8147c1db18c37efd": {
      "model_module": "@jupyter-widgets/base",
      "model_module_version": "1.2.0",
      "model_name": "LayoutModel",
      "state": {}
     },
     "75f905ec85494fe1b3682d8867b8cdcb": {
      "model_module": "@jupyter-widgets/controls",
      "model_module_version": "1.5.0",
      "model_name": "FloatProgressModel",
      "state": {
       "bar_style": "success",
       "layout": "IPY_MODEL_a7b632dda2294c9aa0903dad1f01fbe1",
       "max": 10,
       "style": "IPY_MODEL_d3685765a5244b589d1995c9f011dcdc",
       "value": 10
      }
     },
     "764d43bc1b074ce7a1f8fbc376c51afd": {
      "model_module": "@jupyter-widgets/controls",
      "model_module_version": "1.5.0",
      "model_name": "DescriptionStyleModel",
      "state": {
       "description_width": ""
      }
     },
     "7669aebb315e4587bd9b4178b6054a9a": {
      "model_module": "@jupyter-widgets/controls",
      "model_module_version": "1.5.0",
      "model_name": "HTMLModel",
      "state": {
       "layout": "IPY_MODEL_6a371d91079442968060c8584353d1ea",
       "style": "IPY_MODEL_79c7077c8c0d42288f4c61ac95450bbe",
       "value": " 161/161 [00:05&lt;00:00, 29.20it/s]"
      }
     },
     "7750ed30726e4b57a5a2578459e9b1fa": {
      "model_module": "@jupyter-widgets/controls",
      "model_module_version": "1.5.0",
      "model_name": "HBoxModel",
      "state": {
       "children": [
        "IPY_MODEL_b4022571244c48c3819c978bf6c96ede",
        "IPY_MODEL_75f905ec85494fe1b3682d8867b8cdcb",
        "IPY_MODEL_6e08f97c1a9e4cab913f8da6ad870a93"
       ],
       "layout": "IPY_MODEL_9efb9322a79142eb8e1dd41a686fd00f"
      }
     },
     "7893d59e70c24b6e9f33d94d3449e97a": {
      "model_module": "@jupyter-widgets/controls",
      "model_module_version": "1.5.0",
      "model_name": "FloatProgressModel",
      "state": {
       "bar_style": "success",
       "layout": "IPY_MODEL_f7e49326656e430181ce4c2a24b5cd5f",
       "max": 4,
       "style": "IPY_MODEL_f7c31beb52594aa4b3aeba307bb2d805",
       "value": 4
      }
     },
     "79c7077c8c0d42288f4c61ac95450bbe": {
      "model_module": "@jupyter-widgets/controls",
      "model_module_version": "1.5.0",
      "model_name": "DescriptionStyleModel",
      "state": {
       "description_width": ""
      }
     },
     "7a6e1ad622064a2ea1798e8c07a2f950": {
      "model_module": "@jupyter-widgets/base",
      "model_module_version": "1.2.0",
      "model_name": "LayoutModel",
      "state": {}
     },
     "7b818810acbf47268bf73ee70f398303": {
      "model_module": "@jupyter-widgets/controls",
      "model_module_version": "1.5.0",
      "model_name": "HTMLModel",
      "state": {
       "layout": "IPY_MODEL_9dfb3e35ad2a4a1fb89c8828773e807b",
       "style": "IPY_MODEL_2fabaeb4a24e4dae9b28d714cd63723f",
       "value": "240/240 blocks [03:06&lt;00:00]"
      }
     },
     "7bbdc10abb054b068c1053ec5c4f59f0": {
      "model_module": "@jupyter-widgets/base",
      "model_module_version": "1.2.0",
      "model_name": "LayoutModel",
      "state": {}
     },
     "7bdf922d57084ff39b2a56a7ecc8fe0f": {
      "model_module": "@jupyter-widgets/controls",
      "model_module_version": "1.5.0",
      "model_name": "HTMLModel",
      "state": {
       "layout": "IPY_MODEL_b3266cf67ae04b5db8c561589be4b64d",
       "style": "IPY_MODEL_eff27fd9cb094dc9ae6a3d78a4e1308d",
       "value": "100%"
      }
     },
     "7f48fcdbafcb4eb3bbd43e354c8a216b": {
      "model_module": "@jupyter-widgets/base",
      "model_module_version": "1.2.0",
      "model_name": "LayoutModel",
      "state": {}
     },
     "7f676634af7d4924b4782ec5c985769c": {
      "model_module": "@jupyter-widgets/controls",
      "model_module_version": "1.5.0",
      "model_name": "DescriptionStyleModel",
      "state": {
       "description_width": ""
      }
     },
     "7f748452ed63423a83cabe502bd4aa3b": {
      "model_module": "@jupyter-widgets/controls",
      "model_module_version": "1.5.0",
      "model_name": "DescriptionStyleModel",
      "state": {
       "description_width": ""
      }
     },
     "7f860463a1644aedae725c35fa122965": {
      "model_module": "@jupyter-widgets/controls",
      "model_module_version": "1.5.0",
      "model_name": "HBoxModel",
      "state": {
       "children": [
        "IPY_MODEL_b58338ce08664c6db7cae9b3f542b901",
        "IPY_MODEL_10279fcb7e9847f189f8a5a85d909a49",
        "IPY_MODEL_f587e5c180354c6f88fe7c77929f0a69"
       ],
       "layout": "IPY_MODEL_5ae0a9a9ec554aee864e8728448316c8"
      }
     },
     "7f948b00dbf443a18e23e1bc16aeb038": {
      "model_module": "@jupyter-widgets/base",
      "model_module_version": "1.2.0",
      "model_name": "LayoutModel",
      "state": {
       "flex": "2"
      }
     },
     "809e2933040c48969d50575412e35c4f": {
      "model_module": "@jupyter-widgets/controls",
      "model_module_version": "1.5.0",
      "model_name": "DescriptionStyleModel",
      "state": {
       "description_width": ""
      }
     },
     "80acf7c686be45e1b817952c0077933c": {
      "model_module": "@jupyter-widgets/controls",
      "model_module_version": "1.5.0",
      "model_name": "HTMLModel",
      "state": {
       "layout": "IPY_MODEL_7f48fcdbafcb4eb3bbd43e354c8a216b",
       "style": "IPY_MODEL_9b6bf4873a5443e09711bfc23ddf885c",
       "value": "NGI_3321BD-3322AC_2010_LittleKaroo_GroundTruthSubset_FUSE_cREF_mGAIN_k1_1.vrt: 100%"
      }
     },
     "80cc6f42d6874ea2abfa6c5219c1e581": {
      "model_module": "@jupyter-widgets/base",
      "model_module_version": "1.2.0",
      "model_name": "LayoutModel",
      "state": {}
     },
     "80d299ed1c7e4d1d853fc6f8c1b40ff0": {
      "model_module": "@jupyter-widgets/base",
      "model_module_version": "1.2.0",
      "model_name": "LayoutModel",
      "state": {}
     },
     "8106d9a7742443959743211beb1d6793": {
      "model_module": "@jupyter-widgets/controls",
      "model_module_version": "1.5.0",
      "model_name": "HTMLModel",
      "state": {
       "layout": "IPY_MODEL_057574f302fe40e7859b8a36ac2b4edd",
       "style": "IPY_MODEL_5c85a81492ec42b69dc0622329d356c2",
       "value": " 161/161 [00:02&lt;00:00, 60.54it/s]"
      }
     },
     "832c9b88318d4808a2911a3f1929382f": {
      "model_module": "@jupyter-widgets/base",
      "model_module_version": "1.2.0",
      "model_name": "LayoutModel",
      "state": {}
     },
     "85568feea39e4341968962872fc5edce": {
      "model_module": "@jupyter-widgets/controls",
      "model_module_version": "1.5.0",
      "model_name": "HTMLModel",
      "state": {
       "layout": "IPY_MODEL_80d299ed1c7e4d1d853fc6f8c1b40ff0",
       "style": "IPY_MODEL_f516d37280fb4a419aacae27373b2ef6",
       "value": " 10/10 [00:01&lt;00:00,  9.30it/s]"
      }
     },
     "856fc3f3c7f2463e92cd871ccfbad46c": {
      "model_module": "@jupyter-widgets/controls",
      "model_module_version": "1.5.0",
      "model_name": "HTMLModel",
      "state": {
       "layout": "IPY_MODEL_13dc3e43197d4489a82c16846521a4e4",
       "style": "IPY_MODEL_137eeecf71174d6fa0ed36af0aa8d849",
       "value": "4/4 blocks [00:59&lt;00:00]"
      }
     },
     "86d7ee9a8bcd40cdaa74c3bc0ee47020": {
      "model_module": "@jupyter-widgets/controls",
      "model_module_version": "1.5.0",
      "model_name": "HBoxModel",
      "state": {
       "children": [
        "IPY_MODEL_a5e4812425ba43f78cca2f4da5fe3dc8",
        "IPY_MODEL_df6976489b484970a65dda02a344a69c",
        "IPY_MODEL_18c874bcb24a40e19e0d99f4114a2142"
       ],
       "layout": "IPY_MODEL_3aed1284471742658d6617a5c3f5919b"
      }
     },
     "88d1e8a1739c455eb3a464b85bdfccda": {
      "model_module": "@jupyter-widgets/base",
      "model_module_version": "1.2.0",
      "model_name": "LayoutModel",
      "state": {
       "display": "inline-flex",
       "flex_flow": "row wrap",
       "width": "100%"
      }
     },
     "8b2b6d7f0efb4b62a17aabb2f733ef1f": {
      "model_module": "@jupyter-widgets/controls",
      "model_module_version": "1.5.0",
      "model_name": "HTMLModel",
      "state": {
       "layout": "IPY_MODEL_30e1db325e0541ea8bc96d7855edef59",
       "style": "IPY_MODEL_3dc9bdb83a124d398f775b7470c2bcf3",
       "value": "4/4 blocks [01:24&lt;00:00]"
      }
     },
     "8b908cb6884e4529ae758467dc651a66": {
      "model_module": "@jupyter-widgets/base",
      "model_module_version": "1.2.0",
      "model_name": "LayoutModel",
      "state": {}
     },
     "8b9b6ca0853a4366b5ec9af651712e74": {
      "model_module": "@jupyter-widgets/controls",
      "model_module_version": "1.5.0",
      "model_name": "HTMLModel",
      "state": {
       "layout": "IPY_MODEL_b7a1f82f17f34dd89623f5a56946155c",
       "style": "IPY_MODEL_d0113878429c42c1b29aa361890913eb",
       "value": "NGI_3321BD-3322AC_2010_LittleKaroo_GroundTruthSubset_Source.vrt: 100%"
      }
     },
     "8cf3ce628bb5427e9cb741119a671576": {
      "model_module": "@jupyter-widgets/controls",
      "model_module_version": "1.5.0",
      "model_name": "HTMLModel",
      "state": {
       "layout": "IPY_MODEL_74d94040c5c0479f8147c1db18c37efd",
       "style": "IPY_MODEL_992d621bcc5d4d79ae4bd0731b04e73a",
       "value": "100%"
      }
     },
     "8d4df9f251ab4e5183c65f975925db92": {
      "model_module": "@jupyter-widgets/controls",
      "model_module_version": "1.5.0",
      "model_name": "HTMLModel",
      "state": {
       "layout": "IPY_MODEL_efd41df3ace344fb87e759e4586aa521",
       "style": "IPY_MODEL_41266c8449394984a8be6c4c1e1b603d",
       "value": " 161/161 [00:04&lt;00:00, 33.51it/s]"
      }
     },
     "916c344b9743413c9cd077b6ad21bfd2": {
      "model_module": "@jupyter-widgets/base",
      "model_module_version": "1.2.0",
      "model_name": "LayoutModel",
      "state": {}
     },
     "91e61730cbfc469c9aaaf1dd1e2bd166": {
      "model_module": "@jupyter-widgets/base",
      "model_module_version": "1.2.0",
      "model_name": "LayoutModel",
      "state": {
       "display": "inline-flex",
       "flex_flow": "row wrap",
       "width": "100%"
      }
     },
     "920c4879ecbb4bf285364a3d29b6efba": {
      "model_module": "@jupyter-widgets/base",
      "model_module_version": "1.2.0",
      "model_name": "LayoutModel",
      "state": {
       "display": "inline-flex",
       "flex_flow": "row wrap",
       "width": "100%"
      }
     },
     "923795bcb47d46508eae2374d7da813b": {
      "model_module": "@jupyter-widgets/controls",
      "model_module_version": "1.5.0",
      "model_name": "ProgressStyleModel",
      "state": {
       "description_width": ""
      }
     },
     "9287a7dea18440e8ad4eea8484903ec8": {
      "model_module": "@jupyter-widgets/controls",
      "model_module_version": "1.5.0",
      "model_name": "FloatProgressModel",
      "state": {
       "bar_style": "success",
       "layout": "IPY_MODEL_fb019cad902e4e7b8a2cf71cab7dabeb",
       "max": 4,
       "style": "IPY_MODEL_c7550fba9b0a42c483ce01d7c3588990",
       "value": 4
      }
     },
     "9317366d4b3241ccbb79821f6e39d2f9": {
      "model_module": "@jupyter-widgets/controls",
      "model_module_version": "1.5.0",
      "model_name": "FloatProgressModel",
      "state": {
       "bar_style": "success",
       "layout": "IPY_MODEL_1eb7e17a9ce3453497afb48cfedae613",
       "max": 161,
       "style": "IPY_MODEL_69269ade61f947948f37f13cb99ba283",
       "value": 161
      }
     },
     "992d621bcc5d4d79ae4bd0731b04e73a": {
      "model_module": "@jupyter-widgets/controls",
      "model_module_version": "1.5.0",
      "model_name": "DescriptionStyleModel",
      "state": {
       "description_width": ""
      }
     },
     "99318cb37ce240aaaf31c54ec9835f84": {
      "model_module": "@jupyter-widgets/controls",
      "model_module_version": "1.5.0",
      "model_name": "DescriptionStyleModel",
      "state": {
       "description_width": ""
      }
     },
     "9b033014d7a44ceaa74d481a9c613391": {
      "model_module": "@jupyter-widgets/controls",
      "model_module_version": "1.5.0",
      "model_name": "FloatProgressModel",
      "state": {
       "bar_style": "success",
       "layout": "IPY_MODEL_1ff21956c8e14c57a62c21431898d6b1",
       "max": 10,
       "style": "IPY_MODEL_923795bcb47d46508eae2374d7da813b",
       "value": 10
      }
     },
     "9b6bf4873a5443e09711bfc23ddf885c": {
      "model_module": "@jupyter-widgets/controls",
      "model_module_version": "1.5.0",
      "model_name": "DescriptionStyleModel",
      "state": {
       "description_width": ""
      }
     },
     "9c25388feb3b44c68a31cec08374d1a2": {
      "model_module": "@jupyter-widgets/controls",
      "model_module_version": "1.5.0",
      "model_name": "DescriptionStyleModel",
      "state": {
       "description_width": ""
      }
     },
     "9c9924691cd34204b262ab3fe9163310": {
      "model_module": "@jupyter-widgets/controls",
      "model_module_version": "1.5.0",
      "model_name": "DescriptionStyleModel",
      "state": {
       "description_width": ""
      }
     },
     "9ccf321b12b94d9f8fa91a1b546633a1": {
      "model_module": "@jupyter-widgets/controls",
      "model_module_version": "1.5.0",
      "model_name": "HTMLModel",
      "state": {
       "layout": "IPY_MODEL_18f27673b3ee4268aa7b3918936afdf5",
       "style": "IPY_MODEL_dd9edcf3e36642dcab87a703e0885975",
       "value": " 10/10 [00:01&lt;00:00,  9.34it/s]"
      }
     },
     "9db5c5b2d87a4a1abfd1977d94c078b2": {
      "model_module": "@jupyter-widgets/base",
      "model_module_version": "1.2.0",
      "model_name": "LayoutModel",
      "state": {}
     },
     "9dc81ee8b22e4626bf5ebb3d8b2ca9f2": {
      "model_module": "@jupyter-widgets/controls",
      "model_module_version": "1.5.0",
      "model_name": "HBoxModel",
      "state": {
       "children": [
        "IPY_MODEL_f9d6cfd45e1b4e3ab2c4cc3775e7c158",
        "IPY_MODEL_404be2c3bd164157a31ab726e3771b5c",
        "IPY_MODEL_7b818810acbf47268bf73ee70f398303"
       ],
       "layout": "IPY_MODEL_88d1e8a1739c455eb3a464b85bdfccda"
      }
     },
     "9dfb3e35ad2a4a1fb89c8828773e807b": {
      "model_module": "@jupyter-widgets/base",
      "model_module_version": "1.2.0",
      "model_name": "LayoutModel",
      "state": {}
     },
     "9efb9322a79142eb8e1dd41a686fd00f": {
      "model_module": "@jupyter-widgets/base",
      "model_module_version": "1.2.0",
      "model_name": "LayoutModel",
      "state": {
       "display": "inline-flex",
       "flex_flow": "row wrap",
       "width": "100%"
      }
     },
     "a2471214852a441895ee12520ab05e30": {
      "model_module": "@jupyter-widgets/controls",
      "model_module_version": "1.5.0",
      "model_name": "ProgressStyleModel",
      "state": {
       "description_width": ""
      }
     },
     "a5e4812425ba43f78cca2f4da5fe3dc8": {
      "model_module": "@jupyter-widgets/controls",
      "model_module_version": "1.5.0",
      "model_name": "HTMLModel",
      "state": {
       "layout": "IPY_MODEL_916c344b9743413c9cd077b6ad21bfd2",
       "style": "IPY_MODEL_447eddeee7f84fe19d7a3504b61ba405",
       "value": "100%"
      }
     },
     "a7b632dda2294c9aa0903dad1f01fbe1": {
      "model_module": "@jupyter-widgets/base",
      "model_module_version": "1.2.0",
      "model_name": "LayoutModel",
      "state": {
       "flex": "2"
      }
     },
     "a7f71ad0f6704ffdb16aafd19a514006": {
      "model_module": "@jupyter-widgets/controls",
      "model_module_version": "1.5.0",
      "model_name": "HBoxModel",
      "state": {
       "children": [
        "IPY_MODEL_17c753462b30416aa58b8772f46beee9",
        "IPY_MODEL_40acfad0032043f4b44d127eef578983",
        "IPY_MODEL_f6431770d0624ecb8a2075d0371a72aa"
       ],
       "layout": "IPY_MODEL_54c02574039c49b29cf4bcd8b741af60"
      }
     },
     "a9e3b58b57414192a69fe1882d5f1244": {
      "model_module": "@jupyter-widgets/controls",
      "model_module_version": "1.5.0",
      "model_name": "HTMLModel",
      "state": {
       "layout": "IPY_MODEL_021648c494e74f5aa49d3d75783bc882",
       "style": "IPY_MODEL_109a2501f534463694c57def79fd5ae9",
       "value": "100%"
      }
     },
     "aab770f7a339408ab5d4fc17b56fd12b": {
      "model_module": "@jupyter-widgets/controls",
      "model_module_version": "1.5.0",
      "model_name": "DescriptionStyleModel",
      "state": {
       "description_width": ""
      }
     },
     "aaf87a08fd084bdfbc24b884b3bdccc2": {
      "model_module": "@jupyter-widgets/controls",
      "model_module_version": "1.5.0",
      "model_name": "DescriptionStyleModel",
      "state": {
       "description_width": ""
      }
     },
     "ac45fb9462ef4c2982b4d260434cf70b": {
      "model_module": "@jupyter-widgets/controls",
      "model_module_version": "1.5.0",
      "model_name": "FloatProgressModel",
      "state": {
       "bar_style": "success",
       "layout": "IPY_MODEL_33bd24a564c0462b90bcab78f39f3dea",
       "max": 10,
       "style": "IPY_MODEL_23304603585d43ecb4caf851f72214fb",
       "value": 10
      }
     },
     "affdc26731634cb98c755ceab8475d0d": {
      "model_module": "@jupyter-widgets/controls",
      "model_module_version": "1.5.0",
      "model_name": "DescriptionStyleModel",
      "state": {
       "description_width": ""
      }
     },
     "b18e82fe189448c381459fa96fcacd6d": {
      "model_module": "@jupyter-widgets/controls",
      "model_module_version": "1.5.0",
      "model_name": "FloatProgressModel",
      "state": {
       "bar_style": "success",
       "layout": "IPY_MODEL_4e24e38c65dc4806a219d55938b29346",
       "max": 10,
       "style": "IPY_MODEL_38d81a112d0a48d7ae647271392edbc1",
       "value": 10
      }
     },
     "b261cddbe28c444c927e724bfb52c5c7": {
      "model_module": "@jupyter-widgets/controls",
      "model_module_version": "1.5.0",
      "model_name": "ProgressStyleModel",
      "state": {
       "description_width": ""
      }
     },
     "b3266cf67ae04b5db8c561589be4b64d": {
      "model_module": "@jupyter-widgets/base",
      "model_module_version": "1.2.0",
      "model_name": "LayoutModel",
      "state": {}
     },
     "b351cc701e11498e9611d5a4bd1824ba": {
      "model_module": "@jupyter-widgets/base",
      "model_module_version": "1.2.0",
      "model_name": "LayoutModel",
      "state": {
       "flex": "2"
      }
     },
     "b4022571244c48c3819c978bf6c96ede": {
      "model_module": "@jupyter-widgets/controls",
      "model_module_version": "1.5.0",
      "model_name": "HTMLModel",
      "state": {
       "layout": "IPY_MODEL_38426da9a56e4d6486281fd37ec58a28",
       "style": "IPY_MODEL_f5421d06e2464a78ba21b655541f2f1f",
       "value": "100%"
      }
     },
     "b58338ce08664c6db7cae9b3f542b901": {
      "model_module": "@jupyter-widgets/controls",
      "model_module_version": "1.5.0",
      "model_name": "HTMLModel",
      "state": {
       "layout": "IPY_MODEL_d4148ec880cc4aab98239ae49c3a9a5f",
       "style": "IPY_MODEL_32437192fe684936bc899a615d897d7a",
       "value": "100%"
      }
     },
     "b58c13b98ccb4c718e4d85d8e21345ae": {
      "model_module": "@jupyter-widgets/controls",
      "model_module_version": "1.5.0",
      "model_name": "ProgressStyleModel",
      "state": {
       "description_width": ""
      }
     },
     "b7a1f82f17f34dd89623f5a56946155c": {
      "model_module": "@jupyter-widgets/base",
      "model_module_version": "1.2.0",
      "model_name": "LayoutModel",
      "state": {}
     },
     "c4cb770a627b48cd8c338c33c6259b7b": {
      "model_module": "@jupyter-widgets/base",
      "model_module_version": "1.2.0",
      "model_name": "LayoutModel",
      "state": {
       "flex": "2"
      }
     },
     "c68502c6d2634e9a9a739b4bbd394e5f": {
      "model_module": "@jupyter-widgets/controls",
      "model_module_version": "1.5.0",
      "model_name": "HBoxModel",
      "state": {
       "children": [
        "IPY_MODEL_7bdf922d57084ff39b2a56a7ecc8fe0f",
        "IPY_MODEL_48617621ab3646d38022bf3fd33e9f41",
        "IPY_MODEL_725ca523036f4b508ea1086eaa4a6f4c"
       ],
       "layout": "IPY_MODEL_d02ccf00a53a42d781668bff4c66e7ec"
      }
     },
     "c7550fba9b0a42c483ce01d7c3588990": {
      "model_module": "@jupyter-widgets/controls",
      "model_module_version": "1.5.0",
      "model_name": "ProgressStyleModel",
      "state": {
       "description_width": ""
      }
     },
     "c7d0486b8130462794b1863b92a63847": {
      "model_module": "@jupyter-widgets/controls",
      "model_module_version": "1.5.0",
      "model_name": "DescriptionStyleModel",
      "state": {
       "description_width": ""
      }
     },
     "c93c1da0a64547009539dab851f4ddd6": {
      "model_module": "@jupyter-widgets/base",
      "model_module_version": "1.2.0",
      "model_name": "LayoutModel",
      "state": {}
     },
     "c94e07fdf122431aa371a2f7caff1838": {
      "model_module": "@jupyter-widgets/controls",
      "model_module_version": "1.5.0",
      "model_name": "DescriptionStyleModel",
      "state": {
       "description_width": ""
      }
     },
     "c9eb03ec5d26480cb49f58336d3ded24": {
      "model_module": "@jupyter-widgets/controls",
      "model_module_version": "1.5.0",
      "model_name": "ProgressStyleModel",
      "state": {
       "description_width": ""
      }
     },
     "c9f2932ee2e248199154a8de138cb8ac": {
      "model_module": "@jupyter-widgets/controls",
      "model_module_version": "1.5.0",
      "model_name": "ProgressStyleModel",
      "state": {
       "description_width": ""
      }
     },
     "cc943a2a33c342a3a2199e1b5e68d831": {
      "model_module": "@jupyter-widgets/controls",
      "model_module_version": "1.5.0",
      "model_name": "ProgressStyleModel",
      "state": {
       "description_width": ""
      }
     },
     "ccb98dac62ff45bf88e0b4f5cffee1cb": {
      "model_module": "@jupyter-widgets/base",
      "model_module_version": "1.2.0",
      "model_name": "LayoutModel",
      "state": {
       "flex": "2"
      }
     },
     "cdcf345f5ced4a47b19ee3e0cfa5cb7b": {
      "model_module": "@jupyter-widgets/controls",
      "model_module_version": "1.5.0",
      "model_name": "HBoxModel",
      "state": {
       "children": [
        "IPY_MODEL_80acf7c686be45e1b817952c0077933c",
        "IPY_MODEL_285e02fa07a5460ca6c1727ca057f11c",
        "IPY_MODEL_8d4df9f251ab4e5183c65f975925db92"
       ],
       "layout": "IPY_MODEL_4f948e63bad54065a0de08fb69d1eacf"
      }
     },
     "cf36174766b44720aa1331851256a153": {
      "model_module": "@jupyter-widgets/base",
      "model_module_version": "1.2.0",
      "model_name": "LayoutModel",
      "state": {}
     },
     "d0113878429c42c1b29aa361890913eb": {
      "model_module": "@jupyter-widgets/controls",
      "model_module_version": "1.5.0",
      "model_name": "DescriptionStyleModel",
      "state": {
       "description_width": ""
      }
     },
     "d02ccf00a53a42d781668bff4c66e7ec": {
      "model_module": "@jupyter-widgets/base",
      "model_module_version": "1.2.0",
      "model_name": "LayoutModel",
      "state": {
       "display": "inline-flex",
       "flex_flow": "row wrap",
       "width": "100%"
      }
     },
     "d1d0491c3b3f49eaa61973ee1e694d86": {
      "model_module": "@jupyter-widgets/base",
      "model_module_version": "1.2.0",
      "model_name": "LayoutModel",
      "state": {}
     },
     "d32a3feca0c2445d90276a40fb5fdb2d": {
      "model_module": "@jupyter-widgets/base",
      "model_module_version": "1.2.0",
      "model_name": "LayoutModel",
      "state": {
       "display": "inline-flex",
       "flex_flow": "row wrap",
       "width": "100%"
      }
     },
     "d3685765a5244b589d1995c9f011dcdc": {
      "model_module": "@jupyter-widgets/controls",
      "model_module_version": "1.5.0",
      "model_name": "ProgressStyleModel",
      "state": {
       "description_width": ""
      }
     },
     "d4148ec880cc4aab98239ae49c3a9a5f": {
      "model_module": "@jupyter-widgets/base",
      "model_module_version": "1.2.0",
      "model_name": "LayoutModel",
      "state": {}
     },
     "d4cdd6e3274f4184b02d236c8e23aea3": {
      "model_module": "@jupyter-widgets/controls",
      "model_module_version": "1.5.0",
      "model_name": "HTMLModel",
      "state": {
       "layout": "IPY_MODEL_dadb4646abd24a7784208307fff8b424",
       "style": "IPY_MODEL_60b9ff26e9524521a0e97f142a49e5a5",
       "value": " 10/10 [00:01&lt;00:00,  9.36it/s]"
      }
     },
     "d527e7cdfc61421ca2a66e4677049576": {
      "model_module": "@jupyter-widgets/controls",
      "model_module_version": "1.5.0",
      "model_name": "HTMLModel",
      "state": {
       "layout": "IPY_MODEL_8b908cb6884e4529ae758467dc651a66",
       "style": "IPY_MODEL_1af177b00e974db0afff768e29539974",
       "value": "4/4 blocks [01:15&lt;00:00]"
      }
     },
     "d5df55cdf89c4437a89d08ac48be6dfb": {
      "model_module": "@jupyter-widgets/controls",
      "model_module_version": "1.5.0",
      "model_name": "FloatProgressModel",
      "state": {
       "bar_style": "success",
       "layout": "IPY_MODEL_b351cc701e11498e9611d5a4bd1824ba",
       "max": 161,
       "style": "IPY_MODEL_db069e979d9c490eb7cb3ce6de2eb825",
       "value": 161
      }
     },
     "d6032b14ff964592a35906126439a93e": {
      "model_module": "@jupyter-widgets/controls",
      "model_module_version": "1.5.0",
      "model_name": "DescriptionStyleModel",
      "state": {
       "description_width": ""
      }
     },
     "d72dd2aaa77049fc9a4bf1a2abfd8453": {
      "model_module": "@jupyter-widgets/controls",
      "model_module_version": "1.5.0",
      "model_name": "HBoxModel",
      "state": {
       "children": [
        "IPY_MODEL_8b9b6ca0853a4366b5ec9af651712e74",
        "IPY_MODEL_d5df55cdf89c4437a89d08ac48be6dfb",
        "IPY_MODEL_8106d9a7742443959743211beb1d6793"
       ],
       "layout": "IPY_MODEL_91e61730cbfc469c9aaaf1dd1e2bd166"
      }
     },
     "d7e770b9214e4175a2d63641014e6894": {
      "model_module": "@jupyter-widgets/controls",
      "model_module_version": "1.5.0",
      "model_name": "HTMLModel",
      "state": {
       "layout": "IPY_MODEL_c93c1da0a64547009539dab851f4ddd6",
       "style": "IPY_MODEL_9c25388feb3b44c68a31cec08374d1a2",
       "value": " 161/161 [00:01&lt;00:00, 146.93it/s]"
      }
     },
     "dac242216ea2473fa0a72e4d1a405ec7": {
      "model_module": "@jupyter-widgets/base",
      "model_module_version": "1.2.0",
      "model_name": "LayoutModel",
      "state": {}
     },
     "dadb4646abd24a7784208307fff8b424": {
      "model_module": "@jupyter-widgets/base",
      "model_module_version": "1.2.0",
      "model_name": "LayoutModel",
      "state": {}
     },
     "db069e979d9c490eb7cb3ce6de2eb825": {
      "model_module": "@jupyter-widgets/controls",
      "model_module_version": "1.5.0",
      "model_name": "ProgressStyleModel",
      "state": {
       "description_width": ""
      }
     },
     "dd246c73841b443e932f92e7f923d5c1": {
      "model_module": "@jupyter-widgets/base",
      "model_module_version": "1.2.0",
      "model_name": "LayoutModel",
      "state": {
       "display": "inline-flex",
       "flex_flow": "row wrap",
       "width": "100%"
      }
     },
     "dd9edcf3e36642dcab87a703e0885975": {
      "model_module": "@jupyter-widgets/controls",
      "model_module_version": "1.5.0",
      "model_name": "DescriptionStyleModel",
      "state": {
       "description_width": ""
      }
     },
     "dec9eaefc6e24ebfbb1c8156a9cb052f": {
      "model_module": "@jupyter-widgets/controls",
      "model_module_version": "1.5.0",
      "model_name": "DescriptionStyleModel",
      "state": {
       "description_width": ""
      }
     },
     "df1922ff30094af7acd36c28a669241a": {
      "model_module": "@jupyter-widgets/controls",
      "model_module_version": "1.5.0",
      "model_name": "HTMLModel",
      "state": {
       "layout": "IPY_MODEL_7a6e1ad622064a2ea1798e8c07a2f950",
       "style": "IPY_MODEL_764d43bc1b074ce7a1f8fbc376c51afd",
       "value": "NGI_3321BD-3322AC_2010_LittleKaroo_GroundTruthSubset_Source.vrt: 100%"
      }
     },
     "df6976489b484970a65dda02a344a69c": {
      "model_module": "@jupyter-widgets/controls",
      "model_module_version": "1.5.0",
      "model_name": "FloatProgressModel",
      "state": {
       "bar_style": "success",
       "layout": "IPY_MODEL_c4cb770a627b48cd8c338c33c6259b7b",
       "max": 10,
       "style": "IPY_MODEL_c9eb03ec5d26480cb49f58336d3ded24",
       "value": 10
      }
     },
     "e1b9aa12374547728eb9034e1a3c1297": {
      "model_module": "@jupyter-widgets/controls",
      "model_module_version": "1.5.0",
      "model_name": "ProgressStyleModel",
      "state": {
       "description_width": ""
      }
     },
     "e2de32200e534135811657585bb37a2d": {
      "model_module": "@jupyter-widgets/controls",
      "model_module_version": "1.5.0",
      "model_name": "HBoxModel",
      "state": {
       "children": [
        "IPY_MODEL_742deed8d3294dc687bf57556c271c51",
        "IPY_MODEL_b18e82fe189448c381459fa96fcacd6d",
        "IPY_MODEL_9ccf321b12b94d9f8fa91a1b546633a1"
       ],
       "layout": "IPY_MODEL_3656d5b95f18410f83bda16fec5d2973"
      }
     },
     "e3f76080a57c44629073e7d91a09181f": {
      "model_module": "@jupyter-widgets/base",
      "model_module_version": "1.2.0",
      "model_name": "LayoutModel",
      "state": {
       "flex": "2"
      }
     },
     "e4cb083f0b224b9681947b048912500e": {
      "model_module": "@jupyter-widgets/base",
      "model_module_version": "1.2.0",
      "model_name": "LayoutModel",
      "state": {}
     },
     "e51e9dd9f9bc41db882eb3177d03e066": {
      "model_module": "@jupyter-widgets/base",
      "model_module_version": "1.2.0",
      "model_name": "LayoutModel",
      "state": {
       "display": "inline-flex",
       "flex_flow": "row wrap",
       "width": "100%"
      }
     },
     "e71c7e21ba6a42f9abb1e44c7982ae8f": {
      "model_module": "@jupyter-widgets/controls",
      "model_module_version": "1.5.0",
      "model_name": "HTMLModel",
      "state": {
       "layout": "IPY_MODEL_e9be83343ff8400aad68b97c00863cc1",
       "style": "IPY_MODEL_45c0cd860844469da5f04243083da6ed",
       "value": "100%"
      }
     },
     "e8b5c996aa3f4e79a1433755bfea613c": {
      "model_module": "@jupyter-widgets/controls",
      "model_module_version": "1.5.0",
      "model_name": "DescriptionStyleModel",
      "state": {
       "description_width": ""
      }
     },
     "e91c667008d44b8a86c42c56c57e4af7": {
      "model_module": "@jupyter-widgets/base",
      "model_module_version": "1.2.0",
      "model_name": "LayoutModel",
      "state": {
       "flex": "2"
      }
     },
     "e94587d7594a4a91bc8985f32272036c": {
      "model_module": "@jupyter-widgets/controls",
      "model_module_version": "1.5.0",
      "model_name": "HBoxModel",
      "state": {
       "children": [
        "IPY_MODEL_1ff22219927541eeb70e39f000389e47",
        "IPY_MODEL_9b033014d7a44ceaa74d481a9c613391",
        "IPY_MODEL_05a14482223d4c57a6798af31d04531d"
       ],
       "layout": "IPY_MODEL_41f905d754f5475b8f6a98ce33fe8334"
      }
     },
     "e9be83343ff8400aad68b97c00863cc1": {
      "model_module": "@jupyter-widgets/base",
      "model_module_version": "1.2.0",
      "model_name": "LayoutModel",
      "state": {}
     },
     "e9fc403540684d6299cae13877364c62": {
      "model_module": "@jupyter-widgets/base",
      "model_module_version": "1.2.0",
      "model_name": "LayoutModel",
      "state": {
       "display": "inline-flex",
       "flex_flow": "row wrap",
       "width": "100%"
      }
     },
     "ea233603bbed4246b53f072ca3df56ef": {
      "model_module": "@jupyter-widgets/base",
      "model_module_version": "1.2.0",
      "model_name": "LayoutModel",
      "state": {
       "flex": "2"
      }
     },
     "eedfb87eb3b544c08feafe39fb759c85": {
      "model_module": "@jupyter-widgets/controls",
      "model_module_version": "1.5.0",
      "model_name": "HTMLModel",
      "state": {
       "layout": "IPY_MODEL_dac242216ea2473fa0a72e4d1a405ec7",
       "style": "IPY_MODEL_7f748452ed63423a83cabe502bd4aa3b",
       "value": "100%"
      }
     },
     "efb740c0e71342d5b14ba9750e9c0e54": {
      "model_module": "@jupyter-widgets/base",
      "model_module_version": "1.2.0",
      "model_name": "LayoutModel",
      "state": {
       "display": "inline-flex",
       "flex_flow": "row wrap",
       "width": "100%"
      }
     },
     "efd41df3ace344fb87e759e4586aa521": {
      "model_module": "@jupyter-widgets/base",
      "model_module_version": "1.2.0",
      "model_name": "LayoutModel",
      "state": {}
     },
     "eff27fd9cb094dc9ae6a3d78a4e1308d": {
      "model_module": "@jupyter-widgets/controls",
      "model_module_version": "1.5.0",
      "model_name": "DescriptionStyleModel",
      "state": {
       "description_width": ""
      }
     },
     "f0d17c1876c14a59ba2468dfbe4f3c9a": {
      "model_module": "@jupyter-widgets/controls",
      "model_module_version": "1.5.0",
      "model_name": "HTMLModel",
      "state": {
       "layout": "IPY_MODEL_55271989b3dc488a9cdd7becadc88ba5",
       "style": "IPY_MODEL_39656b3ee4204e558f0f894570732e2d",
       "value": "100%"
      }
     },
     "f12acd1e3a69422183bcf8464b10775e": {
      "model_module": "@jupyter-widgets/base",
      "model_module_version": "1.2.0",
      "model_name": "LayoutModel",
      "state": {
       "display": "inline-flex",
       "flex_flow": "row wrap",
       "width": "100%"
      }
     },
     "f251f2b27b59431a8d0974e6bfe4366a": {
      "model_module": "@jupyter-widgets/controls",
      "model_module_version": "1.5.0",
      "model_name": "HBoxModel",
      "state": {
       "children": [
        "IPY_MODEL_31785eec298f4335bbba22f465861967",
        "IPY_MODEL_ac45fb9462ef4c2982b4d260434cf70b",
        "IPY_MODEL_38081f0e9ddb42c0b82e008d2162a765"
       ],
       "layout": "IPY_MODEL_3b84bc96fd2b45baa8c45104f6fd4e22"
      }
     },
     "f37b610290614b9fbde0103bb550ac0d": {
      "model_module": "@jupyter-widgets/controls",
      "model_module_version": "1.5.0",
      "model_name": "FloatProgressModel",
      "state": {
       "bar_style": "success",
       "layout": "IPY_MODEL_ea233603bbed4246b53f072ca3df56ef",
       "max": 10,
       "style": "IPY_MODEL_b58c13b98ccb4c718e4d85d8e21345ae",
       "value": 10
      }
     },
     "f4e477f3414f4cfea60bf78fc6765806": {
      "model_module": "@jupyter-widgets/controls",
      "model_module_version": "1.5.0",
      "model_name": "ProgressStyleModel",
      "state": {
       "description_width": ""
      }
     },
     "f516d37280fb4a419aacae27373b2ef6": {
      "model_module": "@jupyter-widgets/controls",
      "model_module_version": "1.5.0",
      "model_name": "DescriptionStyleModel",
      "state": {
       "description_width": ""
      }
     },
     "f5421d06e2464a78ba21b655541f2f1f": {
      "model_module": "@jupyter-widgets/controls",
      "model_module_version": "1.5.0",
      "model_name": "DescriptionStyleModel",
      "state": {
       "description_width": ""
      }
     },
     "f587e5c180354c6f88fe7c77929f0a69": {
      "model_module": "@jupyter-widgets/controls",
      "model_module_version": "1.5.0",
      "model_name": "HTMLModel",
      "state": {
       "layout": "IPY_MODEL_7bbdc10abb054b068c1053ec5c4f59f0",
       "style": "IPY_MODEL_58cb8954634542b391bb748ad8d804e9",
       "value": " 10/10 [00:01&lt;00:00,  9.04it/s]"
      }
     },
     "f6431770d0624ecb8a2075d0371a72aa": {
      "model_module": "@jupyter-widgets/controls",
      "model_module_version": "1.5.0",
      "model_name": "HTMLModel",
      "state": {
       "layout": "IPY_MODEL_5e82a68d9405457dbc53c9f1dff9b28d",
       "style": "IPY_MODEL_e8b5c996aa3f4e79a1433755bfea613c",
       "value": " 10/10 [00:01&lt;00:00,  9.45it/s]"
      }
     },
     "f752ffc6a0484871bb127eb7693c2eab": {
      "model_module": "@jupyter-widgets/controls",
      "model_module_version": "1.5.0",
      "model_name": "ProgressStyleModel",
      "state": {
       "description_width": ""
      }
     },
     "f7c31beb52594aa4b3aeba307bb2d805": {
      "model_module": "@jupyter-widgets/controls",
      "model_module_version": "1.5.0",
      "model_name": "ProgressStyleModel",
      "state": {
       "description_width": ""
      }
     },
     "f7e49326656e430181ce4c2a24b5cd5f": {
      "model_module": "@jupyter-widgets/base",
      "model_module_version": "1.2.0",
      "model_name": "LayoutModel",
      "state": {
       "flex": "2"
      }
     },
     "f9d6cfd45e1b4e3ab2c4cc3775e7c158": {
      "model_module": "@jupyter-widgets/controls",
      "model_module_version": "1.5.0",
      "model_name": "HTMLModel",
      "state": {
       "layout": "IPY_MODEL_564d942c0418444a80618106a85a7e69",
       "style": "IPY_MODEL_186b8128cfe64b57b159ad0ab9c1888b",
       "value": "100%"
      }
     },
     "fa1375c162f04318bbfa8af99b8c93c4": {
      "model_module": "@jupyter-widgets/base",
      "model_module_version": "1.2.0",
      "model_name": "LayoutModel",
      "state": {
       "display": "inline-flex",
       "flex_flow": "row wrap",
       "width": "100%"
      }
     },
     "fb019cad902e4e7b8a2cf71cab7dabeb": {
      "model_module": "@jupyter-widgets/base",
      "model_module_version": "1.2.0",
      "model_name": "LayoutModel",
      "state": {
       "flex": "2"
      }
     },
     "fb7bcee622d54f0eb04ec7b797e19a59": {
      "model_module": "@jupyter-widgets/controls",
      "model_module_version": "1.5.0",
      "model_name": "HTMLModel",
      "state": {
       "layout": "IPY_MODEL_80cc6f42d6874ea2abfa6c5219c1e581",
       "style": "IPY_MODEL_c94e07fdf122431aa371a2f7caff1838",
       "value": " 10/10 [00:01&lt;00:00,  9.07it/s]"
      }
     },
     "fca86ea7784e47d2809ea608b3f4ac85": {
      "model_module": "@jupyter-widgets/controls",
      "model_module_version": "1.5.0",
      "model_name": "HBoxModel",
      "state": {
       "children": [
        "IPY_MODEL_5f40cf394fd84e0c9f6e7a03f732a24b",
        "IPY_MODEL_1948d20aa20c439689e43e0f66041b2f",
        "IPY_MODEL_8b2b6d7f0efb4b62a17aabb2f733ef1f"
       ],
       "layout": "IPY_MODEL_f12acd1e3a69422183bcf8464b10775e"
      }
     },
     "fd042253f0974ce69d9d88d9a82180cd": {
      "model_module": "@jupyter-widgets/controls",
      "model_module_version": "1.5.0",
      "model_name": "HTMLModel",
      "state": {
       "layout": "IPY_MODEL_3f3d5575c36e4bc4bffe2b60755267bc",
       "style": "IPY_MODEL_39214498ff0444f6bef6a2b0d3322ebc",
       "value": "240/240 blocks [03:35&lt;00:00]"
      }
     },
     "fd0d96334cad498b8af250dce840f864": {
      "model_module": "@jupyter-widgets/base",
      "model_module_version": "1.2.0",
      "model_name": "LayoutModel",
      "state": {
       "flex": "2"
      }
     },
     "fe58053c31684704b75e467bb5ad11c3": {
      "model_module": "@jupyter-widgets/base",
      "model_module_version": "1.2.0",
      "model_name": "LayoutModel",
      "state": {}
     }
    },
    "version_major": 2,
    "version_minor": 0
   }
  }
 },
 "nbformat": 4,
 "nbformat_minor": 4
}
