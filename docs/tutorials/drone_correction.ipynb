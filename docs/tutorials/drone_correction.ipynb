{
 "cells": [
  {
   "cell_type": "markdown",
   "metadata": {},
   "source": [
    "# Drone mosaic correction and evaluation\n",
    "\n",
    "This notebook uses `homonim` to correct a drone mosaic image to surface reflectance using a Sentinel-2 SR reference. It demonstrates the use of [geedim](https://github.com/dugalh/geedim) for obtaining reference images.  Results are evaluated quantitatively by comparison with a Landsat-8 reference.\n",
    "\n",
    "The drone mosaic is supplied by [Open Aerial Map](https://openaerialmap.org/) under the [CC BY 4.0](https://creativecommons.org/licenses/by/4.0/) license.  It is a 5 cm resolution, RGB ortho-image captured on 8 Feb 2022, and covers a small diverse area, in Pereira, Colombia.  There is no metadata or documentation describing the processing of the image.  It is likely to have had colour balancing and other modifications applied (this is typical with drone processing software).  Orthorectification appears highly accurate."
   ]
  },
  {
   "cell_type": "markdown",
   "metadata": {},
   "source": [
    "## Setup\n",
    "\n",
    "`geedim`, `gdal` and `matplotlib` are required to run the notebook.  You can uncomment the cell below to install them, if they aren't installed already."
   ]
  },
  {
   "cell_type": "code",
   "execution_count": 1,
   "metadata": {},
   "outputs": [],
   "source": [
    "# import sys\n",
    "# if 'conda' in sys.prefix:\n",
    "#     # install into the conda environment the notebook is being run from\n",
    "#     !conda install --yes --prefix {sys.prefix} -c conda-forge geedim gdal matplotlib\n",
    "# else:\n",
    "#     # install into the python environment the notebook is being run from\n",
    "#     !{sys.executable} -m pip install geedim gdal matplotlib"
   ]
  },
  {
   "cell_type": "code",
   "execution_count": 2,
   "metadata": {},
   "outputs": [],
   "source": [
    "# imports used by more than one cell\n",
    "import logging\n",
    "import warnings\n",
    "from pathlib import Path\n",
    "from matplotlib import pyplot\n",
    "import numpy as np\n",
    "import rasterio as rio\n",
    "from tqdm.auto import tqdm\n",
    "\n",
    "import geedim as gd\n",
    "from homonim import RasterCompare\n",
    "\n",
    "logging.basicConfig(level=logging.ERROR)"
   ]
  },
  {
   "cell_type": "markdown",
   "metadata": {},
   "source": [
    "## Download drone image\n",
    "\n",
    "In this step, we create an *images* sub-folder, then download the [drone ortho-image](https://oin-hotosm.s3.amazonaws.com/6202ec307b3a500007430480/0/6202ec307b3a500007430481.tif) into it.  "
   ]
  },
  {
   "cell_type": "code",
   "execution_count": 3,
   "metadata": {},
   "outputs": [],
   "source": [
    "from urllib import request\n",
    "\n",
    "# create images dir and source image path\n",
    "src_url = (\n",
    "    'https://oin-hotosm.s3.amazonaws.com/6202ec307b3a500007430480/0/'\n",
    "    '6202ec307b3a500007430481.tif'\n",
    ")\n",
    "images_path = Path('images')\n",
    "images_path.mkdir(exist_ok=True)\n",
    "\n",
    "src_path = images_path.joinpath('ES_WMM3_2022_02_08_Pereira_RGB.tif')"
   ]
  },
  {
   "cell_type": "code",
   "execution_count": 4,
   "metadata": {},
   "outputs": [
    {
     "data": {
      "application/vnd.jupyter.widget-view+json": {
       "model_id": "997c4d01342b4bce9944bc1f8627a7e9",
       "version_major": 2,
       "version_minor": 0
      },
      "text/plain": [
       "Download:   0%|                                                                                         | 0.00…"
      ]
     },
     "metadata": {},
     "output_type": "display_data"
    },
    {
     "ename": "ConnectionResetError",
     "evalue": "[WinError 10054] An existing connection was forcibly closed by the remote host",
     "output_type": "error",
     "traceback": [
      "\u001b[1;31m---------------------------------------------------------------------------\u001b[0m",
      "\u001b[1;31mConnectionResetError\u001b[0m                      Traceback (most recent call last)",
      "Input \u001b[1;32mIn [4]\u001b[0m, in \u001b[0;36m<cell line: 3>\u001b[1;34m()\u001b[0m\n\u001b[0;32m      2\u001b[0m response \u001b[38;5;241m=\u001b[39m request\u001b[38;5;241m.\u001b[39murlopen(src_url)\n\u001b[0;32m      3\u001b[0m \u001b[38;5;28;01mwith\u001b[39;00m tqdm(\n\u001b[0;32m      4\u001b[0m     total\u001b[38;5;241m=\u001b[39mresponse\u001b[38;5;241m.\u001b[39mlength, desc\u001b[38;5;241m=\u001b[39m\u001b[38;5;124m'\u001b[39m\u001b[38;5;124mDownload\u001b[39m\u001b[38;5;124m'\u001b[39m, unit\u001b[38;5;241m=\u001b[39m\u001b[38;5;124m'\u001b[39m\u001b[38;5;124mB\u001b[39m\u001b[38;5;124m'\u001b[39m, unit_scale\u001b[38;5;241m=\u001b[39m\u001b[38;5;28;01mTrue\u001b[39;00m, \n\u001b[0;32m      5\u001b[0m     dynamic_ncols\u001b[38;5;241m=\u001b[39m\u001b[38;5;28;01mTrue\u001b[39;00m\n\u001b[0;32m      6\u001b[0m ) \u001b[38;5;28;01mas\u001b[39;00m pbar, \u001b[38;5;28mopen\u001b[39m(src_path, \u001b[38;5;124m'\u001b[39m\u001b[38;5;124mwb\u001b[39m\u001b[38;5;124m'\u001b[39m)  \u001b[38;5;28;01mas\u001b[39;00m fout:\n\u001b[1;32m----> 7\u001b[0m     \u001b[38;5;28;01mfor\u001b[39;00m chunk \u001b[38;5;129;01min\u001b[39;00m response:\n\u001b[0;32m      8\u001b[0m         fout\u001b[38;5;241m.\u001b[39mwrite(chunk)\n\u001b[0;32m      9\u001b[0m         pbar\u001b[38;5;241m.\u001b[39mupdate(\u001b[38;5;28mlen\u001b[39m(chunk))\n",
      "File \u001b[1;32m~\\.conda\\envs\\py39_geospatial\\lib\\http\\client.py:683\u001b[0m, in \u001b[0;36mHTTPResponse.readline\u001b[1;34m(self, limit)\u001b[0m\n\u001b[0;32m    681\u001b[0m \u001b[38;5;28;01mif\u001b[39;00m \u001b[38;5;28mself\u001b[39m\u001b[38;5;241m.\u001b[39mlength \u001b[38;5;129;01mis\u001b[39;00m \u001b[38;5;129;01mnot\u001b[39;00m \u001b[38;5;28;01mNone\u001b[39;00m \u001b[38;5;129;01mand\u001b[39;00m (limit \u001b[38;5;241m<\u001b[39m \u001b[38;5;241m0\u001b[39m \u001b[38;5;129;01mor\u001b[39;00m limit \u001b[38;5;241m>\u001b[39m \u001b[38;5;28mself\u001b[39m\u001b[38;5;241m.\u001b[39mlength):\n\u001b[0;32m    682\u001b[0m     limit \u001b[38;5;241m=\u001b[39m \u001b[38;5;28mself\u001b[39m\u001b[38;5;241m.\u001b[39mlength\n\u001b[1;32m--> 683\u001b[0m result \u001b[38;5;241m=\u001b[39m \u001b[38;5;28;43mself\u001b[39;49m\u001b[38;5;241;43m.\u001b[39;49m\u001b[43mfp\u001b[49m\u001b[38;5;241;43m.\u001b[39;49m\u001b[43mreadline\u001b[49m\u001b[43m(\u001b[49m\u001b[43mlimit\u001b[49m\u001b[43m)\u001b[49m\n\u001b[0;32m    684\u001b[0m \u001b[38;5;28;01mif\u001b[39;00m \u001b[38;5;129;01mnot\u001b[39;00m result \u001b[38;5;129;01mand\u001b[39;00m limit:\n\u001b[0;32m    685\u001b[0m     \u001b[38;5;28mself\u001b[39m\u001b[38;5;241m.\u001b[39m_close_conn()\n",
      "File \u001b[1;32m~\\.conda\\envs\\py39_geospatial\\lib\\socket.py:704\u001b[0m, in \u001b[0;36mSocketIO.readinto\u001b[1;34m(self, b)\u001b[0m\n\u001b[0;32m    702\u001b[0m \u001b[38;5;28;01mwhile\u001b[39;00m \u001b[38;5;28;01mTrue\u001b[39;00m:\n\u001b[0;32m    703\u001b[0m     \u001b[38;5;28;01mtry\u001b[39;00m:\n\u001b[1;32m--> 704\u001b[0m         \u001b[38;5;28;01mreturn\u001b[39;00m \u001b[38;5;28;43mself\u001b[39;49m\u001b[38;5;241;43m.\u001b[39;49m\u001b[43m_sock\u001b[49m\u001b[38;5;241;43m.\u001b[39;49m\u001b[43mrecv_into\u001b[49m\u001b[43m(\u001b[49m\u001b[43mb\u001b[49m\u001b[43m)\u001b[49m\n\u001b[0;32m    705\u001b[0m     \u001b[38;5;28;01mexcept\u001b[39;00m timeout:\n\u001b[0;32m    706\u001b[0m         \u001b[38;5;28mself\u001b[39m\u001b[38;5;241m.\u001b[39m_timeout_occurred \u001b[38;5;241m=\u001b[39m \u001b[38;5;28;01mTrue\u001b[39;00m\n",
      "File \u001b[1;32m~\\.conda\\envs\\py39_geospatial\\lib\\ssl.py:1242\u001b[0m, in \u001b[0;36mSSLSocket.recv_into\u001b[1;34m(self, buffer, nbytes, flags)\u001b[0m\n\u001b[0;32m   1238\u001b[0m     \u001b[38;5;28;01mif\u001b[39;00m flags \u001b[38;5;241m!=\u001b[39m \u001b[38;5;241m0\u001b[39m:\n\u001b[0;32m   1239\u001b[0m         \u001b[38;5;28;01mraise\u001b[39;00m \u001b[38;5;167;01mValueError\u001b[39;00m(\n\u001b[0;32m   1240\u001b[0m           \u001b[38;5;124m\"\u001b[39m\u001b[38;5;124mnon-zero flags not allowed in calls to recv_into() on \u001b[39m\u001b[38;5;132;01m%s\u001b[39;00m\u001b[38;5;124m\"\u001b[39m \u001b[38;5;241m%\u001b[39m\n\u001b[0;32m   1241\u001b[0m           \u001b[38;5;28mself\u001b[39m\u001b[38;5;241m.\u001b[39m\u001b[38;5;18m__class__\u001b[39m)\n\u001b[1;32m-> 1242\u001b[0m     \u001b[38;5;28;01mreturn\u001b[39;00m \u001b[38;5;28;43mself\u001b[39;49m\u001b[38;5;241;43m.\u001b[39;49m\u001b[43mread\u001b[49m\u001b[43m(\u001b[49m\u001b[43mnbytes\u001b[49m\u001b[43m,\u001b[49m\u001b[43m \u001b[49m\u001b[43mbuffer\u001b[49m\u001b[43m)\u001b[49m\n\u001b[0;32m   1243\u001b[0m \u001b[38;5;28;01melse\u001b[39;00m:\n\u001b[0;32m   1244\u001b[0m     \u001b[38;5;28;01mreturn\u001b[39;00m \u001b[38;5;28msuper\u001b[39m()\u001b[38;5;241m.\u001b[39mrecv_into(buffer, nbytes, flags)\n",
      "File \u001b[1;32m~\\.conda\\envs\\py39_geospatial\\lib\\ssl.py:1100\u001b[0m, in \u001b[0;36mSSLSocket.read\u001b[1;34m(self, len, buffer)\u001b[0m\n\u001b[0;32m   1098\u001b[0m \u001b[38;5;28;01mtry\u001b[39;00m:\n\u001b[0;32m   1099\u001b[0m     \u001b[38;5;28;01mif\u001b[39;00m buffer \u001b[38;5;129;01mis\u001b[39;00m \u001b[38;5;129;01mnot\u001b[39;00m \u001b[38;5;28;01mNone\u001b[39;00m:\n\u001b[1;32m-> 1100\u001b[0m         \u001b[38;5;28;01mreturn\u001b[39;00m \u001b[38;5;28;43mself\u001b[39;49m\u001b[38;5;241;43m.\u001b[39;49m\u001b[43m_sslobj\u001b[49m\u001b[38;5;241;43m.\u001b[39;49m\u001b[43mread\u001b[49m\u001b[43m(\u001b[49m\u001b[38;5;28;43mlen\u001b[39;49m\u001b[43m,\u001b[49m\u001b[43m \u001b[49m\u001b[43mbuffer\u001b[49m\u001b[43m)\u001b[49m\n\u001b[0;32m   1101\u001b[0m     \u001b[38;5;28;01melse\u001b[39;00m:\n\u001b[0;32m   1102\u001b[0m         \u001b[38;5;28;01mreturn\u001b[39;00m \u001b[38;5;28mself\u001b[39m\u001b[38;5;241m.\u001b[39m_sslobj\u001b[38;5;241m.\u001b[39mread(\u001b[38;5;28mlen\u001b[39m)\n",
      "\u001b[1;31mConnectionResetError\u001b[0m: [WinError 10054] An existing connection was forcibly closed by the remote host"
     ]
    }
   ],
   "source": [
    "# download\n",
    "response = request.urlopen(src_url)\n",
    "with tqdm(\n",
    "    total=response.length, desc='Download', unit='B', unit_scale=True, \n",
    "    dynamic_ncols=True\n",
    ") as pbar, open(src_path, 'wb')  as fout:\n",
    "    for chunk in response:\n",
    "        fout.write(chunk)\n",
    "        pbar.update(len(chunk))"
   ]
  },
  {
   "cell_type": "markdown",
   "metadata": {},
   "source": [
    "## Search for reference image\n",
    "\n",
    "Now we search for a Sentinel-2 SR reference image using [geedim](https://github.com/dugalh/geedim).  Sentinel-2 is chosen for its high spatial resolution (10 m).\n"
   ]
  },
  {
   "cell_type": "code",
   "execution_count": null,
   "metadata": {},
   "outputs": [],
   "source": [
    "gd.Initialize()\n",
    "# create a search region that covers the source image\n",
    "region = gd.utils.get_bounds(src_path)\n",
    "\n",
    "# search the Sentinel-2 SR collection for >50% cloudless images\n",
    "s2_coll = gd.MaskedCollection.from_name('COPERNICUS/S2_SR')\n",
    "s2_coll = s2_coll.search(\n",
    "    '2022-01-01', '2022-03-01', region, cloudless_portion=50, \n",
    ")\n",
    "print('Image property descriptions:\\n\\n' + s2_coll.schema_table)\n",
    "print('\\nSearch Results:\\n\\n' + s2_coll.properties_table)\n",
    "\n",
    "# equivalent geedim command line:\n",
    "# !geedim search -c s2-sr -s 2022-01-01 -e 2022-03-01 -r {src_mosaic_path} -cp 50"
   ]
  },
  {
   "cell_type": "markdown",
   "metadata": {},
   "source": [
    "## Download reference image\n",
    "\n",
    "Let's download *COPERNICUS/S2_SR/20220202T152639_20220202T152919_T18NVL* which is 100% cloudless and fairly close to the source capture date."
   ]
  },
  {
   "cell_type": "code",
   "execution_count": null,
   "metadata": {},
   "outputs": [],
   "source": [
    "ref_path = Path('images/s2_sr_reference.tif')\n",
    "gd_image = gd.MaskedImage.from_id(\n",
    "    'COPERNICUS/S2_SR/20220202T152639_20220202T152919_T18NVL', mask=True\n",
    ")\n",
    "gd_image.download(ref_path, region=region, overwrite=True)\n",
    "\n",
    "# equivalent geedim command line:\n",
    "# !geedim download -i COPERNICUS/S2_SR/20220202T152639_20220202T152919_T18NVL --mask -r {src_path}"
   ]
  },
  {
   "cell_type": "markdown",
   "metadata": {},
   "source": [
    "## Surface reflectance correction\n",
    "\n",
    "This is the main step, where we correct the drone image by fusion with the Sentinel-2 reference.  \n",
    "\n",
    "The scale of variation that correction can adjust for is roughly the size of the kernel.  With a large disparity between the source (5 cm) and reference spatial (10 m) resolutions, it is best to keep the kernel size small.  For this example, we use the *gain-blk-offset* [model](../background.rst#model) and a [kernel shape](../background.rst#kernel-shape) of 3 x 3 pixels.  Of the tested settings, these produced the best accuracy.  "
   ]
  },
  {
   "cell_type": "code",
   "execution_count": null,
   "metadata": {},
   "outputs": [],
   "source": [
    "from homonim import RasterFuse, Model\n",
    "corr_path = images_path.joinpath(src_path.stem + '_FUSE.tif')"
   ]
  },
  {
   "cell_type": "code",
   "execution_count": null,
   "metadata": {
    "tags": []
   },
   "outputs": [],
   "source": [
    "with RasterFuse(src_path, ref_path) as raster_fuse:\n",
    "    print(f'{corr_path.name}:')\n",
    "    # incease max_block_mem below so that there is one block (and offset) \n",
    "    # per band\n",
    "    raster_fuse.process(\n",
    "        corr_path, Model.gain_blk_offset, (3, 3), \n",
    "        block_config=dict(max_block_mem=1024), \n",
    "        out_profile=dict(dtype='uint16', nodata=0), \n",
    "        overwrite=True\n",
    "    )\n",
    "\n",
    "    # equivalent homonim command line:\n",
    "    # !homonim fuse -m gain-blk-offset -k 3 3 -o {src_path} {ref_path}"
   ]
  },
  {
   "cell_type": "markdown",
   "metadata": {},
   "source": [
    "## Visualisation\n",
    "\n",
    "Next, we display matching extents of the source, reference and corrected images, in the reference CRS."
   ]
  },
  {
   "cell_type": "code",
   "execution_count": null,
   "metadata": {
    "tags": [
     "nbsphinx-thumbnail"
    ]
   },
   "outputs": [],
   "source": [
    "from rasterio.plot import show\n",
    "from rasterio.vrt import WarpedVRT\n",
    "from rasterio.enums import Resampling\n",
    "\n",
    "fig, axes = pyplot.subplots(\n",
    "    3, 1, sharex=True, sharey=True, tight_layout=True, figsize=(8, 14), \n",
    "    dpi=100,\n",
    ")\n",
    "\n",
    "# get the reference CRS to reproject source & corrected into \n",
    "with rio.open(ref_path, 'r') as ds:\n",
    "    dst_crs = ds.crs\n",
    "\n",
    "# loop over source, reference and corrected images, and their corresponding \n",
    "# settings\n",
    "for im_file, ds_fact, sc_off, indexes, ax, label in zip(\n",
    "    [src_path, ref_path, corr_path],\n",
    "    [4, 1, 4],                           # downsampling factors\n",
    "    [[255, 0], [3500, .2], [3500, .2]],  # colour scale & offset\n",
    "    [None, [4, 3, 2], None],             # RGB band indices\n",
    "    axes,\n",
    "    ['Source', 'Reference', 'Corrected'], \n",
    "):\n",
    "    # reproject into reference CRS\n",
    "    with rio.open(im_file, 'r') as _ds, WarpedVRT(\n",
    "        _ds, crs=dst_crs, resampling=Resampling.bilinear, \n",
    "    ) as ds:\n",
    "        # read and downsample image\n",
    "        ds_shape = tuple(np.round(np.array(ds.shape) / ds_fact).astype('int'))\n",
    "        transform = ds.transform * rio.Affine.scale(ds_fact)\n",
    "        array = ds.read(indexes=indexes, out_dtype='float32', out_shape=ds_shape)\n",
    "\n",
    "        # change nodata value to nan\n",
    "        mask = np.any((array == ds.nodata) | np.isnan(array), axis=(0))\n",
    "        array[:, mask] = np.nan\n",
    "\n",
    "        # scale and offset pixel values\n",
    "        array = np.clip((array / sc_off[0]) - sc_off[1], 0, 1)\n",
    "\n",
    "    # display image\n",
    "    ax = show(array, transform=transform, interpolation='nearest', ax=ax)\n",
    "    ax.set_title(label, fontweight='bold')\n",
    "    ax.axis('off')\n",
    "\n",
    "fig.savefig('../case_studies/drone-src_ref_corr.webp', dpi=150)"
   ]
  },
  {
   "cell_type": "markdown",
   "metadata": {},
   "source": [
    "There is a good colour correspondence between the corrected and reference images.  While seamlines and other variations in the source mosaic have been removed by the drone processing software, this does not necessarily imply surface reflectance accuracy.  The evaluation in the next section quantifies the surface reflectance differences between source and corrected images."
   ]
  },
  {
   "cell_type": "markdown",
   "metadata": {},
   "source": [
    "## Evaluation\n",
    "\n",
    "Here we compare the source and corrected images with a surface reflectance reference to get an idea of accuracy.  To avoid biasing accuracy estimates in the case of overfitting, we compare with an \"independent\" Landsat-8 reference i.e. a reference not used for correction. \n",
    "\n",
    "### Download comparison reference\n",
    "\n",
    "We use `geedim` again to search for and download a Landsat-8 reference.\n"
   ]
  },
  {
   "cell_type": "code",
   "execution_count": null,
   "metadata": {},
   "outputs": [],
   "source": [
    "# search the Landsat-8 collection for >50% cloudless images\n",
    "l8_coll = gd.MaskedCollection.from_name('LANDSAT/LC08/C02/T1_L2')\n",
    "l8_coll = l8_coll.search(\n",
    "    '2022-01-01', '2022-03-01', region, cloudless_portion=50, \n",
    ")\n",
    "print('Image property descriptions:\\n\\n' + l8_coll.schema_table)\n",
    "print('\\nSearch Results:\\n\\n' + l8_coll.properties_table)\n",
    "\n",
    "# equivalent geedim command line:\n",
    "# !geedim search -c l8-c2-l2 -s 2022-01-01 -e 2022-03-01 -r {src_path} -cp 50\n",
    "\n",
    "# download LANDSAT/LC08/C02/T1_L2/LC08_009057_20220215 \n",
    "cmp_ref_path = Path('images/l8_reference.tif')\n",
    "gd_image = gd.MaskedImage.from_id(\n",
    "    'LANDSAT/LC08/C02/T1_L2/LC08_009057_20220215', mask=True\n",
    ")\n",
    "gd_image.download(cmp_ref_path, region=region, overwrite=True)\n",
    "\n",
    "# equivalent geedim command line:\n",
    "# !geedim download -i LANDSAT/LC08/C02/T1_L2/LC08_009057_20220215 --mask -r {src_path}\n"
   ]
  },
  {
   "cell_type": "markdown",
   "metadata": {},
   "source": [
    "### Comparison\n",
    "\n",
    "In this section we compare the source, and corrected similarity with the Landsat-8 reference.  \n",
    "\n",
    "To start, we produce comparison tables using the `RasterCompare` class.  "
   ]
  },
  {
   "cell_type": "code",
   "execution_count": null,
   "metadata": {
    "tags": []
   },
   "outputs": [],
   "source": [
    "print(RasterCompare.schema_table())\n",
    "\n",
    "# loop over the source and corrected image files\n",
    "for im_path, im_label in zip(\n",
    "    [src_path, corr_path],\n",
    "    ['Source', 'Corrected'],\n",
    "):\n",
    "    with RasterCompare(\n",
    "        im_path, cmp_ref_path,\n",
    "    ) as compare:\n",
    "        # print a table of comparison statistics (the typical way of using \n",
    "        # RasterCompare)\n",
    "        print(f'{im_label}:')\n",
    "        stats_dict = compare.process()\n",
    "        print(f'{im_label} comparison:\\n\\n' + compare.stats_table(stats_dict))\n",
    "\n",
    "    # equivalent homonim command line:\n",
    "    # !homonim compare {im_path} {cmp_ref_path}"
   ]
  },
  {
   "cell_type": "markdown",
   "metadata": {},
   "source": [
    "Now we create scatter plots for each of the spectral bands."
   ]
  },
  {
   "cell_type": "code",
   "execution_count": null,
   "metadata": {
    "tags": []
   },
   "outputs": [],
   "source": [
    "fig, axes = pyplot.subplots(\n",
    "    2, 3, sharex='all', sharey='row', tight_layout=True, figsize=(9, 6), dpi=100\n",
    ")\n",
    "\n",
    "# loop over the source and corrected image files and corresponding axes etc\n",
    "for im_i, im_path, im_label in zip(\n",
    "    range(2),\n",
    "    [src_path, corr_path],\n",
    "    ['Source', 'Corrected'],\n",
    "):\n",
    "    with RasterCompare(im_path, cmp_ref_path) as compare:\n",
    "        # produce per-band scatter plots of source/corrected - reference \n",
    "        # surface reflectance \n",
    "        # (note that in RasterCompare.block_pairs a 'block' takes the size of a \n",
    "        # band by default)\n",
    "        for band_i, block_pair, band_label in zip(\n",
    "            range(3),\n",
    "            compare.block_pairs(),\n",
    "            ['Red', 'Green', 'Blue']\n",
    "        ):\n",
    "            # read source/corrected - reference band pair, and reproject the \n",
    "            # source/corrected band to the reference CRS and pixel grid\n",
    "            src_ra, ref_ra = compare.read(block_pair)\n",
    "            src_ra = src_ra.reproject(\n",
    "                **ref_ra.proj_profile, resampling='average'\n",
    "            )\n",
    "\n",
    "            # vectors of valid pixels in the source/corrected and reference bands\n",
    "            mask = src_ra.mask & ref_ra.mask  # mask of valid pixels\n",
    "            src_v, ref_v = src_ra.array[mask], ref_ra.array[mask]\n",
    "            r2 = np.corrcoef(src_v, ref_v)[0, 1] ** 2 \n",
    "\n",
    "            # create scatter plot\n",
    "            ax = axes[im_i, band_i]\n",
    "            ax.plot(ref_v, src_v, '.', alpha=0.25)\n",
    "            ax.set_xlabel('Reference')\n",
    "            ax.set_ylabel(im_label)\n",
    "            ax.set_title(band_label, fontweight='bold')\n",
    "            ax.text(.7, .1, f'$r^2={r2:.2f}$', transform=ax.transAxes)\n",
    "\n",
    "fig.savefig('../case_studies/drone-eval.webp', dpi=100)"
   ]
  },
  {
   "cell_type": "markdown",
   "metadata": {},
   "source": [
    "There is a sizeable improvement in correlation with the Landsat-8 reference after correction.  While `homonim` will perform best on source imagery that is free of colour-balancing etc. adjustments, drone software often applies these kinds of modifications. This example shows that `homonim` can still improve surface reflectance accuracy on adjusted source imagery.  "
   ]
  }
 ],
 "metadata": {
  "kernelspec": {
   "display_name": "Python 3 (ipykernel)",
   "language": "python",
   "name": "python3"
  },
  "language_info": {
   "codemirror_mode": {
    "name": "ipython",
    "version": 3
   },
   "file_extension": ".py",
   "mimetype": "text/x-python",
   "name": "python",
   "nbconvert_exporter": "python",
   "pygments_lexer": "ipython3",
   "version": "3.9.13"
  },
  "vscode": {
   "interpreter": {
    "hash": "a5cb0e16c618ce62d5962a2f34302e2d299d083ff8e8afee2c1c64a34662e4b4"
   }
  },
  "widgets": {
   "application/vnd.jupyter.widget-state+json": {
    "state": {
     "4a1606be1e8b4b718b3064190a169b29": {
      "model_module": "@jupyter-widgets/controls",
      "model_module_version": "1.5.0",
      "model_name": "HTMLModel",
      "state": {
       "layout": "IPY_MODEL_c00854a65faf49eebb72f3a40758e1ab",
       "style": "IPY_MODEL_5af7576faea7490fbbcdfd67b072a8f9",
       "value": "Download:   7%"
      }
     },
     "5af7576faea7490fbbcdfd67b072a8f9": {
      "model_module": "@jupyter-widgets/controls",
      "model_module_version": "1.5.0",
      "model_name": "DescriptionStyleModel",
      "state": {
       "description_width": ""
      }
     },
     "75207e55b292432fbcbaa5a55259718b": {
      "model_module": "@jupyter-widgets/controls",
      "model_module_version": "1.5.0",
      "model_name": "HTMLModel",
      "state": {
       "layout": "IPY_MODEL_8e92dda690bf4c2fb19d273ed35e0d9b",
       "style": "IPY_MODEL_f2b6baf2fa8c455eb5d65f26d5672c18",
       "value": " 1.46M/21.0M [06:55&lt;1:16:22, 4.26kB/s]"
      }
     },
     "8e92dda690bf4c2fb19d273ed35e0d9b": {
      "model_module": "@jupyter-widgets/base",
      "model_module_version": "1.2.0",
      "model_name": "LayoutModel",
      "state": {}
     },
     "997c4d01342b4bce9944bc1f8627a7e9": {
      "model_module": "@jupyter-widgets/controls",
      "model_module_version": "1.5.0",
      "model_name": "HBoxModel",
      "state": {
       "children": [
        "IPY_MODEL_4a1606be1e8b4b718b3064190a169b29",
        "IPY_MODEL_e6996eb447d5495991ea36ab3add61ab",
        "IPY_MODEL_75207e55b292432fbcbaa5a55259718b"
       ],
       "layout": "IPY_MODEL_d0f244b4da7e4958be93b2173a1d26e4"
      }
     },
     "c00854a65faf49eebb72f3a40758e1ab": {
      "model_module": "@jupyter-widgets/base",
      "model_module_version": "1.2.0",
      "model_name": "LayoutModel",
      "state": {}
     },
     "d0f244b4da7e4958be93b2173a1d26e4": {
      "model_module": "@jupyter-widgets/base",
      "model_module_version": "1.2.0",
      "model_name": "LayoutModel",
      "state": {
       "display": "inline-flex",
       "flex_flow": "row wrap",
       "width": "100%"
      }
     },
     "df33656d05be43909746589976d4a336": {
      "model_module": "@jupyter-widgets/base",
      "model_module_version": "1.2.0",
      "model_name": "LayoutModel",
      "state": {
       "flex": "2"
      }
     },
     "e6996eb447d5495991ea36ab3add61ab": {
      "model_module": "@jupyter-widgets/controls",
      "model_module_version": "1.5.0",
      "model_name": "FloatProgressModel",
      "state": {
       "bar_style": "danger",
       "layout": "IPY_MODEL_df33656d05be43909746589976d4a336",
       "max": 21000001,
       "style": "IPY_MODEL_fdbf72eb39034dee80180d436f33259b",
       "value": 1461507
      }
     },
     "f2b6baf2fa8c455eb5d65f26d5672c18": {
      "model_module": "@jupyter-widgets/controls",
      "model_module_version": "1.5.0",
      "model_name": "DescriptionStyleModel",
      "state": {
       "description_width": ""
      }
     },
     "fdbf72eb39034dee80180d436f33259b": {
      "model_module": "@jupyter-widgets/controls",
      "model_module_version": "1.5.0",
      "model_name": "ProgressStyleModel",
      "state": {
       "description_width": ""
      }
     }
    },
    "version_major": 2,
    "version_minor": 0
   }
  }
 },
 "nbformat": 4,
 "nbformat_minor": 4
}
