{
 "cells": [
  {
   "cell_type": "markdown",
   "metadata": {},
   "source": [
    "# Regression modelling\n",
    "\n",
    "This notebook shows how `homonim` can help improve regression modelling performance.  It works with aerial imagery and ground truth data from a [study](https://github.com/dugalh/map_thicket_agc) that investigated aboveground carbon (AGC) mapping in the thicket biome, South Africa.  \n",
    "\n",
    "The notebook uses the APIs of `homonim` and other packages.  Where equivalent CLI commands are available, they are given in the comments."
   ]
  },
  {
   "cell_type": "markdown",
   "metadata": {},
   "source": [
    "## Setup\n",
    "\n",
    "### Install dependencies\n",
    "\n",
    "`geedim`, `geopandas`, `gdal` and `matplotlib` are required to run the notebook.  You can uncomment the cell below to install them, if they aren't installed already."
   ]
  },
  {
   "cell_type": "code",
   "execution_count": 1,
   "metadata": {},
   "outputs": [],
   "source": [
    "# import sys\n",
    "# if 'conda' in sys.prefix:\n",
    "#     # install into the conda environment the notebook is being run from\n",
    "#     !conda install --yes --prefix {sys.prefix} -c conda-forge geedim geopandas gdal matplotlib\n",
    "# else:\n",
    "#     # install into the conda environment the notebook is being run from\n",
    "#     !{sys.executable} -m pip install geedim geopandas gdal matplotlib"
   ]
  },
  {
   "cell_type": "code",
   "execution_count": 2,
   "metadata": {},
   "outputs": [],
   "source": [
    "# imports used by more than one cell\n",
    "import logging\n",
    "import warnings\n",
    "from pathlib import Path\n",
    "from matplotlib import pyplot\n",
    "import numpy as np\n",
    "import rasterio as rio\n",
    "from tqdm.auto import tqdm\n",
    "\n",
    "import geedim as gd\n",
    "\n",
    "logging.basicConfig(level=logging.ERROR)"
   ]
  },
  {
   "cell_type": "markdown",
   "metadata": {},
   "source": [
    "## Download aerial images\n",
    "\n",
    "The aerial imagery consists of 4 50cm resolution, 4 band images, captured on 8-9 May 2015, covering a small site in the Baviaanskloof.  The images are orthorecified but otherwise unadjusted i.e. without colour balancing, gamma correction etc.  Imagery was captured and supplied by [National Geo-spatial Information (NGI)](https://ngi.dalrrd.gov.za/index.php/what-we-do/aerial-photography-and-imagery).\n",
    "\n",
    "In this step, we create an *images* sub-folder, then download & extract the [source aerial images](https://zenodo.org/record/7114702) into it.  It is a large download (~2 GB), so you may want to do it manually.  Alternatively, run the code segment below.  "
   ]
  },
  {
   "cell_type": "code",
   "execution_count": 3,
   "metadata": {},
   "outputs": [
    {
     "data": {
      "application/vnd.jupyter.widget-view+json": {
       "model_id": "978400828602425198f5881c1fdf189d",
       "version_major": 2,
       "version_minor": 0
      },
      "text/plain": [
       "Extract:   0%|                                                                                   | 0/5 [00:00<…"
      ]
     },
     "metadata": {},
     "output_type": "display_data"
    }
   ],
   "source": [
    "from zipfile import ZipFile\n",
    "from urllib import request\n",
    "\n",
    "src_url = 'https://zenodo.org/record/7130228/files/Ngi_May2015_Source.zip'\n",
    "images_path = Path('images')\n",
    "images_path.mkdir(exist_ok=True)\n",
    "zip_path = images_path.joinpath('temp.zip')\n",
    "\n",
    "# download zip file if it doesn't exist\n",
    "if not zip_path.exists():\n",
    "    response = request.urlopen(src_url)\n",
    "    with tqdm(\n",
    "        total=response.length, desc='Download', unit='B', unit_scale=True, \n",
    "        dynamic_ncols=True\n",
    "    ) as pbar, open(zip_path, 'wb')  as fout:\n",
    "        for chunk in response:\n",
    "            fout.write(chunk)\n",
    "            pbar.update(len(chunk))\n",
    "\n",
    "# extract zip file\n",
    "with ZipFile(zip_path) as zip_file:\n",
    "     for file in tqdm(\n",
    "        zip_file.namelist(), desc='Extract', dynamic_ncols=True\n",
    "    ):\n",
    "        zip_file.extract(member=file, path=images_path)"
   ]
  },
  {
   "cell_type": "markdown",
   "metadata": {},
   "source": [
    "## Download reference image\n",
    "\n",
    "This section shows how to search for a Sentinel-2 reference image using ``geedim``.  Sentinel-2 was selected for this example because it has bands that are spectrally similar to the aerial image bands, and a relatively high spatial resolution (10m).  Normally it is best to search for a reference image that is concurrent with the source imagery, but the Sentinel-2 archive begins after the source capture date (8-9 May 2015).  So, we search for the soonest possible reference after this date.  Thicket vegetation is slow growing and the study site was undisturbed over the time between the aerial and Sentinel-2 captures, so there is little change between source and reference images."
   ]
  },
  {
   "cell_type": "code",
   "execution_count": 4,
   "metadata": {},
   "outputs": [
    {
     "name": "stdout",
     "output_type": "stream",
     "text": [
      "Image property descriptions:\n",
      "\n",
      "ABBREV     NAME                             DESCRIPTION\n",
      "---------  -------------------------------  ---------------------------------------\n",
      "ID         system:id                        Earth Engine image id\n",
      "DATE       system:time_start                Image capture date/time (UTC)\n",
      "FILL       FILL_PORTION                     Portion of valid pixels (%)\n",
      "CLOUDLESS  CLOUDLESS_PORTION                Portion of cloud/shadow free pixels (%)\n",
      "RADQ       RADIOMETRIC_QUALITY              Radiometric quality check\n",
      "GEOMQ      GEOMETRIC_QUALITY                Geometric quality check\n",
      "SAA        MEAN_SOLAR_AZIMUTH_ANGLE         Solar azimuth angle (deg)\n",
      "SZA        MEAN_SOLAR_ZENITH_ANGLE          Solar zenith angle (deg)\n",
      "VAA        MEAN_INCIDENCE_AZIMUTH_ANGLE_B1  View (B1) azimuth angle (deg)\n",
      "VZA        MEAN_INCIDENCE_ZENITH_ANGLE_B1   View (B1) zenith angle (deg)\n",
      "\n",
      "Search Results:\n",
      "\n",
      "ID                                                   DATE             FILL CLOUDLESS RADQ   GEOMQ    SAA   SZA    VAA  VZA\n",
      "---------------------------------------------------- ---------------- ---- --------- ------ ------ ----- ----- ------ ----\n",
      "COPERNICUS/S2/20150913T080256_20150913T082256_T34HGH 2015-09-13 08:22  100      4.62 PASSED PASSED 40.34 45.99  99.34 4.69\n",
      "COPERNICUS/S2/20150913T080256_20150913T082256_T35HKC 2015-09-13 08:22  100      4.54 PASSED PASSED 39.65 45.68 179.46 3.06\n",
      "COPERNICUS/S2/20150913T080256_20161230T054320_T34HGH 2015-09-13 08:22  100      4.59 PASSED PASSED 40.34 45.99  99.34 4.69\n",
      "COPERNICUS/S2/20150913T080256_20161230T054320_T35HKC 2015-09-13 08:22  100      4.53 PASSED PASSED 39.65 45.68 179.46 3.06\n",
      "COPERNICUS/S2/20151003T075826_20151003T082014_T34HGH 2015-10-03 08:20  100      5.89 PASSED PASSED 44.69 38.60  99.44 4.68\n",
      "COPERNICUS/S2/20151003T075826_20151003T082014_T35HKC 2015-10-03 08:20  100      5.82 PASSED PASSED 43.92 38.26 180.55 3.06\n",
      "COPERNICUS/S2/20151003T075826_20161206T031927_T34HGH 2015-10-03 08:20  100      5.89 PASSED PASSED 44.69 38.60  99.44 4.68\n",
      "COPERNICUS/S2/20151003T075826_20161206T031927_T35HKC 2015-10-03 08:20  100      5.82 PASSED PASSED 43.92 38.26 180.55 3.06\n",
      "COPERNICUS/S2/20151023T081112_20151023T081949_T34HGH 2015-10-23 08:19  100    100.00 PASSED PASSED 51.10 32.03 100.32 4.60\n",
      "COPERNICUS/S2/20151023T081112_20151023T081949_T35HKC 2015-10-23 08:19  100    100.00 PASSED PASSED 50.27 31.65 183.14 3.07\n",
      "COPERNICUS/S2/20151023T081112_20161216T015401_T34HGH 2015-10-23 08:19  100    100.00 PASSED PASSED 51.10 32.03 100.32 4.60\n",
      "COPERNICUS/S2/20151023T081112_20161216T015401_T35HKC 2015-10-23 08:19  100    100.00 PASSED PASSED 50.27 31.65 183.14 3.07\n"
     ]
    }
   ],
   "source": [
    "gd.Initialize()\n",
    "src_mosaic_path = Path('images/Ngi_May2015_OrthoNgiDem_Source_Mosaic.vrt')\n",
    "\n",
    "# create a search region that covers the source image mosaic\n",
    "region = gd.utils.get_bounds(src_mosaic_path)\n",
    "\n",
    "# create and search the Sentinel-2 collection\n",
    "s2_coll = gd.MaskedCollection.from_name('COPERNICUS/S2')\n",
    "s2_coll = s2_coll.search('2015-05-08', '2015-10-30', region)\n",
    "print('Image property descriptions:\\n\\n' + s2_coll.schema_table)\n",
    "print('\\nSearch Results:\\n\\n' + s2_coll.properties_table)\n",
    "\n",
    "# equivalent geedim command line:\n",
    "#!geedim search -c s2-toa -s 2015-05-08 -e 2015-10-30 -r {src_mosaic_path}"
   ]
  },
  {
   "cell_type": "markdown",
   "metadata": {},
   "source": [
    "Now we can download the first 100% cloudless image: *COPERNICUS/S2/20151023T081112_20151023T081949_T34HGH*."
   ]
  },
  {
   "cell_type": "code",
   "execution_count": null,
   "metadata": {},
   "outputs": [
    {
     "data": {
      "application/vnd.jupyter.widget-view+json": {
       "model_id": "9b7639b85b4f49e497e77600f7ed9ebf",
       "version_major": 2,
       "version_minor": 0
      },
      "text/plain": [
       "s2_reference.tif: |                                                   | 0.00/68.9M (raw) [  0.0%] in 00:00 (et…"
      ]
     },
     "metadata": {},
     "output_type": "display_data"
    }
   ],
   "source": [
    "ref_path = Path('images/s2_reference.tif')\n",
    "gd_image = gd.MaskedImage.from_id(\n",
    "    'COPERNICUS/S2/20151023T081112_20151023T081949_T34HGH', mask=True\n",
    ")\n",
    "gd_image.download(ref_path, region=region, overwrite=True)\n",
    "\n",
    "# equivalent geedim command line:\n",
    "# !geedim download -i COPERNICUS/S2/20151023T081112_20151023T081949_T34HGH --mask -r {src_file}"
   ]
  },
  {
   "cell_type": "markdown",
   "metadata": {},
   "source": [
    "## Surface reflectance correction\n",
    "\n",
    "In the next step, we correct the aerial images by fusion with the Sentinel-2 reference. We use `homonim`'s *RasterFuse* class, a kernel size of 15x15 pixels and the *gain-blk-offset* model."
   ]
  },
  {
   "cell_type": "code",
   "execution_count": null,
   "metadata": {},
   "outputs": [],
   "source": [
    "from homonim import RasterFuse, Model\n",
    "\n",
    "# paths to source aerial images\n",
    "src_paths = [\n",
    "    Path(f'images/3323d_2015_1001_02_00{i}_RGBN_CMP.tif') \n",
    "    for i in [76, 78, 80, 81]\n",
    "]\n",
    "# paths to corrected images to create\n",
    "corr_paths = [\n",
    "    src_path.parent.joinpath(f'{src_path.stem}_FUSE.tif')\n",
    "    for src_path in src_paths\n",
    "]"
   ]
  },
  {
   "cell_type": "code",
   "execution_count": null,
   "metadata": {},
   "outputs": [],
   "source": [
    "# sentinel-2 bands that correpond to the red, green, blue and near-infrared bands of \n",
    "# the aerial images\n",
    "ref_bands = [4, 3, 2, 8]\n",
    "\n",
    "out_profile = RasterFuse.create_out_profile(dtype='uint16', nodata=0)\n",
    "for src_path, corr_path in zip(src_paths, corr_paths):\n",
    "    with RasterFuse(\n",
    "        src_path, ref_path, ref_bands=ref_bands\n",
    "    ) as raster_fuse:\n",
    "        raster_fuse.process(\n",
    "            corr_path, Model.gain_blk_offset, (15, 15), overwrite=True,\n",
    "            out_profile=out_profile,\n",
    "        ) \n",
    "\n",
    "    # equivalent homonim command line:\n",
    "    # !homonim fuse -m gain-blk-offset -k 15 15 -rb 4 -rb 3 -rb 2 -rb 8 -od images {src_path} {ref_path}"
   ]
  },
  {
   "cell_type": "markdown",
   "metadata": {},
   "source": [
    "Now we create a VRT mosaic of the corrected images to use in the visualisation and evaluation steps."
   ]
  },
  {
   "cell_type": "code",
   "execution_count": null,
   "metadata": {},
   "outputs": [],
   "source": [
    "from osgeo import gdal\n",
    "\n",
    "# strictly, one should avoid using GDAL and rasterio together, but it doesn't\n",
    "# create conflicts here\n",
    "corr_mosaic_path = Path('images/Ngi_May2015_OrthoNgiDem_Corrected_Mosaic.vrt')\n",
    "ds = gdal.BuildVRT(\n",
    "    str(corr_mosaic_path.absolute()), [str(cp) for cp in corr_paths]\n",
    ")\n",
    "ds.FlushCache()"
   ]
  },
  {
   "cell_type": "markdown",
   "metadata": {},
   "source": [
    "## Visualise\n",
    "\n",
    "In this section we produce a map of the AGC ground truth values and locations on the corrected mosaic.  We start by loading the AGC ground truth into a `geopandas` *GeoDataFrame*."
   ]
  },
  {
   "cell_type": "code",
   "execution_count": null,
   "metadata": {},
   "outputs": [],
   "source": [
    "import geopandas as gpd\n",
    "\n",
    "plot_agc_gdf = gpd.GeoDataFrame.from_file(\n",
    "    'https://raw.githubusercontent.com/dugalh/map_thicket_agc/main/'\n",
    "    'data/outputs/geospatial/gef_plot_polygons_with_agc_v2.gpkg' \n",
    ")"
   ]
  },
  {
   "cell_type": "markdown",
   "metadata": {},
   "source": [
    "Then we create and format the map."
   ]
  },
  {
   "cell_type": "code",
   "execution_count": null,
   "metadata": {
    "tags": [
     "nbsphinx-thumbnail"
    ]
   },
   "outputs": [],
   "source": [
    "from rasterio.plot import show\n",
    "from mpl_toolkits.axes_grid1 import make_axes_locatable\n",
    "\n",
    "indexes = [1, 2, 3]  # red, green, blue band indices\n",
    "ds_fact = 4  # factor by which to downsample bands\n",
    "\n",
    "fig, ax = pyplot.subplots(1, 1, tight_layout=True, figsize=(6, 4), dpi=150)\n",
    "divider = make_axes_locatable(ax)\n",
    "cax = divider.append_axes('right', size='3%', pad=0.1)\n",
    "\n",
    "# read, normalise and display corrected mosaic\n",
    "with rio.open(corr_mosaic_path, 'r') as corr_ds:\n",
    "    # downsampled band shape & transform\n",
    "    ds_shape = tuple(np.round(np.array(corr_ds.shape) / ds_fact).astype('int'))\n",
    "    transform = corr_ds.transform * rio.Affine.scale(ds_fact)\n",
    "    # read image and downsample\n",
    "    array = corr_ds.read(indexes=indexes, out_dtype='float32', out_shape=ds_shape)\n",
    "\n",
    "    # change nodata value to nan\n",
    "    mask = np.any(array == corr_ds.nodata, axis=(0))\n",
    "    array[:, mask] = np.nan\n",
    "    \n",
    "    # 'normalise' image 2%-98% -> 0-1\n",
    "    for bi in range(len(indexes)):\n",
    "        array[bi] -= np.nanpercentile(array[bi], 2)\n",
    "        array[bi] /= np.nanpercentile(array[bi], 98)\n",
    "        array[bi] = np.clip(array[bi], 0, 1)\n",
    "\n",
    "    ax = show(array, transform=transform, interpolation='bilinear', ax=ax)\n",
    "\n",
    "# plot colour coded points for each AGC ground truth plot\n",
    "_plot_agc_gdf = plot_agc_gdf.to_crs(corr_ds.crs)\n",
    "_plot_agc_gdf.geometry = _plot_agc_gdf.geometry.centroid\n",
    "_plot_agc_gdf.AgcHa /= 1000\n",
    "ax = _plot_agc_gdf.plot(\n",
    "    'AgcHa', kind='geo', legend=True, ax=ax, cmap='RdYlGn', cax=cax, edgecolor='white', \n",
    "    legend_kwds=dict(label='Aboveground Carbon (t C ha$^{-1}$)', orientation='vertical'),\n",
    "    linewidth=1, markersize=30, \n",
    ")\n",
    "\n",
    "# zoom in\n",
    "_ = ax.axis((86494.06047619047, 94313.07562770562, -3717680.7510822513, -3711286.8766233767))\n",
    "_ = ax.axis('off')\n",
    "fig.savefig('../case_studies/regression_modelling-agc_map.jpg', dpi=150)"
   ]
  },
  {
   "cell_type": "markdown",
   "metadata": {},
   "source": [
    "## Evaluate\n",
    "\n",
    "The evaluation compares the correlation of source and corrected NDVI with AGC ground truth.  From this basic comparison, we have an indication of the improvement in the relevance, or explanatory power of the image due to surface reflectance correction.  NDVI is used just for demonstration purposes; there may be other spectral indices and image features that better explain AGC.\n",
    "\n",
    "Here we find the mean NDVI values for each ground truth plot, for both source and corrected images."
   ]
  },
  {
   "cell_type": "code",
   "execution_count": null,
   "metadata": {},
   "outputs": [],
   "source": [
    "from rasterio import features, windows\n",
    "from homonim import utils\n",
    "\n",
    "src_mosaic_path = Path('images/Ngi_May2015_OrthoNgiDem_Source_Mosaic.vrt')\n",
    "\n",
    "ndvis = []\n",
    "for im_path in [src_mosaic_path, corr_mosaic_path]:    \n",
    "    ndvi = []\n",
    "    with warnings.catch_warnings(), rio.open(im_path, 'r') as ds:        \n",
    "        warnings.simplefilter('ignore')     # ignore shapely deprecation warning\n",
    "        # loop over ground truth plots\n",
    "        for id, plot in tqdm(\n",
    "            plot_agc_gdf.to_crs(ds.crs).iterrows(), total=plot_agc_gdf.shape[0],\n",
    "            desc=im_path.name, dynamic_ncols=True,\n",
    "        ):\n",
    "            # find a rasterio window that contains the plot polygon\n",
    "            bounds = features.bounds(plot.geometry)\n",
    "            win = windows.from_bounds(*bounds, transform=ds.transform)\n",
    "            win = utils.expand_window_to_grid(win)\n",
    "\n",
    "            # read the image array corresponding to the plot window\n",
    "            array = ds.read(out_dtype='float64', window=win)\n",
    "\n",
    "            # find a mask for pixels contained inside the plot polygon\n",
    "            win_transform = ds.window_transform(win)\n",
    "            mask = ~features.geometry_mask(\n",
    "                plot.geometry, (win.height, win.width), transform=win_transform\n",
    "            )\n",
    "\n",
    "            # find mean NDVI for the plot\n",
    "            r = array[0, mask]\n",
    "            nir = array[3, mask]\n",
    "            ndvi.append(np.mean((nir - r) / (nir + r)))\n",
    "\n",
    "    ndvis.append(ndvi)\n",
    "\n",
    "ndvi_dict = dict(zip(['Source', 'Corrected'], ndvis))"
   ]
  },
  {
   "cell_type": "markdown",
   "metadata": {},
   "source": [
    "Then we create scatter plots of source / corrected NDVI vs. AGC, and display the corresponding *R*<sup>2</sup> correlation coefficients."
   ]
  },
  {
   "cell_type": "code",
   "execution_count": null,
   "metadata": {},
   "outputs": [],
   "source": [
    "fig, axes = pyplot.subplots(1, 2, tight_layout=True, figsize=(8, 4), dpi=100)\n",
    "agc = plot_agc_gdf.AgcHa / 1000\n",
    "for ax, (label, ndvi) in zip(axes, ndvi_dict.items()):\n",
    "    # plot NDVI vs AGC scattter\n",
    "    ax.plot(ndvi, agc, '.')\n",
    "\n",
    "    # find and plot regression line\n",
    "    coeff, _, _, _ = np.linalg.lstsq(\n",
    "        np.array([ndvi, np.ones(len(ndvi))]).T, agc, rcond=None\n",
    "    )\n",
    "    xlim = [np.min(ndvi), np.max(ndvi)]\n",
    "    ylim = [np.min(agc), np.max(agc)]    \n",
    "    yr = np.array(xlim) * coeff[0] + coeff[1]\n",
    "    ax.plot(xlim, yr, 'k--', lw=2, zorder=-1)\n",
    "    \n",
    "    # find R2 correlation coefficient and add to plot\n",
    "    r2 = np.corrcoef(agc, ndvi)[0, 1] **2\n",
    "    ax.text(\n",
    "        .1, 0.9, f'r$^{2}$={r2:.2f}', transform=ax.transAxes, \n",
    "        fontweight='bold'\n",
    "    )\n",
    "\n",
    "    ax.set_xlabel('AGC (t C ha$^{-1}$)')\n",
    "    ax.set_ylabel('NDVI')\n",
    "    ax.set_xlim(xlim)\n",
    "    ax.set_ylim(ylim) \n",
    "    ax.set_title(label, fontweight='bold')    \n",
    "\n",
    "fig.savefig('../case_studies/regression_modelling-eval.svg', dpi=100)"
   ]
  },
  {
   "cell_type": "markdown",
   "metadata": {},
   "source": [
    "## Discussion\n",
    "\n",
    "Surface reflectance correction reduces unwanted variation due to atmospheric and anisotropic effects, and produces a useful improvement in the correlation between AGC and NDVI.  Based on this, one would expect a regression model built on the corrected data to outperform one built on the source data.  "
   ]
  }
 ],
 "metadata": {
  "kernelspec": {
   "display_name": "Python 3 (ipykernel)",
   "language": "python",
   "name": "python3"
  },
  "language_info": {
   "codemirror_mode": {
    "name": "ipython",
    "version": 3
   },
   "file_extension": ".py",
   "mimetype": "text/x-python",
   "name": "python",
   "nbconvert_exporter": "python",
   "pygments_lexer": "ipython3",
   "version": "3.9.13"
  },
  "vscode": {
   "interpreter": {
    "hash": "a5cb0e16c618ce62d5962a2f34302e2d299d083ff8e8afee2c1c64a34662e4b4"
   }
  },
  "widgets": {
   "application/vnd.jupyter.widget-state+json": {
    "state": {
     "0d0c01b75f804070a00f461e7141c5c2": {
      "model_module": "@jupyter-widgets/controls",
      "model_module_version": "1.5.0",
      "model_name": "HTMLModel",
      "state": {
       "layout": "IPY_MODEL_dd4523fa94e941bb91b2d84d67272a0c",
       "style": "IPY_MODEL_2c24b2275d674953aec352b345121cf9",
       "value": "Extract: 100%"
      }
     },
     "196d125865b84b12a5585a964c10a847": {
      "model_module": "@jupyter-widgets/controls",
      "model_module_version": "1.5.0",
      "model_name": "ProgressStyleModel",
      "state": {
       "description_width": ""
      }
     },
     "2c24b2275d674953aec352b345121cf9": {
      "model_module": "@jupyter-widgets/controls",
      "model_module_version": "1.5.0",
      "model_name": "DescriptionStyleModel",
      "state": {
       "description_width": ""
      }
     },
     "3a7a9a79ddcd4ccb9f58774aa0ea8650": {
      "model_module": "@jupyter-widgets/base",
      "model_module_version": "1.2.0",
      "model_name": "LayoutModel",
      "state": {}
     },
     "3d22c4c0954e4bffa7f538dbd698cbd8": {
      "model_module": "@jupyter-widgets/controls",
      "model_module_version": "1.5.0",
      "model_name": "HTMLModel",
      "state": {
       "layout": "IPY_MODEL_7a913eeaeace426c9dc95593b6bc9da9",
       "style": "IPY_MODEL_ae8b0e165451484fb57bd6d43e68bd10",
       "value": " 0.00/68.9M (raw) [  0.0%] in 00:00 (eta:     ?)"
      }
     },
     "3e452d7005d343b8a89fea91feba0824": {
      "model_module": "@jupyter-widgets/controls",
      "model_module_version": "1.5.0",
      "model_name": "ProgressStyleModel",
      "state": {
       "description_width": ""
      }
     },
     "50cc6009787245db80968eaeb184904d": {
      "model_module": "@jupyter-widgets/base",
      "model_module_version": "1.2.0",
      "model_name": "LayoutModel",
      "state": {
       "flex": "2"
      }
     },
     "532ea37800164708b498a6ef91c0b4ac": {
      "model_module": "@jupyter-widgets/controls",
      "model_module_version": "1.5.0",
      "model_name": "DescriptionStyleModel",
      "state": {
       "description_width": ""
      }
     },
     "53cea1baa74b4a07a83f8ca77199443a": {
      "model_module": "@jupyter-widgets/controls",
      "model_module_version": "1.5.0",
      "model_name": "FloatProgressModel",
      "state": {
       "layout": "IPY_MODEL_50cc6009787245db80968eaeb184904d",
       "max": 68900832,
       "style": "IPY_MODEL_196d125865b84b12a5585a964c10a847"
      }
     },
     "7a913eeaeace426c9dc95593b6bc9da9": {
      "model_module": "@jupyter-widgets/base",
      "model_module_version": "1.2.0",
      "model_name": "LayoutModel",
      "state": {}
     },
     "978400828602425198f5881c1fdf189d": {
      "model_module": "@jupyter-widgets/controls",
      "model_module_version": "1.5.0",
      "model_name": "HBoxModel",
      "state": {
       "children": [
        "IPY_MODEL_0d0c01b75f804070a00f461e7141c5c2",
        "IPY_MODEL_e12e2297dfe8469d9bb3bf376eb44367",
        "IPY_MODEL_cf80ee9f585c48759d77a261d118fc88"
       ],
       "layout": "IPY_MODEL_d084379273d64497b06fb0c39a996d95"
      }
     },
     "9b7639b85b4f49e497e77600f7ed9ebf": {
      "model_module": "@jupyter-widgets/controls",
      "model_module_version": "1.5.0",
      "model_name": "HBoxModel",
      "state": {
       "children": [
        "IPY_MODEL_b6a678b3e4fd41bb8cdd9b51f557e602",
        "IPY_MODEL_53cea1baa74b4a07a83f8ca77199443a",
        "IPY_MODEL_3d22c4c0954e4bffa7f538dbd698cbd8"
       ],
       "layout": "IPY_MODEL_d691e81154a04ea18890092dcf1bde9a"
      }
     },
     "a4a9a91e6d6540b2a15ab8f6814f7eed": {
      "model_module": "@jupyter-widgets/base",
      "model_module_version": "1.2.0",
      "model_name": "LayoutModel",
      "state": {
       "flex": "2"
      }
     },
     "ae8b0e165451484fb57bd6d43e68bd10": {
      "model_module": "@jupyter-widgets/controls",
      "model_module_version": "1.5.0",
      "model_name": "DescriptionStyleModel",
      "state": {
       "description_width": ""
      }
     },
     "b6a678b3e4fd41bb8cdd9b51f557e602": {
      "model_module": "@jupyter-widgets/controls",
      "model_module_version": "1.5.0",
      "model_name": "HTMLModel",
      "state": {
       "layout": "IPY_MODEL_3a7a9a79ddcd4ccb9f58774aa0ea8650",
       "style": "IPY_MODEL_d2500d43e564416181ffcca0eb576882",
       "value": "s2_reference.tif: "
      }
     },
     "cf80ee9f585c48759d77a261d118fc88": {
      "model_module": "@jupyter-widgets/controls",
      "model_module_version": "1.5.0",
      "model_name": "HTMLModel",
      "state": {
       "layout": "IPY_MODEL_f35497991bb84fb38bc9eec95ae85e62",
       "style": "IPY_MODEL_532ea37800164708b498a6ef91c0b4ac",
       "value": " 5/5 [01:17&lt;00:00, 20.85s/it]"
      }
     },
     "d084379273d64497b06fb0c39a996d95": {
      "model_module": "@jupyter-widgets/base",
      "model_module_version": "1.2.0",
      "model_name": "LayoutModel",
      "state": {
       "display": "inline-flex",
       "flex_flow": "row wrap",
       "width": "100%"
      }
     },
     "d2500d43e564416181ffcca0eb576882": {
      "model_module": "@jupyter-widgets/controls",
      "model_module_version": "1.5.0",
      "model_name": "DescriptionStyleModel",
      "state": {
       "description_width": ""
      }
     },
     "d691e81154a04ea18890092dcf1bde9a": {
      "model_module": "@jupyter-widgets/base",
      "model_module_version": "1.2.0",
      "model_name": "LayoutModel",
      "state": {
       "display": "inline-flex",
       "flex_flow": "row wrap",
       "width": "100%"
      }
     },
     "dd4523fa94e941bb91b2d84d67272a0c": {
      "model_module": "@jupyter-widgets/base",
      "model_module_version": "1.2.0",
      "model_name": "LayoutModel",
      "state": {}
     },
     "e12e2297dfe8469d9bb3bf376eb44367": {
      "model_module": "@jupyter-widgets/controls",
      "model_module_version": "1.5.0",
      "model_name": "FloatProgressModel",
      "state": {
       "bar_style": "success",
       "layout": "IPY_MODEL_a4a9a91e6d6540b2a15ab8f6814f7eed",
       "max": 5,
       "style": "IPY_MODEL_3e452d7005d343b8a89fea91feba0824",
       "value": 5
      }
     },
     "f35497991bb84fb38bc9eec95ae85e62": {
      "model_module": "@jupyter-widgets/base",
      "model_module_version": "1.2.0",
      "model_name": "LayoutModel",
      "state": {}
     }
    },
    "version_major": 2,
    "version_minor": 0
   }
  }
 },
 "nbformat": 4,
 "nbformat_minor": 4
}
