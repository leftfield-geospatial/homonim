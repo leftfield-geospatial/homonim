{
 "cells": [
  {
   "cell_type": "markdown",
   "metadata": {},
   "source": [
    "# Regression modelling using multi-spectral aerial images: A case study using ``homnim``\n",
    "\n",
    "This notebook shows how ``homonim`` can be used for improving regression modelling performance.  It works with multispectral aerial imagery and ground truth data from an [aboveground carbon (AGC) mapping study](https://github.com/dugalh/map_thicket_agc) that targeted the thicket biome in South Africa.  \n",
    "\n",
    "The 4 band 50 cm aerial images were obtained from National Geospatial In\n",
    "\n",
    "## Setup"
   ]
  },
  {
   "cell_type": "code",
   "execution_count": null,
   "metadata": {},
   "outputs": [],
   "source": [
    "# `matplotlib` and `geopandas` should be installed if they aren't already.\n",
    "# import sys\n",
    "# !{sys.executable} -m pip install matplotlib geopandas\n",
    "# !conda install --yes --prefix {sys.prefix} -c conda-forge matplotlib geopandas"
   ]
  },
  {
   "cell_type": "code",
   "execution_count": 1,
   "metadata": {},
   "outputs": [],
   "source": [
    "import logging\n",
    "from pathlib import Path\n",
    "from matplotlib import pyplot\n",
    "import geopandas as gpd\n",
    "import rasterio as rio\n",
    "from rasterio.plot import show\n",
    "import numpy as np\n",
    "from homonim import RasterFuse, RasterCompare, Model\n",
    "\n",
    "logging.basicConfig(level=logging.ERROR)"
   ]
  },
  {
   "cell_type": "markdown",
   "metadata": {},
   "source": [
    "Create an *images* sub-folder; and download & extract the [source aerial images](https://zenodo.org/record/7114702) into it.  It is a large download (~2 GB), so you may want to do it manually. Alternatively, run the code segment below.  "
   ]
  },
  {
   "cell_type": "code",
   "execution_count": null,
   "metadata": {},
   "outputs": [],
   "source": [
    "url = 'https://zenodo.org/record/7114702/files/Ngi_May2015_Source.zip'\n",
    "if False:\n",
    "    import urllib\n",
    "    import zipfile\n",
    "\n",
    "\n",
    "    zip_path, _ = urllib.request.urlretrieve(url)\n",
    "    with zipfile.ZipFile(zip_path, \"r\") as f:\n",
    "        f.extractall('ngi')\n",
    "else:\n",
    "    from os import fspath\n",
    "    from pathlib import Path\n",
    "    from shutil import copyfileobj\n",
    "    from zipfile import ZipFile\n",
    "    from tqdm.auto import tqdm  # could use from tqdm.gui import tqdm\n",
    "    from tqdm.utils import CallbackIOWrapper\n",
    "    import urllib\n",
    "\n",
    "    dest = Path('images').expanduser()\n",
    "    zip_path, _ = urllib.request.urlretrieve(url)\n",
    "    with ZipFile(zip_path) as zipf, tqdm(\n",
    "        desc='Downloading', unit=\"B\", unit_scale=True, unit_divisor=1024,\n",
    "        total=sum(getattr(i, \"file_size\", 0) for i in zipf.infolist()),\n",
    "    ) as pbar:\n",
    "        for i in zipf.infolist():\n",
    "            if not getattr(i, \"file_size\", 0):  # directory\n",
    "                zipf.extract(i, fspath(dest))\n",
    "            else:\n",
    "                with zipf.open(i) as fi, open(fspath(dest / i.filename), \"wb\") as fo:\n",
    "                    copyfileobj(CallbackIOWrapper(pbar.update, fi), fo)"
   ]
  },
  {
   "cell_type": "markdown",
   "metadata": {},
   "source": [
    "## Correct the aerial imagery to surface reflectance\n",
    "\n",
    "### Search for a Sentinel-2 reference image\n",
    "\n",
    "First we obtain a Sentinel-2 reference image using ``geedim``.  Normally we would search for a reference image that is concurrent with the aerial imagery, but the Sentinel-2 archive only starts after the capture date (25 May 2015).  So we search for the soonest possible reference after this date.  Thicket vegetation is slow growing, so there is unlikely to be much change between the source and reference capture dates."
   ]
  },
  {
   "cell_type": "code",
   "execution_count": 8,
   "metadata": {},
   "outputs": [
    {
     "name": "stdout",
     "output_type": "stream",
     "text": [
      "ABBREV     NAME                             DESCRIPTION\n",
      "---------  -------------------------------  ---------------------------------------\n",
      "ID         system:id                        Earth Engine image id\n",
      "DATE       system:time_start                Image capture date/time (UTC)\n",
      "FILL       FILL_PORTION                     Portion of valid pixels (%)\n",
      "CLOUDLESS  CLOUDLESS_PORTION                Portion of cloud/shadow free pixels (%)\n",
      "RADQ       RADIOMETRIC_QUALITY              Radiometric quality check\n",
      "GEOMQ      GEOMETRIC_QUALITY                Geometric quality check\n",
      "SAA        MEAN_SOLAR_AZIMUTH_ANGLE         Solar azimuth angle (deg)\n",
      "SZA        MEAN_SOLAR_ZENITH_ANGLE          Solar zenith angle (deg)\n",
      "VAA        MEAN_INCIDENCE_AZIMUTH_ANGLE_B1  View (B1) azimuth angle (deg)\n",
      "VZA        MEAN_INCIDENCE_ZENITH_ANGLE_B1   View (B1) zenith angle (deg)\n"
     ]
    },
    {
     "ename": "KeyboardInterrupt",
     "evalue": "",
     "output_type": "error",
     "traceback": [
      "\u001b[1;31m---------------------------------------------------------------------------\u001b[0m",
      "\u001b[1;31mTimeoutError\u001b[0m                              Traceback (most recent call last)",
      "File \u001b[1;32mc:\\Users\\dugalh\\.conda\\envs\\py39_geospatial\\lib\\site-packages\\urllib3\\util\\connection.py:85\u001b[0m, in \u001b[0;36mcreate_connection\u001b[1;34m(address, timeout, source_address, socket_options)\u001b[0m\n\u001b[0;32m     84\u001b[0m     sock\u001b[39m.\u001b[39mbind(source_address)\n\u001b[1;32m---> 85\u001b[0m sock\u001b[39m.\u001b[39;49mconnect(sa)\n\u001b[0;32m     86\u001b[0m \u001b[39mreturn\u001b[39;00m sock\n",
      "\u001b[1;31mTimeoutError\u001b[0m: [WinError 10060] A connection attempt failed because the connected party did not properly respond after a period of time, or established connection failed because connected host has failed to respond",
      "\nDuring handling of the above exception, another exception occurred:\n",
      "\u001b[1;31mKeyboardInterrupt\u001b[0m                         Traceback (most recent call last)",
      "\u001b[1;32mc:\\Data\\Development\\Projects\\homonim\\docs\\examples\\gef_case_study.ipynb Cell 7\u001b[0m in \u001b[0;36m<cell line: 9>\u001b[1;34m()\u001b[0m\n\u001b[0;32m      <a href='vscode-notebook-cell:/c%3A/Data/Development/Projects/homonim/docs/examples/gef_case_study.ipynb#X20sZmlsZQ%3D%3D?line=6'>7</a>\u001b[0m s2_coll \u001b[39m=\u001b[39m s2_coll\u001b[39m.\u001b[39msearch(\u001b[39m'\u001b[39m\u001b[39m2015-05-20\u001b[39m\u001b[39m'\u001b[39m, \u001b[39m'\u001b[39m\u001b[39m2015-10-30\u001b[39m\u001b[39m'\u001b[39m, region)\n\u001b[0;32m      <a href='vscode-notebook-cell:/c%3A/Data/Development/Projects/homonim/docs/examples/gef_case_study.ipynb#X20sZmlsZQ%3D%3D?line=7'>8</a>\u001b[0m \u001b[39mprint\u001b[39m(s2_coll\u001b[39m.\u001b[39mschema_table)\n\u001b[1;32m----> <a href='vscode-notebook-cell:/c%3A/Data/Development/Projects/homonim/docs/examples/gef_case_study.ipynb#X20sZmlsZQ%3D%3D?line=8'>9</a>\u001b[0m \u001b[39mprint\u001b[39m(s2_coll\u001b[39m.\u001b[39;49mproperties_table)\n",
      "File \u001b[1;32mc:\\data\\development\\projects\\geedim\\geedim\\collection.py:281\u001b[0m, in \u001b[0;36mMaskedCollection.properties_table\u001b[1;34m(self)\u001b[0m\n\u001b[0;32m    278\u001b[0m \u001b[39m@property\u001b[39m\n\u001b[0;32m    279\u001b[0m \u001b[39mdef\u001b[39;00m \u001b[39mproperties_table\u001b[39m(\u001b[39mself\u001b[39m) \u001b[39m-\u001b[39m\u001b[39m>\u001b[39m \u001b[39mstr\u001b[39m:\n\u001b[0;32m    280\u001b[0m     \u001b[39m\"\"\" :attr:`properties` formatted as a printable table string. \"\"\"\u001b[39;00m\n\u001b[1;32m--> 281\u001b[0m     \u001b[39mreturn\u001b[39;00m \u001b[39mself\u001b[39m\u001b[39m.\u001b[39m_get_properties_table(\u001b[39mself\u001b[39;49m\u001b[39m.\u001b[39;49mproperties)\n",
      "File \u001b[1;32mc:\\data\\development\\projects\\geedim\\geedim\\collection.py:275\u001b[0m, in \u001b[0;36mMaskedCollection.properties\u001b[1;34m(self)\u001b[0m\n\u001b[0;32m    271\u001b[0m     \u001b[39mraise\u001b[39;00m UnfilteredError(\n\u001b[0;32m    272\u001b[0m         \u001b[39m'\u001b[39m\u001b[39m`properties` can only be retrieved for collections returned by `search()` and `from_list()`\u001b[39m\u001b[39m'\u001b[39m\n\u001b[0;32m    273\u001b[0m     )\n\u001b[0;32m    274\u001b[0m \u001b[39mif\u001b[39;00m \u001b[39mnot\u001b[39;00m \u001b[39mself\u001b[39m\u001b[39m.\u001b[39m_properties:\n\u001b[1;32m--> 275\u001b[0m     \u001b[39mself\u001b[39m\u001b[39m.\u001b[39m_properties \u001b[39m=\u001b[39m \u001b[39mself\u001b[39;49m\u001b[39m.\u001b[39;49m_get_properties(\u001b[39mself\u001b[39;49m\u001b[39m.\u001b[39;49m_ee_collection)\n\u001b[0;32m    276\u001b[0m \u001b[39mreturn\u001b[39;00m \u001b[39mself\u001b[39m\u001b[39m.\u001b[39m_properties\n",
      "File \u001b[1;32mc:\\data\\development\\projects\\geedim\\geedim\\collection.py:337\u001b[0m, in \u001b[0;36mMaskedCollection._get_properties\u001b[1;34m(self, ee_collection)\u001b[0m\n\u001b[0;32m    335\u001b[0m props_list \u001b[39m=\u001b[39m []\n\u001b[0;32m    336\u001b[0m \u001b[39mtry\u001b[39;00m:\n\u001b[1;32m--> 337\u001b[0m     props_list \u001b[39m=\u001b[39m ee\u001b[39m.\u001b[39;49mList(ee_collection\u001b[39m.\u001b[39;49miterate(aggregrate_props, ee\u001b[39m.\u001b[39;49mList([])))\u001b[39m.\u001b[39;49mgetInfo()\n\u001b[0;32m    338\u001b[0m \u001b[39mexcept\u001b[39;00m ee\u001b[39m.\u001b[39mEEException \u001b[39mas\u001b[39;00m ex:\n\u001b[0;32m    339\u001b[0m     \u001b[39mif\u001b[39;00m \u001b[39m'\u001b[39m\u001b[39mgeometry\u001b[39m\u001b[39m'\u001b[39m \u001b[39min\u001b[39;00m \u001b[39mstr\u001b[39m(ex) \u001b[39mand\u001b[39;00m \u001b[39m'\u001b[39m\u001b[39munbounded\u001b[39m\u001b[39m'\u001b[39m \u001b[39min\u001b[39;00m \u001b[39mstr\u001b[39m(ex):\n",
      "File \u001b[1;32mc:\\Users\\dugalh\\.conda\\envs\\py39_geospatial\\lib\\site-packages\\ee\\computedobject.py:98\u001b[0m, in \u001b[0;36mComputedObject.getInfo\u001b[1;34m(self)\u001b[0m\n\u001b[0;32m     92\u001b[0m \u001b[39mdef\u001b[39;00m \u001b[39mgetInfo\u001b[39m(\u001b[39mself\u001b[39m):\n\u001b[0;32m     93\u001b[0m   \u001b[39m\"\"\"Fetch and return information about this object.\u001b[39;00m\n\u001b[0;32m     94\u001b[0m \n\u001b[0;32m     95\u001b[0m \u001b[39m  Returns:\u001b[39;00m\n\u001b[0;32m     96\u001b[0m \u001b[39m    The object can evaluate to anything.\u001b[39;00m\n\u001b[0;32m     97\u001b[0m \u001b[39m  \"\"\"\u001b[39;00m\n\u001b[1;32m---> 98\u001b[0m   \u001b[39mreturn\u001b[39;00m data\u001b[39m.\u001b[39;49mcomputeValue(\u001b[39mself\u001b[39;49m)\n",
      "File \u001b[1;32mc:\\Users\\dugalh\\.conda\\envs\\py39_geospatial\\lib\\site-packages\\ee\\data.py:738\u001b[0m, in \u001b[0;36mcomputeValue\u001b[1;34m(obj)\u001b[0m\n\u001b[0;32m    735\u001b[0m \u001b[39mif\u001b[39;00m workload_tag:\n\u001b[0;32m    736\u001b[0m   body[\u001b[39m'\u001b[39m\u001b[39mworkloadTag\u001b[39m\u001b[39m'\u001b[39m] \u001b[39m=\u001b[39m workload_tag\n\u001b[1;32m--> 738\u001b[0m \u001b[39mreturn\u001b[39;00m _execute_cloud_call(\n\u001b[0;32m    739\u001b[0m     _get_cloud_api_resource()\u001b[39m.\u001b[39;49mprojects()\u001b[39m.\u001b[39;49mvalue()\u001b[39m.\u001b[39;49mcompute(\n\u001b[0;32m    740\u001b[0m         body\u001b[39m=\u001b[39;49mbody,\n\u001b[0;32m    741\u001b[0m         project\u001b[39m=\u001b[39;49m_get_projects_path(),\n\u001b[0;32m    742\u001b[0m         prettyPrint\u001b[39m=\u001b[39;49m\u001b[39mFalse\u001b[39;49;00m))[\u001b[39m'\u001b[39m\u001b[39mresult\u001b[39m\u001b[39m'\u001b[39m]\n",
      "File \u001b[1;32mc:\\Users\\dugalh\\.conda\\envs\\py39_geospatial\\lib\\site-packages\\ee\\data.py:328\u001b[0m, in \u001b[0;36m_execute_cloud_call\u001b[1;34m(call, num_retries)\u001b[0m\n\u001b[0;32m    314\u001b[0m \u001b[39m\"\"\"Executes a Cloud API call and translates errors to EEExceptions.\u001b[39;00m\n\u001b[0;32m    315\u001b[0m \n\u001b[0;32m    316\u001b[0m \u001b[39mArgs:\u001b[39;00m\n\u001b[1;32m   (...)\u001b[0m\n\u001b[0;32m    325\u001b[0m \u001b[39m  EEException if the call fails.\u001b[39;00m\n\u001b[0;32m    326\u001b[0m \u001b[39m\"\"\"\u001b[39;00m\n\u001b[0;32m    327\u001b[0m \u001b[39mtry\u001b[39;00m:\n\u001b[1;32m--> 328\u001b[0m   \u001b[39mreturn\u001b[39;00m call\u001b[39m.\u001b[39;49mexecute(num_retries\u001b[39m=\u001b[39;49mnum_retries)\n\u001b[0;32m    329\u001b[0m \u001b[39mexcept\u001b[39;00m googleapiclient\u001b[39m.\u001b[39merrors\u001b[39m.\u001b[39mHttpError \u001b[39mas\u001b[39;00m e:\n\u001b[0;32m    330\u001b[0m   \u001b[39mraise\u001b[39;00m _translate_cloud_exception(e)\n",
      "File \u001b[1;32mc:\\Users\\dugalh\\.conda\\envs\\py39_geospatial\\lib\\site-packages\\googleapiclient\\_helpers.py:134\u001b[0m, in \u001b[0;36mpositional.<locals>.positional_decorator.<locals>.positional_wrapper\u001b[1;34m(*args, **kwargs)\u001b[0m\n\u001b[0;32m    132\u001b[0m     \u001b[39melif\u001b[39;00m positional_parameters_enforcement \u001b[39m==\u001b[39m POSITIONAL_WARNING:\n\u001b[0;32m    133\u001b[0m         logger\u001b[39m.\u001b[39mwarning(message)\n\u001b[1;32m--> 134\u001b[0m \u001b[39mreturn\u001b[39;00m wrapped(\u001b[39m*\u001b[39margs, \u001b[39m*\u001b[39m\u001b[39m*\u001b[39mkwargs)\n",
      "File \u001b[1;32mc:\\Users\\dugalh\\.conda\\envs\\py39_geospatial\\lib\\site-packages\\googleapiclient\\http.py:900\u001b[0m, in \u001b[0;36mHttpRequest.execute\u001b[1;34m(self, http, num_retries)\u001b[0m\n\u001b[0;32m    897\u001b[0m     \u001b[39mself\u001b[39m\u001b[39m.\u001b[39mheaders[\u001b[39m\"\u001b[39m\u001b[39mcontent-length\u001b[39m\u001b[39m\"\u001b[39m] \u001b[39m=\u001b[39m \u001b[39mstr\u001b[39m(\u001b[39mlen\u001b[39m(\u001b[39mself\u001b[39m\u001b[39m.\u001b[39mbody))\n\u001b[0;32m    899\u001b[0m \u001b[39m# Handle retries for server-side errors.\u001b[39;00m\n\u001b[1;32m--> 900\u001b[0m resp, content \u001b[39m=\u001b[39m _retry_request(\n\u001b[0;32m    901\u001b[0m     http,\n\u001b[0;32m    902\u001b[0m     num_retries,\n\u001b[0;32m    903\u001b[0m     \u001b[39m\"\u001b[39;49m\u001b[39mrequest\u001b[39;49m\u001b[39m\"\u001b[39;49m,\n\u001b[0;32m    904\u001b[0m     \u001b[39mself\u001b[39;49m\u001b[39m.\u001b[39;49m_sleep,\n\u001b[0;32m    905\u001b[0m     \u001b[39mself\u001b[39;49m\u001b[39m.\u001b[39;49m_rand,\n\u001b[0;32m    906\u001b[0m     \u001b[39mstr\u001b[39;49m(\u001b[39mself\u001b[39;49m\u001b[39m.\u001b[39;49muri),\n\u001b[0;32m    907\u001b[0m     method\u001b[39m=\u001b[39;49m\u001b[39mstr\u001b[39;49m(\u001b[39mself\u001b[39;49m\u001b[39m.\u001b[39;49mmethod),\n\u001b[0;32m    908\u001b[0m     body\u001b[39m=\u001b[39;49m\u001b[39mself\u001b[39;49m\u001b[39m.\u001b[39;49mbody,\n\u001b[0;32m    909\u001b[0m     headers\u001b[39m=\u001b[39;49m\u001b[39mself\u001b[39;49m\u001b[39m.\u001b[39;49mheaders,\n\u001b[0;32m    910\u001b[0m )\n\u001b[0;32m    912\u001b[0m \u001b[39mfor\u001b[39;00m callback \u001b[39min\u001b[39;00m \u001b[39mself\u001b[39m\u001b[39m.\u001b[39mresponse_callbacks:\n\u001b[0;32m    913\u001b[0m     callback(resp)\n",
      "File \u001b[1;32mc:\\Users\\dugalh\\.conda\\envs\\py39_geospatial\\lib\\site-packages\\googleapiclient\\http.py:177\u001b[0m, in \u001b[0;36m_retry_request\u001b[1;34m(http, num_retries, req_type, sleep, rand, uri, method, *args, **kwargs)\u001b[0m\n\u001b[0;32m    175\u001b[0m \u001b[39mtry\u001b[39;00m:\n\u001b[0;32m    176\u001b[0m     exception \u001b[39m=\u001b[39m \u001b[39mNone\u001b[39;00m\n\u001b[1;32m--> 177\u001b[0m     resp, content \u001b[39m=\u001b[39m http\u001b[39m.\u001b[39mrequest(uri, method, \u001b[39m*\u001b[39margs, \u001b[39m*\u001b[39m\u001b[39m*\u001b[39mkwargs)\n\u001b[0;32m    178\u001b[0m \u001b[39m# Retry on SSL errors and socket timeout errors.\u001b[39;00m\n\u001b[0;32m    179\u001b[0m \u001b[39mexcept\u001b[39;00m _ssl_SSLError \u001b[39mas\u001b[39;00m ssl_error:\n",
      "File \u001b[1;32mc:\\Users\\dugalh\\.conda\\envs\\py39_geospatial\\lib\\site-packages\\google_auth_httplib2.py:209\u001b[0m, in \u001b[0;36mAuthorizedHttp.request\u001b[1;34m(self, uri, method, body, headers, redirections, connection_type, **kwargs)\u001b[0m\n\u001b[0;32m    205\u001b[0m \u001b[39m# Make a copy of the headers. They will be modified by the credentials\u001b[39;00m\n\u001b[0;32m    206\u001b[0m \u001b[39m# and we want to pass the original headers if we recurse.\u001b[39;00m\n\u001b[0;32m    207\u001b[0m request_headers \u001b[39m=\u001b[39m headers\u001b[39m.\u001b[39mcopy() \u001b[39mif\u001b[39;00m headers \u001b[39mis\u001b[39;00m \u001b[39mnot\u001b[39;00m \u001b[39mNone\u001b[39;00m \u001b[39melse\u001b[39;00m {}\n\u001b[1;32m--> 209\u001b[0m \u001b[39mself\u001b[39;49m\u001b[39m.\u001b[39;49mcredentials\u001b[39m.\u001b[39;49mbefore_request(\u001b[39mself\u001b[39;49m\u001b[39m.\u001b[39;49m_request, method, uri, request_headers)\n\u001b[0;32m    211\u001b[0m \u001b[39m# Check if the body is a file-like stream, and if so, save the body\u001b[39;00m\n\u001b[0;32m    212\u001b[0m \u001b[39m# stream position so that it can be restored in case of refresh.\u001b[39;00m\n\u001b[0;32m    213\u001b[0m body_stream_position \u001b[39m=\u001b[39m \u001b[39mNone\u001b[39;00m\n",
      "File \u001b[1;32mc:\\Users\\dugalh\\.conda\\envs\\py39_geospatial\\lib\\site-packages\\google\\auth\\credentials.py:133\u001b[0m, in \u001b[0;36mCredentials.before_request\u001b[1;34m(self, request, method, url, headers)\u001b[0m\n\u001b[0;32m    129\u001b[0m \u001b[39m# pylint: disable=unused-argument\u001b[39;00m\n\u001b[0;32m    130\u001b[0m \u001b[39m# (Subclasses may use these arguments to ascertain information about\u001b[39;00m\n\u001b[0;32m    131\u001b[0m \u001b[39m# the http request.)\u001b[39;00m\n\u001b[0;32m    132\u001b[0m \u001b[39mif\u001b[39;00m \u001b[39mnot\u001b[39;00m \u001b[39mself\u001b[39m\u001b[39m.\u001b[39mvalid:\n\u001b[1;32m--> 133\u001b[0m     \u001b[39mself\u001b[39;49m\u001b[39m.\u001b[39;49mrefresh(request)\n\u001b[0;32m    134\u001b[0m \u001b[39mself\u001b[39m\u001b[39m.\u001b[39mapply(headers)\n",
      "File \u001b[1;32mc:\\Users\\dugalh\\.conda\\envs\\py39_geospatial\\lib\\site-packages\\google\\oauth2\\credentials.py:293\u001b[0m, in \u001b[0;36mCredentials.refresh\u001b[1;34m(self, request)\u001b[0m\n\u001b[0;32m    275\u001b[0m \u001b[39mif\u001b[39;00m (\n\u001b[0;32m    276\u001b[0m     \u001b[39mself\u001b[39m\u001b[39m.\u001b[39m_refresh_token \u001b[39mis\u001b[39;00m \u001b[39mNone\u001b[39;00m\n\u001b[0;32m    277\u001b[0m     \u001b[39mor\u001b[39;00m \u001b[39mself\u001b[39m\u001b[39m.\u001b[39m_token_uri \u001b[39mis\u001b[39;00m \u001b[39mNone\u001b[39;00m\n\u001b[0;32m    278\u001b[0m     \u001b[39mor\u001b[39;00m \u001b[39mself\u001b[39m\u001b[39m.\u001b[39m_client_id \u001b[39mis\u001b[39;00m \u001b[39mNone\u001b[39;00m\n\u001b[0;32m    279\u001b[0m     \u001b[39mor\u001b[39;00m \u001b[39mself\u001b[39m\u001b[39m.\u001b[39m_client_secret \u001b[39mis\u001b[39;00m \u001b[39mNone\u001b[39;00m\n\u001b[0;32m    280\u001b[0m ):\n\u001b[0;32m    281\u001b[0m     \u001b[39mraise\u001b[39;00m exceptions\u001b[39m.\u001b[39mRefreshError(\n\u001b[0;32m    282\u001b[0m         \u001b[39m\"\u001b[39m\u001b[39mThe credentials do not contain the necessary fields need to \u001b[39m\u001b[39m\"\u001b[39m\n\u001b[0;32m    283\u001b[0m         \u001b[39m\"\u001b[39m\u001b[39mrefresh the access token. You must specify refresh_token, \u001b[39m\u001b[39m\"\u001b[39m\n\u001b[0;32m    284\u001b[0m         \u001b[39m\"\u001b[39m\u001b[39mtoken_uri, client_id, and client_secret.\u001b[39m\u001b[39m\"\u001b[39m\n\u001b[0;32m    285\u001b[0m     )\n\u001b[0;32m    287\u001b[0m (\n\u001b[0;32m    288\u001b[0m     access_token,\n\u001b[0;32m    289\u001b[0m     refresh_token,\n\u001b[0;32m    290\u001b[0m     expiry,\n\u001b[0;32m    291\u001b[0m     grant_response,\n\u001b[0;32m    292\u001b[0m     rapt_token,\n\u001b[1;32m--> 293\u001b[0m ) \u001b[39m=\u001b[39m reauth\u001b[39m.\u001b[39;49mrefresh_grant(\n\u001b[0;32m    294\u001b[0m     request,\n\u001b[0;32m    295\u001b[0m     \u001b[39mself\u001b[39;49m\u001b[39m.\u001b[39;49m_token_uri,\n\u001b[0;32m    296\u001b[0m     \u001b[39mself\u001b[39;49m\u001b[39m.\u001b[39;49m_refresh_token,\n\u001b[0;32m    297\u001b[0m     \u001b[39mself\u001b[39;49m\u001b[39m.\u001b[39;49m_client_id,\n\u001b[0;32m    298\u001b[0m     \u001b[39mself\u001b[39;49m\u001b[39m.\u001b[39;49m_client_secret,\n\u001b[0;32m    299\u001b[0m     scopes\u001b[39m=\u001b[39;49mscopes,\n\u001b[0;32m    300\u001b[0m     rapt_token\u001b[39m=\u001b[39;49m\u001b[39mself\u001b[39;49m\u001b[39m.\u001b[39;49m_rapt_token,\n\u001b[0;32m    301\u001b[0m )\n\u001b[0;32m    303\u001b[0m \u001b[39mself\u001b[39m\u001b[39m.\u001b[39mtoken \u001b[39m=\u001b[39m access_token\n\u001b[0;32m    304\u001b[0m \u001b[39mself\u001b[39m\u001b[39m.\u001b[39mexpiry \u001b[39m=\u001b[39m expiry\n",
      "File \u001b[1;32mc:\\Users\\dugalh\\.conda\\envs\\py39_geospatial\\lib\\site-packages\\google\\oauth2\\reauth.py:318\u001b[0m, in \u001b[0;36mrefresh_grant\u001b[1;34m(request, token_uri, refresh_token, client_id, client_secret, scopes, rapt_token)\u001b[0m\n\u001b[0;32m    315\u001b[0m \u001b[39mif\u001b[39;00m rapt_token:\n\u001b[0;32m    316\u001b[0m     body[\u001b[39m\"\u001b[39m\u001b[39mrapt\u001b[39m\u001b[39m\"\u001b[39m] \u001b[39m=\u001b[39m rapt_token\n\u001b[1;32m--> 318\u001b[0m response_status_ok, response_data \u001b[39m=\u001b[39m _client\u001b[39m.\u001b[39;49m_token_endpoint_request_no_throw(\n\u001b[0;32m    319\u001b[0m     request, token_uri, body\n\u001b[0;32m    320\u001b[0m )\n\u001b[0;32m    321\u001b[0m \u001b[39mif\u001b[39;00m (\n\u001b[0;32m    322\u001b[0m     \u001b[39mnot\u001b[39;00m response_status_ok\n\u001b[0;32m    323\u001b[0m     \u001b[39mand\u001b[39;00m response_data\u001b[39m.\u001b[39mget(\u001b[39m\"\u001b[39m\u001b[39merror\u001b[39m\u001b[39m\"\u001b[39m) \u001b[39m==\u001b[39m _REAUTH_NEEDED_ERROR\n\u001b[1;32m   (...)\u001b[0m\n\u001b[0;32m    327\u001b[0m     )\n\u001b[0;32m    328\u001b[0m ):\n\u001b[0;32m    329\u001b[0m     rapt_token \u001b[39m=\u001b[39m get_rapt_token(\n\u001b[0;32m    330\u001b[0m         request, client_id, client_secret, refresh_token, token_uri, scopes\u001b[39m=\u001b[39mscopes\n\u001b[0;32m    331\u001b[0m     )\n",
      "File \u001b[1;32mc:\\Users\\dugalh\\.conda\\envs\\py39_geospatial\\lib\\site-packages\\google\\oauth2\\_client.py:115\u001b[0m, in \u001b[0;36m_token_endpoint_request_no_throw\u001b[1;34m(request, token_uri, body, access_token, use_json)\u001b[0m\n\u001b[0;32m    112\u001b[0m \u001b[39m# retry to fetch token for maximum of two times if any internal failure\u001b[39;00m\n\u001b[0;32m    113\u001b[0m \u001b[39m# occurs.\u001b[39;00m\n\u001b[0;32m    114\u001b[0m \u001b[39mwhile\u001b[39;00m \u001b[39mTrue\u001b[39;00m:\n\u001b[1;32m--> 115\u001b[0m     response \u001b[39m=\u001b[39m request(method\u001b[39m=\u001b[39;49m\u001b[39m\"\u001b[39;49m\u001b[39mPOST\u001b[39;49m\u001b[39m\"\u001b[39;49m, url\u001b[39m=\u001b[39;49mtoken_uri, headers\u001b[39m=\u001b[39;49mheaders, body\u001b[39m=\u001b[39;49mbody)\n\u001b[0;32m    116\u001b[0m     response_body \u001b[39m=\u001b[39m (\n\u001b[0;32m    117\u001b[0m         response\u001b[39m.\u001b[39mdata\u001b[39m.\u001b[39mdecode(\u001b[39m\"\u001b[39m\u001b[39mutf-8\u001b[39m\u001b[39m\"\u001b[39m)\n\u001b[0;32m    118\u001b[0m         \u001b[39mif\u001b[39;00m \u001b[39mhasattr\u001b[39m(response\u001b[39m.\u001b[39mdata, \u001b[39m\"\u001b[39m\u001b[39mdecode\u001b[39m\u001b[39m\"\u001b[39m)\n\u001b[0;32m    119\u001b[0m         \u001b[39melse\u001b[39;00m response\u001b[39m.\u001b[39mdata\n\u001b[0;32m    120\u001b[0m     )\n\u001b[0;32m    121\u001b[0m     response_data \u001b[39m=\u001b[39m json\u001b[39m.\u001b[39mloads(response_body)\n",
      "File \u001b[1;32mc:\\Users\\dugalh\\.conda\\envs\\py39_geospatial\\lib\\site-packages\\google_auth_httplib2.py:119\u001b[0m, in \u001b[0;36mRequest.__call__\u001b[1;34m(self, url, method, body, headers, timeout, **kwargs)\u001b[0m\n\u001b[0;32m    117\u001b[0m \u001b[39mtry\u001b[39;00m:\n\u001b[0;32m    118\u001b[0m     _LOGGER\u001b[39m.\u001b[39mdebug(\u001b[39m\"\u001b[39m\u001b[39mMaking request: \u001b[39m\u001b[39m%s\u001b[39;00m\u001b[39m \u001b[39m\u001b[39m%s\u001b[39;00m\u001b[39m\"\u001b[39m, method, url)\n\u001b[1;32m--> 119\u001b[0m     response, data \u001b[39m=\u001b[39m \u001b[39mself\u001b[39m\u001b[39m.\u001b[39mhttp\u001b[39m.\u001b[39mrequest(\n\u001b[0;32m    120\u001b[0m         url, method\u001b[39m=\u001b[39mmethod, body\u001b[39m=\u001b[39mbody, headers\u001b[39m=\u001b[39mheaders, \u001b[39m*\u001b[39m\u001b[39m*\u001b[39mkwargs\n\u001b[0;32m    121\u001b[0m     )\n\u001b[0;32m    122\u001b[0m     \u001b[39mreturn\u001b[39;00m _Response(response, data)\n\u001b[0;32m    123\u001b[0m \u001b[39m# httplib2 should catch the lower http error, this is a bug and\u001b[39;00m\n\u001b[0;32m    124\u001b[0m \u001b[39m# needs to be fixed there.  Catch the error for the meanwhile.\u001b[39;00m\n",
      "File \u001b[1;32mc:\\Users\\dugalh\\.conda\\envs\\py39_geospatial\\lib\\site-packages\\httplib2\\__init__.py:1701\u001b[0m, in \u001b[0;36mHttp.request\u001b[1;34m(self, uri, method, body, headers, redirections, connection_type)\u001b[0m\n\u001b[0;32m   1699\u001b[0m             content \u001b[39m=\u001b[39m \u001b[39mb\u001b[39m\u001b[39m\"\u001b[39m\u001b[39m\"\u001b[39m\n\u001b[0;32m   1700\u001b[0m         \u001b[39melse\u001b[39;00m:\n\u001b[1;32m-> 1701\u001b[0m             (response, content) \u001b[39m=\u001b[39m \u001b[39mself\u001b[39;49m\u001b[39m.\u001b[39;49m_request(\n\u001b[0;32m   1702\u001b[0m                 conn, authority, uri, request_uri, method, body, headers, redirections, cachekey,\n\u001b[0;32m   1703\u001b[0m             )\n\u001b[0;32m   1704\u001b[0m \u001b[39mexcept\u001b[39;00m \u001b[39mException\u001b[39;00m \u001b[39mas\u001b[39;00m e:\n\u001b[0;32m   1705\u001b[0m     is_timeout \u001b[39m=\u001b[39m \u001b[39misinstance\u001b[39m(e, socket\u001b[39m.\u001b[39mtimeout)\n",
      "File \u001b[1;32mc:\\Users\\dugalh\\.conda\\envs\\py39_geospatial\\lib\\site-packages\\httplib2\\__init__.py:1421\u001b[0m, in \u001b[0;36mHttp._request\u001b[1;34m(self, conn, host, absolute_uri, request_uri, method, body, headers, redirections, cachekey)\u001b[0m\n\u001b[0;32m   1418\u001b[0m \u001b[39mif\u001b[39;00m auth:\n\u001b[0;32m   1419\u001b[0m     auth\u001b[39m.\u001b[39mrequest(method, request_uri, headers, body)\n\u001b[1;32m-> 1421\u001b[0m (response, content) \u001b[39m=\u001b[39m \u001b[39mself\u001b[39;49m\u001b[39m.\u001b[39;49m_conn_request(conn, request_uri, method, body, headers)\n\u001b[0;32m   1423\u001b[0m \u001b[39mif\u001b[39;00m auth:\n\u001b[0;32m   1424\u001b[0m     \u001b[39mif\u001b[39;00m auth\u001b[39m.\u001b[39mresponse(response, body):\n",
      "File \u001b[1;32mc:\\Users\\dugalh\\.conda\\envs\\py39_geospatial\\lib\\site-packages\\httplib2shim\\__init__.py:140\u001b[0m, in \u001b[0;36mHttp._conn_request\u001b[1;34m(self, conn, request_uri, method, body, headers)\u001b[0m\n\u001b[0;32m    137\u001b[0m decode \u001b[39m=\u001b[39m \u001b[39mTrue\u001b[39;00m \u001b[39mif\u001b[39;00m method \u001b[39m!=\u001b[39m \u001b[39m'\u001b[39m\u001b[39mHEAD\u001b[39m\u001b[39m'\u001b[39m \u001b[39melse\u001b[39;00m \u001b[39mFalse\u001b[39;00m\n\u001b[0;32m    139\u001b[0m \u001b[39mtry\u001b[39;00m:\n\u001b[1;32m--> 140\u001b[0m     urllib3_response \u001b[39m=\u001b[39m \u001b[39mself\u001b[39;49m\u001b[39m.\u001b[39;49mpool\u001b[39m.\u001b[39;49mrequest(\n\u001b[0;32m    141\u001b[0m         method,\n\u001b[0;32m    142\u001b[0m         full_uri,\n\u001b[0;32m    143\u001b[0m         body\u001b[39m=\u001b[39;49mbody,\n\u001b[0;32m    144\u001b[0m         headers\u001b[39m=\u001b[39;49mheaders,\n\u001b[0;32m    145\u001b[0m         redirect\u001b[39m=\u001b[39;49m\u001b[39mFalse\u001b[39;49;00m,\n\u001b[0;32m    146\u001b[0m         retries\u001b[39m=\u001b[39;49murllib3\u001b[39m.\u001b[39;49mRetry(total\u001b[39m=\u001b[39;49m\u001b[39mFalse\u001b[39;49;00m, redirect\u001b[39m=\u001b[39;49m\u001b[39m0\u001b[39;49m),\n\u001b[0;32m    147\u001b[0m         timeout\u001b[39m=\u001b[39;49murllib3\u001b[39m.\u001b[39;49mTimeout(total\u001b[39m=\u001b[39;49m\u001b[39mself\u001b[39;49m\u001b[39m.\u001b[39;49mtimeout),\n\u001b[0;32m    148\u001b[0m         decode_content\u001b[39m=\u001b[39;49mdecode)\n\u001b[0;32m    150\u001b[0m     response \u001b[39m=\u001b[39m _map_response(urllib3_response, decode\u001b[39m=\u001b[39mdecode)\n\u001b[0;32m    151\u001b[0m     content \u001b[39m=\u001b[39m urllib3_response\u001b[39m.\u001b[39mdata\n",
      "File \u001b[1;32mc:\\Users\\dugalh\\.conda\\envs\\py39_geospatial\\lib\\site-packages\\urllib3\\request.py:78\u001b[0m, in \u001b[0;36mRequestMethods.request\u001b[1;34m(self, method, url, fields, headers, **urlopen_kw)\u001b[0m\n\u001b[0;32m     74\u001b[0m     \u001b[39mreturn\u001b[39;00m \u001b[39mself\u001b[39m\u001b[39m.\u001b[39mrequest_encode_url(\n\u001b[0;32m     75\u001b[0m         method, url, fields\u001b[39m=\u001b[39mfields, headers\u001b[39m=\u001b[39mheaders, \u001b[39m*\u001b[39m\u001b[39m*\u001b[39murlopen_kw\n\u001b[0;32m     76\u001b[0m     )\n\u001b[0;32m     77\u001b[0m \u001b[39melse\u001b[39;00m:\n\u001b[1;32m---> 78\u001b[0m     \u001b[39mreturn\u001b[39;00m \u001b[39mself\u001b[39m\u001b[39m.\u001b[39mrequest_encode_body(\n\u001b[0;32m     79\u001b[0m         method, url, fields\u001b[39m=\u001b[39mfields, headers\u001b[39m=\u001b[39mheaders, \u001b[39m*\u001b[39m\u001b[39m*\u001b[39murlopen_kw\n\u001b[0;32m     80\u001b[0m     )\n",
      "File \u001b[1;32mc:\\Users\\dugalh\\.conda\\envs\\py39_geospatial\\lib\\site-packages\\urllib3\\request.py:170\u001b[0m, in \u001b[0;36mRequestMethods.request_encode_body\u001b[1;34m(self, method, url, fields, headers, encode_multipart, multipart_boundary, **urlopen_kw)\u001b[0m\n\u001b[0;32m    167\u001b[0m extra_kw[\u001b[39m\"\u001b[39m\u001b[39mheaders\u001b[39m\u001b[39m\"\u001b[39m]\u001b[39m.\u001b[39mupdate(headers)\n\u001b[0;32m    168\u001b[0m extra_kw\u001b[39m.\u001b[39mupdate(urlopen_kw)\n\u001b[1;32m--> 170\u001b[0m \u001b[39mreturn\u001b[39;00m \u001b[39mself\u001b[39m\u001b[39m.\u001b[39murlopen(method, url, \u001b[39m*\u001b[39m\u001b[39m*\u001b[39mextra_kw)\n",
      "File \u001b[1;32mc:\\Users\\dugalh\\.conda\\envs\\py39_geospatial\\lib\\site-packages\\urllib3\\poolmanager.py:376\u001b[0m, in \u001b[0;36mPoolManager.urlopen\u001b[1;34m(self, method, url, redirect, **kw)\u001b[0m\n\u001b[0;32m    374\u001b[0m     response \u001b[39m=\u001b[39m conn\u001b[39m.\u001b[39murlopen(method, url, \u001b[39m*\u001b[39m\u001b[39m*\u001b[39mkw)\n\u001b[0;32m    375\u001b[0m \u001b[39melse\u001b[39;00m:\n\u001b[1;32m--> 376\u001b[0m     response \u001b[39m=\u001b[39m conn\u001b[39m.\u001b[39murlopen(method, u\u001b[39m.\u001b[39mrequest_uri, \u001b[39m*\u001b[39m\u001b[39m*\u001b[39mkw)\n\u001b[0;32m    378\u001b[0m redirect_location \u001b[39m=\u001b[39m redirect \u001b[39mand\u001b[39;00m response\u001b[39m.\u001b[39mget_redirect_location()\n\u001b[0;32m    379\u001b[0m \u001b[39mif\u001b[39;00m \u001b[39mnot\u001b[39;00m redirect_location:\n",
      "File \u001b[1;32mc:\\Users\\dugalh\\.conda\\envs\\py39_geospatial\\lib\\site-packages\\urllib3\\connectionpool.py:703\u001b[0m, in \u001b[0;36mHTTPConnectionPool.urlopen\u001b[1;34m(self, method, url, body, headers, retries, redirect, assert_same_host, timeout, pool_timeout, release_conn, chunked, body_pos, **response_kw)\u001b[0m\n\u001b[0;32m    700\u001b[0m     \u001b[39mself\u001b[39m\u001b[39m.\u001b[39m_prepare_proxy(conn)\n\u001b[0;32m    702\u001b[0m \u001b[39m# Make the request on the httplib connection object.\u001b[39;00m\n\u001b[1;32m--> 703\u001b[0m httplib_response \u001b[39m=\u001b[39m \u001b[39mself\u001b[39;49m\u001b[39m.\u001b[39;49m_make_request(\n\u001b[0;32m    704\u001b[0m     conn,\n\u001b[0;32m    705\u001b[0m     method,\n\u001b[0;32m    706\u001b[0m     url,\n\u001b[0;32m    707\u001b[0m     timeout\u001b[39m=\u001b[39;49mtimeout_obj,\n\u001b[0;32m    708\u001b[0m     body\u001b[39m=\u001b[39;49mbody,\n\u001b[0;32m    709\u001b[0m     headers\u001b[39m=\u001b[39;49mheaders,\n\u001b[0;32m    710\u001b[0m     chunked\u001b[39m=\u001b[39;49mchunked,\n\u001b[0;32m    711\u001b[0m )\n\u001b[0;32m    713\u001b[0m \u001b[39m# If we're going to release the connection in ``finally:``, then\u001b[39;00m\n\u001b[0;32m    714\u001b[0m \u001b[39m# the response doesn't need to know about the connection. Otherwise\u001b[39;00m\n\u001b[0;32m    715\u001b[0m \u001b[39m# it will also try to release it and we'll have a double-release\u001b[39;00m\n\u001b[0;32m    716\u001b[0m \u001b[39m# mess.\u001b[39;00m\n\u001b[0;32m    717\u001b[0m response_conn \u001b[39m=\u001b[39m conn \u001b[39mif\u001b[39;00m \u001b[39mnot\u001b[39;00m release_conn \u001b[39melse\u001b[39;00m \u001b[39mNone\u001b[39;00m\n",
      "File \u001b[1;32mc:\\Users\\dugalh\\.conda\\envs\\py39_geospatial\\lib\\site-packages\\urllib3\\connectionpool.py:386\u001b[0m, in \u001b[0;36mHTTPConnectionPool._make_request\u001b[1;34m(self, conn, method, url, timeout, chunked, **httplib_request_kw)\u001b[0m\n\u001b[0;32m    384\u001b[0m \u001b[39m# Trigger any extra validation we need to do.\u001b[39;00m\n\u001b[0;32m    385\u001b[0m \u001b[39mtry\u001b[39;00m:\n\u001b[1;32m--> 386\u001b[0m     \u001b[39mself\u001b[39;49m\u001b[39m.\u001b[39;49m_validate_conn(conn)\n\u001b[0;32m    387\u001b[0m \u001b[39mexcept\u001b[39;00m (SocketTimeout, BaseSSLError) \u001b[39mas\u001b[39;00m e:\n\u001b[0;32m    388\u001b[0m     \u001b[39m# Py2 raises this as a BaseSSLError, Py3 raises it as socket timeout.\u001b[39;00m\n\u001b[0;32m    389\u001b[0m     \u001b[39mself\u001b[39m\u001b[39m.\u001b[39m_raise_timeout(err\u001b[39m=\u001b[39me, url\u001b[39m=\u001b[39murl, timeout_value\u001b[39m=\u001b[39mconn\u001b[39m.\u001b[39mtimeout)\n",
      "File \u001b[1;32mc:\\Users\\dugalh\\.conda\\envs\\py39_geospatial\\lib\\site-packages\\urllib3\\connectionpool.py:1042\u001b[0m, in \u001b[0;36mHTTPSConnectionPool._validate_conn\u001b[1;34m(self, conn)\u001b[0m\n\u001b[0;32m   1040\u001b[0m \u001b[39m# Force connect early to allow us to validate the connection.\u001b[39;00m\n\u001b[0;32m   1041\u001b[0m \u001b[39mif\u001b[39;00m \u001b[39mnot\u001b[39;00m \u001b[39mgetattr\u001b[39m(conn, \u001b[39m\"\u001b[39m\u001b[39msock\u001b[39m\u001b[39m\"\u001b[39m, \u001b[39mNone\u001b[39;00m):  \u001b[39m# AppEngine might not have  `.sock`\u001b[39;00m\n\u001b[1;32m-> 1042\u001b[0m     conn\u001b[39m.\u001b[39;49mconnect()\n\u001b[0;32m   1044\u001b[0m \u001b[39mif\u001b[39;00m \u001b[39mnot\u001b[39;00m conn\u001b[39m.\u001b[39mis_verified:\n\u001b[0;32m   1045\u001b[0m     warnings\u001b[39m.\u001b[39mwarn(\n\u001b[0;32m   1046\u001b[0m         (\n\u001b[0;32m   1047\u001b[0m             \u001b[39m\"\u001b[39m\u001b[39mUnverified HTTPS request is being made to host \u001b[39m\u001b[39m'\u001b[39m\u001b[39m%s\u001b[39;00m\u001b[39m'\u001b[39m\u001b[39m. \u001b[39m\u001b[39m\"\u001b[39m\n\u001b[1;32m   (...)\u001b[0m\n\u001b[0;32m   1052\u001b[0m         InsecureRequestWarning,\n\u001b[0;32m   1053\u001b[0m     )\n",
      "File \u001b[1;32mc:\\Users\\dugalh\\.conda\\envs\\py39_geospatial\\lib\\site-packages\\urllib3\\connection.py:358\u001b[0m, in \u001b[0;36mHTTPSConnection.connect\u001b[1;34m(self)\u001b[0m\n\u001b[0;32m    356\u001b[0m \u001b[39mdef\u001b[39;00m \u001b[39mconnect\u001b[39m(\u001b[39mself\u001b[39m):\n\u001b[0;32m    357\u001b[0m     \u001b[39m# Add certificate verification\u001b[39;00m\n\u001b[1;32m--> 358\u001b[0m     \u001b[39mself\u001b[39m\u001b[39m.\u001b[39msock \u001b[39m=\u001b[39m conn \u001b[39m=\u001b[39m \u001b[39mself\u001b[39;49m\u001b[39m.\u001b[39;49m_new_conn()\n\u001b[0;32m    359\u001b[0m     hostname \u001b[39m=\u001b[39m \u001b[39mself\u001b[39m\u001b[39m.\u001b[39mhost\n\u001b[0;32m    360\u001b[0m     tls_in_tls \u001b[39m=\u001b[39m \u001b[39mFalse\u001b[39;00m\n",
      "File \u001b[1;32mc:\\Users\\dugalh\\.conda\\envs\\py39_geospatial\\lib\\site-packages\\urllib3\\connection.py:174\u001b[0m, in \u001b[0;36mHTTPConnection._new_conn\u001b[1;34m(self)\u001b[0m\n\u001b[0;32m    171\u001b[0m     extra_kw[\u001b[39m\"\u001b[39m\u001b[39msocket_options\u001b[39m\u001b[39m\"\u001b[39m] \u001b[39m=\u001b[39m \u001b[39mself\u001b[39m\u001b[39m.\u001b[39msocket_options\n\u001b[0;32m    173\u001b[0m \u001b[39mtry\u001b[39;00m:\n\u001b[1;32m--> 174\u001b[0m     conn \u001b[39m=\u001b[39m connection\u001b[39m.\u001b[39mcreate_connection(\n\u001b[0;32m    175\u001b[0m         (\u001b[39mself\u001b[39m\u001b[39m.\u001b[39m_dns_host, \u001b[39mself\u001b[39m\u001b[39m.\u001b[39mport), \u001b[39mself\u001b[39m\u001b[39m.\u001b[39mtimeout, \u001b[39m*\u001b[39m\u001b[39m*\u001b[39mextra_kw\n\u001b[0;32m    176\u001b[0m     )\n\u001b[0;32m    178\u001b[0m \u001b[39mexcept\u001b[39;00m SocketTimeout:\n\u001b[0;32m    179\u001b[0m     \u001b[39mraise\u001b[39;00m ConnectTimeoutError(\n\u001b[0;32m    180\u001b[0m         \u001b[39mself\u001b[39m,\n\u001b[0;32m    181\u001b[0m         \u001b[39m\"\u001b[39m\u001b[39mConnection to \u001b[39m\u001b[39m%s\u001b[39;00m\u001b[39m timed out. (connect timeout=\u001b[39m\u001b[39m%s\u001b[39;00m\u001b[39m)\u001b[39m\u001b[39m\"\u001b[39m\n\u001b[0;32m    182\u001b[0m         \u001b[39m%\u001b[39m (\u001b[39mself\u001b[39m\u001b[39m.\u001b[39mhost, \u001b[39mself\u001b[39m\u001b[39m.\u001b[39mtimeout),\n\u001b[0;32m    183\u001b[0m     )\n",
      "File \u001b[1;32mc:\\Users\\dugalh\\.conda\\envs\\py39_geospatial\\lib\\site-packages\\urllib3\\util\\connection.py:85\u001b[0m, in \u001b[0;36mcreate_connection\u001b[1;34m(address, timeout, source_address, socket_options)\u001b[0m\n\u001b[0;32m     83\u001b[0m     \u001b[39mif\u001b[39;00m source_address:\n\u001b[0;32m     84\u001b[0m         sock\u001b[39m.\u001b[39mbind(source_address)\n\u001b[1;32m---> 85\u001b[0m     sock\u001b[39m.\u001b[39;49mconnect(sa)\n\u001b[0;32m     86\u001b[0m     \u001b[39mreturn\u001b[39;00m sock\n\u001b[0;32m     88\u001b[0m \u001b[39mexcept\u001b[39;00m socket\u001b[39m.\u001b[39merror \u001b[39mas\u001b[39;00m e:\n",
      "\u001b[1;31mKeyboardInterrupt\u001b[0m: "
     ]
    }
   ],
   "source": [
    "src_mosaic_file = Path('images/Ngi_May2015_OrthoNgiDem_Source_Mosaic.vrt')\n",
    "import geedim as gd\n",
    "from geedim.utils import get_bounds\n",
    "gd.Initialize()\n",
    "s2_coll = gd.MaskedCollection.from_name('COPERNICUS/S2')\n",
    "region = gd.utils.get_bounds(src_mosaic_file)\n",
    "s2_coll = s2_coll.search('2015-05-20', '2015-10-30', region)\n",
    "print(s2_coll.schema_table)\n",
    "print(s2_coll.properties_table)  \n",
    "\n",
    "# equivalent geedim command line:\n",
    "#!geedim search -c s2-toa -s 2015-10-20 -e 2015-10-30 -r {src_mosaic_file}"
   ]
  },
  {
   "cell_type": "markdown",
   "metadata": {},
   "source": [
    "### Download a Sentinel-2 reference image\n",
    "\n",
    "*COPERNICUS/S2/20151023T081112_20151023T081949_T34HGH* is the first cloudless image, so let's download that."
   ]
  },
  {
   "cell_type": "code",
   "execution_count": 3,
   "metadata": {},
   "outputs": [
    {
     "data": {
      "application/vnd.jupyter.widget-view+json": {
       "model_id": "5895a66e25854531b8272afb3b0fdb39",
       "version_major": 2,
       "version_minor": 0
      },
      "text/plain": [
       "s2_reference.tif: |          | 0.00/68.9M (raw) [  0.0%] in 00:00 (eta:     ?)"
      ]
     },
     "metadata": {},
     "output_type": "display_data"
    },
    {
     "name": "stderr",
     "output_type": "stream",
     "text": [
      "WARNING:rasterio._env:CPLE_NotSupported in 'BLACK' is an unexpected value for PHOTOMETRIC creation option of type string-select.\n",
      "WARNING:rasterio._env:CPLE_IllegalArg in images\\s2_reference.tif: PHOTOMETRIC=BLACK value not recognised, ignoring.  Set the Photometric Interpretation as MINISBLACK.\n",
      "WARNING:rasterio._env:CPLE_AppDefined in /vsimem/3f5cc8f2-8f41-49d1-9ec8-8e70ba65058e/3f5cc8f2-8f41-49d1-9ec8-8e70ba65058e.tif: TIFFReadDirectory:Sum of Photometric type-related color channels and ExtraSamples doesn't match SamplesPerPixel. Defining non-color channels as ExtraSamples.\n",
      "WARNING:rasterio._env:CPLE_AppDefined in TIFFReadDirectory:Sum of Photometric type-related color channels and ExtraSamples doesn't match SamplesPerPixel. Defining non-color channels as ExtraSamples.\n",
      "WARNING:rasterio._env:CPLE_AppDefined in /vsimem/3f5cc8f2-8f41-49d1-9ec8-8e70ba65058e/3f5cc8f2-8f41-49d1-9ec8-8e70ba65058e.tif: TIFFReadDirectory:Sum of Photometric type-related color channels and ExtraSamples doesn't match SamplesPerPixel. Defining non-color channels as ExtraSamples.\n",
      "WARNING:rasterio._env:CPLE_AppDefined in /vsimem/3f5cc8f2-8f41-49d1-9ec8-8e70ba65058e/3f5cc8f2-8f41-49d1-9ec8-8e70ba65058e.tif: TIFFReadDirectory:Sum of Photometric type-related color channels and ExtraSamples doesn't match SamplesPerPixel. Defining non-color channels as ExtraSamples.\n",
      "WARNING:rasterio._env:CPLE_AppDefined in /vsimem/19a80a8b-c3c5-41e8-84f8-56978dddbc57/19a80a8b-c3c5-41e8-84f8-56978dddbc57.tif: TIFFReadDirectory:Sum of Photometric type-related color channels and ExtraSamples doesn't match SamplesPerPixel. Defining non-color channels as ExtraSamples.\n",
      "WARNING:rasterio._env:CPLE_AppDefined in TIFFReadDirectory:Sum of Photometric type-related color channels and ExtraSamples doesn't match SamplesPerPixel. Defining non-color channels as ExtraSamples.\n",
      "WARNING:rasterio._env:CPLE_AppDefined in /vsimem/19a80a8b-c3c5-41e8-84f8-56978dddbc57/19a80a8b-c3c5-41e8-84f8-56978dddbc57.tif: TIFFReadDirectory:Sum of Photometric type-related color channels and ExtraSamples doesn't match SamplesPerPixel. Defining non-color channels as ExtraSamples.\n",
      "WARNING:rasterio._env:CPLE_AppDefined in /vsimem/19a80a8b-c3c5-41e8-84f8-56978dddbc57/19a80a8b-c3c5-41e8-84f8-56978dddbc57.tif: TIFFReadDirectory:Sum of Photometric type-related color channels and ExtraSamples doesn't match SamplesPerPixel. Defining non-color channels as ExtraSamples.\n",
      "WARNING:rasterio._env:CPLE_AppDefined in /vsimem/f6639df7-9906-4002-abce-9fa6b17df987/f6639df7-9906-4002-abce-9fa6b17df987.tif: TIFFReadDirectory:Sum of Photometric type-related color channels and ExtraSamples doesn't match SamplesPerPixel. Defining non-color channels as ExtraSamples.\n",
      "WARNING:rasterio._env:CPLE_AppDefined in TIFFReadDirectory:Sum of Photometric type-related color channels and ExtraSamples doesn't match SamplesPerPixel. Defining non-color channels as ExtraSamples.\n",
      "WARNING:rasterio._env:CPLE_AppDefined in /vsimem/f6639df7-9906-4002-abce-9fa6b17df987/f6639df7-9906-4002-abce-9fa6b17df987.tif: TIFFReadDirectory:Sum of Photometric type-related color channels and ExtraSamples doesn't match SamplesPerPixel. Defining non-color channels as ExtraSamples.\n",
      "WARNING:rasterio._env:CPLE_AppDefined in /vsimem/f6639df7-9906-4002-abce-9fa6b17df987/f6639df7-9906-4002-abce-9fa6b17df987.tif: TIFFReadDirectory:Sum of Photometric type-related color channels and ExtraSamples doesn't match SamplesPerPixel. Defining non-color channels as ExtraSamples.\n",
      "WARNING:rasterio._env:CPLE_AppDefined in /vsimem/3d0510b1-0b71-4556-8ed2-5f48ae0336d1/3d0510b1-0b71-4556-8ed2-5f48ae0336d1.tif: TIFFReadDirectory:Sum of Photometric type-related color channels and ExtraSamples doesn't match SamplesPerPixel. Defining non-color channels as ExtraSamples.\n",
      "WARNING:rasterio._env:CPLE_AppDefined in TIFFReadDirectory:Sum of Photometric type-related color channels and ExtraSamples doesn't match SamplesPerPixel. Defining non-color channels as ExtraSamples.\n",
      "WARNING:rasterio._env:CPLE_AppDefined in /vsimem/3d0510b1-0b71-4556-8ed2-5f48ae0336d1/3d0510b1-0b71-4556-8ed2-5f48ae0336d1.tif: TIFFReadDirectory:Sum of Photometric type-related color channels and ExtraSamples doesn't match SamplesPerPixel. Defining non-color channels as ExtraSamples.\n",
      "WARNING:rasterio._env:CPLE_AppDefined in /vsimem/3d0510b1-0b71-4556-8ed2-5f48ae0336d1/3d0510b1-0b71-4556-8ed2-5f48ae0336d1.tif: TIFFReadDirectory:Sum of Photometric type-related color channels and ExtraSamples doesn't match SamplesPerPixel. Defining non-color channels as ExtraSamples.\n"
     ]
    }
   ],
   "source": [
    "ref_file = Path('images/s2_reference.tif')\n",
    "gd_image = gd.MaskedImage.from_id('COPERNICUS/S2/20151023T081112_20151023T081949_T34HGH', mask=True)\n",
    "gd_image.download(ref_file, region=region, overwrite=True)\n",
    "\n",
    "# equivalent geedim command line:\n",
    "# !geedim download -i COPERNICUS/S2/20151023T081112_20151023T081949_T34HGH --mask -r {src_file}"
   ]
  },
  {
   "cell_type": "markdown",
   "metadata": {},
   "source": [
    "## Correct the aerial images to surface reflectance\n",
    "\n",
    "Next, we fuse the aerial images with the Sentinel-2 reference, using ``homonim`` with a *gain-blk-offset* method, and kernel of 15 x 15 pixels."
   ]
  },
  {
   "cell_type": "code",
   "execution_count": 11,
   "metadata": {},
   "outputs": [
    {
     "ename": "FileExistsError",
     "evalue": "Corrected image file exists and won't be overwritten without the `overwrite` option: images\\3323d_2015_1001_02_0076_RGBN_CMP_FUSE.tif",
     "output_type": "error",
     "traceback": [
      "\u001b[1;31m---------------------------------------------------------------------------\u001b[0m",
      "\u001b[1;31mFileExistsError\u001b[0m                           Traceback (most recent call last)",
      "\u001b[1;32mc:\\Data\\Development\\Projects\\homonim\\docs\\examples\\gef_case_study.ipynb Cell 11\u001b[0m in \u001b[0;36m<cell line: 13>\u001b[1;34m()\u001b[0m\n\u001b[0;32m     <a href='vscode-notebook-cell:/c%3A/Data/Development/Projects/homonim/docs/examples/gef_case_study.ipynb#X24sZmlsZQ%3D%3D?line=13'>14</a>\u001b[0m corr_file \u001b[39m=\u001b[39m src_file\u001b[39m.\u001b[39mparent\u001b[39m.\u001b[39mjoinpath(\u001b[39mf\u001b[39m\u001b[39m'\u001b[39m\u001b[39m{\u001b[39;00msrc_file\u001b[39m.\u001b[39mstem\u001b[39m}\u001b[39;00m\u001b[39m_FUSE.tif\u001b[39m\u001b[39m'\u001b[39m)\n\u001b[0;32m     <a href='vscode-notebook-cell:/c%3A/Data/Development/Projects/homonim/docs/examples/gef_case_study.ipynb#X24sZmlsZQ%3D%3D?line=15'>16</a>\u001b[0m \u001b[39mwith\u001b[39;00m RasterFuse(\n\u001b[0;32m     <a href='vscode-notebook-cell:/c%3A/Data/Development/Projects/homonim/docs/examples/gef_case_study.ipynb#X24sZmlsZQ%3D%3D?line=16'>17</a>\u001b[0m     src_file, ref_file, ref_bands\u001b[39m=\u001b[39mref_bands\n\u001b[0;32m     <a href='vscode-notebook-cell:/c%3A/Data/Development/Projects/homonim/docs/examples/gef_case_study.ipynb#X24sZmlsZQ%3D%3D?line=17'>18</a>\u001b[0m ) \u001b[39mas\u001b[39;00m raster_fuse:\n\u001b[1;32m---> <a href='vscode-notebook-cell:/c%3A/Data/Development/Projects/homonim/docs/examples/gef_case_study.ipynb#X24sZmlsZQ%3D%3D?line=18'>19</a>\u001b[0m     raster_fuse\u001b[39m.\u001b[39;49mprocess(corr_file, Model\u001b[39m.\u001b[39;49mgain_blk_offset, (\u001b[39m15\u001b[39;49m, \u001b[39m15\u001b[39;49m))\n",
      "File \u001b[1;32mc:\\data\\development\\projects\\homonim\\homonim\\fuse.py:386\u001b[0m, in \u001b[0;36mRasterFuse.process\u001b[1;34m(self, corr_filename, model, kernel_shape, param_filename, build_ovw, overwrite, model_config, out_profile, block_config)\u001b[0m\n\u001b[0;32m    383\u001b[0m bar_format \u001b[39m=\u001b[39m \u001b[39m'\u001b[39m\u001b[39m{l_bar}\u001b[39;00m\u001b[39m{bar}\u001b[39;00m\u001b[39m|\u001b[39m\u001b[39m{n_fmt}\u001b[39;00m\u001b[39m/\u001b[39m\u001b[39m{total_fmt}\u001b[39;00m\u001b[39m blocks [\u001b[39m\u001b[39m{elapsed}\u001b[39;00m\u001b[39m<\u001b[39m\u001b[39m{remaining}\u001b[39;00m\u001b[39m]\u001b[39m\u001b[39m'\u001b[39m\n\u001b[0;32m    385\u001b[0m \u001b[39m# create and open the output files\u001b[39;00m\n\u001b[1;32m--> 386\u001b[0m \u001b[39mwith\u001b[39;00m \u001b[39mself\u001b[39m\u001b[39m.\u001b[39m_out_files(\n\u001b[0;32m    387\u001b[0m     corr_filename, param_filename\u001b[39m=\u001b[39mparam_filename, out_profile\u001b[39m=\u001b[39mout_profile, overwrite\u001b[39m=\u001b[39moverwrite,\n\u001b[0;32m    388\u001b[0m     build_ovw\u001b[39m=\u001b[39mbuild_ovw, model\u001b[39m=\u001b[39mmodel_type, kernel_shape\u001b[39m=\u001b[39mkernel_shape, \u001b[39m*\u001b[39m\u001b[39m*\u001b[39mmodel_config, \u001b[39m*\u001b[39m\u001b[39m*\u001b[39mblock_config\n\u001b[0;32m    389\u001b[0m ) \u001b[39mas\u001b[39;00m (out_im, param_im):  \u001b[39m# yapf: disable\u001b[39;00m\n\u001b[0;32m    390\u001b[0m     \u001b[39mif\u001b[39;00m block_config[\u001b[39m'\u001b[39m\u001b[39mthreads\u001b[39m\u001b[39m'\u001b[39m] \u001b[39m==\u001b[39m \u001b[39m1\u001b[39m:\n\u001b[0;32m    391\u001b[0m         \u001b[39m# correct blocks consecutively in the main thread (useful for profiling)\u001b[39;00m\n\u001b[0;32m    392\u001b[0m         block_pairs \u001b[39m=\u001b[39m [block_pair \u001b[39mfor\u001b[39;00m block_pair \u001b[39min\u001b[39;00m \u001b[39mself\u001b[39m\u001b[39m.\u001b[39mblock_pairs(\u001b[39m*\u001b[39m\u001b[39m*\u001b[39mblock_pair_args)]\n",
      "File \u001b[1;32mc:\\Users\\dugalh\\.conda\\envs\\py39_geospatial\\lib\\contextlib.py:119\u001b[0m, in \u001b[0;36m_GeneratorContextManager.__enter__\u001b[1;34m(self)\u001b[0m\n\u001b[0;32m    117\u001b[0m \u001b[39mdel\u001b[39;00m \u001b[39mself\u001b[39m\u001b[39m.\u001b[39margs, \u001b[39mself\u001b[39m\u001b[39m.\u001b[39mkwds, \u001b[39mself\u001b[39m\u001b[39m.\u001b[39mfunc\n\u001b[0;32m    118\u001b[0m \u001b[39mtry\u001b[39;00m:\n\u001b[1;32m--> 119\u001b[0m     \u001b[39mreturn\u001b[39;00m \u001b[39mnext\u001b[39;49m(\u001b[39mself\u001b[39;49m\u001b[39m.\u001b[39;49mgen)\n\u001b[0;32m    120\u001b[0m \u001b[39mexcept\u001b[39;00m \u001b[39mStopIteration\u001b[39;00m:\n\u001b[0;32m    121\u001b[0m     \u001b[39mraise\u001b[39;00m \u001b[39mRuntimeError\u001b[39;00m(\u001b[39m\"\u001b[39m\u001b[39mgenerator didn\u001b[39m\u001b[39m'\u001b[39m\u001b[39mt yield\u001b[39m\u001b[39m\"\u001b[39m) \u001b[39mfrom\u001b[39;00m \u001b[39mNone\u001b[39m\n",
      "File \u001b[1;32mc:\\data\\development\\projects\\homonim\\homonim\\fuse.py:272\u001b[0m, in \u001b[0;36mRasterFuse._out_files\u001b[1;34m(self, corr_filename, param_filename, out_profile, overwrite, build_ovw, **kwargs)\u001b[0m\n\u001b[0;32m    270\u001b[0m \u001b[39m# entry\u001b[39;00m\n\u001b[0;32m    271\u001b[0m \u001b[39mif\u001b[39;00m \u001b[39mnot\u001b[39;00m overwrite \u001b[39mand\u001b[39;00m corr_filename\u001b[39m.\u001b[39mexists():\n\u001b[1;32m--> 272\u001b[0m     \u001b[39mraise\u001b[39;00m \u001b[39mFileExistsError\u001b[39;00m(\n\u001b[0;32m    273\u001b[0m         \u001b[39mf\u001b[39m\u001b[39m\"\u001b[39m\u001b[39mCorrected image file exists and won\u001b[39m\u001b[39m'\u001b[39m\u001b[39mt be overwritten without the `overwrite` option: \u001b[39m\u001b[39m{\u001b[39;00mcorr_filename\u001b[39m}\u001b[39;00m\u001b[39m\"\u001b[39m\n\u001b[0;32m    274\u001b[0m     )\n\u001b[0;32m    275\u001b[0m \u001b[39mif\u001b[39;00m \u001b[39mnot\u001b[39;00m overwrite \u001b[39mand\u001b[39;00m param_filename \u001b[39mand\u001b[39;00m param_filename\u001b[39m.\u001b[39mexists():\n\u001b[0;32m    276\u001b[0m     \u001b[39mraise\u001b[39;00m \u001b[39mFileExistsError\u001b[39;00m(\n\u001b[0;32m    277\u001b[0m         \u001b[39mf\u001b[39m\u001b[39m\"\u001b[39m\u001b[39mParameter image file exists and won\u001b[39m\u001b[39m'\u001b[39m\u001b[39mt be overwritten without the `overwrite` option: \u001b[39m\u001b[39m{\u001b[39;00mparam_filename\u001b[39m}\u001b[39;00m\u001b[39m\"\u001b[39m\n\u001b[0;32m    278\u001b[0m     )\n",
      "\u001b[1;31mFileExistsError\u001b[0m: Corrected image file exists and won't be overwritten without the `overwrite` option: images\\3323d_2015_1001_02_0076_RGBN_CMP_FUSE.tif"
     ]
    }
   ],
   "source": [
    "from homonim import RasterFuse\n",
    "\n",
    "src_files = [\n",
    "    Path(f'images/3323d_2015_1001_02_00{i}_RGBN_CMP.tif') \n",
    "    for i in [76, 78, 80, 81]\n",
    "]\n",
    "corr_files = [\n",
    "    src_file.parent.joinpath(f'{src_file.stem}_FUSE.tif')\n",
    "    for src_file in src_files\n",
    "]\n",
    "ref_bands = [4, 3, 2, 8]\n",
    "\n",
    "for src_file, corr_file in zip(src_files, corr_files):\n",
    "    corr_file = src_file.parent.joinpath(f'{src_file.stem}_FUSE.tif')\n",
    "\n",
    "    with RasterFuse(\n",
    "        src_file, ref_file, ref_bands=ref_bands\n",
    "    ) as raster_fuse:\n",
    "        raster_fuse.process(\n",
    "            corr_file, Model.gain_blk_offset, (15, 15), overwrite=True,\n",
    "        ) \n",
    "\n",
    "\n",
    "# equivalent homonim command line:\n",
    "# !homonim fuse -m gain-blk-offset -k 15 15 -rb 4 -rb 3 -rb 2 -rb 8 -mp -od images {src_file} {ref_file}"
   ]
  },
  {
   "cell_type": "markdown",
   "metadata": {},
   "source": [
    "Next, we create a VRT mosaic of the corrected images to assist with visualisation and evaluation."
   ]
  },
  {
   "cell_type": "code",
   "execution_count": 25,
   "metadata": {},
   "outputs": [
    {
     "ename": "TypeError",
     "evalue": "object of wrong GDALDatasetShadow",
     "output_type": "error",
     "traceback": [
      "\u001b[1;31m---------------------------------------------------------------------------\u001b[0m",
      "\u001b[1;31mTypeError\u001b[0m                                 Traceback (most recent call last)",
      "\u001b[1;32mc:\\Data\\Development\\Projects\\homonim\\docs\\examples\\gef_case_study.ipynb Cell 13\u001b[0m in \u001b[0;36m<cell line: 6>\u001b[1;34m()\u001b[0m\n\u001b[0;32m      <a href='vscode-notebook-cell:/c%3A/Data/Development/Projects/homonim/docs/examples/gef_case_study.ipynb#X33sZmlsZQ%3D%3D?line=2'>3</a>\u001b[0m \u001b[39m# strictly, one should avoid using GDAL and rasterio together, but it doesn't\u001b[39;00m\n\u001b[0;32m      <a href='vscode-notebook-cell:/c%3A/Data/Development/Projects/homonim/docs/examples/gef_case_study.ipynb#X33sZmlsZQ%3D%3D?line=3'>4</a>\u001b[0m \u001b[39m# create conflicts here\u001b[39;00m\n\u001b[0;32m      <a href='vscode-notebook-cell:/c%3A/Data/Development/Projects/homonim/docs/examples/gef_case_study.ipynb#X33sZmlsZQ%3D%3D?line=4'>5</a>\u001b[0m corr_mosaic_file \u001b[39m=\u001b[39m Path(\u001b[39m'\u001b[39m\u001b[39mimages/Corrected_Mosaic.vrt\u001b[39m\u001b[39m'\u001b[39m)\n\u001b[1;32m----> <a href='vscode-notebook-cell:/c%3A/Data/Development/Projects/homonim/docs/examples/gef_case_study.ipynb#X33sZmlsZQ%3D%3D?line=5'>6</a>\u001b[0m _ \u001b[39m=\u001b[39m gdal\u001b[39m.\u001b[39;49mBuildVRT(\u001b[39m'\u001b[39;49m\u001b[39mCorrected_Mosaic.vrt\u001b[39;49m\u001b[39m'\u001b[39;49m, corr_files)\n",
      "File \u001b[1;32mc:\\Users\\dugalh\\.conda\\envs\\py39_geospatial\\lib\\site-packages\\osgeo\\gdal.py:1374\u001b[0m, in \u001b[0;36mBuildVRT\u001b[1;34m(destName, srcDSOrSrcDSTab, **kwargs)\u001b[0m\n\u001b[0;32m   1371\u001b[0m     srcDSTab \u001b[39m=\u001b[39m [srcDSOrSrcDSTab]\n\u001b[0;32m   1373\u001b[0m \u001b[39mif\u001b[39;00m srcDSTab:\n\u001b[1;32m-> 1374\u001b[0m     \u001b[39mreturn\u001b[39;00m BuildVRTInternalObjects(destName, srcDSTab, opts, callback, callback_data)\n\u001b[0;32m   1375\u001b[0m \u001b[39melse\u001b[39;00m:\n\u001b[0;32m   1376\u001b[0m     \u001b[39mreturn\u001b[39;00m BuildVRTInternalNames(destName, srcDSNamesTab, opts, callback, callback_data)\n",
      "File \u001b[1;32mc:\\Users\\dugalh\\.conda\\envs\\py39_geospatial\\lib\\site-packages\\osgeo\\gdal.py:4451\u001b[0m, in \u001b[0;36mBuildVRTInternalObjects\u001b[1;34m(*args)\u001b[0m\n\u001b[0;32m   4449\u001b[0m \u001b[39mdef\u001b[39;00m \u001b[39mBuildVRTInternalObjects\u001b[39m(\u001b[39m*\u001b[39margs):\n\u001b[0;32m   4450\u001b[0m     \u001b[39mr\u001b[39m\u001b[39m\"\"\"BuildVRTInternalObjects(char const * dest, int object_list_count, GDALBuildVRTOptions options, GDALProgressFunc callback=0, void * callback_data=None) -> Dataset\"\"\"\u001b[39;00m\n\u001b[1;32m-> 4451\u001b[0m     \u001b[39mreturn\u001b[39;00m _gdal\u001b[39m.\u001b[39;49mBuildVRTInternalObjects(\u001b[39m*\u001b[39;49margs)\n",
      "\u001b[1;31mTypeError\u001b[0m: object of wrong GDALDatasetShadow"
     ]
    }
   ],
   "source": [
    "from osgeo import gdal\n",
    "\n",
    "# strictly, one should avoid using GDAL and rasterio together, but it doesn't\n",
    "# create conflicts here\n",
    "corr_mosaic_file = Path('images/Corrected_Mosaic.vrt')\n",
    "_ = gdal.BuildVRT(str(corr_mosaic_file), corr_files)"
   ]
  },
  {
   "cell_type": "markdown",
   "metadata": {},
   "source": [
    "## Evaluate \n",
    "\n",
    "The evaluation compares the correlation of source *NDVI* with AGC ground truth, and corrected *NDVI* with AGC ground truth.  This gives an indication of the improvement in the explanatory power, or accuracy, of NDVI due to surface reflectance correction.  \n",
    "\n",
    "### Find source and corrected NDVI for each ground truth plot\n",
    "\n",
    "Load the AGC ground truth into a ``GeoDataFrame``."
   ]
  },
  {
   "cell_type": "code",
   "execution_count": 13,
   "metadata": {},
   "outputs": [],
   "source": [
    "# plot_agc_gdf = gpd.GeoDataFrame.from_file(\n",
    "#     'https://raw.githubusercontent.com/dugalh/map_thicket_agc/main/'\n",
    "#     'data/outputs/geospatial/gef_plot_polygons_with_agc_v2.gpkg' \n",
    "# )\n",
    "plot_agc_gdf = gpd.GeoDataFrame.from_file(\n",
    "    \"C:\\Data\\Development\\Projects\\map_thicket_agc\\data\\outputs\\geospatial\\gef_plot_polygons_with_agc_v2.gpkg\"\n",
    ")"
   ]
  },
  {
   "cell_type": "markdown",
   "metadata": {},
   "source": [
    "Next we find the mean source and corrected image NDVI values for each ground truth plot."
   ]
  },
  {
   "cell_type": "code",
   "execution_count": 30,
   "metadata": {},
   "outputs": [],
   "source": [
    "from rasterio import features\n",
    "from rasterio import windows\n",
    "from homonim import utils\n",
    "\n",
    "src_mosaic_file = Path('images/Ngi_May2015_OrthoNgiDem_Source_Mosaic.vrt')\n",
    "src_mosaic_file = Path('images/Ngi_May2015_OrthoNgiDem_Source_Mosaic.vrt')\n",
    "\n",
    "im_ndvis = []\n",
    "for im_file in [src_mosaic_file, corr_mosaic_file]:\n",
    "    ndvi = {}\n",
    "    with rio.open(im_file, 'r') as ds:\n",
    "        for id, plot in plot_agc_gdf.to_crs(ds.crs).iterrows():\n",
    "            bounds = features.bounds(plot.geometry)\n",
    "            win = windows.from_bounds(*bounds, transform=ds.transform)\n",
    "            win = utils.expand_window_to_grid(win)\n",
    "            array = ds.read(out_dtype='float64', window=win)\n",
    "\n",
    "            win_transform = ds.window_transform(win)\n",
    "            mask = features.geometry_mask(\n",
    "                plot.geometry, (win.height, win.width), transform=win_transform\n",
    "            )\n",
    "            v = array[:, mask]\n",
    "            ndvi[id] = np.mean((v[3] - v[0]) / (v[3] + v[0]))\n",
    "    im_ndvis.append(ndvi)"
   ]
  },
  {
   "cell_type": "code",
   "execution_count": 31,
   "metadata": {},
   "outputs": [
    {
     "data": {
      "text/plain": [
       "{0: 0.3081020298685784,\n",
       " 1: 0.3582464820977888,\n",
       " 2: 0.24245507043000575,\n",
       " 3: 0.3486285907515716,\n",
       " 4: 0.3494995502799536,\n",
       " 5: 0.45858973550530646,\n",
       " 6: 0.37627398849001426,\n",
       " 7: 0.39317834207206465,\n",
       " 8: 0.36093311330957595,\n",
       " 9: 0.3454953177745159,\n",
       " 10: 0.3630960900974334,\n",
       " 11: 0.37528411574222903,\n",
       " 12: 0.32077426604070497,\n",
       " 13: 0.3415121713889153,\n",
       " 14: 0.4241753528737569,\n",
       " 15: 0.3533872496542788,\n",
       " 16: 0.5010441749229767,\n",
       " 17: 0.4239950992723223,\n",
       " 18: 0.3573200680034613,\n",
       " 19: 0.3412236306272624,\n",
       " 20: 0.37037992064763775,\n",
       " 21: 0.3776805691190545,\n",
       " 22: 0.4529258800147574,\n",
       " 23: 0.3009605994999248,\n",
       " 24: 0.32558007690092655,\n",
       " 25: 0.2926508989706784,\n",
       " 26: 0.5329601274192952,\n",
       " 27: 0.5315810760453913,\n",
       " 28: 0.5081315118881321,\n",
       " 29: 0.4762972067255624,\n",
       " 30: 0.5565330921982248,\n",
       " 31: 0.5398679060947552,\n",
       " 32: 0.5143538068297032,\n",
       " 33: 0.5487901910402683,\n",
       " 34: 0.528444726626765,\n",
       " 35: 0.5280690152493478,\n",
       " 36: 0.45505550332668077,\n",
       " 37: 0.516788271951184,\n",
       " 38: 0.48319350884191276,\n",
       " 39: 0.4134516994788973,\n",
       " 40: 0.5673855128778332,\n",
       " 41: 0.45228922039135583,\n",
       " 42: 0.5067855101958889,\n",
       " 43: 0.4777745908290105,\n",
       " 44: 0.4593253306611355,\n",
       " 45: 0.5348182177629135,\n",
       " 46: 0.4776335359354885,\n",
       " 47: 0.5414976005291701,\n",
       " 48: 0.5361404802658013,\n",
       " 49: 0.4191545864486772,\n",
       " 50: 0.47515690013280915,\n",
       " 51: 0.507412554431827,\n",
       " 52: 0.3025474495205832,\n",
       " 53: 0.2214309577146473,\n",
       " 54: 0.27156250679949034,\n",
       " 55: 0.20987172388739875,\n",
       " 56: 0.19054987153449585,\n",
       " 57: 0.18123269476522488,\n",
       " 58: 0.21421450125825361,\n",
       " 59: 0.18454756488252794,\n",
       " 60: 0.17137555645721664,\n",
       " 61: 0.2344104906348366,\n",
       " 62: 0.25240889591344196,\n",
       " 63: 0.21965798478864137,\n",
       " 64: 0.2964917066915096,\n",
       " 65: 0.20415904673869165,\n",
       " 66: 0.20691373734086407,\n",
       " 67: 0.3446003575326768,\n",
       " 68: 0.3307446288026409,\n",
       " 69: 0.2489246027677967,\n",
       " 70: 0.20642856191086945,\n",
       " 71: 0.21587674109253077,\n",
       " 72: 0.26934350721837413,\n",
       " 73: 0.21051845339448153,\n",
       " 74: 0.3107644005631182,\n",
       " 75: 0.22756064993962713,\n",
       " 76: 0.21641447365385771,\n",
       " 77: 0.2986797956834571,\n",
       " 78: 0.31502254330335194,\n",
       " 79: 0.2663561351289323,\n",
       " 80: 0.27368936815799083,\n",
       " 81: 0.27912183528748924,\n",
       " 82: 0.24220459187165727,\n",
       " 83: 0.24086273423610227,\n",
       " 84: 0.1964323012930217}"
      ]
     },
     "execution_count": 31,
     "metadata": {},
     "output_type": "execute_result"
    }
   ],
   "source": [
    "ndvi\n"
   ]
  }
 ],
 "metadata": {
  "kernelspec": {
   "display_name": "Python 3.9.13 ('py39_geospatial')",
   "language": "python",
   "name": "python3"
  },
  "language_info": {
   "codemirror_mode": {
    "name": "ipython",
    "version": 3
   },
   "file_extension": ".py",
   "mimetype": "text/x-python",
   "name": "python",
   "nbconvert_exporter": "python",
   "pygments_lexer": "ipython3",
   "version": "3.9.13"
  },
  "orig_nbformat": 4,
  "vscode": {
   "interpreter": {
    "hash": "a5cb0e16c618ce62d5962a2f34302e2d299d083ff8e8afee2c1c64a34662e4b4"
   }
  }
 },
 "nbformat": 4,
 "nbformat_minor": 2
}
