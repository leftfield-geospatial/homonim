{
 "cells": [
  {
   "cell_type": "markdown",
   "metadata": {},
   "source": [
    "# Regression modelling using multi-spectral aerial images: A case study using ``homnim``\n",
    "\n",
    "This notebook shows how ``homonim`` can be used for improving regression modelling performance.  It works with multispectral aerial imagery and ground truth data from an [aboveground carbon (AGC) mapping study](https://github.com/dugalh/map_thicket_agc) that targeted the thicket biome in South Africa.  \n",
    "\n",
    "The 4 band 50 cm aerial images were obtained from National Geospatial In\n",
    "\n",
    "## Setup"
   ]
  },
  {
   "cell_type": "code",
   "execution_count": 1,
   "metadata": {},
   "outputs": [],
   "source": [
    "# `matplotlib` and `geopandas` should be installed if they aren't already.\n",
    "# import sys\n",
    "# !{sys.executable} -m pip install matplotlib geopandas\n",
    "# !conda install --yes --prefix {sys.prefix} -c conda-forge matplotlib geopandas"
   ]
  },
  {
   "cell_type": "code",
   "execution_count": 2,
   "metadata": {},
   "outputs": [],
   "source": [
    "import logging\n",
    "from pathlib import Path\n",
    "from matplotlib import pyplot\n",
    "import geopandas as gpd\n",
    "import rasterio as rio\n",
    "from rasterio.plot import show\n",
    "import numpy as np\n",
    "from homonim import RasterFuse, RasterCompare, Model\n",
    "\n",
    "logging.basicConfig(level=logging.ERROR)"
   ]
  },
  {
   "cell_type": "markdown",
   "metadata": {},
   "source": [
    "Create an *images* sub-folder; and download & extract the [source aerial images](https://zenodo.org/record/7114702) into it.  It is a large download (~2 GB), so you may want to do it manually. Alternatively, run the code segment below.  "
   ]
  },
  {
   "cell_type": "code",
   "execution_count": null,
   "metadata": {},
   "outputs": [],
   "source": [
    "url = 'https://zenodo.org/record/7114702/files/Ngi_May2015_Source.zip'\n",
    "if False:\n",
    "    import urllib\n",
    "    import zipfile\n",
    "\n",
    "\n",
    "    zip_path, _ = urllib.request.urlretrieve(url)\n",
    "    with zipfile.ZipFile(zip_path, \"r\") as f:\n",
    "        f.extractall('ngi')\n",
    "else:\n",
    "    from os import fspath\n",
    "    from pathlib import Path\n",
    "    from shutil import copyfileobj\n",
    "    from zipfile import ZipFile\n",
    "    from tqdm.auto import tqdm  # could use from tqdm.gui import tqdm\n",
    "    from tqdm.utils import CallbackIOWrapper\n",
    "    import urllib\n",
    "\n",
    "    dest = Path('images').expanduser()\n",
    "    zip_path, _ = urllib.request.urlretrieve(url)\n",
    "    with ZipFile(zip_path) as zipf, tqdm(\n",
    "        desc='Downloading', unit=\"B\", unit_scale=True, unit_divisor=1024,\n",
    "        total=sum(getattr(i, \"file_size\", 0) for i in zipf.infolist()),\n",
    "    ) as pbar:\n",
    "        for i in zipf.infolist():\n",
    "            if not getattr(i, \"file_size\", 0):  # directory\n",
    "                zipf.extract(i, fspath(dest))\n",
    "            else:\n",
    "                with zipf.open(i) as fi, open(fspath(dest / i.filename), \"wb\") as fo:\n",
    "                    copyfileobj(CallbackIOWrapper(pbar.update, fi), fo)"
   ]
  },
  {
   "cell_type": "markdown",
   "metadata": {},
   "source": [
    "## Correct the aerial imagery to surface reflectance\n",
    "\n",
    "### Search for a Sentinel-2 reference image\n",
    "\n",
    "First we obtain a Sentinel-2 reference image using ``geedim``.  Normally we would search for a reference image that is concurrent with the aerial imagery, but the Sentinel-2 archive only starts after the capture date (25 May 2015).  So we search for the soonest possible reference after this date.  Thicket vegetation is slow growing, so there is unlikely to be much change between the source and reference capture dates."
   ]
  },
  {
   "cell_type": "code",
   "execution_count": 3,
   "metadata": {},
   "outputs": [
    {
     "name": "stdout",
     "output_type": "stream",
     "text": [
      "ABBREV     NAME                             DESCRIPTION\n",
      "---------  -------------------------------  ---------------------------------------\n",
      "ID         system:id                        Earth Engine image id\n",
      "DATE       system:time_start                Image capture date/time (UTC)\n",
      "FILL       FILL_PORTION                     Portion of valid pixels (%)\n",
      "CLOUDLESS  CLOUDLESS_PORTION                Portion of cloud/shadow free pixels (%)\n",
      "RADQ       RADIOMETRIC_QUALITY              Radiometric quality check\n",
      "GEOMQ      GEOMETRIC_QUALITY                Geometric quality check\n",
      "SAA        MEAN_SOLAR_AZIMUTH_ANGLE         Solar azimuth angle (deg)\n",
      "SZA        MEAN_SOLAR_ZENITH_ANGLE          Solar zenith angle (deg)\n",
      "VAA        MEAN_INCIDENCE_AZIMUTH_ANGLE_B1  View (B1) azimuth angle (deg)\n",
      "VZA        MEAN_INCIDENCE_ZENITH_ANGLE_B1   View (B1) zenith angle (deg)\n",
      "ID                                                   DATE             FILL CLOUDLESS RADQ   GEOMQ    SAA   SZA    VAA  VZA\n",
      "---------------------------------------------------- ---------------- ---- --------- ------ ------ ----- ----- ------ ----\n",
      "COPERNICUS/S2/20150913T080256_20150913T082256_T34HGH 2015-09-13 08:22  100      4.62 PASSED PASSED 40.34 45.99  99.34 4.69\n",
      "COPERNICUS/S2/20150913T080256_20150913T082256_T35HKC 2015-09-13 08:22  100      4.54 PASSED PASSED 39.65 45.68 179.46 3.06\n",
      "COPERNICUS/S2/20150913T080256_20161230T054320_T34HGH 2015-09-13 08:22  100      4.59 PASSED PASSED 40.34 45.99  99.34 4.69\n",
      "COPERNICUS/S2/20150913T080256_20161230T054320_T35HKC 2015-09-13 08:22  100      4.53 PASSED PASSED 39.65 45.68 179.46 3.06\n",
      "COPERNICUS/S2/20151003T075826_20151003T082014_T34HGH 2015-10-03 08:20  100      5.89 PASSED PASSED 44.69 38.60  99.44 4.68\n",
      "COPERNICUS/S2/20151003T075826_20151003T082014_T35HKC 2015-10-03 08:20  100      5.82 PASSED PASSED 43.92 38.26 180.55 3.06\n",
      "COPERNICUS/S2/20151003T075826_20161206T031927_T34HGH 2015-10-03 08:20  100      5.89 PASSED PASSED 44.69 38.60  99.44 4.68\n",
      "COPERNICUS/S2/20151003T075826_20161206T031927_T35HKC 2015-10-03 08:20  100      5.82 PASSED PASSED 43.92 38.26 180.55 3.06\n",
      "COPERNICUS/S2/20151023T081112_20151023T081949_T34HGH 2015-10-23 08:19  100    100.00 PASSED PASSED 51.10 32.03 100.32 4.60\n",
      "COPERNICUS/S2/20151023T081112_20151023T081949_T35HKC 2015-10-23 08:19  100    100.00 PASSED PASSED 50.27 31.65 183.14 3.07\n",
      "COPERNICUS/S2/20151023T081112_20161216T015401_T34HGH 2015-10-23 08:19  100    100.00 PASSED PASSED 51.10 32.03 100.32 4.60\n",
      "COPERNICUS/S2/20151023T081112_20161216T015401_T35HKC 2015-10-23 08:19  100    100.00 PASSED PASSED 50.27 31.65 183.14 3.07\n"
     ]
    }
   ],
   "source": [
    "src_mosaic_file = Path('images/Ngi_May2015_OrthoNgiDem_Source_Mosaic.vrt')\n",
    "import geedim as gd\n",
    "from geedim.utils import get_bounds\n",
    "gd.Initialize()\n",
    "s2_coll = gd.MaskedCollection.from_name('COPERNICUS/S2')\n",
    "region = gd.utils.get_bounds(src_mosaic_file)\n",
    "s2_coll = s2_coll.search('2015-05-20', '2015-10-30', region)\n",
    "print(s2_coll.schema_table)\n",
    "print(s2_coll.properties_table)  \n",
    "\n",
    "# equivalent geedim command line:\n",
    "#!geedim search -c s2-toa -s 2015-10-20 -e 2015-10-30 -r {src_mosaic_file}"
   ]
  },
  {
   "cell_type": "markdown",
   "metadata": {},
   "source": [
    "### Download a Sentinel-2 reference image\n",
    "\n",
    "*COPERNICUS/S2/20151023T081112_20151023T081949_T34HGH* is the first cloudless image, so let's download that."
   ]
  },
  {
   "cell_type": "code",
   "execution_count": 4,
   "metadata": {},
   "outputs": [
    {
     "data": {
      "application/vnd.jupyter.widget-view+json": {
       "model_id": "1194d5baf61e48e8803f179995525946",
       "version_major": 2,
       "version_minor": 0
      },
      "text/plain": [
       "s2_reference.tif: |          | 0.00/68.9M (raw) [  0.0%] in 00:00 (eta:     ?)"
      ]
     },
     "metadata": {},
     "output_type": "display_data"
    },
    {
     "name": "stderr",
     "output_type": "stream",
     "text": [
      "WARNING:rasterio._env:CPLE_NotSupported in 'BLACK' is an unexpected value for PHOTOMETRIC creation option of type string-select.\n",
      "WARNING:rasterio._env:CPLE_IllegalArg in images\\s2_reference.tif: PHOTOMETRIC=BLACK value not recognised, ignoring.  Set the Photometric Interpretation as MINISBLACK.\n",
      "WARNING:rasterio._env:CPLE_AppDefined in /vsimem/cd358dbb-ddf5-421e-a9cc-dfc56d3d7c3a/cd358dbb-ddf5-421e-a9cc-dfc56d3d7c3a.tif: TIFFReadDirectory:Sum of Photometric type-related color channels and ExtraSamples doesn't match SamplesPerPixel. Defining non-color channels as ExtraSamples.\n",
      "WARNING:rasterio._env:CPLE_AppDefined in TIFFReadDirectory:Sum of Photometric type-related color channels and ExtraSamples doesn't match SamplesPerPixel. Defining non-color channels as ExtraSamples.\n",
      "WARNING:rasterio._env:CPLE_AppDefined in /vsimem/cd358dbb-ddf5-421e-a9cc-dfc56d3d7c3a/cd358dbb-ddf5-421e-a9cc-dfc56d3d7c3a.tif: TIFFReadDirectory:Sum of Photometric type-related color channels and ExtraSamples doesn't match SamplesPerPixel. Defining non-color channels as ExtraSamples.\n",
      "WARNING:rasterio._env:CPLE_AppDefined in /vsimem/cd358dbb-ddf5-421e-a9cc-dfc56d3d7c3a/cd358dbb-ddf5-421e-a9cc-dfc56d3d7c3a.tif: TIFFReadDirectory:Sum of Photometric type-related color channels and ExtraSamples doesn't match SamplesPerPixel. Defining non-color channels as ExtraSamples.\n",
      "WARNING:rasterio._env:CPLE_AppDefined in /vsimem/fb20093d-f20e-41eb-bc79-3ee978f87fbf/fb20093d-f20e-41eb-bc79-3ee978f87fbf.tif: TIFFReadDirectory:Sum of Photometric type-related color channels and ExtraSamples doesn't match SamplesPerPixel. Defining non-color channels as ExtraSamples.\n",
      "WARNING:rasterio._env:CPLE_AppDefined in TIFFReadDirectory:Sum of Photometric type-related color channels and ExtraSamples doesn't match SamplesPerPixel. Defining non-color channels as ExtraSamples.\n",
      "WARNING:rasterio._env:CPLE_AppDefined in /vsimem/fb20093d-f20e-41eb-bc79-3ee978f87fbf/fb20093d-f20e-41eb-bc79-3ee978f87fbf.tif: TIFFReadDirectory:Sum of Photometric type-related color channels and ExtraSamples doesn't match SamplesPerPixel. Defining non-color channels as ExtraSamples.\n",
      "WARNING:rasterio._env:CPLE_AppDefined in /vsimem/fb20093d-f20e-41eb-bc79-3ee978f87fbf/fb20093d-f20e-41eb-bc79-3ee978f87fbf.tif: TIFFReadDirectory:Sum of Photometric type-related color channels and ExtraSamples doesn't match SamplesPerPixel. Defining non-color channels as ExtraSamples.\n",
      "WARNING:rasterio._env:CPLE_AppDefined in /vsimem/b1070ede-3aaf-45d6-8c03-de4707cb8198/b1070ede-3aaf-45d6-8c03-de4707cb8198.tif: TIFFReadDirectory:Sum of Photometric type-related color channels and ExtraSamples doesn't match SamplesPerPixel. Defining non-color channels as ExtraSamples.\n",
      "WARNING:rasterio._env:CPLE_AppDefined in TIFFReadDirectory:Sum of Photometric type-related color channels and ExtraSamples doesn't match SamplesPerPixel. Defining non-color channels as ExtraSamples.\n",
      "WARNING:rasterio._env:CPLE_AppDefined in /vsimem/b1070ede-3aaf-45d6-8c03-de4707cb8198/b1070ede-3aaf-45d6-8c03-de4707cb8198.tif: TIFFReadDirectory:Sum of Photometric type-related color channels and ExtraSamples doesn't match SamplesPerPixel. Defining non-color channels as ExtraSamples.\n",
      "WARNING:rasterio._env:CPLE_AppDefined in /vsimem/b1070ede-3aaf-45d6-8c03-de4707cb8198/b1070ede-3aaf-45d6-8c03-de4707cb8198.tif: TIFFReadDirectory:Sum of Photometric type-related color channels and ExtraSamples doesn't match SamplesPerPixel. Defining non-color channels as ExtraSamples.\n",
      "WARNING:rasterio._env:CPLE_AppDefined in /vsimem/de42dda7-ce05-49d4-9e5b-3a5b902b4798/de42dda7-ce05-49d4-9e5b-3a5b902b4798.tif: TIFFReadDirectory:Sum of Photometric type-related color channels and ExtraSamples doesn't match SamplesPerPixel. Defining non-color channels as ExtraSamples.\n",
      "WARNING:rasterio._env:CPLE_AppDefined in TIFFReadDirectory:Sum of Photometric type-related color channels and ExtraSamples doesn't match SamplesPerPixel. Defining non-color channels as ExtraSamples.\n",
      "WARNING:rasterio._env:CPLE_AppDefined in /vsimem/de42dda7-ce05-49d4-9e5b-3a5b902b4798/de42dda7-ce05-49d4-9e5b-3a5b902b4798.tif: TIFFReadDirectory:Sum of Photometric type-related color channels and ExtraSamples doesn't match SamplesPerPixel. Defining non-color channels as ExtraSamples.\n",
      "WARNING:rasterio._env:CPLE_AppDefined in /vsimem/de42dda7-ce05-49d4-9e5b-3a5b902b4798/de42dda7-ce05-49d4-9e5b-3a5b902b4798.tif: TIFFReadDirectory:Sum of Photometric type-related color channels and ExtraSamples doesn't match SamplesPerPixel. Defining non-color channels as ExtraSamples.\n"
     ]
    }
   ],
   "source": [
    "ref_file = Path('images/s2_reference.tif')\n",
    "gd_image = gd.MaskedImage.from_id('COPERNICUS/S2/20151023T081112_20151023T081949_T34HGH', mask=True)\n",
    "gd_image.download(ref_file, region=region, overwrite=True)\n",
    "\n",
    "# equivalent geedim command line:\n",
    "# !geedim download -i COPERNICUS/S2/20151023T081112_20151023T081949_T34HGH --mask -r {src_file}"
   ]
  },
  {
   "cell_type": "markdown",
   "metadata": {},
   "source": [
    "## Correct the aerial images to surface reflectance\n",
    "\n",
    "Next, we fuse the aerial images with the Sentinel-2 reference, using ``homonim`` with a *gain-blk-offset* method, and kernel of 15 x 15 pixels."
   ]
  },
  {
   "cell_type": "code",
   "execution_count": 5,
   "metadata": {},
   "outputs": [
    {
     "name": "stderr",
     "output_type": "stream",
     "text": [
      "WARNING:rasterio._env:CPLE_NotSupported in 'None' is an unexpected value for PHOTOMETRIC creation option of type string-select.\n",
      "WARNING:rasterio._env:CPLE_NotSupported in driver GTiff does not support creation option COMPRESS_OVERVIEW\n",
      "WARNING:rasterio._env:CPLE_IllegalArg in images\\3323d_2015_1001_02_0076_RGBN_CMP_FUSE.tif: PHOTOMETRIC=None value not recognised, ignoring.  Set the Photometric Interpretation as MINISBLACK.\n"
     ]
    },
    {
     "data": {
      "application/vnd.jupyter.widget-view+json": {
       "model_id": "9d78a36012034f3980a90355b886ab5a",
       "version_major": 2,
       "version_minor": 0
      },
      "text/plain": [
       "  0%|          |0/8 blocks [00:00<?]"
      ]
     },
     "metadata": {},
     "output_type": "display_data"
    }
   ],
   "source": [
    "from homonim import RasterFuse\n",
    "\n",
    "src_files = [\n",
    "    Path(f'images/3323d_2015_1001_02_00{i}_RGBN_CMP.tif') \n",
    "    for i in [76, 78, 80, 81]\n",
    "]\n",
    "# TODO: point the output files somewhere not in my onedrive\n",
    "corr_files = [\n",
    "    src_file.parent.joinpath(f'{src_file.stem}_FUSE.tif')\n",
    "    for src_file in src_files\n",
    "]\n",
    "ref_bands = [4, 3, 2, 8]\n",
    "\n",
    "for src_file, corr_file in zip(src_files, corr_files):\n",
    "    corr_file = src_file.parent.joinpath(f'{src_file.stem}_FUSE.tif')\n",
    "\n",
    "    with RasterFuse(\n",
    "        src_file, ref_file, ref_bands=ref_bands\n",
    "    ) as raster_fuse:\n",
    "        raster_fuse.process(\n",
    "            corr_file, Model.gain_blk_offset, (15, 15), overwrite=True,\n",
    "        ) \n",
    "\n",
    "\n",
    "# equivalent homonim command line:\n",
    "# !homonim fuse -m gain-blk-offset -k 15 15 -rb 4 -rb 3 -rb 2 -rb 8 -mp -od images {src_file} {ref_file}"
   ]
  },
  {
   "cell_type": "markdown",
   "metadata": {},
   "source": [
    "Next, we create a VRT mosaic of the corrected images to assist with visualisation and evaluation."
   ]
  },
  {
   "cell_type": "code",
   "execution_count": null,
   "metadata": {},
   "outputs": [],
   "source": [
    "from osgeo import gdal\n",
    "\n",
    "# strictly, one should avoid using GDAL and rasterio together, but it doesn't\n",
    "# create conflicts here\n",
    "corr_mosaic_file = Path('Corrected_Mosaic.vrt')\n",
    "_ = gdal.BuildVRT(str(corr_mosaic_file), corr_files)"
   ]
  },
  {
   "cell_type": "markdown",
   "metadata": {},
   "source": [
    "## Evaluate \n",
    "\n",
    "The evaluation compares the correlation of source *NDVI* with AGC ground truth, and corrected *NDVI* with AGC ground truth.  This gives an indication of the improvement in the explanatory power, or accuracy, of NDVI due to surface reflectance correction.  \n",
    "\n",
    "### Find source and corrected NDVI for each ground truth plot\n",
    "\n",
    "Load the AGC ground truth into a ``GeoDataFrame``."
   ]
  },
  {
   "cell_type": "code",
   "execution_count": null,
   "metadata": {},
   "outputs": [],
   "source": [
    "plot_agc_gdf = gpd.GeoDataFrame.from_file(\n",
    "    'https://raw.githubusercontent.com/dugalh/map_thicket_agc/main/'\n",
    "    'data/outputs/geospatial/gef_plot_polygons_with_agc_v2.gpkg' \n",
    ")"
   ]
  },
  {
   "cell_type": "markdown",
   "metadata": {},
   "source": [
    "Next we find the mean source and corrected image NDVI values for each ground truth plot."
   ]
  },
  {
   "cell_type": "code",
   "execution_count": null,
   "metadata": {},
   "outputs": [],
   "source": [
    "from rasterio import features\n",
    "from rasterio import windows\n",
    "from homonim import utils\n",
    "\n",
    "src_mosaic_file = Path('images/Ngi_May2015_OrthoNgiDem_Source_Mosaic.vrt')\n",
    "src_mosaic_file = Path('images/Ngi_May2015_OrthoNgiDem_Source_Mosaic.vrt')\n",
    "\n",
    "im_ndvis = []\n",
    "for im_file in [src_mosaic_file, corr_mosaic_file]:\n",
    "    ndvi = {}\n",
    "    with rio.open(im_file, 'r') as ds:\n",
    "        for id, plot in plot_agc_gdf.to_crs(ds.crs).iterrows():\n",
    "            bounds = features.bounds(plot.geometry)\n",
    "            win = windows.from_bounds(*bounds, transform=ds.transform)\n",
    "            win = utils.expand_window_to_grid(win)\n",
    "            array = ds.read(out_dtype='float64', window=win)\n",
    "\n",
    "            win_transform = ds.window_transform(win)\n",
    "            mask = features.geometry_mask(\n",
    "                plot.geometry, (win.height, win.width), transform=win_transform\n",
    "            )\n",
    "            v = array[:, ~mask]\n",
    "            ndvi[id] = np.mean((v[3] - v[0]) / (v[3] + v[0]))\n",
    "    im_ndvis.append(ndvi)"
   ]
  },
  {
   "cell_type": "code",
   "execution_count": null,
   "metadata": {},
   "outputs": [],
   "source": [
    "from matplotlib import pyplot\n",
    "\n",
    "\n",
    "fig, axes = pyplot.subplots(1, 2, figsize=(12, 6))\n",
    "agc = plot_agc_gdf.AgcHa / 1000\n",
    "for ax, ndvi in zip(axes, im_ndvis):\n",
    "    ndvi = np.array([*ndvi.values()])    # TODO: simplify\n",
    "    ax.plot(ndvi, agc, '.')\n",
    "\n",
    "    coeff, _, _, _ = np.linalg.lstsq(\n",
    "        np.array([ndvi, np.ones(len(agc))]).T, agc\n",
    "    )\n",
    "    xlim = [np.nanmin(ndvi), np.nanmax(ndvi)]\n",
    "    ylim = [np.nanmin(agc), np.nanmax(agc)]\n",
    "    \n",
    "    yr = np.array(xlim) * coeff[0] + coeff[1]\n",
    "    ax.plot(xlim, yr, 'k--', lw=2, zorder=-1)\n",
    "    \n",
    "    r2 = np.corrcoef(agc, ndvi)[0, 1] **2\n",
    "    ax.text(\n",
    "        .1, 0.9, f'r\\N{SUPERSCRIPT TWO}={r2:.2f}', fontweight='bold', \n",
    "        transform=ax.transAxes\n",
    "    )\n",
    "    ax.set_xlabel(f'AGC (t C ha$^{-1}$)', fontweight='bold')\n",
    "    ax.set_ylabel(f'NDVI', fontweight='bold')\n",
    "    ax.set_xlim(xlim)   # TODO: abbreviate x/ylim\n",
    "    ax.set_ylim(ylim)\n",
    "    \n"
   ]
  }
 ],
 "metadata": {
  "kernelspec": {
   "display_name": "Python 3.9.13 ('py39_geospatial')",
   "language": "python",
   "name": "python3"
  },
  "language_info": {
   "codemirror_mode": {
    "name": "ipython",
    "version": 3
   },
   "file_extension": ".py",
   "mimetype": "text/x-python",
   "name": "python",
   "nbconvert_exporter": "python",
   "pygments_lexer": "ipython3",
   "version": "3.9.13"
  },
  "orig_nbformat": 4,
  "vscode": {
   "interpreter": {
    "hash": "a5cb0e16c618ce62d5962a2f34302e2d299d083ff8e8afee2c1c64a34662e4b4"
   }
  }
 },
 "nbformat": 4,
 "nbformat_minor": 2
}
