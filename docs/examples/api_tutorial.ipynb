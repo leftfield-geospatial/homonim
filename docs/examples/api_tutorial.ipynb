{
 "cells": [
  {
   "cell_type": "markdown",
   "metadata": {},
   "source": [
    "# Correction and evaluation\n",
    "\n",
    "This example corrects a small set of aerial images and evaluates the results.  \n",
    "\n",
    "Images are taken from the `homonim` test data: Aerials were obtained from [NGI](https://ngi.dalrrd.gov.za/), and subsequently downsampled and re-scaled to *uint8* precision to reduce size.  Satellite images were acquired with [geedim](https://github.com/dugalh/geedim), and re-scaled to *uint8* precision.  \n",
    "\n",
    "## Setup"
   ]
  },
  {
   "cell_type": "code",
   "execution_count": 5,
   "metadata": {},
   "outputs": [],
   "source": [
    "# `matplotlib` should be installed if it isn't already.\n",
    "# import sys\n",
    "# !{sys.executable} -m pip install matplotlib  # pip\n",
    "# !conda install --yes --prefix {sys.prefix} -c conda-forge matplotlib # conda"
   ]
  },
  {
   "cell_type": "code",
   "execution_count": 6,
   "metadata": {},
   "outputs": [],
   "source": [
    "import logging\n",
    "from pathlib import Path\n",
    "from matplotlib import pyplot\n",
    "import rasterio as rio\n",
    "from rasterio.plot import show\n",
    "import numpy as np\n",
    "from homonim import RasterFuse, RasterCompare, Model\n",
    "\n",
    "logging.basicConfig(level=logging.ERROR)"
   ]
  },
  {
   "cell_type": "code",
   "execution_count": 7,
   "metadata": {},
   "outputs": [],
   "source": [
    "# create URLS of homonim source and reference images.\n",
    "src_files = [\n",
    "    f'https://raw.githubusercontent.com/dugalh/homonim/main/'\n",
    "    f'tests/data/source/ngi_rgb_byte_{i}.tif' \n",
    "    for i in range(1, 5)\n",
    "]\n",
    "ref_file = (\n",
    "    'https://raw.githubusercontent.com/dugalh/homonim/main/'\n",
    "    'tests/data/reference/sentinel2_b432_byte.tif'\n",
    ")"
   ]
  },
  {
   "cell_type": "markdown",
   "metadata": {},
   "source": [
    "## Fusion\n",
    "\n",
    "Here, we fuse each aerial image with a Sentinel-2 reference using the `RasterFuse` class.  Source and reference images are RGB, so there is no need to specify `src_bands` or `ref_bands` parameters."
   ]
  },
  {
   "cell_type": "code",
   "execution_count": 8,
   "metadata": {},
   "outputs": [
    {
     "ename": "RasterioIOError",
     "evalue": "'/vsicurl/https:///raw.githubusercontent.com/dugalh/homonim/main/tests/data/source/ngi_rgb_byte_1.tif' does not exist in the file system, and is not recognized as a supported dataset name.",
     "output_type": "error",
     "traceback": [
      "\u001b[1;31m---------------------------------------------------------------------------\u001b[0m",
      "\u001b[1;31mCPLE_OpenFailedError\u001b[0m                      Traceback (most recent call last)",
      "File \u001b[1;32mrasterio\\_base.pyx:302\u001b[0m, in \u001b[0;36mrasterio._base.DatasetBase.__init__\u001b[1;34m()\u001b[0m\n",
      "File \u001b[1;32mrasterio\\_base.pyx:213\u001b[0m, in \u001b[0;36mrasterio._base.open_dataset\u001b[1;34m()\u001b[0m\n",
      "File \u001b[1;32mrasterio\\_err.pyx:217\u001b[0m, in \u001b[0;36mrasterio._err.exc_wrap_pointer\u001b[1;34m()\u001b[0m\n",
      "\u001b[1;31mCPLE_OpenFailedError\u001b[0m: '/vsicurl/https:///raw.githubusercontent.com/dugalh/homonim/main/tests/data/source/ngi_rgb_byte_1.tif' does not exist in the file system, and is not recognized as a supported dataset name.",
      "\nDuring handling of the above exception, another exception occurred:\n",
      "\u001b[1;31mRasterioIOError\u001b[0m                           Traceback (most recent call last)",
      "\u001b[1;32mc:\\Data\\Development\\Projects\\homonim\\docs\\examples\\api_tutorial.ipynb Cell 6\u001b[0m in \u001b[0;36m<cell line: 4>\u001b[1;34m()\u001b[0m\n\u001b[0;32m      <a href='vscode-notebook-cell:/c%3A/Data/Development/Projects/homonim/docs/examples/api_tutorial.ipynb#W5sZmlsZQ%3D%3D?line=3'>4</a>\u001b[0m \u001b[39mfor\u001b[39;00m src_file, corr_file \u001b[39min\u001b[39;00m \u001b[39mzip\u001b[39m(src_files, corr_files):\n\u001b[0;32m      <a href='vscode-notebook-cell:/c%3A/Data/Development/Projects/homonim/docs/examples/api_tutorial.ipynb#W5sZmlsZQ%3D%3D?line=4'>5</a>\u001b[0m     corr_file \u001b[39m=\u001b[39m \u001b[39mf\u001b[39m\u001b[39m'\u001b[39m\u001b[39mcorr_\u001b[39m\u001b[39m{\u001b[39;00mPath(src_file)\u001b[39m.\u001b[39mstem\u001b[39m}\u001b[39;00m\u001b[39m.tif\u001b[39m\u001b[39m'\u001b[39m\n\u001b[1;32m----> <a href='vscode-notebook-cell:/c%3A/Data/Development/Projects/homonim/docs/examples/api_tutorial.ipynb#W5sZmlsZQ%3D%3D?line=5'>6</a>\u001b[0m     \u001b[39mwith\u001b[39;00m RasterFuse(src_file, ref_file) \u001b[39mas\u001b[39;00m raster_fuse:\n\u001b[0;32m      <a href='vscode-notebook-cell:/c%3A/Data/Development/Projects/homonim/docs/examples/api_tutorial.ipynb#W5sZmlsZQ%3D%3D?line=6'>7</a>\u001b[0m         raster_fuse\u001b[39m.\u001b[39mprocess(\n\u001b[0;32m      <a href='vscode-notebook-cell:/c%3A/Data/Development/Projects/homonim/docs/examples/api_tutorial.ipynb#W5sZmlsZQ%3D%3D?line=7'>8</a>\u001b[0m             corr_file, Model\u001b[39m.\u001b[39mgain_blk_offset, (\u001b[39m5\u001b[39m, \u001b[39m5\u001b[39m), overwrite\u001b[39m=\u001b[39m\u001b[39mTrue\u001b[39;00m\n\u001b[0;32m      <a href='vscode-notebook-cell:/c%3A/Data/Development/Projects/homonim/docs/examples/api_tutorial.ipynb#W5sZmlsZQ%3D%3D?line=8'>9</a>\u001b[0m         )\n",
      "File \u001b[1;32mc:\\data\\development\\projects\\homonim\\homonim\\fuse.py:86\u001b[0m, in \u001b[0;36mRasterFuse.__init__\u001b[1;34m(self, *args, **kwargs)\u001b[0m\n\u001b[0;32m     46\u001b[0m \u001b[39mdef\u001b[39;00m \u001b[39m__init__\u001b[39m(\u001b[39mself\u001b[39m, \u001b[39m*\u001b[39margs, \u001b[39m*\u001b[39m\u001b[39m*\u001b[39mkwargs):\n\u001b[0;32m     47\u001b[0m     \u001b[39m\"\"\"\u001b[39;00m\n\u001b[0;32m     48\u001b[0m \u001b[39m    Class for correcting an image to surface reflectance, by fusion with a reference.\u001b[39;00m\n\u001b[0;32m     49\u001b[0m \n\u001b[1;32m   (...)\u001b[0m\n\u001b[0;32m     84\u001b[0m \u001b[39m        Bypass auto wavelength matching, and any band-matching errors.  Use with caution.\u001b[39;00m\n\u001b[0;32m     85\u001b[0m \u001b[39m    \"\"\"\u001b[39;00m\n\u001b[1;32m---> 86\u001b[0m     MatchedPairReader\u001b[39m.\u001b[39m\u001b[39m__init__\u001b[39m(\u001b[39mself\u001b[39m, \u001b[39m*\u001b[39margs, \u001b[39m*\u001b[39m\u001b[39m*\u001b[39mkwargs)\n\u001b[0;32m     87\u001b[0m     \u001b[39mself\u001b[39m\u001b[39m.\u001b[39m_corr_lock \u001b[39m=\u001b[39m threading\u001b[39m.\u001b[39mLock()\n\u001b[0;32m     88\u001b[0m     \u001b[39mself\u001b[39m\u001b[39m.\u001b[39m_param_lock \u001b[39m=\u001b[39m threading\u001b[39m.\u001b[39mLock()\n",
      "File \u001b[1;32mc:\\data\\development\\projects\\homonim\\homonim\\matched_pair.py:82\u001b[0m, in \u001b[0;36mMatchedPairReader.__init__\u001b[1;34m(self, src_filename, ref_filename, proc_crs, src_bands, ref_bands, force)\u001b[0m\n\u001b[0;32m     80\u001b[0m \u001b[39mself\u001b[39m\u001b[39m.\u001b[39m_ref_bands \u001b[39m=\u001b[39m ref_bands\n\u001b[0;32m     81\u001b[0m \u001b[39mself\u001b[39m\u001b[39m.\u001b[39m_force \u001b[39m=\u001b[39m force\n\u001b[1;32m---> 82\u001b[0m RasterPairReader\u001b[39m.\u001b[39;49m\u001b[39m__init__\u001b[39;49m(\u001b[39mself\u001b[39;49m, src_filename, ref_filename, proc_crs\u001b[39m=\u001b[39;49mproc_crs)\n",
      "File \u001b[1;32mc:\\data\\development\\projects\\homonim\\homonim\\raster_pair.py:86\u001b[0m, in \u001b[0;36mRasterPairReader.__init__\u001b[1;34m(self, src_filename, ref_filename, proc_crs)\u001b[0m\n\u001b[0;32m     84\u001b[0m \u001b[39mself\u001b[39m\u001b[39m.\u001b[39m_src_filename \u001b[39m=\u001b[39m Path(src_filename)\n\u001b[0;32m     85\u001b[0m \u001b[39mself\u001b[39m\u001b[39m.\u001b[39m_ref_filename \u001b[39m=\u001b[39m Path(ref_filename)\n\u001b[1;32m---> 86\u001b[0m \u001b[39mwith\u001b[39;00m rio\u001b[39m.\u001b[39;49mopen(\u001b[39mself\u001b[39;49m\u001b[39m.\u001b[39;49m_src_filename, \u001b[39m'\u001b[39;49m\u001b[39mr\u001b[39;49m\u001b[39m'\u001b[39;49m) \u001b[39mas\u001b[39;00m src_im, rio\u001b[39m.\u001b[39mopen(\u001b[39mself\u001b[39m\u001b[39m.\u001b[39m_ref_filename, \u001b[39m'\u001b[39m\u001b[39mr\u001b[39m\u001b[39m'\u001b[39m) \u001b[39mas\u001b[39;00m ref_im:\n\u001b[0;32m     87\u001b[0m     \u001b[39mself\u001b[39m\u001b[39m.\u001b[39m_validate_pair_format(src_im, ref_im)\n\u001b[0;32m     88\u001b[0m     \u001b[39mself\u001b[39m\u001b[39m.\u001b[39m_src_bands, \u001b[39mself\u001b[39m\u001b[39m.\u001b[39m_ref_bands \u001b[39m=\u001b[39m \u001b[39mself\u001b[39m\u001b[39m.\u001b[39m_match_pair_bands(src_im, ref_im)\n",
      "File \u001b[1;32mc:\\Users\\dugalh\\.conda\\envs\\py39_geospatial\\lib\\site-packages\\rasterio\\env.py:442\u001b[0m, in \u001b[0;36mensure_env_with_credentials.<locals>.wrapper\u001b[1;34m(*args, **kwds)\u001b[0m\n\u001b[0;32m    439\u001b[0m     session \u001b[39m=\u001b[39m DummySession()\n\u001b[0;32m    441\u001b[0m \u001b[39mwith\u001b[39;00m env_ctor(session\u001b[39m=\u001b[39msession):\n\u001b[1;32m--> 442\u001b[0m     \u001b[39mreturn\u001b[39;00m f(\u001b[39m*\u001b[39margs, \u001b[39m*\u001b[39m\u001b[39m*\u001b[39mkwds)\n",
      "File \u001b[1;32mc:\\Users\\dugalh\\.conda\\envs\\py39_geospatial\\lib\\site-packages\\rasterio\\__init__.py:277\u001b[0m, in \u001b[0;36mopen\u001b[1;34m(fp, mode, driver, width, height, count, crs, transform, dtype, nodata, sharing, **kwargs)\u001b[0m\n\u001b[0;32m    274\u001b[0m path \u001b[39m=\u001b[39m _parse_path(raw_dataset_path)\n\u001b[0;32m    276\u001b[0m \u001b[39mif\u001b[39;00m mode \u001b[39m==\u001b[39m \u001b[39m\"\u001b[39m\u001b[39mr\u001b[39m\u001b[39m\"\u001b[39m:\n\u001b[1;32m--> 277\u001b[0m     dataset \u001b[39m=\u001b[39m DatasetReader(path, driver\u001b[39m=\u001b[39mdriver, sharing\u001b[39m=\u001b[39msharing, \u001b[39m*\u001b[39m\u001b[39m*\u001b[39mkwargs)\n\u001b[0;32m    278\u001b[0m \u001b[39melif\u001b[39;00m mode \u001b[39m==\u001b[39m \u001b[39m\"\u001b[39m\u001b[39mr+\u001b[39m\u001b[39m\"\u001b[39m:\n\u001b[0;32m    279\u001b[0m     dataset \u001b[39m=\u001b[39m get_writer_for_path(path, driver\u001b[39m=\u001b[39mdriver)(\n\u001b[0;32m    280\u001b[0m         path, mode, driver\u001b[39m=\u001b[39mdriver, sharing\u001b[39m=\u001b[39msharing, \u001b[39m*\u001b[39m\u001b[39m*\u001b[39mkwargs\n\u001b[0;32m    281\u001b[0m     )\n",
      "File \u001b[1;32mrasterio\\_base.pyx:304\u001b[0m, in \u001b[0;36mrasterio._base.DatasetBase.__init__\u001b[1;34m()\u001b[0m\n",
      "\u001b[1;31mRasterioIOError\u001b[0m: '/vsicurl/https:///raw.githubusercontent.com/dugalh/homonim/main/tests/data/source/ngi_rgb_byte_1.tif' does not exist in the file system, and is not recognized as a supported dataset name."
     ]
    }
   ],
   "source": [
    "# corrected file names corresponding to source names\n",
    "corr_files = [f'corr_{Path(src_file).stem}.tif' for src_file in src_files]\n",
    "\n",
    "for src_file, corr_file in zip(src_files, corr_files):\n",
    "    corr_file = f'corr_{Path(src_file).stem}.tif'\n",
    "    with RasterFuse(src_file, ref_file) as raster_fuse:\n",
    "        raster_fuse.process(\n",
    "            corr_file, Model.gain_blk_offset, (5, 5), overwrite=True\n",
    "        )"
   ]
  },
  {
   "cell_type": "markdown",
   "metadata": {},
   "source": [
    "## Visualisation\n",
    "\n",
    "Next, we create a VRT mosaic of the corrected images to assist with visualisation and evaluation."
   ]
  },
  {
   "cell_type": "code",
   "execution_count": null,
   "metadata": {},
   "outputs": [],
   "source": [
    "from osgeo import gdal\n",
    "\n",
    "# strictly, one should avoid using GDAL and rasterio together, but it doesn't\n",
    "# create conflicts here\n",
    "corr_mosaic_file = 'corr_ngi_mosaic_rgb_byte.vrt'\n",
    "_ = gdal.BuildVRT(corr_mosaic_file, corr_files)"
   ]
  },
  {
   "cell_type": "markdown",
   "metadata": {},
   "source": [
    "Now we can display a zoomed-in area of the source mosaic, reference image and corrected mosaic."
   ]
  },
  {
   "cell_type": "code",
   "execution_count": null,
   "metadata": {},
   "outputs": [],
   "source": [
    "# VRT mosaic of the source files\n",
    "src_mosaic_file = (\n",
    "    'https://raw.githubusercontent.com/dugalh/homonim/main/'\n",
    "    'tests/data/source/ngi_mosaic_rgb_byte.vrt'\n",
    ")\n",
    "\n",
    "fig, axes = pyplot.subplots(1, 3, sharex=True, sharey=True, figsize=(15, 10))\n",
    "\n",
    "for im_file, scale, axis, label in zip(\n",
    "    [src_mosaic_file, ref_file, corr_mosaic_file],\n",
    "    [255, 150, 150],\n",
    "    axes,\n",
    "    ['Source', 'Reference', 'Corrected'], \n",
    "):   \n",
    "    # read, scale and display the image\n",
    "    with rio.open(im_file, 'r') as ds:\n",
    "        array = ds.read(out_dtype='float32') / scale\n",
    "        \n",
    "        show(array, transform=ds.transform, ax=axis, interpolation='nearest')\n",
    "        axis.set_title(label, fontweight='bold')\n",
    "        axis.set_xlim(-5.75e4, -5.50e4)  # zoom in\n",
    "        axis.set_ylim(-3.733e6, -3.730e6) \n",
    "        axis.axis('off')"
   ]
  },
  {
   "cell_type": "markdown",
   "metadata": {},
   "source": [
    "Note that a visible seamline between images in the source mosaic has been removed, and the corrected and reference surface reflectances are visually similar.  "
   ]
  },
  {
   "cell_type": "markdown",
   "metadata": {},
   "source": [
    "## Evaluation\n",
    "\n",
    "Finaly, we compare the *source* and *corrected* similarity with a second (Landsat-8) *reference*.  This comparison gives us an indication of the change in surface reflectance accuracy due to correction. \n",
    "\n",
    "As a first step, we produce tables of comparison statistics with using the `RasterCompare` class."
   ]
  },
  {
   "cell_type": "code",
   "execution_count": null,
   "metadata": {},
   "outputs": [],
   "source": [
    "# URL of the Landsat-8 reference\n",
    "cmp_ref_file = (\n",
    "    'https://raw.githubusercontent.com/dugalh/homonim/main/'\n",
    "    'tests/data/reference/landsat8_byte.tif'\n",
    ")\n",
    "print(RasterCompare.schema_table())\n",
    "\n",
    "# loop over the source and corrected image files\n",
    "for im_file, im_label in zip(\n",
    "    [src_mosaic_file, corr_mosaic_file],\n",
    "    ['Source', 'Corrected'],\n",
    "):\n",
    "    with RasterCompare(im_file, cmp_ref_file) as compare:\n",
    "        # print a table of comparison statistics (the typical way of using \n",
    "        # RasterCompare)\n",
    "        stats_dict = compare.process()\n",
    "        print(f'{im_label} comparison:\\n\\n' + compare.stats_table(stats_dict))"
   ]
  },
  {
   "cell_type": "markdown",
   "metadata": {},
   "source": [
    "Then, we use `RasterCompare` again, but this time to read spatially matching bands from the *source* / *corrected* - *reference* pairs.  From these bands, we produce scatter plots of *source* / *corrected* vs. *reference* surface reflectance. "
   ]
  },
  {
   "cell_type": "code",
   "execution_count": null,
   "metadata": {},
   "outputs": [],
   "source": [
    "fig, axes = pyplot.subplots(2, 3, figsize=(12, 8), sharex=True, sharey=True)\n",
    "\n",
    "# loop over the source and corrected image files and corresponding axes etc\n",
    "for im_i, im_file, axis, im_label in zip(\n",
    "    range(2),\n",
    "    [src_mosaic_file, corr_mosaic_file],\n",
    "    axes,\n",
    "    ['Source', 'Corrected'],\n",
    "):\n",
    "    with RasterCompare(im_file, cmp_ref_file) as compare:\n",
    "        # produce per-band scatter plots of source/corrected - reference \n",
    "        # surface reflectance \n",
    "        for band_i, block_pair, band_label in zip(\n",
    "            range(3),\n",
    "            compare.block_pairs(),\n",
    "            ['red', 'green', 'blue']\n",
    "        ):\n",
    "            # read source/corrected - reference band pair, and reproject the \n",
    "            # source/corrected band to the reference CRS and pixel grid\n",
    "            src_ra, ref_ra = compare.read(block_pair)\n",
    "            src_ra = src_ra.reproject(\n",
    "                **ref_ra.proj_profile, resampling='average'\n",
    "            )\n",
    "\n",
    "            # vectors of valid pixels in the source/corrected and reference bands\n",
    "            mask = src_ra.mask & ref_ra.mask  # mask of valid pixels\n",
    "            src_v, ref_v = src_ra.array[mask], ref_ra.array[mask]\n",
    "            r2 = np.corrcoef(src_v, ref_v)[0, 1] ** 2 \n",
    "\n",
    "            # create scatter plot\n",
    "            axis = axes[im_i, band_i]\n",
    "            axis.plot(src_v, ref_v, '.', alpha=0.2)\n",
    "            axis.set_xlim(0, 255)\n",
    "            axis.set_ylim(0, 255)\n",
    "            axis.text(15, 230, f'r\\N{SUPERSCRIPT TWO}={r2:.2f}', fontweight='bold')\n",
    "            axis.set_xlabel(f'{im_label} {band_label}', fontweight='bold')\n",
    "            axis.set_ylabel(f'Reference {band_label}', fontweight='bold')"
   ]
  },
  {
   "cell_type": "markdown",
   "metadata": {},
   "source": [
    "The $r^2$ values and scatter plots show a useful improvement after correction.  "
   ]
  }
 ],
 "metadata": {
  "kernelspec": {
   "display_name": "Python 3.9.13 ('py39_geospatial')",
   "language": "python",
   "name": "python3"
  },
  "language_info": {
   "codemirror_mode": {
    "name": "ipython",
    "version": 3
   },
   "file_extension": ".py",
   "mimetype": "text/x-python",
   "name": "python",
   "nbconvert_exporter": "python",
   "pygments_lexer": "ipython3",
   "version": "3.9.13"
  },
  "orig_nbformat": 4,
  "vscode": {
   "interpreter": {
    "hash": "a5cb0e16c618ce62d5962a2f34302e2d299d083ff8e8afee2c1c64a34662e4b4"
   }
  }
 },
 "nbformat": 4,
 "nbformat_minor": 2
}
